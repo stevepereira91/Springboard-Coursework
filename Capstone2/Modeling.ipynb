{
 "cells": [
  {
   "cell_type": "markdown",
   "metadata": {},
   "source": [
    "# Capstone 2: Modeling"
   ]
  },
  {
   "cell_type": "markdown",
   "metadata": {},
   "source": [
    "This notebook will examine multiple models for regression problems to estimate CT real estate sales prices"
   ]
  },
  {
   "cell_type": "code",
   "execution_count": 1,
   "metadata": {},
   "outputs": [],
   "source": [
    "import pandas as pd\n",
    "import matplotlib.pyplot as plt\n",
    "import numpy as np\n",
    "from sklearn.metrics import mean_absolute_error\n",
    "from sklearn.metrics import mean_squared_error\n",
    "from sklearn.metrics import r2_score\n",
    "from sklearn.model_selection import cross_val_score\n"
   ]
  },
  {
   "cell_type": "code",
   "execution_count": 2,
   "metadata": {},
   "outputs": [],
   "source": [
    "X_train = pd.read_csv('C:/Users/kyu_k/OneDrive/Desktop/ds/Spring board DS Career track/Capstones/Capstonetwo/Untitled Folder/X_train.csv')\n",
    "X_test = pd.read_csv('C:/Users/kyu_k/OneDrive/Desktop/ds/Spring board DS Career track/Capstones/Capstonetwo/Untitled Folder/X_test.csv')\n",
    "\n",
    "y_train = pd.read_csv('C:/Users/kyu_k/OneDrive/Desktop/ds/Spring board DS Career track/Capstones/Capstonetwo/Untitled Folder/y_train.csv')\n",
    "y_test = pd.read_csv('C:/Users/kyu_k/OneDrive/Desktop/ds/Spring board DS Career track/Capstones/Capstonetwo/Untitled Folder/y_test.csv')"
   ]
  },
  {
   "cell_type": "code",
   "execution_count": 3,
   "metadata": {},
   "outputs": [],
   "source": [
    "##### index = False  on to_csv "
   ]
  },
  {
   "cell_type": "code",
   "execution_count": 4,
   "metadata": {},
   "outputs": [],
   "source": [
    "X_train.drop('Unnamed: 0',axis=1,inplace = True)\n",
    "X_test.drop('Unnamed: 0',axis=1,inplace = True)\n",
    "y_train.drop('Unnamed: 0',axis=1,inplace = True)\n",
    "y_test.drop('Unnamed: 0',axis=1,inplace = True)\n",
    "\n"
   ]
  },
  {
   "cell_type": "markdown",
   "metadata": {},
   "source": [
    "#### RFECV "
   ]
  },
  {
   "cell_type": "markdown",
   "metadata": {},
   "source": [
    "Recursive feature elimination with cross-validation to select the number of features.\n",
    "\n",
    "class sklearn.feature_selection.RFECV(estimator, *, step=1, min_features_to_select=1, cv=None, scoring=None, verbose=0, n_jobs=None, importance_getter='auto')"
   ]
  },
  {
   "cell_type": "code",
   "execution_count": 5,
   "metadata": {},
   "outputs": [],
   "source": [
    "from sklearn.feature_selection import RFECV\n",
    "\n",
    "### fit train then transform both test train \n"
   ]
  },
  {
   "cell_type": "markdown",
   "metadata": {},
   "source": [
    "## Linear Modeling"
   ]
  },
  {
   "cell_type": "markdown",
   "metadata": {},
   "source": [
    "### 1) OLS\n",
    "--------------------------------------------------------------"
   ]
  },
  {
   "cell_type": "markdown",
   "metadata": {},
   "source": [
    "#### A) Default OLS"
   ]
  },
  {
   "cell_type": "code",
   "execution_count": 80,
   "metadata": {},
   "outputs": [
    {
     "name": "stdout",
     "output_type": "stream",
     "text": [
      "r2_train:  0.7133651596407524 r2_test:  0.7170250176927861\n",
      "MAE:  71475.41675794085 RMSE:  130398.06360745899\n"
     ]
    }
   ],
   "source": [
    "from sklearn.linear_model import LinearRegression\n",
    "\n",
    "OLS = LinearRegression()\n",
    "OLS.fit(X_train,y_train)\n",
    "\n",
    "y_pred = OLS.predict(X_test)\n",
    "\n",
    "R2_train = OLS.score(X_train,y_train)\n",
    "R2_test  = OLS.score(X_test,y_test)\n",
    "\n",
    "MAE = mean_absolute_error(y_test, y_pred)\n",
    "RMSE = mean_squared_error(y_test, y_pred, squared = False)\n",
    "\n",
    "print('r2_train: ',R2_train, 'r2_test: ',R2_test)\n",
    "print('MAE: ', MAE, 'RMSE: ',RMSE)"
   ]
  },
  {
   "cell_type": "code",
   "execution_count": 81,
   "metadata": {},
   "outputs": [
    {
     "name": "stdout",
     "output_type": "stream",
     "text": [
      "0.7087750569227421\n",
      "71525.81108080053\n",
      "131027.18855622807\n"
     ]
    }
   ],
   "source": [
    "cv_scores = cross_val_score(OLS, X_train, y_train, cv = 5, scoring ='r2')\n",
    "print(np.mean(cv_scores))\n",
    "cv_scores = cross_val_score(OLS, X_train, y_train, cv = 5, scoring ='neg_mean_absolute_error')\n",
    "print(-1*np.mean(cv_scores))\n",
    "cv_scores = cross_val_score(OLS, X_train, y_train, cv = 5, scoring ='neg_root_mean_squared_error')\n",
    "print(-1*np.mean(cv_scores))"
   ]
  },
  {
   "cell_type": "markdown",
   "metadata": {},
   "source": [
    "#### B)  Feature selection with RFECV"
   ]
  },
  {
   "cell_type": "code",
   "execution_count": 104,
   "metadata": {},
   "outputs": [],
   "source": [
    "OLS = LinearRegression()\n",
    "rfecv = RFECV(OLS, scoring = 'neg_root_mean_squared_error')\n",
    "rfecv.fit(X_train,y_train)\n",
    "rfe_Xtrain = rfecv.transform(X_train)\n",
    "rfe_Xtest = rfecv.transform(X_test)"
   ]
  },
  {
   "cell_type": "code",
   "execution_count": 105,
   "metadata": {},
   "outputs": [
    {
     "name": "stdout",
     "output_type": "stream",
     "text": [
      "r2_train:  0.7133651596407524 r2_test:  0.7170250176927861\n",
      "MAE:  71475.41675794085 RMSE:  130398.06360745899\n"
     ]
    }
   ],
   "source": [
    "OLS.fit(rfe_Xtrain,y_train)\n",
    "\n",
    "y_pred = OLS.predict(rfe_Xtest)\n",
    "\n",
    "R2_train = OLS.score(rfe_Xtrain,y_train)\n",
    "R2_test  = OLS.score(rfe_Xtest,y_test)\n",
    "\n",
    "MAE = mean_absolute_error(y_test, y_pred)\n",
    "RMSE = mean_squared_error(y_test, y_pred, squared = False)\n",
    "\n",
    "print('r2_train: ',R2_train, 'r2_test: ',R2_test)\n",
    "print('MAE: ', MAE, 'RMSE: ',RMSE)"
   ]
  },
  {
   "cell_type": "code",
   "execution_count": 106,
   "metadata": {
    "scrolled": true
   },
   "outputs": [
    {
     "name": "stdout",
     "output_type": "stream",
     "text": [
      "Optimal number of features : 187\n"
     ]
    },
    {
     "data": {
      "image/png": "[encoded data removed]",
      "text/plain": [
       "<Figure size 432x288 with 1 Axes>"
      ]
     },
     "metadata": {
      "needs_background": "light"
     },
     "output_type": "display_data"
    }
   ],
   "source": [
    "print(\"Optimal number of features : %d\" % rfecv.n_features_)\n",
    "\n",
    "# Plot number of features VS. cross-validation scores\n",
    "plt.figure()\n",
    "plt.xlabel(\"Number of features selected\")\n",
    "plt.ylabel(\"Cross validation score (RMSE)\")\n",
    "plt.plot(\n",
    "    range(1, len(rfecv.grid_scores_) + 1),\n",
    "    rfecv.grid_scores_,\n",
    ")\n",
    "plt.show()"
   ]
  },
  {
   "cell_type": "markdown",
   "metadata": {},
   "source": [
    "### 2) Elasticnet\n",
    "---------------------------"
   ]
  },
  {
   "cell_type": "code",
   "execution_count": 149,
   "metadata": {},
   "outputs": [
    {
     "name": "stdout",
     "output_type": "stream",
     "text": [
      "0.43047296919775435\n",
      "101605.60982525175 184992.57269488214\n"
     ]
    }
   ],
   "source": [
    "from sklearn.linear_model import ElasticNet\n",
    "\n",
    "ENet = ElasticNet(random_state = 343, tol = .05)\n",
    "ENet.fit(X_train,y_train)\n",
    "\n",
    "y_pred = ENet.predict(X_test)\n",
    "\n",
    "R2 = r2_score(y_test, y_pred)\n",
    "\n",
    "MAE = mean_absolute_error(y_test, y_pred)\n",
    "RMSE = mean_squared_error(y_test, y_pred, squared = False)\n",
    "\n",
    "print(R2)\n",
    "print(MAE,RMSE)"
   ]
  },
  {
   "cell_type": "code",
   "execution_count": 150,
   "metadata": {},
   "outputs": [
    {
     "name": "stdout",
     "output_type": "stream",
     "text": [
      "0.43011216585344253\n",
      "101991.16924684682\n",
      "183276.3381831607\n"
     ]
    }
   ],
   "source": [
    "cv_scores = cross_val_score(ENet, X_train, y_train, cv = 5, scoring ='r2')\n",
    "print(np.mean(cv_scores))\n",
    "cv_scores = cross_val_score(ENet, X_train, y_train, cv = 5, scoring ='neg_mean_absolute_error')\n",
    "print(-1*np.mean(cv_scores))\n",
    "cv_scores = cross_val_score(ENet, X_train, y_train, cv = 5, scoring ='neg_root_mean_squared_error')\n",
    "print(-1*np.mean(cv_scores))"
   ]
  },
  {
   "cell_type": "markdown",
   "metadata": {},
   "source": [
    "####  B) Feature selection with RFECV"
   ]
  },
  {
   "cell_type": "code",
   "execution_count": 151,
   "metadata": {},
   "outputs": [],
   "source": [
    "ENet = ElasticNet(random_state = 343, tol =.05)\n",
    "rfecv = RFECV(ENet, scoring = 'neg_root_mean_squared_error')\n",
    "rfecv.fit(X_train,y_train)\n",
    "rfe_Xtrain = rfecv.transform(X_train)\n",
    "rfe_Xtest = rfecv.transform(X_test)"
   ]
  },
  {
   "cell_type": "code",
   "execution_count": 152,
   "metadata": {},
   "outputs": [
    {
     "name": "stdout",
     "output_type": "stream",
     "text": [
      "0.43046892146580107\n",
      "101606.73310286213 184993.23008160538\n"
     ]
    }
   ],
   "source": [
    "\n",
    "ENet.fit(rfe_Xtrain, y_train)\n",
    "\n",
    "y_pred = ENet.predict(rfe_Xtest)\n",
    "\n",
    "R2 = r2_score(y_test, y_pred)\n",
    "\n",
    "MAE = mean_absolute_error(y_test, y_pred)\n",
    "RMSE = mean_squared_error(y_test, y_pred, squared = False)\n",
    "\n",
    "print(R2)\n",
    "print(MAE,RMSE)"
   ]
  },
  {
   "cell_type": "code",
   "execution_count": 153,
   "metadata": {},
   "outputs": [
    {
     "name": "stdout",
     "output_type": "stream",
     "text": [
      "Optimal number of features : 154\n"
     ]
    },
    {
     "data": {
      "image/png": "[encoded data removed]",
      "text/plain": [
       "<Figure size 432x288 with 1 Axes>"
      ]
     },
     "metadata": {
      "needs_background": "light"
     },
     "output_type": "display_data"
    }
   ],
   "source": [
    "print(\"Optimal number of features : %d\" % rfecv.n_features_)\n",
    "\n",
    "# Plot number of features VS. cross-validation scores\n",
    "plt.figure()\n",
    "plt.xlabel(\"Number of features selected\")\n",
    "plt.ylabel(\"Cross validation score (RMSE)\")\n",
    "plt.plot(\n",
    "    range(1, len(rfecv.grid_scores_) + 1),\n",
    "    rfecv.grid_scores_,\n",
    ")\n",
    "plt.show()"
   ]
  },
  {
   "cell_type": "markdown",
   "metadata": {},
   "source": [
    "#### C) GridsearchCV/RandomSearchCV"
   ]
  },
  {
   "cell_type": "code",
   "execution_count": 13,
   "metadata": {},
   "outputs": [],
   "source": [
    "from sklearn.model_selection import GridSearchCV\n",
    "from sklearn.model_selection import RandomizedSearchCV"
   ]
  },
  {
   "cell_type": "code",
   "execution_count": 155,
   "metadata": {
    "scrolled": true
   },
   "outputs": [
    {
     "name": "stdout",
     "output_type": "stream",
     "text": [
      "-130928.07201265702\n",
      "{'l1_ratio': 1.0, 'alpha': 1.0}\n",
      "0.7169451919977137\n",
      "71492.89513055014 130416.45460088454\n"
     ]
    }
   ],
   "source": [
    "\n",
    "\n",
    "ENet = ElasticNet(random_state = 343, tol = .05)\n",
    "\n",
    "param_grid = {'alpha': np.linspace(1,100,100),\n",
    "             'l1_ratio': np.linspace(0,1,50)}\n",
    "\n",
    "ENetRCV = RandomizedSearchCV(ENet, param_distributions = param_grid, scoring = 'neg_root_mean_squared_error', cv =5)\n",
    "ENetRCV.fit(rfe_Xtrain, y_train)\n",
    "\n",
    "print(ENetRCV.best_score_)\n",
    "print(ENetRCV.best_params_)\n",
    "\n",
    "y_pred = ENetRCV.predict(rfe_Xtest)\n",
    "\n",
    "R2 = r2_score(y_test, y_pred)\n",
    "\n",
    "MAE = mean_absolute_error(y_test, y_pred)\n",
    "RMSE = mean_squared_error(y_test, y_pred, squared = False)\n",
    "\n",
    "print(R2)\n",
    "print(MAE,RMSE) \n",
    "     \n"
   ]
  },
  {
   "cell_type": "markdown",
   "metadata": {},
   "source": [
    "Lasso appears to converge l1 ratio = 1"
   ]
  },
  {
   "cell_type": "markdown",
   "metadata": {},
   "source": [
    "### 3) LASSO \n",
    "-------------------------------------------------------------------------------"
   ]
  },
  {
   "cell_type": "code",
   "execution_count": 135,
   "metadata": {},
   "outputs": [
    {
     "name": "stdout",
     "output_type": "stream",
     "text": [
      "0.7170530906508036\n",
      "71456.87332468877 130391.59527918104\n"
     ]
    }
   ],
   "source": [
    "from sklearn.linear_model import Lasso\n",
    "\n",
    "lasso = Lasso(random_state = 343, tol = .05)\n",
    "lasso.fit(X_train, y_train)\n",
    "\n",
    "y_pred = lasso.predict(X_test)\n",
    "\n",
    "R2 = r2_score(y_test, y_pred)\n",
    "\n",
    "MAE = mean_absolute_error(y_test, y_pred)\n",
    "RMSE = mean_squared_error(y_test, y_pred, squared = False)\n",
    "\n",
    "print(R2)\n",
    "print(MAE,RMSE)\n"
   ]
  },
  {
   "cell_type": "code",
   "execution_count": 136,
   "metadata": {},
   "outputs": [
    {
     "name": "stdout",
     "output_type": "stream",
     "text": [
      "0.7088042087474402\n",
      "71509.64533350134\n",
      "131020.69722882286\n"
     ]
    }
   ],
   "source": [
    "cv_scores = cross_val_score(lasso, X_train, y_train, cv = 5, scoring ='r2')\n",
    "print(np.mean(cv_scores))\n",
    "cv_scores = cross_val_score(lasso, X_train, y_train, cv = 5, scoring ='neg_mean_absolute_error')\n",
    "print(-1*np.mean(cv_scores))\n",
    "cv_scores = cross_val_score(lasso, X_train, y_train, cv = 5, scoring ='neg_root_mean_squared_error')\n",
    "print(-1*np.mean(cv_scores))\n"
   ]
  },
  {
   "cell_type": "markdown",
   "metadata": {},
   "source": [
    "#### B) Feature selection with RFECV"
   ]
  },
  {
   "cell_type": "code",
   "execution_count": 132,
   "metadata": {},
   "outputs": [],
   "source": [
    "lasso = Lasso(random_state = 343, tol =.05)\n",
    "rfecv = RFECV(lasso, scoring = 'neg_root_mean_squared_error')\n",
    "rfecv.fit(X_train,y_train)\n",
    "rfe_Xtrain = rfecv.transform(X_train)\n",
    "rfe_Xtest = rfecv.transform(X_test)"
   ]
  },
  {
   "cell_type": "code",
   "execution_count": 133,
   "metadata": {},
   "outputs": [
    {
     "name": "stdout",
     "output_type": "stream",
     "text": [
      "0.717040895838705\n",
      "71458.08140501754 130394.40514177087\n"
     ]
    }
   ],
   "source": [
    "\n",
    "lasso.fit(rfe_Xtrain, y_train)\n",
    "\n",
    "y_pred = lasso.predict(rfe_Xtest)\n",
    "\n",
    "R2 = r2_score(y_test, y_pred)\n",
    "\n",
    "MAE = mean_absolute_error(y_test, y_pred)\n",
    "RMSE = mean_squared_error(y_test, y_pred, squared = False)\n",
    "\n",
    "print(R2)\n",
    "print(MAE,RMSE)"
   ]
  },
  {
   "cell_type": "code",
   "execution_count": 134,
   "metadata": {},
   "outputs": [
    {
     "name": "stdout",
     "output_type": "stream",
     "text": [
      "Optimal number of features : 175\n"
     ]
    },
    {
     "data": {
      "image/png": "[encoded data removed]",
      "text/plain": [
       "<Figure size 432x288 with 1 Axes>"
      ]
     },
     "metadata": {
      "needs_background": "light"
     },
     "output_type": "display_data"
    }
   ],
   "source": [
    "print(\"Optimal number of features : %d\" % rfecv.n_features_)\n",
    "\n",
    "# Plot number of features VS. cross-validation scores\n",
    "plt.figure()\n",
    "plt.xlabel(\"Number of features selected\")\n",
    "plt.ylabel(\"Cross validation score (RMSE)\")\n",
    "plt.plot(\n",
    "    range(1, len(rfecv.grid_scores_) + 1),\n",
    "    rfecv.grid_scores_,\n",
    ")\n",
    "plt.show()"
   ]
  },
  {
   "cell_type": "markdown",
   "metadata": {},
   "source": [
    "#### C) RandomSearchCV / GridSearchCV"
   ]
  },
  {
   "cell_type": "code",
   "execution_count": 141,
   "metadata": {},
   "outputs": [
    {
     "name": "stdout",
     "output_type": "stream",
     "text": [
      "-130985.61144794442\n",
      "{'alpha': 10.0}\n",
      "0.7172114027275769\n",
      "71314.74775357933 130355.11237053841\n"
     ]
    }
   ],
   "source": [
    "lasso = Lasso(random_state = 343, tol =.05)\n",
    "\n",
    "param_grid = {'alpha': np.linspace(1,100,100)}\n",
    "\n",
    "LassoGCV = GridSearchCV(lasso, param_grid = param_grid, scoring = 'neg_root_mean_squared_error', cv =5)\n",
    "LassoGCV.fit(rfe_Xtrain ,y_train)\n",
    "\n",
    "print(LassoGCV.best_score_)\n",
    "print(LassoGCV.best_params_)\n",
    "\n",
    "y_pred = LassoGCV.predict(rfe_Xtest)\n",
    "\n",
    "R2 = r2_score(y_test, y_pred)\n",
    "\n",
    "MAE = mean_absolute_error(y_test, y_pred)\n",
    "RMSE = mean_squared_error(y_test, y_pred, squared = False)\n",
    "\n",
    "print(R2)\n",
    "print(MAE,RMSE) \n",
    "     "
   ]
  },
  {
   "cell_type": "markdown",
   "metadata": {},
   "source": [
    "### 4) Ridge"
   ]
  },
  {
   "cell_type": "code",
   "execution_count": 156,
   "metadata": {},
   "outputs": [
    {
     "name": "stdout",
     "output_type": "stream",
     "text": [
      "0.7170596205067837\n",
      "71456.38157694992 130390.09068022184\n"
     ]
    }
   ],
   "source": [
    "from sklearn.linear_model import Ridge\n",
    "\n",
    "ridge = Ridge(random_state = 343, tol = .05)\n",
    "ridge.fit(X_train, y_train)\n",
    "\n",
    "y_pred = ridge.predict(X_test)\n",
    "\n",
    "R2 = r2_score(y_test, y_pred)\n",
    "\n",
    "MAE = mean_absolute_error(y_test, y_pred)\n",
    "RMSE = mean_squared_error(y_test, y_pred, squared = False)\n",
    "\n",
    "print(R2)\n",
    "print(MAE,RMSE)\n",
    "\n"
   ]
  },
  {
   "cell_type": "code",
   "execution_count": 157,
   "metadata": {},
   "outputs": [
    {
     "name": "stdout",
     "output_type": "stream",
     "text": [
      "0.708922018544451\n",
      "71491.89002196126\n",
      "130994.38629072928\n"
     ]
    }
   ],
   "source": [
    "cv_scores = cross_val_score(ridge, X_train, y_train, cv = 5, scoring ='r2')\n",
    "print(np.mean(cv_scores))\n",
    "cv_scores = cross_val_score(ridge, X_train, y_train, cv = 5, scoring ='neg_mean_absolute_error')\n",
    "print(-1*np.mean(cv_scores))\n",
    "cv_scores = cross_val_score(ridge, X_train, y_train, cv = 5, scoring ='neg_root_mean_squared_error')\n",
    "print(-1*np.mean(cv_scores))\n"
   ]
  },
  {
   "cell_type": "markdown",
   "metadata": {},
   "source": [
    "#### B) Feature selection with RFECV"
   ]
  },
  {
   "cell_type": "code",
   "execution_count": 158,
   "metadata": {},
   "outputs": [],
   "source": [
    "ridge = Ridge(random_state = 343, tol =.05)\n",
    "rfecv = RFECV(ridge, scoring = 'neg_root_mean_squared_error')\n",
    "rfecv.fit(X_train,y_train)\n",
    "rfe_Xtrain = rfecv.transform(X_train)\n",
    "rfe_Xtest = rfecv.transform(X_test)"
   ]
  },
  {
   "cell_type": "code",
   "execution_count": 159,
   "metadata": {},
   "outputs": [
    {
     "name": "stdout",
     "output_type": "stream",
     "text": [
      "0.7170558871591413\n",
      "71456.68428332865 130390.95091433325\n"
     ]
    }
   ],
   "source": [
    "\n",
    "ridge.fit(rfe_Xtrain, y_train)\n",
    "\n",
    "y_pred = ridge.predict(rfe_Xtest)\n",
    "\n",
    "R2 = r2_score(y_test, y_pred)\n",
    "\n",
    "MAE = mean_absolute_error(y_test, y_pred)\n",
    "RMSE = mean_squared_error(y_test, y_pred, squared = False)\n",
    "\n",
    "print(R2)\n",
    "print(MAE,RMSE)"
   ]
  },
  {
   "cell_type": "code",
   "execution_count": 160,
   "metadata": {},
   "outputs": [
    {
     "name": "stdout",
     "output_type": "stream",
     "text": [
      "Optimal number of features : 175\n"
     ]
    },
    {
     "data": {
      "image/png": "[encoded data removed]",
      "text/plain": [
       "<Figure size 432x288 with 1 Axes>"
      ]
     },
     "metadata": {
      "needs_background": "light"
     },
     "output_type": "display_data"
    }
   ],
   "source": [
    "print(\"Optimal number of features : %d\" % rfecv.n_features_)\n",
    "\n",
    "# Plot number of features VS. cross-validation scores\n",
    "plt.figure()\n",
    "plt.xlabel(\"Number of features selected\")\n",
    "plt.ylabel(\"Cross validation score (RMSE)\")\n",
    "plt.plot(\n",
    "    range(1, len(rfecv.grid_scores_) + 1),\n",
    "    rfecv.grid_scores_,\n",
    ")\n",
    "plt.show()"
   ]
  },
  {
   "cell_type": "markdown",
   "metadata": {},
   "source": [
    "#### C) GridSearchCV/RandomSearchCV"
   ]
  },
  {
   "cell_type": "code",
   "execution_count": 162,
   "metadata": {},
   "outputs": [
    {
     "name": "stdout",
     "output_type": "stream",
     "text": [
      "-130942.7177888408\n",
      "{'alpha': 2.0}\n",
      "0.7170561363422394\n",
      "71443.00951046168 130390.89349799768\n"
     ]
    }
   ],
   "source": [
    "ridge = Ridge(random_state = 343, tol =.05)\n",
    "\n",
    "param_grid = {'alpha': np.linspace(1,100,100)}\n",
    "\n",
    "RidgeGCV = GridSearchCV(ridge, param_grid = param_grid, scoring = 'neg_root_mean_squared_error', cv =5)\n",
    "RidgeGCV.fit(rfe_Xtrain ,y_train)\n",
    "\n",
    "print(RidgeGCV.best_score_)\n",
    "print(RidgeGCV.best_params_)\n",
    "\n",
    "y_pred = RidgeGCV.predict(rfe_Xtest)\n",
    "\n",
    "R2 = r2_score(y_test, y_pred)\n",
    "\n",
    "MAE = mean_absolute_error(y_test, y_pred)\n",
    "RMSE = mean_squared_error(y_test, y_pred, squared = False)\n",
    "\n",
    "print(R2)\n",
    "print(MAE,RMSE) "
   ]
  },
  {
   "cell_type": "markdown",
   "metadata": {},
   "source": [
    "## Non- linear Models"
   ]
  },
  {
   "cell_type": "markdown",
   "metadata": {},
   "source": [
    "### 5)Random forest \n",
    "------------------------------------------------------"
   ]
  },
  {
   "cell_type": "code",
   "execution_count": 55,
   "metadata": {},
   "outputs": [],
   "source": [
    "X_trainA = np.array(X_train)\n",
    "X_testA =np.array(X_test)\n",
    "y_trainA = np.array(y_train)\n",
    "y_testA =np.array(y_test)\n",
    "\n",
    "y_trainA = y_trainA.ravel()\n",
    "y_testA = y_testA.ravel()\n",
    "\n",
    "features = X_train.columns\n"
   ]
  },
  {
   "cell_type": "code",
   "execution_count": 56,
   "metadata": {},
   "outputs": [],
   "source": [
    "# number of trees, max_depth, min_samples_split and min_samples_leaf (just off the top of my head)"
   ]
  },
  {
   "cell_type": "code",
   "execution_count": 57,
   "metadata": {},
   "outputs": [
    {
     "name": "stdout",
     "output_type": "stream",
     "text": [
      "0.7499212693878019\n",
      "63952.21535523913 122584.48296228769\n"
     ]
    }
   ],
   "source": [
    "from sklearn.ensemble import RandomForestRegressor\n",
    "\n",
    "rf = RandomForestRegressor(random_state =343,n_jobs =-1)\n",
    "rf.fit(X_trainA, y_trainA)\n",
    "\n",
    "y_pred = rf.predict(X_testA)\n",
    "\n",
    "R2 = r2_score(y_testA, y_pred)\n",
    "\n",
    "MAE = mean_absolute_error(y_testA, y_pred)\n",
    "RMSE = mean_squared_error(y_testA, y_pred, squared = False)\n",
    "\n",
    "print(R2)\n",
    "print(MAE,RMSE)\n"
   ]
  },
  {
   "cell_type": "markdown",
   "metadata": {},
   "source": [
    "#### B)Feature Selection"
   ]
  },
  {
   "cell_type": "code",
   "execution_count": 58,
   "metadata": {},
   "outputs": [],
   "source": [
    "from sklearn.feature_selection import SelectFromModel"
   ]
  },
  {
   "cell_type": "code",
   "execution_count": 59,
   "metadata": {},
   "outputs": [
    {
     "name": "stdout",
     "output_type": "stream",
     "text": [
      "                                           importances\n",
      "standardized_Sq Ft Est Heated Above Grade     0.326638\n",
      "County_Fairfield                              0.172926\n",
      "standardized_Acres                            0.062468\n",
      "standardized_Sq Ft Total                      0.053421\n",
      "standardized_Age                              0.045688\n",
      "City_Greenwich                                0.042263\n",
      "City_Darien                                   0.036234\n",
      "standardized_DOM                              0.035902\n",
      "City_Westport                                 0.029577\n",
      "standardized_Full Bath                        0.018814\n",
      "City_New Canaan                               0.016166\n",
      "standardized_Rooms Total                      0.011554\n",
      "Garage                                        0.011102\n",
      "standardized_Beds Total                       0.009568\n",
      "City_Fairfield                                0.009062\n"
     ]
    }
   ],
   "source": [
    "feat_imp= pd.DataFrame({'importances':rf.feature_importances_},index = features, )\n",
    "print(feat_imp.sort_values(by = 'importances',ascending = False).head(15))\n",
    "   "
   ]
  },
  {
   "cell_type": "code",
   "execution_count": 60,
   "metadata": {},
   "outputs": [
    {
     "data": {
      "text/plain": [
       "SelectFromModel(estimator=RandomForestRegressor(n_jobs=-1, random_state=343),\n",
       "                threshold=0.007)"
      ]
     },
     "execution_count": 60,
     "metadata": {},
     "output_type": "execute_result"
    }
   ],
   "source": [
    "sfm = SelectFromModel(rf, threshold=0.007)\n",
    "sfm.fit(X_trainA, y_trainA)"
   ]
  },
  {
   "cell_type": "code",
   "execution_count": 61,
   "metadata": {},
   "outputs": [
    {
     "name": "stdout",
     "output_type": "stream",
     "text": [
      "standardized_Acres\n",
      "standardized_Sq Ft Total\n",
      "standardized_Sq Ft Est Heated Above Grade\n",
      "standardized_DOM\n",
      "standardized_Age\n",
      "standardized_Rooms Total\n",
      "standardized_Beds Total\n",
      "standardized_Full Bath\n",
      "standardized_Half Bath\n",
      "Garage\n",
      "City_Darien\n",
      "City_Fairfield\n",
      "City_Greenwich\n",
      "City_Madison\n",
      "City_New Canaan\n",
      "City_Westport\n",
      "County_Fairfield\n"
     ]
    }
   ],
   "source": [
    "for feature_list_index in sfm.get_support(indices=True):\n",
    "    print(features[feature_list_index])"
   ]
  },
  {
   "cell_type": "code",
   "execution_count": 62,
   "metadata": {},
   "outputs": [],
   "source": [
    "X_train_important = sfm.transform(X_trainA)\n",
    "X_test_important = sfm.transform(X_testA)"
   ]
  },
  {
   "cell_type": "code",
   "execution_count": 63,
   "metadata": {},
   "outputs": [
    {
     "name": "stdout",
     "output_type": "stream",
     "text": [
      "0.6845030011780786\n",
      "77957.58276049653 137687.57076167123\n"
     ]
    }
   ],
   "source": [
    "rf_imp = RandomForestRegressor(random_state =343,n_jobs =-1)\n",
    "rf_imp.fit(X_train_important, y_trainA)\n",
    "\n",
    "y_pred = rf_imp.predict(X_test_important)\n",
    "\n",
    "R2 = r2_score(y_testA, y_pred)\n",
    "\n",
    "MAE = mean_absolute_error(y_testA, y_pred)\n",
    "RMSE = mean_squared_error(y_testA, y_pred, squared = False)\n",
    "\n",
    "print(R2)\n",
    "print(MAE,RMSE)\n"
   ]
  },
  {
   "cell_type": "markdown",
   "metadata": {},
   "source": [
    "#### B)GridSearchCV/RandomSearchCV"
   ]
  },
  {
   "cell_type": "code",
   "execution_count": 66,
   "metadata": {},
   "outputs": [
    {
     "name": "stdout",
     "output_type": "stream",
     "text": [
      "-137949.62618186482\n",
      "{'max_depth': 15, 'n_estimators': 250}\n",
      "0.6907232022669383\n",
      "76731.11302655394 136323.52001878942\n"
     ]
    }
   ],
   "source": [
    "rf = RandomForestRegressor(random_state = 343, n_jobs = -1)\n",
    "\n",
    "param_grid = {'n_estimators': [200,250,300],\n",
    "              'max_depth':[10, 15, 20]}\n",
    "\n",
    "RF_Imp_GCV = GridSearchCV(rf, param_grid = param_grid, scoring = 'neg_root_mean_squared_error', cv =3)\n",
    "RF_Imp_GCV.fit(X_train_important, y_trainA)\n",
    "\n",
    "print(RF_Imp_GCV.best_score_)\n",
    "print(RF_Imp_GCV.best_params_)\n",
    "\n",
    "y_pred = RF_Imp_GCV.predict(X_test_important )\n",
    "\n",
    "R2 = r2_score(y_testA, y_pred)\n",
    "\n",
    "MAE = mean_absolute_error(y_testA, y_pred)\n",
    "RMSE = mean_squared_error(y_testA, y_pred, squared = False)\n",
    "\n",
    "print(R2)\n",
    "print(MAE,RMSE) "
   ]
  },
  {
   "cell_type": "markdown",
   "metadata": {},
   "source": [
    "### 6) Gradient Boosting Model"
   ]
  },
  {
   "cell_type": "code",
   "execution_count": null,
   "metadata": {},
   "outputs": [],
   "source": [
    "X_trainA = np.array(X_train)\n",
    "X_testA =np.array(X_test)\n",
    "y_trainA = np.array(y_train)\n",
    "y_testA =np.array(y_test)\n",
    "\n",
    "y_trainA = y_trainA.ravel()\n",
    "y_testA = y_testA.ravel()\n",
    "\n",
    "features = X_train.columns\n"
   ]
  },
  {
   "cell_type": "code",
   "execution_count": 41,
   "metadata": {},
   "outputs": [
    {
     "name": "stdout",
     "output_type": "stream",
     "text": [
      "0.7564766743229826\n",
      "62375.253209220085 120967.13769157683\n"
     ]
    }
   ],
   "source": [
    "from sklearn.ensemble import GradientBoostingRegressor\n",
    "\n",
    "gb = GradientBoostingRegressor(random_state =343, learning_rate=.2,n_estimators = 1500)\n",
    "gb.fit(X_trainA,y_trainA)\n",
    "y_pred = gb.predict(X_testA)\n",
    "\n",
    "R2 = r2_score(y_testA, y_pred)\n",
    "\n",
    "MAE = mean_absolute_error(y_testA, y_pred)\n",
    "RMSE = mean_squared_error(y_testA, y_pred, squared = False)\n",
    "\n",
    "print(R2)\n",
    "print(MAE,RMSE)"
   ]
  },
  {
   "cell_type": "markdown",
   "metadata": {},
   "source": [
    "#### B) GridSearchCV/RandomSearchCV"
   ]
  },
  {
   "cell_type": "code",
   "execution_count": 42,
   "metadata": {},
   "outputs": [
    {
     "name": "stdout",
     "output_type": "stream",
     "text": [
      "-120567.54950619818\n",
      "{'learning_rate': 0.2, 'max_depth': 4, 'n_estimators': 1500}\n",
      "0.7666881153094623\n",
      "62069.59817969226 118403.7759542362\n"
     ]
    }
   ],
   "source": [
    "gb = GradientBoostingRegressor(random_state =343, max_features='sqrt')\n",
    "\n",
    "param_grid = {'learning_rate': [0.2],\n",
    "                  #'subsample'    : [0.9, 0.5, 0.2, 0.1],\n",
    "                  'n_estimators' : [ 1500],\n",
    "                  'max_depth'    : [4,6,8,10]\n",
    "                 }\n",
    "GBGCV = GridSearchCV(gb, param_grid = param_grid,scoring = 'neg_root_mean_squared_error', cv =5)\n",
    "GBGCV.fit(X_trainA, y_trainA)\n",
    "\n",
    "print(GBGCV.best_score_)\n",
    "print(GBGCV.best_params_)\n",
    "\n",
    "y_pred = GBGCV.predict(X_testA)\n",
    "\n",
    "R2 = r2_score(y_testA, y_pred)\n",
    "\n",
    "MAE = mean_absolute_error(y_testA, y_pred)\n",
    "RMSE = mean_squared_error(y_testA, y_pred, squared = False)\n",
    "\n",
    "print(R2)\n",
    "print(MAE,RMSE) "
   ]
  }
 ],
 "metadata": {
  "kernelspec": {
   "display_name": "Python 3",
   "language": "python",
   "name": "python3"
  },
  "language_info": {
   "codemirror_mode": {
    "name": "ipython",
    "version": 3
   },
   "file_extension": ".py",
   "mimetype": "text/x-python",
   "name": "python",
   "nbconvert_exporter": "python",
   "pygments_lexer": "ipython3",
   "version": "3.8.5"
  }
 },
 "nbformat": 4,
 "nbformat_minor": 4
}
