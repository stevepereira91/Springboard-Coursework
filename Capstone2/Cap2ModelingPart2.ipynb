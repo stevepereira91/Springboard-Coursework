{
 "cells": [
  {
   "cell_type": "markdown",
   "metadata": {},
   "source": [
    "# Capstone Modeling Part 2"
   ]
  },
  {
   "cell_type": "code",
   "execution_count": 123,
   "metadata": {},
   "outputs": [],
   "source": [
    "import pandas as pd\n",
    "import matplotlib.pyplot as plt\n",
    "import numpy as np\n",
    "from sklearn.metrics import mean_absolute_error\n",
    "from sklearn.metrics import mean_squared_error\n",
    "from sklearn.metrics import r2_score\n",
    "from sklearn.model_selection import cross_val_score"
   ]
  },
  {
   "cell_type": "code",
   "execution_count": 124,
   "metadata": {},
   "outputs": [],
   "source": [
    "X_train = pd.read_csv('X_train.csv')\n",
    "X_test = pd.read_csv('X_test.csv')\n",
    "\n",
    "y_train = pd.read_csv('y_train.csv')\n",
    "y_test = pd.read_csv('y_test.csv')\n",
    "\n",
    "X_train.drop('Unnamed: 0',axis=1,inplace = True)\n",
    "X_test.drop('Unnamed: 0',axis=1,inplace = True)\n",
    "y_train.drop('Unnamed: 0',axis=1,inplace = True)\n",
    "y_test.drop('Unnamed: 0',axis=1,inplace = True)\n"
   ]
  },
  {
   "cell_type": "code",
   "execution_count": 125,
   "metadata": {},
   "outputs": [],
   "source": [
    "def model_eval(model, X_train, y_train, X_test, y_test):\n",
    "\n",
    "    model = model\n",
    "    model.fit(X_train, y_train)\n",
    "    y_pred = model.predict(X_test)\n",
    "    \n",
    "    mae = mean_absolute_error(y_test, y_pred)\n",
    "    mse = mean_squared_error(y_test, y_pred)\n",
    "    rmse = np.sqrt(mse)\n",
    "    r2 = r2_score(y_test, y_pred)\n",
    "    \n",
    "    model_metrics.append({'model':model,\n",
    "                         'MAE':mae,\n",
    "                         'MSE':mse,\n",
    "                         'RMSE':rmse,\n",
    "                         'R2':r2})"
   ]
  },
  {
   "cell_type": "markdown",
   "metadata": {},
   "source": [
    "## Linear Models"
   ]
  },
  {
   "cell_type": "code",
   "execution_count": 126,
   "metadata": {},
   "outputs": [],
   "source": [
    "model_metrics =[]\n",
    "\n",
    "from sklearn.linear_model import LinearRegression\n",
    "from sklearn.linear_model import ElasticNet\n",
    "from sklearn.linear_model import Lasso\n",
    "from sklearn.linear_model import Ridge\n",
    "\n",
    "model_list_linear = [LinearRegression(),\n",
    "                     ElasticNet(random_state = 343),\n",
    "                     ElasticNet(l1_ratio= 1.0, alpha= 1.0,tol = .05,random_state = 343),\n",
    "                     Lasso(random_state = 343, tol = .05),\n",
    "                     Lasso(random_state = 343, tol = .05, alpha= 10.0),\n",
    "                     Ridge(random_state = 343, tol = .05),\n",
    "                     Ridge(random_state = 343, tol = .05, alpha= 2.0)\n",
    "                                          \n",
    "                    ]\n",
    "\n",
    "\n",
    "\n",
    "for model in model_list_linear:\n",
    "    model_eval(model, X_train, y_train, X_test, y_test)"
   ]
  },
  {
   "cell_type": "code",
   "execution_count": 127,
   "metadata": {},
   "outputs": [
    {
     "data": {
      "text/plain": [
       "[{'model': LinearRegression(),\n",
       "  'MAE': 71527.51095290252,\n",
       "  'MSE': 17012550092.897371,\n",
       "  'RMSE': 130432.16663422168,\n",
       "  'R2': 0.7168769853516532},\n",
       " {'model': ElasticNet(random_state=343),\n",
       "  'MAE': 101605.61521410434,\n",
       "  'MSE': 34222246760.813103,\n",
       "  'RMSE': 184992.5586633503,\n",
       "  'R2': 0.43047305559404847},\n",
       " {'model': ElasticNet(l1_ratio=1.0, random_state=343, tol=0.05),\n",
       "  'MAE': 71456.87332468876,\n",
       "  'MSE': 17001968119.44975,\n",
       "  'RMSE': 130391.59527918106,\n",
       "  'R2': 0.7170530906508035},\n",
       " {'model': Lasso(random_state=343, tol=0.05),\n",
       "  'MAE': 71456.87332468876,\n",
       "  'MSE': 17001968119.44975,\n",
       "  'RMSE': 130391.59527918106,\n",
       "  'R2': 0.7170530906508035},\n",
       " {'model': Lasso(alpha=10.0, random_state=343, tol=0.05),\n",
       "  'MAE': 71312.3691563509,\n",
       "  'MSE': 16991498443.162144,\n",
       "  'RMSE': 130351.44204481262,\n",
       "  'R2': 0.717227327099587},\n",
       " {'model': Ridge(random_state=343, tol=0.05),\n",
       "  'MAE': 71456.38157694937,\n",
       "  'MSE': 17001575747.596344,\n",
       "  'RMSE': 130390.09068022134,\n",
       "  'R2': 0.7170596205067858},\n",
       " {'model': Ridge(alpha=2.0, random_state=343, tol=0.05),\n",
       "  'MAE': 71443.1608629253,\n",
       "  'MSE': 17001458476.105038,\n",
       "  'RMSE': 130389.64098464663,\n",
       "  'R2': 0.7170615721400195}]"
      ]
     },
     "execution_count": 127,
     "metadata": {},
     "output_type": "execute_result"
    }
   ],
   "source": [
    "model_metrics"
   ]
  },
  {
   "cell_type": "markdown",
   "metadata": {},
   "source": [
    "## Non-linear Models"
   ]
  },
  {
   "cell_type": "code",
   "execution_count": 128,
   "metadata": {},
   "outputs": [],
   "source": [
    "from sklearn.ensemble import RandomForestRegressor\n",
    "from sklearn.ensemble import GradientBoostingRegressor\n",
    "from sklearn.neighbors import KNeighborsRegressor"
   ]
  },
  {
   "cell_type": "code",
   "execution_count": 129,
   "metadata": {},
   "outputs": [],
   "source": [
    "X_trainA = np.array(X_train)\n",
    "X_testA =np.array(X_test)\n",
    "y_trainA = np.array(y_train)\n",
    "y_testA =np.array(y_test)\n",
    "\n",
    "y_trainA = y_trainA.ravel()\n",
    "y_testA = y_testA.ravel()\n",
    "\n",
    "features = X_train.columns"
   ]
  },
  {
   "cell_type": "code",
   "execution_count": 130,
   "metadata": {},
   "outputs": [],
   "source": [
    "model_list_nonlinear = [RandomForestRegressor(random_state =343,n_jobs =-1),\n",
    "                        GradientBoostingRegressor(random_state =343),\n",
    "                        KNeighborsRegressor()]\n",
    "\n",
    "for model in model_list_nonlinear:\n",
    "    model_eval(model, X_trainA, y_trainA, X_testA, y_testA)"
   ]
  },
  {
   "cell_type": "code",
   "execution_count": 134,
   "metadata": {},
   "outputs": [
    {
     "data": {
      "text/plain": [
       "[{'model': RandomForestRegressor(n_jobs=-1, random_state=343),\n",
       "  'MAE': 63952.21535523913,\n",
       "  'MSE': 15026955463.131401,\n",
       "  'RMSE': 122584.48296228769,\n",
       "  'R2': 0.7499212693878019},\n",
       " {'model': GradientBoostingRegressor(random_state=343),\n",
       "  'MAE': 70963.11265794211,\n",
       "  'MSE': 16706409287.1245,\n",
       "  'RMSE': 129253.27573073149,\n",
       "  'R2': 0.7219717834485873},\n",
       " {'model': KNeighborsRegressor(),\n",
       "  'MAE': 75326.11737130338,\n",
       "  'MSE': 21235487601.538586,\n",
       "  'RMSE': 145724.01175351502,\n",
       "  'R2': 0.6465988206091882}]"
      ]
     },
     "execution_count": 134,
     "metadata": {},
     "output_type": "execute_result"
    }
   ],
   "source": [
    "model_metrics[-3:]"
   ]
  },
  {
   "cell_type": "markdown",
   "metadata": {},
   "source": [
    "   ## Final Model Choice"
   ]
  },
  {
   "cell_type": "markdown",
   "metadata": {},
   "source": [
    "Looking at the model predictions, the default Random Forest Regressor performed the best out of the other models.  Random Forest has an R squared of 74.99%, a Mean Absolute Error of 63,952, and a Root Mean Squared Error of 122,584.  The model will now be hyper-parameter tuned to improve performance."
   ]
  },
  {
   "cell_type": "code",
   "execution_count": 114,
   "metadata": {},
   "outputs": [],
   "source": [
    "from sklearn.model_selection import RandomizedSearchCV"
   ]
  },
  {
   "cell_type": "code",
   "execution_count": 116,
   "metadata": {},
   "outputs": [
    {
     "name": "stdout",
     "output_type": "stream",
     "text": [
      "-123487.89625118778\n",
      "{'n_estimators': 150, 'min_samples_split': 20, 'min_samples_leaf': 1, 'max_depth': 30}\n"
     ]
    }
   ],
   "source": [
    "param_grid ={'n_estimators':[50,100, 150],\n",
    "            'max_depth' : [None, 20, 25, 30], \n",
    "            'min_samples_split' : [2, 5, 10, 15, 20],\n",
    "            'min_samples_leaf' : [1, 3, 4]}\n",
    "\n",
    "RF = RandomForestRegressor(random_state = 343, n_jobs = -1)\n",
    "\n",
    "RF_RCV = RandomizedSearchCV(RF, \n",
    "                            param_grid,\n",
    "                            scoring = 'neg_root_mean_squared_error',\n",
    "                            random_state= 343,\n",
    "                            n_jobs = -1)\n",
    "\n",
    "\n",
    "RF_RCV.fit(X_trainA, y_trainA)\n",
    "\n",
    "print(RF_RCV.best_score_)\n",
    "print(RF_RCV.best_params_)"
   ]
  },
  {
   "cell_type": "code",
   "execution_count": 135,
   "metadata": {},
   "outputs": [],
   "source": [
    "def model_eval2(model, X_train, y_train, X_test, y_test):\n",
    "\n",
    "    model = model\n",
    "    model.fit(X_train, y_train)\n",
    "    y_pred = model.predict(X_test)\n",
    "    \n",
    "    mae = mean_absolute_error(y_test, y_pred)\n",
    "    mse = mean_squared_error(y_test, y_pred)\n",
    "    rmse = np.sqrt(mse)\n",
    "    r2 = r2_score(y_test, y_pred)\n",
    "    \n",
    "    model_metrics.append({'model':model,\n",
    "                         'MAE':mae,\n",
    "                         'MSE':mse,\n",
    "                         'RMSE':rmse,\n",
    "                         'R2':r2})\n",
    "    return(model)"
   ]
  },
  {
   "cell_type": "code",
   "execution_count": 136,
   "metadata": {},
   "outputs": [],
   "source": [
    "fit_model = model_eval2(RandomForestRegressor(random_state = 343, \n",
    "                                              n_jobs = -1,\n",
    "                                              n_estimators = 150,\n",
    "                                              min_samples_split= 20,\n",
    "                                              min_samples_leaf = 1,\n",
    "                                              max_depth = 30),\n",
    "                        X_trainA,\n",
    "                        y_trainA,\n",
    "                        X_testA,\n",
    "                        y_testA)"
   ]
  },
  {
   "cell_type": "code",
   "execution_count": 137,
   "metadata": {},
   "outputs": [
    {
     "data": {
      "image/png": "[encoded data removed]",
      "text/plain": [
       "<Figure size 432x288 with 1 Axes>"
      ]
     },
     "metadata": {
      "needs_background": "light"
     },
     "output_type": "display_data"
    }
   ],
   "source": [
    "feat_imp= pd.DataFrame({'importances':fit_model.feature_importances_},index = features)\n",
    "\n",
    "feat_imp.sort_values(by = 'importances',ascending = False).head(15).plot(kind='bar')\n",
    "plt.title('Feature Importances')\n",
    "plt.show()"
   ]
  },
  {
   "cell_type": "code",
   "execution_count": 139,
   "metadata": {},
   "outputs": [
    {
     "data": {
      "text/plain": [
       "{'model': RandomForestRegressor(max_depth=30, min_samples_split=20, n_estimators=150,\n",
       "                       n_jobs=-1, random_state=343),\n",
       " 'MAE': 63744.66284738157,\n",
       " 'MSE': 14902922329.742113,\n",
       " 'RMSE': 122077.52589949599,\n",
       " 'R2': 0.7519854299310303}"
      ]
     },
     "execution_count": 139,
     "metadata": {},
     "output_type": "execute_result"
    }
   ],
   "source": [
    "model_metrics[-1]"
   ]
  },
  {
   "cell_type": "markdown",
   "metadata": {},
   "source": [
    "With hyperparameter tuning, the model predictions were slightly improved.  With tuned parameters the mean absolute error was 63744, the root mean squared error was 122077, and R-squared of \n",
    "%75.20."
   ]
  },
  {
   "cell_type": "code",
   "execution_count": 143,
   "metadata": {},
   "outputs": [],
   "source": [
    "(pd.DataFrame(model_metrics)).to_csv('model_metrics.csv')"
   ]
  },
  {
   "cell_type": "code",
   "execution_count": null,
   "metadata": {},
   "outputs": [],
   "source": []
  }
 ],
 "metadata": {
  "kernelspec": {
   "display_name": "Python 3",
   "language": "python",
   "name": "python3"
  },
  "language_info": {
   "codemirror_mode": {
    "name": "ipython",
    "version": 3
   },
   "file_extension": ".py",
   "mimetype": "text/x-python",
   "name": "python",
   "nbconvert_exporter": "python",
   "pygments_lexer": "ipython3",
   "version": "3.8.5"
  }
 },
 "nbformat": 4,
 "nbformat_minor": 4
}
