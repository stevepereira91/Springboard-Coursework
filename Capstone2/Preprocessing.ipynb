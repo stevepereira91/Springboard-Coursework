{
 "cells": [
  {
   "cell_type": "markdown",
   "metadata": {},
   "source": [
    "# Capstone 2 Preprocessing and Training Data Development"
   ]
  },
  {
   "cell_type": "code",
   "execution_count": 292,
   "metadata": {},
   "outputs": [],
   "source": [
    "import pandas as pd"
   ]
  },
  {
   "cell_type": "code",
   "execution_count": 293,
   "metadata": {},
   "outputs": [],
   "source": [
    "listings_orig = pd.read_csv(r'C:/Users/kyu_k/OneDrive/Desktop/ds/Spring board DS Career track/Capstones/Capstonetwo/Untitled Folder/posteda.csv',index_col=False)"
   ]
  },
  {
   "cell_type": "code",
   "execution_count": 294,
   "metadata": {},
   "outputs": [
    {
     "data": {
      "text/html": [
       "<div>\n",
       "<style scoped>\n",
       "    .dataframe tbody tr th:only-of-type {\n",
       "        vertical-align: middle;\n",
       "    }\n",
       "\n",
       "    .dataframe tbody tr th {\n",
       "        vertical-align: top;\n",
       "    }\n",
       "\n",
       "    .dataframe thead th {\n",
       "        text-align: right;\n",
       "    }\n",
       "</style>\n",
       "<table border=\"1\" class=\"dataframe\">\n",
       "  <thead>\n",
       "    <tr style=\"text-align: right;\">\n",
       "      <th></th>\n",
       "      <th>Unnamed: 0</th>\n",
       "      <th>MLS#</th>\n",
       "      <th>Status Change Timestamp</th>\n",
       "      <th>Address</th>\n",
       "      <th>City</th>\n",
       "      <th>Acres</th>\n",
       "      <th>Sq Ft Total</th>\n",
       "      <th>Sq Ft Est Heated Above Grade</th>\n",
       "      <th>Style</th>\n",
       "      <th>Rooms Total</th>\n",
       "      <th>...</th>\n",
       "      <th>Year Built</th>\n",
       "      <th>DOM</th>\n",
       "      <th>list_price</th>\n",
       "      <th>close_price</th>\n",
       "      <th>Full Bath</th>\n",
       "      <th>Half Bath</th>\n",
       "      <th>Garage</th>\n",
       "      <th>Parking</th>\n",
       "      <th>Age</th>\n",
       "      <th>County</th>\n",
       "    </tr>\n",
       "  </thead>\n",
       "  <tbody>\n",
       "    <tr>\n",
       "      <th>0</th>\n",
       "      <td>0</td>\n",
       "      <td>170378716</td>\n",
       "      <td>2021-05-14</td>\n",
       "      <td>64 Long Hill Rd</td>\n",
       "      <td>Andover</td>\n",
       "      <td>0.92</td>\n",
       "      <td>1800</td>\n",
       "      <td>1800.0</td>\n",
       "      <td>Colonial</td>\n",
       "      <td>7</td>\n",
       "      <td>...</td>\n",
       "      <td>1935.0</td>\n",
       "      <td>8.0</td>\n",
       "      <td>150000</td>\n",
       "      <td>97500</td>\n",
       "      <td>1</td>\n",
       "      <td>0</td>\n",
       "      <td>0</td>\n",
       "      <td>Off Street Parking</td>\n",
       "      <td>86.0</td>\n",
       "      <td>Tolland</td>\n",
       "    </tr>\n",
       "    <tr>\n",
       "      <th>1</th>\n",
       "      <td>2</td>\n",
       "      <td>170365013</td>\n",
       "      <td>2021-04-22</td>\n",
       "      <td>7 Bailey Rd</td>\n",
       "      <td>Andover</td>\n",
       "      <td>1.49</td>\n",
       "      <td>1138</td>\n",
       "      <td>1138.0</td>\n",
       "      <td>Bungalow</td>\n",
       "      <td>6</td>\n",
       "      <td>...</td>\n",
       "      <td>1923.0</td>\n",
       "      <td>69.0</td>\n",
       "      <td>170000</td>\n",
       "      <td>150000</td>\n",
       "      <td>1</td>\n",
       "      <td>0</td>\n",
       "      <td>2</td>\n",
       "      <td>Detached Garage</td>\n",
       "      <td>98.0</td>\n",
       "      <td>Tolland</td>\n",
       "    </tr>\n",
       "    <tr>\n",
       "      <th>2</th>\n",
       "      <td>3</td>\n",
       "      <td>170316531</td>\n",
       "      <td>2020-09-02</td>\n",
       "      <td>56 Pine Ridge Dr</td>\n",
       "      <td>Andover</td>\n",
       "      <td>0.85</td>\n",
       "      <td>1476</td>\n",
       "      <td>864.0</td>\n",
       "      <td>Ranch</td>\n",
       "      <td>4</td>\n",
       "      <td>...</td>\n",
       "      <td>1957.0</td>\n",
       "      <td>2.0</td>\n",
       "      <td>169000</td>\n",
       "      <td>180000</td>\n",
       "      <td>1</td>\n",
       "      <td>0</td>\n",
       "      <td>2</td>\n",
       "      <td>Attached Garage</td>\n",
       "      <td>64.0</td>\n",
       "      <td>Tolland</td>\n",
       "    </tr>\n",
       "    <tr>\n",
       "      <th>3</th>\n",
       "      <td>4</td>\n",
       "      <td>170359991</td>\n",
       "      <td>2021-03-12</td>\n",
       "      <td>213 Route 6</td>\n",
       "      <td>Andover</td>\n",
       "      <td>0.62</td>\n",
       "      <td>1074</td>\n",
       "      <td>1074.0</td>\n",
       "      <td>Cape Cod</td>\n",
       "      <td>6</td>\n",
       "      <td>...</td>\n",
       "      <td>1939.0</td>\n",
       "      <td>41.0</td>\n",
       "      <td>174900</td>\n",
       "      <td>182000</td>\n",
       "      <td>2</td>\n",
       "      <td>0</td>\n",
       "      <td>2</td>\n",
       "      <td>Detached Garage</td>\n",
       "      <td>82.0</td>\n",
       "      <td>Tolland</td>\n",
       "    </tr>\n",
       "    <tr>\n",
       "      <th>4</th>\n",
       "      <td>5</td>\n",
       "      <td>170299040</td>\n",
       "      <td>2020-08-31</td>\n",
       "      <td>38 Bausola Rd</td>\n",
       "      <td>Andover</td>\n",
       "      <td>0.56</td>\n",
       "      <td>1456</td>\n",
       "      <td>1008.0</td>\n",
       "      <td>Ranch</td>\n",
       "      <td>6</td>\n",
       "      <td>...</td>\n",
       "      <td>1974.0</td>\n",
       "      <td>77.0</td>\n",
       "      <td>179000</td>\n",
       "      <td>185000</td>\n",
       "      <td>1</td>\n",
       "      <td>0</td>\n",
       "      <td>1</td>\n",
       "      <td>Under House Garage</td>\n",
       "      <td>47.0</td>\n",
       "      <td>Tolland</td>\n",
       "    </tr>\n",
       "  </tbody>\n",
       "</table>\n",
       "<p>5 rows × 21 columns</p>\n",
       "</div>"
      ],
      "text/plain": [
       "   Unnamed: 0       MLS# Status Change Timestamp           Address     City  \\\n",
       "0           0  170378716              2021-05-14   64 Long Hill Rd  Andover   \n",
       "1           2  170365013              2021-04-22       7 Bailey Rd  Andover   \n",
       "2           3  170316531              2020-09-02  56 Pine Ridge Dr  Andover   \n",
       "3           4  170359991              2021-03-12       213 Route 6  Andover   \n",
       "4           5  170299040              2020-08-31     38 Bausola Rd  Andover   \n",
       "\n",
       "   Acres  Sq Ft Total  Sq Ft Est Heated Above Grade     Style  Rooms Total  \\\n",
       "0   0.92         1800                        1800.0  Colonial            7   \n",
       "1   1.49         1138                        1138.0  Bungalow            6   \n",
       "2   0.85         1476                         864.0     Ranch            4   \n",
       "3   0.62         1074                        1074.0  Cape Cod            6   \n",
       "4   0.56         1456                        1008.0     Ranch            6   \n",
       "\n",
       "   ...  Year Built   DOM  list_price  close_price  Full Bath  Half Bath  \\\n",
       "0  ...      1935.0   8.0      150000        97500          1          0   \n",
       "1  ...      1923.0  69.0      170000       150000          1          0   \n",
       "2  ...      1957.0   2.0      169000       180000          1          0   \n",
       "3  ...      1939.0  41.0      174900       182000          2          0   \n",
       "4  ...      1974.0  77.0      179000       185000          1          0   \n",
       "\n",
       "   Garage             Parking   Age   County  \n",
       "0       0  Off Street Parking  86.0  Tolland  \n",
       "1       2     Detached Garage  98.0  Tolland  \n",
       "2       2     Attached Garage  64.0  Tolland  \n",
       "3       2     Detached Garage  82.0  Tolland  \n",
       "4       1  Under House Garage  47.0  Tolland  \n",
       "\n",
       "[5 rows x 21 columns]"
      ]
     },
     "execution_count": 294,
     "metadata": {},
     "output_type": "execute_result"
    }
   ],
   "source": [
    "listings_orig.head()\n"
   ]
  },
  {
   "cell_type": "code",
   "execution_count": 295,
   "metadata": {},
   "outputs": [],
   "source": [
    "listings_orig.drop(['Unnamed: 0','Address','MLS#','Status Change Timestamp','Parking','Year Built','Style','list_price'],axis =1,inplace = True)"
   ]
  },
  {
   "cell_type": "code",
   "execution_count": 296,
   "metadata": {},
   "outputs": [
    {
     "data": {
      "text/html": [
       "<div>\n",
       "<style scoped>\n",
       "    .dataframe tbody tr th:only-of-type {\n",
       "        vertical-align: middle;\n",
       "    }\n",
       "\n",
       "    .dataframe tbody tr th {\n",
       "        vertical-align: top;\n",
       "    }\n",
       "\n",
       "    .dataframe thead th {\n",
       "        text-align: right;\n",
       "    }\n",
       "</style>\n",
       "<table border=\"1\" class=\"dataframe\">\n",
       "  <thead>\n",
       "    <tr style=\"text-align: right;\">\n",
       "      <th></th>\n",
       "      <th>City</th>\n",
       "      <th>Acres</th>\n",
       "      <th>Sq Ft Total</th>\n",
       "      <th>Sq Ft Est Heated Above Grade</th>\n",
       "      <th>Rooms Total</th>\n",
       "      <th>Beds Total</th>\n",
       "      <th>DOM</th>\n",
       "      <th>close_price</th>\n",
       "      <th>Full Bath</th>\n",
       "      <th>Half Bath</th>\n",
       "      <th>Garage</th>\n",
       "      <th>Age</th>\n",
       "      <th>County</th>\n",
       "    </tr>\n",
       "  </thead>\n",
       "  <tbody>\n",
       "    <tr>\n",
       "      <th>0</th>\n",
       "      <td>Andover</td>\n",
       "      <td>0.92</td>\n",
       "      <td>1800</td>\n",
       "      <td>1800.0</td>\n",
       "      <td>7</td>\n",
       "      <td>3</td>\n",
       "      <td>8.0</td>\n",
       "      <td>97500</td>\n",
       "      <td>1</td>\n",
       "      <td>0</td>\n",
       "      <td>0</td>\n",
       "      <td>86.0</td>\n",
       "      <td>Tolland</td>\n",
       "    </tr>\n",
       "    <tr>\n",
       "      <th>1</th>\n",
       "      <td>Andover</td>\n",
       "      <td>1.49</td>\n",
       "      <td>1138</td>\n",
       "      <td>1138.0</td>\n",
       "      <td>6</td>\n",
       "      <td>3</td>\n",
       "      <td>69.0</td>\n",
       "      <td>150000</td>\n",
       "      <td>1</td>\n",
       "      <td>0</td>\n",
       "      <td>2</td>\n",
       "      <td>98.0</td>\n",
       "      <td>Tolland</td>\n",
       "    </tr>\n",
       "    <tr>\n",
       "      <th>2</th>\n",
       "      <td>Andover</td>\n",
       "      <td>0.85</td>\n",
       "      <td>1476</td>\n",
       "      <td>864.0</td>\n",
       "      <td>4</td>\n",
       "      <td>2</td>\n",
       "      <td>2.0</td>\n",
       "      <td>180000</td>\n",
       "      <td>1</td>\n",
       "      <td>0</td>\n",
       "      <td>2</td>\n",
       "      <td>64.0</td>\n",
       "      <td>Tolland</td>\n",
       "    </tr>\n",
       "    <tr>\n",
       "      <th>3</th>\n",
       "      <td>Andover</td>\n",
       "      <td>0.62</td>\n",
       "      <td>1074</td>\n",
       "      <td>1074.0</td>\n",
       "      <td>6</td>\n",
       "      <td>3</td>\n",
       "      <td>41.0</td>\n",
       "      <td>182000</td>\n",
       "      <td>2</td>\n",
       "      <td>0</td>\n",
       "      <td>2</td>\n",
       "      <td>82.0</td>\n",
       "      <td>Tolland</td>\n",
       "    </tr>\n",
       "    <tr>\n",
       "      <th>4</th>\n",
       "      <td>Andover</td>\n",
       "      <td>0.56</td>\n",
       "      <td>1456</td>\n",
       "      <td>1008.0</td>\n",
       "      <td>6</td>\n",
       "      <td>3</td>\n",
       "      <td>77.0</td>\n",
       "      <td>185000</td>\n",
       "      <td>1</td>\n",
       "      <td>0</td>\n",
       "      <td>1</td>\n",
       "      <td>47.0</td>\n",
       "      <td>Tolland</td>\n",
       "    </tr>\n",
       "  </tbody>\n",
       "</table>\n",
       "</div>"
      ],
      "text/plain": [
       "      City  Acres  Sq Ft Total  Sq Ft Est Heated Above Grade  Rooms Total  \\\n",
       "0  Andover   0.92         1800                        1800.0            7   \n",
       "1  Andover   1.49         1138                        1138.0            6   \n",
       "2  Andover   0.85         1476                         864.0            4   \n",
       "3  Andover   0.62         1074                        1074.0            6   \n",
       "4  Andover   0.56         1456                        1008.0            6   \n",
       "\n",
       "   Beds Total   DOM  close_price  Full Bath  Half Bath  Garage   Age   County  \n",
       "0           3   8.0        97500          1          0       0  86.0  Tolland  \n",
       "1           3  69.0       150000          1          0       2  98.0  Tolland  \n",
       "2           2   2.0       180000          1          0       2  64.0  Tolland  \n",
       "3           3  41.0       182000          2          0       2  82.0  Tolland  \n",
       "4           3  77.0       185000          1          0       1  47.0  Tolland  "
      ]
     },
     "execution_count": 296,
     "metadata": {},
     "output_type": "execute_result"
    }
   ],
   "source": [
    "listings_orig.head()"
   ]
  },
  {
   "cell_type": "code",
   "execution_count": 297,
   "metadata": {},
   "outputs": [],
   "source": [
    "listings = listings_orig"
   ]
  },
  {
   "cell_type": "code",
   "execution_count": 298,
   "metadata": {},
   "outputs": [
    {
     "data": {
      "text/plain": [
       "Index(['City', 'Acres', 'Sq Ft Total', 'Sq Ft Est Heated Above Grade',\n",
       "       'Rooms Total', 'Beds Total', 'DOM', 'close_price', 'Full Bath',\n",
       "       'Half Bath', 'Garage', 'Age', 'County'],\n",
       "      dtype='object')"
      ]
     },
     "execution_count": 298,
     "metadata": {},
     "output_type": "execute_result"
    }
   ],
   "source": [
    "listings.columns"
   ]
  },
  {
   "cell_type": "code",
   "execution_count": 299,
   "metadata": {},
   "outputs": [
    {
     "data": {
      "text/plain": [
       "(36519, 13)"
      ]
     },
     "execution_count": 299,
     "metadata": {},
     "output_type": "execute_result"
    }
   ],
   "source": [
    "listings.shape"
   ]
  },
  {
   "cell_type": "code",
   "execution_count": 300,
   "metadata": {},
   "outputs": [
    {
     "name": "stdout",
     "output_type": "stream",
     "text": [
      "<class 'pandas.core.frame.DataFrame'>\n",
      "RangeIndex: 36519 entries, 0 to 36518\n",
      "Data columns (total 13 columns):\n",
      " #   Column                        Non-Null Count  Dtype  \n",
      "---  ------                        --------------  -----  \n",
      " 0   City                          36519 non-null  object \n",
      " 1   Acres                         36519 non-null  float64\n",
      " 2   Sq Ft Total                   36519 non-null  int64  \n",
      " 3   Sq Ft Est Heated Above Grade  36519 non-null  float64\n",
      " 4   Rooms Total                   36519 non-null  int64  \n",
      " 5   Beds Total                    36519 non-null  int64  \n",
      " 6   DOM                           36519 non-null  float64\n",
      " 7   close_price                   36519 non-null  int64  \n",
      " 8   Full Bath                     36519 non-null  int64  \n",
      " 9   Half Bath                     36519 non-null  int64  \n",
      " 10  Garage                        36519 non-null  int64  \n",
      " 11  Age                           36519 non-null  float64\n",
      " 12  County                        36519 non-null  object \n",
      "dtypes: float64(4), int64(7), object(2)\n",
      "memory usage: 3.6+ MB\n"
     ]
    }
   ],
   "source": [
    "listings.info()"
   ]
  },
  {
   "cell_type": "markdown",
   "metadata": {},
   "source": [
    "## Dummy Variables for Categorical Variables"
   ]
  },
  {
   "cell_type": "markdown",
   "metadata": {},
   "source": [
    "### City and County"
   ]
  },
  {
   "cell_type": "markdown",
   "metadata": {},
   "source": [
    "One hot encoding City and County Variables.  "
   ]
  },
  {
   "cell_type": "code",
   "execution_count": 301,
   "metadata": {},
   "outputs": [],
   "source": [
    "listings = pd.get_dummies(listings, prefix = [\"City_\",\"County_\"], columns = ['City','County'])"
   ]
  },
  {
   "cell_type": "code",
   "execution_count": 302,
   "metadata": {},
   "outputs": [
    {
     "data": {
      "text/plain": [
       "(36519, 188)"
      ]
     },
     "execution_count": 302,
     "metadata": {},
     "output_type": "execute_result"
    }
   ],
   "source": [
    "listings.shape"
   ]
  },
  {
   "cell_type": "markdown",
   "metadata": {},
   "source": [
    "## Standard Scalers"
   ]
  },
  {
   "cell_type": "markdown",
   "metadata": {},
   "source": [
    "Applying Standard Scalers to continous variables.  Acres, Square Footage, Days on Market, Closing Price and Age"
   ]
  },
  {
   "cell_type": "markdown",
   "metadata": {},
   "source": [
    "I am assuming that Rooms, Bedrooms, Full baths, half baths, and garages are ordinal and do not need to be recoded"
   ]
  },
  {
   "cell_type": "code",
   "execution_count": 303,
   "metadata": {},
   "outputs": [],
   "source": [
    "from sklearn.preprocessing import StandardScaler\n",
    "from sklearn.compose import make_column_transformer"
   ]
  },
  {
   "cell_type": "code",
   "execution_count": 304,
   "metadata": {},
   "outputs": [],
   "source": [
    "stanscaler = StandardScaler()"
   ]
  },
  {
   "cell_type": "code",
   "execution_count": 305,
   "metadata": {},
   "outputs": [],
   "source": [
    "col_trans = make_column_transformer((stanscaler,['Acres','Sq Ft Total','Sq Ft Est Heated Above Grade','DOM','close_price','Age']),\n",
    "                                                 remainder = 'drop')\n",
    "columns = ['Acres','Sq Ft Total','Sq Ft Est Heated Above Grade','DOM','close_price','Age']"
   ]
  },
  {
   "cell_type": "code",
   "execution_count": 306,
   "metadata": {},
   "outputs": [],
   "source": [
    "scaled = col_trans.fit_transform(listings)\n",
    "scaled = pd.DataFrame(scaled,columns =columns)\n",
    "scaled = scaled.add_prefix('standardized_')\n",
    "\n",
    "listings.drop(columns,axis =1, inplace =True)"
   ]
  },
  {
   "cell_type": "code",
   "execution_count": 307,
   "metadata": {},
   "outputs": [
    {
     "data": {
      "text/html": [
       "<div>\n",
       "<style scoped>\n",
       "    .dataframe tbody tr th:only-of-type {\n",
       "        vertical-align: middle;\n",
       "    }\n",
       "\n",
       "    .dataframe tbody tr th {\n",
       "        vertical-align: top;\n",
       "    }\n",
       "\n",
       "    .dataframe thead th {\n",
       "        text-align: right;\n",
       "    }\n",
       "</style>\n",
       "<table border=\"1\" class=\"dataframe\">\n",
       "  <thead>\n",
       "    <tr style=\"text-align: right;\">\n",
       "      <th></th>\n",
       "      <th>standardized_Acres</th>\n",
       "      <th>standardized_Sq Ft Total</th>\n",
       "      <th>standardized_Sq Ft Est Heated Above Grade</th>\n",
       "      <th>standardized_DOM</th>\n",
       "      <th>standardized_close_price</th>\n",
       "      <th>standardized_Age</th>\n",
       "    </tr>\n",
       "  </thead>\n",
       "  <tbody>\n",
       "    <tr>\n",
       "      <th>0</th>\n",
       "      <td>0.577642</td>\n",
       "      <td>-0.165411</td>\n",
       "      <td>0.108644</td>\n",
       "      <td>-0.549930</td>\n",
       "      <td>-1.102424</td>\n",
       "      <td>0.622763</td>\n",
       "    </tr>\n",
       "    <tr>\n",
       "      <th>1</th>\n",
       "      <td>1.633161</td>\n",
       "      <td>-1.083437</td>\n",
       "      <td>-0.936020</td>\n",
       "      <td>0.384864</td>\n",
       "      <td>-0.886789</td>\n",
       "      <td>0.956183</td>\n",
       "    </tr>\n",
       "    <tr>\n",
       "      <th>2</th>\n",
       "      <td>0.448017</td>\n",
       "      <td>-0.614717</td>\n",
       "      <td>-1.368403</td>\n",
       "      <td>-0.641877</td>\n",
       "      <td>-0.763569</td>\n",
       "      <td>0.011492</td>\n",
       "    </tr>\n",
       "    <tr>\n",
       "      <th>3</th>\n",
       "      <td>0.022106</td>\n",
       "      <td>-1.172189</td>\n",
       "      <td>-1.037015</td>\n",
       "      <td>-0.044222</td>\n",
       "      <td>-0.755354</td>\n",
       "      <td>0.511623</td>\n",
       "    </tr>\n",
       "    <tr>\n",
       "      <th>4</th>\n",
       "      <td>-0.089001</td>\n",
       "      <td>-0.642452</td>\n",
       "      <td>-1.141165</td>\n",
       "      <td>0.507460</td>\n",
       "      <td>-0.743032</td>\n",
       "      <td>-0.460853</td>\n",
       "    </tr>\n",
       "  </tbody>\n",
       "</table>\n",
       "</div>"
      ],
      "text/plain": [
       "   standardized_Acres  standardized_Sq Ft Total  \\\n",
       "0            0.577642                 -0.165411   \n",
       "1            1.633161                 -1.083437   \n",
       "2            0.448017                 -0.614717   \n",
       "3            0.022106                 -1.172189   \n",
       "4           -0.089001                 -0.642452   \n",
       "\n",
       "   standardized_Sq Ft Est Heated Above Grade  standardized_DOM  \\\n",
       "0                                   0.108644         -0.549930   \n",
       "1                                  -0.936020          0.384864   \n",
       "2                                  -1.368403         -0.641877   \n",
       "3                                  -1.037015         -0.044222   \n",
       "4                                  -1.141165          0.507460   \n",
       "\n",
       "   standardized_close_price  standardized_Age  \n",
       "0                 -1.102424          0.622763  \n",
       "1                 -0.886789          0.956183  \n",
       "2                 -0.763569          0.011492  \n",
       "3                 -0.755354          0.511623  \n",
       "4                 -0.743032         -0.460853  "
      ]
     },
     "execution_count": 307,
     "metadata": {},
     "output_type": "execute_result"
    }
   ],
   "source": [
    "scaled.head()"
   ]
  },
  {
   "cell_type": "code",
   "execution_count": 308,
   "metadata": {},
   "outputs": [],
   "source": [
    "listings = pd.concat([scaled,listings],axis=1)"
   ]
  },
  {
   "cell_type": "code",
   "execution_count": 309,
   "metadata": {},
   "outputs": [
    {
     "data": {
      "text/html": [
       "<div>\n",
       "<style scoped>\n",
       "    .dataframe tbody tr th:only-of-type {\n",
       "        vertical-align: middle;\n",
       "    }\n",
       "\n",
       "    .dataframe tbody tr th {\n",
       "        vertical-align: top;\n",
       "    }\n",
       "\n",
       "    .dataframe thead th {\n",
       "        text-align: right;\n",
       "    }\n",
       "</style>\n",
       "<table border=\"1\" class=\"dataframe\">\n",
       "  <thead>\n",
       "    <tr style=\"text-align: right;\">\n",
       "      <th></th>\n",
       "      <th>standardized_Acres</th>\n",
       "      <th>standardized_Sq Ft Total</th>\n",
       "      <th>standardized_Sq Ft Est Heated Above Grade</th>\n",
       "      <th>standardized_DOM</th>\n",
       "      <th>standardized_close_price</th>\n",
       "      <th>standardized_Age</th>\n",
       "      <th>Rooms Total</th>\n",
       "      <th>Beds Total</th>\n",
       "      <th>Full Bath</th>\n",
       "      <th>Half Bath</th>\n",
       "      <th>...</th>\n",
       "      <th>City__Woodbury</th>\n",
       "      <th>City__Woodstock</th>\n",
       "      <th>County__Fairfield</th>\n",
       "      <th>County__Hartford</th>\n",
       "      <th>County__Litchfield</th>\n",
       "      <th>County__Middlesex</th>\n",
       "      <th>County__New Haven</th>\n",
       "      <th>County__New London</th>\n",
       "      <th>County__Tolland</th>\n",
       "      <th>County__Windham</th>\n",
       "    </tr>\n",
       "  </thead>\n",
       "  <tbody>\n",
       "    <tr>\n",
       "      <th>0</th>\n",
       "      <td>0.577642</td>\n",
       "      <td>-0.165411</td>\n",
       "      <td>0.108644</td>\n",
       "      <td>-0.549930</td>\n",
       "      <td>-1.102424</td>\n",
       "      <td>0.622763</td>\n",
       "      <td>7</td>\n",
       "      <td>3</td>\n",
       "      <td>1</td>\n",
       "      <td>0</td>\n",
       "      <td>...</td>\n",
       "      <td>0</td>\n",
       "      <td>0</td>\n",
       "      <td>0</td>\n",
       "      <td>0</td>\n",
       "      <td>0</td>\n",
       "      <td>0</td>\n",
       "      <td>0</td>\n",
       "      <td>0</td>\n",
       "      <td>1</td>\n",
       "      <td>0</td>\n",
       "    </tr>\n",
       "    <tr>\n",
       "      <th>1</th>\n",
       "      <td>1.633161</td>\n",
       "      <td>-1.083437</td>\n",
       "      <td>-0.936020</td>\n",
       "      <td>0.384864</td>\n",
       "      <td>-0.886789</td>\n",
       "      <td>0.956183</td>\n",
       "      <td>6</td>\n",
       "      <td>3</td>\n",
       "      <td>1</td>\n",
       "      <td>0</td>\n",
       "      <td>...</td>\n",
       "      <td>0</td>\n",
       "      <td>0</td>\n",
       "      <td>0</td>\n",
       "      <td>0</td>\n",
       "      <td>0</td>\n",
       "      <td>0</td>\n",
       "      <td>0</td>\n",
       "      <td>0</td>\n",
       "      <td>1</td>\n",
       "      <td>0</td>\n",
       "    </tr>\n",
       "    <tr>\n",
       "      <th>2</th>\n",
       "      <td>0.448017</td>\n",
       "      <td>-0.614717</td>\n",
       "      <td>-1.368403</td>\n",
       "      <td>-0.641877</td>\n",
       "      <td>-0.763569</td>\n",
       "      <td>0.011492</td>\n",
       "      <td>4</td>\n",
       "      <td>2</td>\n",
       "      <td>1</td>\n",
       "      <td>0</td>\n",
       "      <td>...</td>\n",
       "      <td>0</td>\n",
       "      <td>0</td>\n",
       "      <td>0</td>\n",
       "      <td>0</td>\n",
       "      <td>0</td>\n",
       "      <td>0</td>\n",
       "      <td>0</td>\n",
       "      <td>0</td>\n",
       "      <td>1</td>\n",
       "      <td>0</td>\n",
       "    </tr>\n",
       "    <tr>\n",
       "      <th>3</th>\n",
       "      <td>0.022106</td>\n",
       "      <td>-1.172189</td>\n",
       "      <td>-1.037015</td>\n",
       "      <td>-0.044222</td>\n",
       "      <td>-0.755354</td>\n",
       "      <td>0.511623</td>\n",
       "      <td>6</td>\n",
       "      <td>3</td>\n",
       "      <td>2</td>\n",
       "      <td>0</td>\n",
       "      <td>...</td>\n",
       "      <td>0</td>\n",
       "      <td>0</td>\n",
       "      <td>0</td>\n",
       "      <td>0</td>\n",
       "      <td>0</td>\n",
       "      <td>0</td>\n",
       "      <td>0</td>\n",
       "      <td>0</td>\n",
       "      <td>1</td>\n",
       "      <td>0</td>\n",
       "    </tr>\n",
       "    <tr>\n",
       "      <th>4</th>\n",
       "      <td>-0.089001</td>\n",
       "      <td>-0.642452</td>\n",
       "      <td>-1.141165</td>\n",
       "      <td>0.507460</td>\n",
       "      <td>-0.743032</td>\n",
       "      <td>-0.460853</td>\n",
       "      <td>6</td>\n",
       "      <td>3</td>\n",
       "      <td>1</td>\n",
       "      <td>0</td>\n",
       "      <td>...</td>\n",
       "      <td>0</td>\n",
       "      <td>0</td>\n",
       "      <td>0</td>\n",
       "      <td>0</td>\n",
       "      <td>0</td>\n",
       "      <td>0</td>\n",
       "      <td>0</td>\n",
       "      <td>0</td>\n",
       "      <td>1</td>\n",
       "      <td>0</td>\n",
       "    </tr>\n",
       "  </tbody>\n",
       "</table>\n",
       "<p>5 rows × 188 columns</p>\n",
       "</div>"
      ],
      "text/plain": [
       "   standardized_Acres  standardized_Sq Ft Total  \\\n",
       "0            0.577642                 -0.165411   \n",
       "1            1.633161                 -1.083437   \n",
       "2            0.448017                 -0.614717   \n",
       "3            0.022106                 -1.172189   \n",
       "4           -0.089001                 -0.642452   \n",
       "\n",
       "   standardized_Sq Ft Est Heated Above Grade  standardized_DOM  \\\n",
       "0                                   0.108644         -0.549930   \n",
       "1                                  -0.936020          0.384864   \n",
       "2                                  -1.368403         -0.641877   \n",
       "3                                  -1.037015         -0.044222   \n",
       "4                                  -1.141165          0.507460   \n",
       "\n",
       "   standardized_close_price  standardized_Age  Rooms Total  Beds Total  \\\n",
       "0                 -1.102424          0.622763            7           3   \n",
       "1                 -0.886789          0.956183            6           3   \n",
       "2                 -0.763569          0.011492            4           2   \n",
       "3                 -0.755354          0.511623            6           3   \n",
       "4                 -0.743032         -0.460853            6           3   \n",
       "\n",
       "   Full Bath  Half Bath  ...  City__Woodbury  City__Woodstock  \\\n",
       "0          1          0  ...               0                0   \n",
       "1          1          0  ...               0                0   \n",
       "2          1          0  ...               0                0   \n",
       "3          2          0  ...               0                0   \n",
       "4          1          0  ...               0                0   \n",
       "\n",
       "   County__Fairfield  County__Hartford  County__Litchfield  County__Middlesex  \\\n",
       "0                  0                 0                   0                  0   \n",
       "1                  0                 0                   0                  0   \n",
       "2                  0                 0                   0                  0   \n",
       "3                  0                 0                   0                  0   \n",
       "4                  0                 0                   0                  0   \n",
       "\n",
       "   County__New Haven  County__New London  County__Tolland  County__Windham  \n",
       "0                  0                   0                1                0  \n",
       "1                  0                   0                1                0  \n",
       "2                  0                   0                1                0  \n",
       "3                  0                   0                1                0  \n",
       "4                  0                   0                1                0  \n",
       "\n",
       "[5 rows x 188 columns]"
      ]
     },
     "execution_count": 309,
     "metadata": {},
     "output_type": "execute_result"
    }
   ],
   "source": [
    "listings.head()"
   ]
  },
  {
   "cell_type": "markdown",
   "metadata": {},
   "source": [
    "Probably shouldn't be standardizing closing price ( y )?"
   ]
  },
  {
   "cell_type": "markdown",
   "metadata": {},
   "source": [
    "## Test Train Split"
   ]
  },
  {
   "cell_type": "code",
   "execution_count": 310,
   "metadata": {},
   "outputs": [],
   "source": [
    "from sklearn.model_selection import train_test_split"
   ]
  },
  {
   "cell_type": "code",
   "execution_count": 311,
   "metadata": {},
   "outputs": [],
   "source": [
    "y = listings['standardized_close_price']\n",
    "X = listings.drop('standardized_close_price', axis = 1)"
   ]
  },
  {
   "cell_type": "code",
   "execution_count": 312,
   "metadata": {},
   "outputs": [],
   "source": [
    "X_train, X_test, y_train, y_test = train_test_split(X, y, test_size=0.25, random_state=343)"
   ]
  },
  {
   "cell_type": "code",
   "execution_count": 313,
   "metadata": {},
   "outputs": [
    {
     "data": {
      "text/plain": [
       "(27389, 187)"
      ]
     },
     "execution_count": 313,
     "metadata": {},
     "output_type": "execute_result"
    }
   ],
   "source": [
    "X_train.shape"
   ]
  },
  {
   "cell_type": "code",
   "execution_count": 314,
   "metadata": {},
   "outputs": [
    {
     "data": {
      "text/plain": [
       "(27389,)"
      ]
     },
     "execution_count": 314,
     "metadata": {},
     "output_type": "execute_result"
    }
   ],
   "source": [
    "y_train.shape"
   ]
  },
  {
   "cell_type": "code",
   "execution_count": null,
   "metadata": {},
   "outputs": [],
   "source": []
  }
 ],
 "metadata": {
  "kernelspec": {
   "display_name": "Python 3",
   "language": "python",
   "name": "python3"
  },
  "language_info": {
   "codemirror_mode": {
    "name": "ipython",
    "version": 3
   },
   "file_extension": ".py",
   "mimetype": "text/x-python",
   "name": "python",
   "nbconvert_exporter": "python",
   "pygments_lexer": "ipython3",
   "version": "3.8.5"
  }
 },
 "nbformat": 4,
 "nbformat_minor": 4
}
