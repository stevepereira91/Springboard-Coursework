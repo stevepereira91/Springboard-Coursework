{
 "cells": [
  {
   "cell_type": "code",
   "execution_count": 58,
   "metadata": {},
   "outputs": [],
   "source": [
    "import pandas as pd\n",
    "import numpy as np\n",
    "import matplotlib.pyplot as plt"
   ]
  },
  {
   "cell_type": "code",
   "execution_count": 59,
   "metadata": {},
   "outputs": [],
   "source": [
    "listings = pd.read_csv('C:/Users/kyu_k/OneDrive/Desktop/ds/Spring board DS Career track/Capstonetwo/Untitled Folder/dataclean.csv')"
   ]
  },
  {
   "cell_type": "code",
   "execution_count": 60,
   "metadata": {},
   "outputs": [
    {
     "name": "stdout",
     "output_type": "stream",
     "text": [
      "['Unnamed: 0', '#', 'MLS#', 'Status', 'Status Change Timestamp', 'Prop Type', 'Address', 'City', 'Acres', 'Sq Ft Total', 'Sq Ft Est Heated Above Grade', 'Style or Rent Type', 'Rooms Total', 'Beds Total', 'Year Built', 'DOM', 'Listing Agent', 'List Office', 'list_price', 'close_price', 'Full Bath', 'Half Bath', 'Garage', 'Parking', 'Age']\n"
     ]
    }
   ],
   "source": [
    "print([i for i in listings.columns])"
   ]
  },
  {
   "cell_type": "code",
   "execution_count": 61,
   "metadata": {},
   "outputs": [
    {
     "name": "stdout",
     "output_type": "stream",
     "text": [
      "SF    45710\n",
      "CO    11452\n",
      "CP      248\n",
      "Name: Prop Type, dtype: int64\n"
     ]
    }
   ],
   "source": [
    "print(listings['Prop Type'].value_counts())"
   ]
  },
  {
   "cell_type": "code",
   "execution_count": 62,
   "metadata": {},
   "outputs": [],
   "source": [
    "listings = listings[listings['Prop Type']=='SF']"
   ]
  },
  {
   "cell_type": "markdown",
   "metadata": {},
   "source": [
    "Limiting Property type to Single Family homes"
   ]
  },
  {
   "cell_type": "code",
   "execution_count": 63,
   "metadata": {},
   "outputs": [
    {
     "data": {
      "text/plain": [
       "array(['SF'], dtype=object)"
      ]
     },
     "execution_count": 63,
     "metadata": {},
     "output_type": "execute_result"
    }
   ],
   "source": [
    "listings['Prop Type'].unique()"
   ]
  },
  {
   "cell_type": "code",
   "execution_count": 64,
   "metadata": {},
   "outputs": [],
   "source": [
    "listings = listings.drop('Prop Type', axis =1)"
   ]
  },
  {
   "cell_type": "code",
   "execution_count": 65,
   "metadata": {},
   "outputs": [],
   "source": [
    "listings = listings.drop('List Office', axis =1)"
   ]
  },
  {
   "cell_type": "code",
   "execution_count": 66,
   "metadata": {},
   "outputs": [],
   "source": [
    "listings = listings.drop('Listing Agent', axis =1)"
   ]
  },
  {
   "cell_type": "code",
   "execution_count": 67,
   "metadata": {},
   "outputs": [],
   "source": [
    "listings = listings.drop('#', axis =1)"
   ]
  },
  {
   "cell_type": "code",
   "execution_count": 68,
   "metadata": {},
   "outputs": [],
   "source": [
    "listings = listings.drop('Unnamed: 0', axis =1)"
   ]
  },
  {
   "cell_type": "code",
   "execution_count": 69,
   "metadata": {},
   "outputs": [
    {
     "data": {
      "text/plain": [
       "array(['CLSD'], dtype=object)"
      ]
     },
     "execution_count": 69,
     "metadata": {},
     "output_type": "execute_result"
    }
   ],
   "source": [
    "listings['Status'].unique()"
   ]
  },
  {
   "cell_type": "code",
   "execution_count": 70,
   "metadata": {},
   "outputs": [],
   "source": [
    "listings = listings.drop('Status', axis =1)"
   ]
  },
  {
   "cell_type": "code",
   "execution_count": 71,
   "metadata": {},
   "outputs": [
    {
     "data": {
      "text/html": [
       "<div>\n",
       "<style scoped>\n",
       "    .dataframe tbody tr th:only-of-type {\n",
       "        vertical-align: middle;\n",
       "    }\n",
       "\n",
       "    .dataframe tbody tr th {\n",
       "        vertical-align: top;\n",
       "    }\n",
       "\n",
       "    .dataframe thead th {\n",
       "        text-align: right;\n",
       "    }\n",
       "</style>\n",
       "<table border=\"1\" class=\"dataframe\">\n",
       "  <thead>\n",
       "    <tr style=\"text-align: right;\">\n",
       "      <th></th>\n",
       "      <th>MLS#</th>\n",
       "      <th>Status Change Timestamp</th>\n",
       "      <th>Address</th>\n",
       "      <th>City</th>\n",
       "      <th>Acres</th>\n",
       "      <th>Sq Ft Total</th>\n",
       "      <th>Sq Ft Est Heated Above Grade</th>\n",
       "      <th>Style or Rent Type</th>\n",
       "      <th>Rooms Total</th>\n",
       "      <th>Beds Total</th>\n",
       "      <th>Year Built</th>\n",
       "      <th>DOM</th>\n",
       "      <th>list_price</th>\n",
       "      <th>close_price</th>\n",
       "      <th>Full Bath</th>\n",
       "      <th>Half Bath</th>\n",
       "      <th>Garage</th>\n",
       "      <th>Parking</th>\n",
       "      <th>Age</th>\n",
       "    </tr>\n",
       "  </thead>\n",
       "  <tbody>\n",
       "    <tr>\n",
       "      <th>0</th>\n",
       "      <td>170323774</td>\n",
       "      <td>09/13/20</td>\n",
       "      <td>213 Separate</td>\n",
       "      <td>Amenia</td>\n",
       "      <td>21.42</td>\n",
       "      <td>4392</td>\n",
       "      <td>4392.0</td>\n",
       "      <td>Colonial</td>\n",
       "      <td>11</td>\n",
       "      <td>4</td>\n",
       "      <td>2007.0</td>\n",
       "      <td>22.0</td>\n",
       "      <td>3750000</td>\n",
       "      <td>3750000</td>\n",
       "      <td>3</td>\n",
       "      <td>1</td>\n",
       "      <td>2</td>\n",
       "      <td>Attached Garage</td>\n",
       "      <td>14.0</td>\n",
       "    </tr>\n",
       "    <tr>\n",
       "      <th>1</th>\n",
       "      <td>170366202</td>\n",
       "      <td>03/18/21</td>\n",
       "      <td>292 Wood Duck Rd</td>\n",
       "      <td>Amenia</td>\n",
       "      <td>0.32</td>\n",
       "      <td>5169</td>\n",
       "      <td>5169.0</td>\n",
       "      <td>Contemporary</td>\n",
       "      <td>7</td>\n",
       "      <td>5</td>\n",
       "      <td>2018.0</td>\n",
       "      <td>56.0</td>\n",
       "      <td>7950000</td>\n",
       "      <td>6800000</td>\n",
       "      <td>5</td>\n",
       "      <td>1</td>\n",
       "      <td>2</td>\n",
       "      <td>Attached Garage</td>\n",
       "      <td>3.0</td>\n",
       "    </tr>\n",
       "    <tr>\n",
       "      <th>2</th>\n",
       "      <td>170378716</td>\n",
       "      <td>05/14/21</td>\n",
       "      <td>64 Long Hill Rd</td>\n",
       "      <td>Andover</td>\n",
       "      <td>0.92</td>\n",
       "      <td>1800</td>\n",
       "      <td>1800.0</td>\n",
       "      <td>Colonial</td>\n",
       "      <td>7</td>\n",
       "      <td>3</td>\n",
       "      <td>1935.0</td>\n",
       "      <td>8.0</td>\n",
       "      <td>150000</td>\n",
       "      <td>97500</td>\n",
       "      <td>1</td>\n",
       "      <td>0</td>\n",
       "      <td>0</td>\n",
       "      <td>Off Street Parking</td>\n",
       "      <td>86.0</td>\n",
       "    </tr>\n",
       "    <tr>\n",
       "      <th>3</th>\n",
       "      <td>170305413</td>\n",
       "      <td>03/10/21</td>\n",
       "      <td>560 Route 6</td>\n",
       "      <td>Andover</td>\n",
       "      <td>4.63</td>\n",
       "      <td>1724</td>\n",
       "      <td>1724.0</td>\n",
       "      <td>Ranch</td>\n",
       "      <td>6</td>\n",
       "      <td>3</td>\n",
       "      <td>1948.0</td>\n",
       "      <td>231.0</td>\n",
       "      <td>119900</td>\n",
       "      <td>100000</td>\n",
       "      <td>1</td>\n",
       "      <td>0</td>\n",
       "      <td>0</td>\n",
       "      <td>Off Street Parking</td>\n",
       "      <td>73.0</td>\n",
       "    </tr>\n",
       "    <tr>\n",
       "      <th>4</th>\n",
       "      <td>170365013</td>\n",
       "      <td>04/22/21</td>\n",
       "      <td>7 Bailey Rd</td>\n",
       "      <td>Andover</td>\n",
       "      <td>1.49</td>\n",
       "      <td>1138</td>\n",
       "      <td>1138.0</td>\n",
       "      <td>Bungalow</td>\n",
       "      <td>6</td>\n",
       "      <td>3</td>\n",
       "      <td>1923.0</td>\n",
       "      <td>69.0</td>\n",
       "      <td>170000</td>\n",
       "      <td>150000</td>\n",
       "      <td>1</td>\n",
       "      <td>0</td>\n",
       "      <td>2</td>\n",
       "      <td>Detached Garage</td>\n",
       "      <td>98.0</td>\n",
       "    </tr>\n",
       "  </tbody>\n",
       "</table>\n",
       "</div>"
      ],
      "text/plain": [
       "        MLS# Status Change Timestamp           Address     City  Acres  \\\n",
       "0  170323774                09/13/20      213 Separate   Amenia  21.42   \n",
       "1  170366202                03/18/21  292 Wood Duck Rd   Amenia   0.32   \n",
       "2  170378716                05/14/21   64 Long Hill Rd  Andover   0.92   \n",
       "3  170305413                03/10/21       560 Route 6  Andover   4.63   \n",
       "4  170365013                04/22/21       7 Bailey Rd  Andover   1.49   \n",
       "\n",
       "   Sq Ft Total  Sq Ft Est Heated Above Grade Style or Rent Type  Rooms Total  \\\n",
       "0         4392                        4392.0           Colonial           11   \n",
       "1         5169                        5169.0       Contemporary            7   \n",
       "2         1800                        1800.0           Colonial            7   \n",
       "3         1724                        1724.0              Ranch            6   \n",
       "4         1138                        1138.0           Bungalow            6   \n",
       "\n",
       "   Beds Total  Year Built    DOM  list_price  close_price  Full Bath  \\\n",
       "0           4      2007.0   22.0     3750000      3750000          3   \n",
       "1           5      2018.0   56.0     7950000      6800000          5   \n",
       "2           3      1935.0    8.0      150000        97500          1   \n",
       "3           3      1948.0  231.0      119900       100000          1   \n",
       "4           3      1923.0   69.0      170000       150000          1   \n",
       "\n",
       "   Half Bath  Garage             Parking   Age  \n",
       "0          1       2     Attached Garage  14.0  \n",
       "1          1       2     Attached Garage   3.0  \n",
       "2          0       0  Off Street Parking  86.0  \n",
       "3          0       0  Off Street Parking  73.0  \n",
       "4          0       2     Detached Garage  98.0  "
      ]
     },
     "execution_count": 71,
     "metadata": {},
     "output_type": "execute_result"
    }
   ],
   "source": [
    "listings.head()"
   ]
  },
  {
   "cell_type": "code",
   "execution_count": 72,
   "metadata": {},
   "outputs": [
    {
     "name": "stdout",
     "output_type": "stream",
     "text": [
      "99999    83\n",
      "12        5\n",
      "11        5\n",
      "13        3\n",
      "14        2\n",
      "18        1\n",
      "17        1\n",
      "Name: Garage, dtype: int64\n"
     ]
    }
   ],
   "source": [
    "print(listings[listings['Garage']>10].loc[:,'Garage'].value_counts())"
   ]
  },
  {
   "cell_type": "code",
   "execution_count": 73,
   "metadata": {},
   "outputs": [
    {
     "name": "stdout",
     "output_type": "stream",
     "text": [
      "           Acres  Sq Ft Total  Sq Ft Est Heated Above Grade  Rooms Total  \\\n",
      "count  83.000000    83.000000                     83.000000    83.000000   \n",
      "mean    1.318675  1872.783133                   1772.481928     6.867470   \n",
      "std     3.501713   839.568081                    835.102044     1.936624   \n",
      "min     0.080000   612.000000                    612.000000     3.000000   \n",
      "25%     0.195000  1297.500000                   1224.000000     6.000000   \n",
      "50%     0.380000  1702.000000                   1572.000000     7.000000   \n",
      "75%     0.790000  2197.000000                   2115.000000     8.000000   \n",
      "max    24.800000  4641.000000                   4641.000000    14.000000   \n",
      "\n",
      "       Beds Total   Year Built         DOM    list_price   close_price  \\\n",
      "count   83.000000    83.000000   83.000000  8.300000e+01  8.300000e+01   \n",
      "mean     3.180723  1937.036145   57.987952  3.801157e+05  3.755169e+05   \n",
      "std      0.783123    41.244791   67.670380  3.700462e+05  3.613470e+05   \n",
      "min      1.000000  1750.000000    0.000000  7.500000e+04  8.500000e+04   \n",
      "25%      3.000000  1920.000000    6.000000  1.999000e+05  2.050000e+05   \n",
      "50%      3.000000  1938.000000   33.000000  2.770000e+05  2.660000e+05   \n",
      "75%      4.000000  1958.000000   84.000000  4.324500e+05  4.240000e+05   \n",
      "max      5.000000  2020.000000  261.000000  2.300000e+06  2.200000e+06   \n",
      "\n",
      "       Full Bath  Half Bath   Garage         Age  \n",
      "count  83.000000  83.000000     83.0   83.000000  \n",
      "mean    1.759036   0.373494  99999.0   83.963855  \n",
      "std     0.725668   0.511117      0.0   41.244791  \n",
      "min     1.000000   0.000000  99999.0    1.000000  \n",
      "25%     1.000000   0.000000  99999.0   63.000000  \n",
      "50%     2.000000   0.000000  99999.0   83.000000  \n",
      "75%     2.000000   1.000000  99999.0  101.000000  \n",
      "max     3.000000   2.000000  99999.0  271.000000  \n"
     ]
    }
   ],
   "source": [
    "print(listings[listings['Garage']>20].describe())"
   ]
  },
  {
   "cell_type": "code",
   "execution_count": 74,
   "metadata": {},
   "outputs": [],
   "source": [
    "listings = listings[listings['Garage']<20]"
   ]
  },
  {
   "cell_type": "code",
   "execution_count": null,
   "metadata": {},
   "outputs": [],
   "source": []
  },
  {
   "cell_type": "code",
   "execution_count": null,
   "metadata": {},
   "outputs": [],
   "source": []
  },
  {
   "cell_type": "markdown",
   "metadata": {},
   "source": [
    "# Distributions"
   ]
  },
  {
   "cell_type": "markdown",
   "metadata": {},
   "source": [
    "   ### City"
   ]
  },
  {
   "cell_type": "code",
   "execution_count": 98,
   "metadata": {},
   "outputs": [
    {
     "data": {
      "text/plain": [
       "Fairfield        1169\n",
       "Stamford         1133\n",
       "Waterbury        1085\n",
       "West Hartford     930\n",
       "Norwalk           901\n",
       "Stratford         818\n",
       "Hamden            815\n",
       "Bridgeport        784\n",
       "Bristol           742\n",
       "Milford           737\n",
       "Westport          690\n",
       "Ridgefield        635\n",
       "Manchester        633\n",
       "Meriden           628\n",
       "Trumbull          623\n",
       "Southington       619\n",
       "Enfield           610\n",
       "Greenwich         606\n",
       "West Haven        589\n",
       "East Hartford     588\n",
       "Newtown           580\n",
       "Danbury           564\n",
       "Middletown        544\n",
       "Glastonbury       543\n",
       "Torrington        524\n",
       "Darien            523\n",
       "New Britain       521\n",
       "Shelton           519\n",
       "New Canaan        519\n",
       "Naugatuck         484\n",
       "New Milford       463\n",
       "Wilton            462\n",
       "Wethersfield      449\n",
       "Norwich           442\n",
       "Wallingford       431\n",
       "Madison           417\n",
       "New Haven         405\n",
       "Waterford         401\n",
       "Guilford          398\n",
       "Newington         396\n",
       "Simsbury          396\n",
       "Groton            393\n",
       "East Haven        392\n",
       "Windsor           391\n",
       "Cheshire          355\n",
       "South Windsor     353\n",
       "Monroe            348\n",
       "North Haven       337\n",
       "New Fairfield     336\n",
       "Farmington        331\n",
       "Name: City, dtype: int64"
      ]
     },
     "execution_count": 98,
     "metadata": {},
     "output_type": "execute_result"
    }
   ],
   "source": [
    "listings['City'].value_counts().head(50)"
   ]
  },
  {
   "cell_type": "markdown",
   "metadata": {},
   "source": [
    "### Acres\n"
   ]
  },
  {
   "cell_type": "code",
   "execution_count": 133,
   "metadata": {},
   "outputs": [
    {
     "name": "stdout",
     "output_type": "stream",
     "text": [
      "count    45627.000000\n",
      "mean         2.023325\n",
      "std         89.877661\n",
      "min          0.010000\n",
      "25%          0.240000\n",
      "50%          0.500000\n",
      "75%          1.150000\n",
      "max      12911.000000\n",
      "Name: Acres, dtype: float64\n"
     ]
    }
   ],
   "source": [
    "print(listings['Acres'].describe())"
   ]
  },
  {
   "cell_type": "code",
   "execution_count": 176,
   "metadata": {},
   "outputs": [
    {
     "data": {
      "image/png": "[encoded data removed]",
      "text/plain": [
       "<Figure size 432x288 with 1 Axes>"
      ]
     },
     "metadata": {
      "needs_background": "light"
     },
     "output_type": "display_data"
    }
   ],
   "source": [
    "plt.hist(listings.loc[listings['Acres']<4,'Acres'], bins =50)\n",
    "plt.show()"
   ]
  },
  {
   "cell_type": "markdown",
   "metadata": {},
   "source": [
    "Chi Squared distributions?  Zoning laws dictating acreage probably causing clustering"
   ]
  },
  {
   "cell_type": "code",
   "execution_count": 154,
   "metadata": {},
   "outputs": [
    {
     "name": "stdout",
     "output_type": "stream",
     "text": [
      "0.17    1171\n",
      "1.00     976\n",
      "0.23     960\n",
      "0.11     870\n",
      "0.14     866\n",
      "0.18     801\n",
      "0.46     757\n",
      "0.28     713\n",
      "0.21     712\n",
      "0.26     705\n",
      "0.22     703\n",
      "0.29     703\n",
      "0.24     673\n",
      "0.25     668\n",
      "0.20     656\n",
      "0.16     654\n",
      "0.19     650\n",
      "0.34     616\n",
      "0.15     612\n",
      "0.35     596\n",
      "0.12     588\n",
      "2.00     564\n",
      "0.30     544\n",
      "0.92     528\n",
      "0.27     528\n",
      "0.13     517\n",
      "0.50     489\n",
      "0.31     436\n",
      "0.36     425\n",
      "0.32     416\n",
      "Name: Acres, dtype: int64\n"
     ]
    }
   ],
   "source": [
    "print(listings['Acres'].value_counts().head(30))"
   ]
  },
  {
   "cell_type": "markdown",
   "metadata": {},
   "source": [
    "### Sqft Total"
   ]
  },
  {
   "cell_type": "code",
   "execution_count": 141,
   "metadata": {},
   "outputs": [
    {
     "name": "stdout",
     "output_type": "stream",
     "text": [
      "count    45627.000000\n",
      "mean      2338.652728\n",
      "std       1363.251360\n",
      "min        320.000000\n",
      "25%       1440.000000\n",
      "50%       1968.000000\n",
      "75%       2795.000000\n",
      "max      29998.000000\n",
      "Name: Sq Ft Total, dtype: float64\n"
     ]
    }
   ],
   "source": [
    "print(listings['Sq Ft Total'].describe())"
   ]
  },
  {
   "cell_type": "code",
   "execution_count": 146,
   "metadata": {},
   "outputs": [
    {
     "data": {
      "image/png": "[encoded data removed]",
      "text/plain": [
       "<Figure size 432x288 with 1 Axes>"
      ]
     },
     "metadata": {
      "needs_background": "light"
     },
     "output_type": "display_data"
    }
   ],
   "source": [
    "plt.hist(listings.loc[listings['Sq Ft Total']<7000,'Sq Ft Total'], bins =30)\n",
    "plt.show()"
   ]
  },
  {
   "cell_type": "code",
   "execution_count": null,
   "metadata": {},
   "outputs": [],
   "source": []
  },
  {
   "cell_type": "markdown",
   "metadata": {},
   "source": [
    "### Sq Ft Est Heated Above Grade"
   ]
  },
  {
   "cell_type": "code",
   "execution_count": 160,
   "metadata": {},
   "outputs": [
    {
     "name": "stdout",
     "output_type": "stream",
     "text": [
      "count    45627.000000\n",
      "mean      2104.894646\n",
      "std       1198.813975\n",
      "min        320.000000\n",
      "25%       1296.000000\n",
      "50%       1750.000000\n",
      "75%       2536.000000\n",
      "max      20990.000000\n",
      "Name: Sq Ft Est Heated Above Grade, dtype: float64\n"
     ]
    }
   ],
   "source": [
    "print(listings['Sq Ft Est Heated Above Grade'].describe())"
   ]
  },
  {
   "cell_type": "code",
   "execution_count": 165,
   "metadata": {},
   "outputs": [
    {
     "data": {
      "image/png": "[encoded data removed]",
      "text/plain": [
       "<Figure size 432x288 with 1 Axes>"
      ]
     },
     "metadata": {
      "needs_background": "light"
     },
     "output_type": "display_data"
    }
   ],
   "source": [
    "plt.hist(listings.loc[listings['Sq Ft Est Heated Above Grade']<10000,'Sq Ft Est Heated Above Grade'],bins = 30)\n",
    "plt.show()"
   ]
  },
  {
   "cell_type": "markdown",
   "metadata": {},
   "source": [
    "### Style"
   ]
  },
  {
   "cell_type": "code",
   "execution_count": null,
   "metadata": {},
   "outputs": [],
   "source": []
  },
  {
   "cell_type": "markdown",
   "metadata": {},
   "source": [
    "### Rooms Total"
   ]
  },
  {
   "cell_type": "code",
   "execution_count": 166,
   "metadata": {},
   "outputs": [
    {
     "name": "stdout",
     "output_type": "stream",
     "text": [
      "count    45627.000000\n",
      "mean         7.408552\n",
      "std          2.184631\n",
      "min          1.000000\n",
      "25%          6.000000\n",
      "50%          7.000000\n",
      "75%          8.000000\n",
      "max         66.000000\n",
      "Name: Rooms Total, dtype: float64\n"
     ]
    }
   ],
   "source": [
    "print(listings['Rooms Total'].describe())"
   ]
  },
  {
   "cell_type": "code",
   "execution_count": 178,
   "metadata": {},
   "outputs": [
    {
     "data": {
      "image/png": "[encoded data removed]",
      "text/plain": [
       "<Figure size 432x288 with 1 Axes>"
      ]
     },
     "metadata": {
      "needs_background": "light"
     },
     "output_type": "display_data"
    }
   ],
   "source": [
    "plt.hist(listings.loc[listings['Rooms Total']<20,'Rooms Total'],bins = 30)\n",
    "plt.show()"
   ]
  },
  {
   "cell_type": "markdown",
   "metadata": {},
   "source": [
    "### Beds Total"
   ]
  },
  {
   "cell_type": "code",
   "execution_count": 170,
   "metadata": {},
   "outputs": [
    {
     "name": "stdout",
     "output_type": "stream",
     "text": [
      "count    45627.000000\n",
      "mean         3.447542\n",
      "std          0.891069\n",
      "min          0.000000\n",
      "25%          3.000000\n",
      "50%          3.000000\n",
      "75%          4.000000\n",
      "max         15.000000\n",
      "Name: Beds Total, dtype: float64\n"
     ]
    }
   ],
   "source": [
    "print(listings['Beds Total'].describe())"
   ]
  },
  {
   "cell_type": "code",
   "execution_count": 179,
   "metadata": {},
   "outputs": [
    {
     "data": {
      "image/png": "[encoded data removed]",
      "text/plain": [
       "<Figure size 432x288 with 1 Axes>"
      ]
     },
     "metadata": {
      "needs_background": "light"
     },
     "output_type": "display_data"
    }
   ],
   "source": [
    "plt.hist(listings.loc[listings['Beds Total']<20,'Beds Total'],bins = 30)\n",
    "plt.show()"
   ]
  },
  {
   "cell_type": "markdown",
   "metadata": {},
   "source": [
    "### Year Built"
   ]
  },
  {
   "cell_type": "code",
   "execution_count": 181,
   "metadata": {},
   "outputs": [
    {
     "name": "stdout",
     "output_type": "stream",
     "text": [
      "count    45627.000000\n",
      "mean      1959.409670\n",
      "std         39.838572\n",
      "min       1659.000000\n",
      "25%       1947.000000\n",
      "50%       1962.000000\n",
      "75%       1986.000000\n",
      "max       2021.000000\n",
      "Name: Year Built, dtype: float64\n"
     ]
    }
   ],
   "source": [
    "print(listings['Year Built'].describe())"
   ]
  },
  {
   "cell_type": "code",
   "execution_count": 185,
   "metadata": {},
   "outputs": [
    {
     "data": {
      "image/png": "[encoded data removed]",
      "text/plain": [
       "<Figure size 432x288 with 1 Axes>"
      ]
     },
     "metadata": {
      "needs_background": "light"
     },
     "output_type": "display_data"
    }
   ],
   "source": [
    "plt.hist(listings['Year Built'], bins =30)\n",
    "plt.show()"
   ]
  },
  {
   "cell_type": "markdown",
   "metadata": {},
   "source": [
    "### Days on Market"
   ]
  },
  {
   "cell_type": "code",
   "execution_count": 186,
   "metadata": {},
   "outputs": [
    {
     "name": "stdout",
     "output_type": "stream",
     "text": [
      "count    45627.000000\n",
      "mean        51.837759\n",
      "std         80.761679\n",
      "min          0.000000\n",
      "25%          6.000000\n",
      "50%         28.000000\n",
      "75%         66.000000\n",
      "max       2246.000000\n",
      "Name: DOM, dtype: float64\n"
     ]
    }
   ],
   "source": [
    "print(listings['DOM'].describe())"
   ]
  },
  {
   "cell_type": "code",
   "execution_count": 190,
   "metadata": {},
   "outputs": [
    {
     "name": "stdout",
     "output_type": "stream",
     "text": [
      "3.0     2886\n",
      "4.0     2459\n",
      "2.0     2381\n",
      "5.0     1697\n",
      "6.0     1270\n",
      "1.0     1125\n",
      "7.0      941\n",
      "8.0      755\n",
      "9.0      597\n",
      "10.0     559\n",
      "12.0     546\n",
      "11.0     538\n",
      "13.0     520\n",
      "21.0     504\n",
      "0.0      480\n",
      "65.0     473\n",
      "15.0     470\n",
      "14.0     468\n",
      "18.0     450\n",
      "64.0     443\n",
      "19.0     442\n",
      "33.0     432\n",
      "35.0     425\n",
      "22.0     412\n",
      "17.0     412\n",
      "20.0     412\n",
      "66.0     411\n",
      "16.0     407\n",
      "26.0     403\n",
      "63.0     396\n",
      "Name: DOM, dtype: int64\n"
     ]
    }
   ],
   "source": [
    "print(listings['DOM'].value_counts().head(30))"
   ]
  },
  {
   "cell_type": "code",
   "execution_count": 199,
   "metadata": {},
   "outputs": [
    {
     "data": {
      "image/png": "[encoded data removed]",
      "text/plain": [
       "<Figure size 432x288 with 1 Axes>"
      ]
     },
     "metadata": {
      "needs_background": "light"
     },
     "output_type": "display_data"
    }
   ],
   "source": [
    "plt.hist(listings.loc[listings['DOM']<365,'DOM'],bins = 30)\n",
    "plt.show()"
   ]
  },
  {
   "cell_type": "markdown",
   "metadata": {},
   "source": [
    "### Closing Price"
   ]
  },
  {
   "cell_type": "code",
   "execution_count": 123,
   "metadata": {},
   "outputs": [
    {
     "data": {
      "text/html": [
       "<div>\n",
       "<style scoped>\n",
       "    .dataframe tbody tr th:only-of-type {\n",
       "        vertical-align: middle;\n",
       "    }\n",
       "\n",
       "    .dataframe tbody tr th {\n",
       "        vertical-align: top;\n",
       "    }\n",
       "\n",
       "    .dataframe thead th {\n",
       "        text-align: right;\n",
       "    }\n",
       "</style>\n",
       "<table border=\"1\" class=\"dataframe\">\n",
       "  <thead>\n",
       "    <tr style=\"text-align: right;\">\n",
       "      <th></th>\n",
       "      <th>MLS#</th>\n",
       "      <th>Status Change Timestamp</th>\n",
       "      <th>Address</th>\n",
       "      <th>City</th>\n",
       "      <th>Acres</th>\n",
       "      <th>Sq Ft Total</th>\n",
       "      <th>Sq Ft Est Heated Above Grade</th>\n",
       "      <th>Style or Rent Type</th>\n",
       "      <th>Rooms Total</th>\n",
       "      <th>Beds Total</th>\n",
       "      <th>Year Built</th>\n",
       "      <th>DOM</th>\n",
       "      <th>list_price</th>\n",
       "      <th>close_price</th>\n",
       "      <th>Full Bath</th>\n",
       "      <th>Half Bath</th>\n",
       "      <th>Garage</th>\n",
       "      <th>Parking</th>\n",
       "      <th>Age</th>\n",
       "    </tr>\n",
       "  </thead>\n",
       "  <tbody>\n",
       "    <tr>\n",
       "      <th>0</th>\n",
       "      <td>170323774</td>\n",
       "      <td>09/13/20</td>\n",
       "      <td>213 Separate</td>\n",
       "      <td>Amenia</td>\n",
       "      <td>21.42</td>\n",
       "      <td>4392</td>\n",
       "      <td>4392.0</td>\n",
       "      <td>Colonial</td>\n",
       "      <td>11</td>\n",
       "      <td>4</td>\n",
       "      <td>2007.0</td>\n",
       "      <td>22.0</td>\n",
       "      <td>3750000</td>\n",
       "      <td>3750000</td>\n",
       "      <td>3</td>\n",
       "      <td>1</td>\n",
       "      <td>2</td>\n",
       "      <td>Attached Garage</td>\n",
       "      <td>14.0</td>\n",
       "    </tr>\n",
       "    <tr>\n",
       "      <th>1</th>\n",
       "      <td>170366202</td>\n",
       "      <td>03/18/21</td>\n",
       "      <td>292 Wood Duck Rd</td>\n",
       "      <td>Amenia</td>\n",
       "      <td>0.32</td>\n",
       "      <td>5169</td>\n",
       "      <td>5169.0</td>\n",
       "      <td>Contemporary</td>\n",
       "      <td>7</td>\n",
       "      <td>5</td>\n",
       "      <td>2018.0</td>\n",
       "      <td>56.0</td>\n",
       "      <td>7950000</td>\n",
       "      <td>6800000</td>\n",
       "      <td>5</td>\n",
       "      <td>1</td>\n",
       "      <td>2</td>\n",
       "      <td>Attached Garage</td>\n",
       "      <td>3.0</td>\n",
       "    </tr>\n",
       "    <tr>\n",
       "      <th>745</th>\n",
       "      <td>170303804</td>\n",
       "      <td>09/14/20</td>\n",
       "      <td>26 Sky View Dr</td>\n",
       "      <td>Avon</td>\n",
       "      <td>3.79</td>\n",
       "      <td>12898</td>\n",
       "      <td>10098.0</td>\n",
       "      <td>Colonial</td>\n",
       "      <td>12</td>\n",
       "      <td>5</td>\n",
       "      <td>2004.0</td>\n",
       "      <td>73.0</td>\n",
       "      <td>2500000</td>\n",
       "      <td>2250000</td>\n",
       "      <td>7</td>\n",
       "      <td>3</td>\n",
       "      <td>6</td>\n",
       "      <td>Attached Garage, Detached Garage</td>\n",
       "      <td>17.0</td>\n",
       "    </tr>\n",
       "    <tr>\n",
       "      <th>746</th>\n",
       "      <td>170308825</td>\n",
       "      <td>06/29/21</td>\n",
       "      <td>23 Robkins Rd</td>\n",
       "      <td>Avon</td>\n",
       "      <td>3.90</td>\n",
       "      <td>10990</td>\n",
       "      <td>10990.0</td>\n",
       "      <td>Colonial</td>\n",
       "      <td>12</td>\n",
       "      <td>5</td>\n",
       "      <td>1998.0</td>\n",
       "      <td>251.0</td>\n",
       "      <td>2595000</td>\n",
       "      <td>2550000</td>\n",
       "      <td>7</td>\n",
       "      <td>3</td>\n",
       "      <td>4</td>\n",
       "      <td>Attached Garage</td>\n",
       "      <td>23.0</td>\n",
       "    </tr>\n",
       "    <tr>\n",
       "      <th>2768</th>\n",
       "      <td>170377843</td>\n",
       "      <td>05/28/21</td>\n",
       "      <td>2 Esther Pl</td>\n",
       "      <td>Branford</td>\n",
       "      <td>0.65</td>\n",
       "      <td>5716</td>\n",
       "      <td>5716.0</td>\n",
       "      <td>Contemporary</td>\n",
       "      <td>11</td>\n",
       "      <td>4</td>\n",
       "      <td>2003.0</td>\n",
       "      <td>29.0</td>\n",
       "      <td>2500000</td>\n",
       "      <td>2275000</td>\n",
       "      <td>4</td>\n",
       "      <td>2</td>\n",
       "      <td>3</td>\n",
       "      <td>Attached Garage</td>\n",
       "      <td>18.0</td>\n",
       "    </tr>\n",
       "    <tr>\n",
       "      <th>...</th>\n",
       "      <td>...</td>\n",
       "      <td>...</td>\n",
       "      <td>...</td>\n",
       "      <td>...</td>\n",
       "      <td>...</td>\n",
       "      <td>...</td>\n",
       "      <td>...</td>\n",
       "      <td>...</td>\n",
       "      <td>...</td>\n",
       "      <td>...</td>\n",
       "      <td>...</td>\n",
       "      <td>...</td>\n",
       "      <td>...</td>\n",
       "      <td>...</td>\n",
       "      <td>...</td>\n",
       "      <td>...</td>\n",
       "      <td>...</td>\n",
       "      <td>...</td>\n",
       "      <td>...</td>\n",
       "    </tr>\n",
       "    <tr>\n",
       "      <th>55520</th>\n",
       "      <td>170348008</td>\n",
       "      <td>04/27/21</td>\n",
       "      <td>441 Nod Hill Rd</td>\n",
       "      <td>Wilton</td>\n",
       "      <td>5.50</td>\n",
       "      <td>6849</td>\n",
       "      <td>6849.0</td>\n",
       "      <td>Colonial</td>\n",
       "      <td>12</td>\n",
       "      <td>5</td>\n",
       "      <td>1930.0</td>\n",
       "      <td>171.0</td>\n",
       "      <td>2599000</td>\n",
       "      <td>2750000</td>\n",
       "      <td>6</td>\n",
       "      <td>1</td>\n",
       "      <td>4</td>\n",
       "      <td>Attached Garage, Detached Garage, Paved</td>\n",
       "      <td>91.0</td>\n",
       "    </tr>\n",
       "    <tr>\n",
       "      <th>55521</th>\n",
       "      <td>170309545</td>\n",
       "      <td>03/26/21</td>\n",
       "      <td>16 Middlebrook Ln</td>\n",
       "      <td>Wilton</td>\n",
       "      <td>4.19</td>\n",
       "      <td>10494</td>\n",
       "      <td>8852.0</td>\n",
       "      <td>Colonial</td>\n",
       "      <td>17</td>\n",
       "      <td>5</td>\n",
       "      <td>2009.0</td>\n",
       "      <td>248.0</td>\n",
       "      <td>2995000</td>\n",
       "      <td>2775000</td>\n",
       "      <td>7</td>\n",
       "      <td>4</td>\n",
       "      <td>3</td>\n",
       "      <td>Attached Garage</td>\n",
       "      <td>12.0</td>\n",
       "    </tr>\n",
       "    <tr>\n",
       "      <th>55522</th>\n",
       "      <td>170338758</td>\n",
       "      <td>05/25/21</td>\n",
       "      <td>6 Appletree Ln</td>\n",
       "      <td>Wilton</td>\n",
       "      <td>3.60</td>\n",
       "      <td>8600</td>\n",
       "      <td>7100.0</td>\n",
       "      <td>Colonial</td>\n",
       "      <td>15</td>\n",
       "      <td>5</td>\n",
       "      <td>2021.0</td>\n",
       "      <td>63.0</td>\n",
       "      <td>3999999</td>\n",
       "      <td>3599910</td>\n",
       "      <td>6</td>\n",
       "      <td>2</td>\n",
       "      <td>3</td>\n",
       "      <td>Attached Garage</td>\n",
       "      <td>0.0</td>\n",
       "    </tr>\n",
       "    <tr>\n",
       "      <th>57404</th>\n",
       "      <td>170208922</td>\n",
       "      <td>03/30/21</td>\n",
       "      <td>708 New Forge</td>\n",
       "      <td>Unknown City</td>\n",
       "      <td>37.50</td>\n",
       "      <td>3509</td>\n",
       "      <td>3509.0</td>\n",
       "      <td>Modern</td>\n",
       "      <td>7</td>\n",
       "      <td>3</td>\n",
       "      <td>2006.0</td>\n",
       "      <td>605.0</td>\n",
       "      <td>4995000</td>\n",
       "      <td>4995000</td>\n",
       "      <td>3</td>\n",
       "      <td>0</td>\n",
       "      <td>0</td>\n",
       "      <td>Unpaved</td>\n",
       "      <td>15.0</td>\n",
       "    </tr>\n",
       "    <tr>\n",
       "      <th>57409</th>\n",
       "      <td>170382480</td>\n",
       "      <td>05/25/21</td>\n",
       "      <td>1 Fessenden Rd</td>\n",
       "      <td>Unknown RI City</td>\n",
       "      <td>0.96</td>\n",
       "      <td>3083</td>\n",
       "      <td>3083.0</td>\n",
       "      <td>Ranch</td>\n",
       "      <td>10</td>\n",
       "      <td>4</td>\n",
       "      <td>2013.0</td>\n",
       "      <td>13.0</td>\n",
       "      <td>2300000</td>\n",
       "      <td>2500000</td>\n",
       "      <td>2</td>\n",
       "      <td>1</td>\n",
       "      <td>0</td>\n",
       "      <td>Tandem, Paved</td>\n",
       "      <td>8.0</td>\n",
       "    </tr>\n",
       "  </tbody>\n",
       "</table>\n",
       "<p>1182 rows × 19 columns</p>\n",
       "</div>"
      ],
      "text/plain": [
       "            MLS# Status Change Timestamp            Address             City  \\\n",
       "0      170323774                09/13/20       213 Separate           Amenia   \n",
       "1      170366202                03/18/21   292 Wood Duck Rd           Amenia   \n",
       "745    170303804                09/14/20     26 Sky View Dr             Avon   \n",
       "746    170308825                06/29/21      23 Robkins Rd             Avon   \n",
       "2768   170377843                05/28/21        2 Esther Pl         Branford   \n",
       "...          ...                     ...                ...              ...   \n",
       "55520  170348008                04/27/21    441 Nod Hill Rd           Wilton   \n",
       "55521  170309545                03/26/21  16 Middlebrook Ln           Wilton   \n",
       "55522  170338758                05/25/21     6 Appletree Ln           Wilton   \n",
       "57404  170208922                03/30/21      708 New Forge     Unknown City   \n",
       "57409  170382480                05/25/21     1 Fessenden Rd  Unknown RI City   \n",
       "\n",
       "       Acres  Sq Ft Total  Sq Ft Est Heated Above Grade Style or Rent Type  \\\n",
       "0      21.42         4392                        4392.0           Colonial   \n",
       "1       0.32         5169                        5169.0       Contemporary   \n",
       "745     3.79        12898                       10098.0           Colonial   \n",
       "746     3.90        10990                       10990.0           Colonial   \n",
       "2768    0.65         5716                        5716.0       Contemporary   \n",
       "...      ...          ...                           ...                ...   \n",
       "55520   5.50         6849                        6849.0           Colonial   \n",
       "55521   4.19        10494                        8852.0           Colonial   \n",
       "55522   3.60         8600                        7100.0           Colonial   \n",
       "57404  37.50         3509                        3509.0             Modern   \n",
       "57409   0.96         3083                        3083.0              Ranch   \n",
       "\n",
       "       Rooms Total  Beds Total  Year Built    DOM  list_price  close_price  \\\n",
       "0               11           4      2007.0   22.0     3750000      3750000   \n",
       "1                7           5      2018.0   56.0     7950000      6800000   \n",
       "745             12           5      2004.0   73.0     2500000      2250000   \n",
       "746             12           5      1998.0  251.0     2595000      2550000   \n",
       "2768            11           4      2003.0   29.0     2500000      2275000   \n",
       "...            ...         ...         ...    ...         ...          ...   \n",
       "55520           12           5      1930.0  171.0     2599000      2750000   \n",
       "55521           17           5      2009.0  248.0     2995000      2775000   \n",
       "55522           15           5      2021.0   63.0     3999999      3599910   \n",
       "57404            7           3      2006.0  605.0     4995000      4995000   \n",
       "57409           10           4      2013.0   13.0     2300000      2500000   \n",
       "\n",
       "       Full Bath  Half Bath  Garage                                  Parking  \\\n",
       "0              3          1       2                          Attached Garage   \n",
       "1              5          1       2                          Attached Garage   \n",
       "745            7          3       6         Attached Garage, Detached Garage   \n",
       "746            7          3       4                          Attached Garage   \n",
       "2768           4          2       3                          Attached Garage   \n",
       "...          ...        ...     ...                                      ...   \n",
       "55520          6          1       4  Attached Garage, Detached Garage, Paved   \n",
       "55521          7          4       3                          Attached Garage   \n",
       "55522          6          2       3                          Attached Garage   \n",
       "57404          3          0       0                                  Unpaved   \n",
       "57409          2          1       0                            Tandem, Paved   \n",
       "\n",
       "        Age  \n",
       "0      14.0  \n",
       "1       3.0  \n",
       "745    17.0  \n",
       "746    23.0  \n",
       "2768   18.0  \n",
       "...     ...  \n",
       "55520  91.0  \n",
       "55521  12.0  \n",
       "55522   0.0  \n",
       "57404  15.0  \n",
       "57409   8.0  \n",
       "\n",
       "[1182 rows x 19 columns]"
      ]
     },
     "execution_count": 123,
     "metadata": {},
     "output_type": "execute_result"
    }
   ],
   "source": [
    "listings.loc[listings['close_price']>2000000]"
   ]
  },
  {
   "cell_type": "code",
   "execution_count": 119,
   "metadata": {},
   "outputs": [
    {
     "data": {
      "image/png": "[encoded data removed]",
      "text/plain": [
       "<Figure size 432x288 with 1 Axes>"
      ]
     },
     "metadata": {
      "needs_background": "light"
     },
     "output_type": "display_data"
    }
   ],
   "source": [
    "plt.hist(listings.loc[listings['close_price']<1500000,'close_price'], bins =30)\n",
    "plt.show()"
   ]
  },
  {
   "cell_type": "code",
   "execution_count": 128,
   "metadata": {},
   "outputs": [
    {
     "data": {
      "image/png": "[encoded data removed]",
      "text/plain": [
       "<Figure size 432x288 with 1 Axes>"
      ]
     },
     "metadata": {
      "needs_background": "light"
     },
     "output_type": "display_data"
    }
   ],
   "source": [
    "plt.hist(listings.loc[listings['close_price']>1500000,'close_price'], bins =30)\n",
    "plt.show()"
   ]
  },
  {
   "cell_type": "code",
   "execution_count": 104,
   "metadata": {},
   "outputs": [
    {
     "data": {
      "text/plain": [
       "count    4.562700e+04\n",
       "mean     5.011912e+05\n",
       "std      5.864566e+05\n",
       "min      1.050000e+04\n",
       "25%      2.400000e+05\n",
       "50%      3.350000e+05\n",
       "75%      5.250000e+05\n",
       "max      1.650000e+07\n",
       "Name: close_price, dtype: float64"
      ]
     },
     "execution_count": 104,
     "metadata": {},
     "output_type": "execute_result"
    }
   ],
   "source": [
    "listings['close_price'].describe()"
   ]
  },
  {
   "cell_type": "markdown",
   "metadata": {},
   "source": [
    "### Garage"
   ]
  },
  {
   "cell_type": "code",
   "execution_count": 130,
   "metadata": {},
   "outputs": [
    {
     "data": {
      "image/png": "[encoded data removed]",
      "text/plain": [
       "<Figure size 432x288 with 1 Axes>"
      ]
     },
     "metadata": {
      "needs_background": "light"
     },
     "output_type": "display_data"
    }
   ],
   "source": [
    "plt.hist(listings['Garage'], bins =[i for i in range(20)])\n",
    "plt.show()"
   ]
  },
  {
   "cell_type": "code",
   "execution_count": 85,
   "metadata": {},
   "outputs": [
    {
     "name": "stdout",
     "output_type": "stream",
     "text": [
      "2     21159\n",
      "1     10662\n",
      "0      9046\n",
      "3      3697\n",
      "4       697\n",
      "5       186\n",
      "6        95\n",
      "7        25\n",
      "8        24\n",
      "9        10\n",
      "10        9\n",
      "11        5\n",
      "12        5\n",
      "13        3\n",
      "14        2\n",
      "17        1\n",
      "18        1\n",
      "Name: Garage, dtype: int64\n"
     ]
    }
   ],
   "source": [
    "print(listings['Garage'].value_counts().sort_values(ascending=False))"
   ]
  },
  {
   "cell_type": "code",
   "execution_count": 207,
   "metadata": {},
   "outputs": [
    {
     "data": {
      "text/plain": [
       "<matplotlib.collections.PathCollection at 0x179e6ec2280>"
      ]
     },
     "execution_count": 207,
     "metadata": {},
     "output_type": "execute_result"
    },
    {
     "data": {
      "image/png": "[encoded data removed]",
      "text/plain": [
       "<Figure size 432x288 with 1 Axes>"
      ]
     },
     "metadata": {
      "needs_background": "light"
     },
     "output_type": "display_data"
    }
   ],
   "source": [
    "plt.scatter(listings.loc[listings['Acres']<10,'Acres'],listings.loc[listings['Acres']<10,'close_price'])"
   ]
  },
  {
   "cell_type": "code",
   "execution_count": 209,
   "metadata": {},
   "outputs": [
    {
     "data": {
      "text/plain": [
       "0.01098714178266291"
      ]
     },
     "execution_count": 209,
     "metadata": {},
     "output_type": "execute_result"
    }
   ],
   "source": [
    "listings['Acres'].corr(listings['close_price'])"
   ]
  },
  {
   "cell_type": "code",
   "execution_count": null,
   "metadata": {},
   "outputs": [],
   "source": []
  }
 ],
 "metadata": {
  "kernelspec": {
   "display_name": "Python 3",
   "language": "python",
   "name": "python3"
  },
  "language_info": {
   "codemirror_mode": {
    "name": "ipython",
    "version": 3
   },
   "file_extension": ".py",
   "mimetype": "text/x-python",
   "name": "python",
   "nbconvert_exporter": "python",
   "pygments_lexer": "ipython3",
   "version": "3.8.5"
  }
 },
 "nbformat": 4,
 "nbformat_minor": 4
}
