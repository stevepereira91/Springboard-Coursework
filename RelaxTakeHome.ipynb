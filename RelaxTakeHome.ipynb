{
 "cells": [
  {
   "cell_type": "markdown",
   "metadata": {},
   "source": [
    "# Relax Take Home Challenge"
   ]
  },
  {
   "cell_type": "markdown",
   "metadata": {},
   "source": [
    "# Summary:"
   ]
  },
  {
   "cell_type": "markdown",
   "metadata": {},
   "source": [
    "The five factors that I found to be the most important to determining user adoption were:\n",
    "\n",
    "1. User opted in to emailing List\n",
    "2. User enable for Marketing Drip\n",
    "3. User account originated from a Personal Project invitation\n",
    "4. The number of invitations user sent\n",
    "5. The total number of users at respective organization\n",
    "\n",
    "In EDA, it was found that adopted users were more likely to have opted into and be receiving marketing material. Adopted users appeared to be less likely to have created accounts from personal project invites.  Adopted users also appeared to be more likely to send invitations. Adopted users appeared to be more likely from smaller organzations as well.\n",
    "\n",
    "#### Modeling\n",
    "The top five factors above were determing by running the data through a Gradient Boosting Classifiaction model using the Synthetic Minority Over-sampling Technique(SMOTE).  SMOTE was used as Adopted users were under represented in this dataset.  The basic features used in predicting an adopted user were as follows:\n",
    "\n",
    "1. Origin of account creation\n",
    "2. Whether user opted into marketing emails\n",
    "3. Whether user was enabled for marketing drip\n",
    "4. The total number of users at observation user's organization\n",
    "5. The total invitations user has sent\n",
    "6. The user's email handle\n",
    "\n",
    "The final model had an overall accuracy of 73% and a precision of 19% and a recall of 29% on Adopted user cases.  Meaning  19% of the model's adopted user predictions were accurate and the model was able to accurately identify 29% of adopted users. \n"
   ]
  },
  {
   "cell_type": "markdown",
   "metadata": {},
   "source": [
    "# Coding:"
   ]
  },
  {
   "cell_type": "code",
   "execution_count": 167,
   "metadata": {},
   "outputs": [],
   "source": [
    "import pandas as pd\n",
    "import numpy as np\n",
    "import matplotlib.pyplot as plt\n",
    "import seaborn as sns"
   ]
  },
  {
   "cell_type": "code",
   "execution_count": 168,
   "metadata": {},
   "outputs": [],
   "source": [
    "user_engagement = pd.read_csv('takehome_user_engagement.csv')\n",
    "user_info = pd.read_csv('takehome_users.csv', encoding = 'latin-1')"
   ]
  },
  {
   "cell_type": "code",
   "execution_count": 169,
   "metadata": {},
   "outputs": [
    {
     "name": "stdout",
     "output_type": "stream",
     "text": [
      "The dataset is comprised of 207917 logins by 8823 users\n",
      "The first entry is from: 2012-05-31 08:20:06\n",
      "The last entry is from: 2014-06-06 14:58:50\n"
     ]
    }
   ],
   "source": [
    "user_engagement['time_stamp'] = pd.to_datetime(user_engagement['time_stamp'])\n",
    "user_engagement['date'] =  user_engagement['time_stamp'].dt.date\n",
    "\n",
    "user_count = len(user_engagement['user_id'].unique())\n",
    "login_count =len(user_engagement)\n",
    "\n",
    "print('The dataset is comprised of {} logins by {} users'. format(login_count, user_count))\n",
    "print('The first entry is from: {}'.format(user_engagement['time_stamp'].min()))\n",
    "print('The last entry is from: {}'.format(user_engagement['time_stamp'].max()))\n",
    "\n"
   ]
  },
  {
   "cell_type": "markdown",
   "metadata": {},
   "source": [
    "## Data Wrangling"
   ]
  },
  {
   "cell_type": "code",
   "execution_count": 170,
   "metadata": {},
   "outputs": [
    {
     "data": {
      "text/plain": [
       "0.0    7221\n",
       "1.0    1602\n",
       "Name: adopted, dtype: int64"
      ]
     },
     "execution_count": 170,
     "metadata": {},
     "output_type": "execute_result"
    }
   ],
   "source": [
    "\n",
    "\n",
    "counts = user_engagement['user_id'].value_counts()\n",
    "min_thres_users = list(counts[counts>=3].index)\n",
    "\n",
    "users = list(user_engagement['user_id'].unique())\n",
    "user_consec_logins = dict.fromkeys(users,0)\n",
    "\n",
    "for user in min_thres_users:\n",
    "    \n",
    "    login_dates_set = set(user_engagement[user_engagement['user_id']== user]['date']) ##Set of Logins by user\n",
    "    \n",
    "    \n",
    "    for date in user_engagement[user_engagement['user_id']== user]['date']:\n",
    "        \n",
    "        login_7day_set = set([date + pd.Timedelta(value = x, unit ='D') for x in range(7)]) # Set of 7 days from each login\n",
    "        \n",
    "        intersection = login_7day_set.intersection(login_dates_set)\n",
    "        \n",
    "        if (len(list(intersection)))>= 3:\n",
    "            user_consec_logins[user] = 1\n",
    "            break\n",
    "\n",
    "            \n",
    "adopted_user = pd.DataFrame({'user_id': list(user_consec_logins.keys()),\n",
    "                             'adopted': list(user_consec_logins.values())})\n",
    "\n",
    "#adopted_user['adopted']= [True if x == 1 else False for x in adopted_user['adopted']]\n",
    "\n",
    "merged_user_info = user_info.merge(adopted_user, how = 'left',left_on = 'object_id', right_on = 'user_id')\n",
    "\n",
    "merged_user_info['adopted'].value_counts()    \n"
   ]
  },
  {
   "cell_type": "code",
   "execution_count": 171,
   "metadata": {},
   "outputs": [
    {
     "name": "stdout",
     "output_type": "stream",
     "text": [
      "<class 'pandas.core.frame.DataFrame'>\n",
      "Int64Index: 12000 entries, 0 to 11999\n",
      "Data columns (total 12 columns):\n",
      " #   Column                      Non-Null Count  Dtype  \n",
      "---  ------                      --------------  -----  \n",
      " 0   object_id                   12000 non-null  int64  \n",
      " 1   creation_time               12000 non-null  object \n",
      " 2   name                        12000 non-null  object \n",
      " 3   email                       12000 non-null  object \n",
      " 4   creation_source             12000 non-null  object \n",
      " 5   last_session_creation_time  8823 non-null   float64\n",
      " 6   opted_in_to_mailing_list    12000 non-null  int64  \n",
      " 7   enabled_for_marketing_drip  12000 non-null  int64  \n",
      " 8   org_id                      12000 non-null  int64  \n",
      " 9   invited_by_user_id          6417 non-null   float64\n",
      " 10  user_id                     8823 non-null   float64\n",
      " 11  adopted                     8823 non-null   float64\n",
      "dtypes: float64(4), int64(4), object(4)\n",
      "memory usage: 1.2+ MB\n"
     ]
    }
   ],
   "source": [
    "merged_user_info.info()"
   ]
  },
  {
   "cell_type": "code",
   "execution_count": 172,
   "metadata": {},
   "outputs": [],
   "source": [
    "merged_user_info['adopted'].fillna(0, inplace =True)"
   ]
  },
  {
   "cell_type": "code",
   "execution_count": 173,
   "metadata": {},
   "outputs": [],
   "source": [
    "merged_user_info['creation_time'] = pd.to_datetime(merged_user_info['creation_time'])\n",
    "merged_user_info['last_session_creation_time'] = pd.to_datetime(merged_user_info['last_session_creation_time'], unit = 's')"
   ]
  },
  {
   "cell_type": "code",
   "execution_count": 174,
   "metadata": {},
   "outputs": [],
   "source": [
    "org_counts = (merged_user_info['org_id'].value_counts().rename_axis('orgs').to_frame('org_user_counts'))\n",
    "\n",
    "merged_user_info = merged_user_info.merge(org_counts, how = 'left', left_on = 'org_id', right_index = True)"
   ]
  },
  {
   "cell_type": "code",
   "execution_count": 175,
   "metadata": {},
   "outputs": [],
   "source": [
    "invite_count = merged_user_info['invited_by_user_id'].value_counts().rename_axis('user_id').to_frame('invitations_sent')\n",
    "\n",
    "merged_user_info = merged_user_info.merge(invite_count, how = 'left' , left_on = 'object_id', right_on = 'user_id')\n",
    "\n",
    "merged_user_info['invitations_sent'].fillna(0, inplace = True)\n",
    "\n",
    "merged_user_info.drop('invited_by_user_id', axis = 1, inplace = True)"
   ]
  },
  {
   "cell_type": "code",
   "execution_count": 176,
   "metadata": {},
   "outputs": [],
   "source": [
    "merged_user_info['email_handle'] = [x.split('@')[1] for x in merged_user_info['email'] ]\n",
    "\n",
    "handle_counts = merged_user_info['email_handle'].value_counts()\n",
    "most_common_handles = list(handle_counts[handle_counts>1000].index)\n",
    "\n",
    "merged_user_info['email_handle'] = [x if x in most_common_handles else 'Other' for x in merged_user_info['email_handle']]\n",
    "\n",
    "merged_user_info.drop('email', axis = 1, inplace = True)"
   ]
  },
  {
   "cell_type": "code",
   "execution_count": 177,
   "metadata": {},
   "outputs": [
    {
     "name": "stdout",
     "output_type": "stream",
     "text": [
      "<class 'pandas.core.frame.DataFrame'>\n",
      "Int64Index: 12000 entries, 0 to 11999\n",
      "Data columns (total 13 columns):\n",
      " #   Column                      Non-Null Count  Dtype         \n",
      "---  ------                      --------------  -----         \n",
      " 0   object_id                   12000 non-null  int64         \n",
      " 1   creation_time               12000 non-null  datetime64[ns]\n",
      " 2   name                        12000 non-null  object        \n",
      " 3   creation_source             12000 non-null  object        \n",
      " 4   last_session_creation_time  8823 non-null   datetime64[ns]\n",
      " 5   opted_in_to_mailing_list    12000 non-null  int64         \n",
      " 6   enabled_for_marketing_drip  12000 non-null  int64         \n",
      " 7   org_id                      12000 non-null  int64         \n",
      " 8   user_id                     8823 non-null   float64       \n",
      " 9   adopted                     12000 non-null  float64       \n",
      " 10  org_user_counts             12000 non-null  int64         \n",
      " 11  invitations_sent            12000 non-null  float64       \n",
      " 12  email_handle                12000 non-null  object        \n",
      "dtypes: datetime64[ns](2), float64(3), int64(5), object(3)\n",
      "memory usage: 1.3+ MB\n"
     ]
    }
   ],
   "source": [
    "merged_user_info.info()"
   ]
  },
  {
   "cell_type": "code",
   "execution_count": 178,
   "metadata": {},
   "outputs": [],
   "source": [
    "merged_user_info.drop('user_id', axis = 1, inplace = True)"
   ]
  },
  {
   "cell_type": "markdown",
   "metadata": {},
   "source": [
    "## EDA"
   ]
  },
  {
   "cell_type": "code",
   "execution_count": 179,
   "metadata": {},
   "outputs": [
    {
     "name": "stdout",
     "output_type": "stream",
     "text": [
      "This dataset contains 12000 unique Users\n",
      "Users who work with 417 unique organizations\n"
     ]
    }
   ],
   "source": [
    "print('This dataset contains {} unique Users'.format(len(merged_user_info['object_id'].unique())))\n",
    "print('Users who work with {} unique organizations'.format(len(merged_user_info['org_id'].unique())))"
   ]
  },
  {
   "cell_type": "code",
   "execution_count": 180,
   "metadata": {},
   "outputs": [
    {
     "data": {
      "text/html": [
       "<div>\n",
       "<style scoped>\n",
       "    .dataframe tbody tr th:only-of-type {\n",
       "        vertical-align: middle;\n",
       "    }\n",
       "\n",
       "    .dataframe tbody tr th {\n",
       "        vertical-align: top;\n",
       "    }\n",
       "\n",
       "    .dataframe thead th {\n",
       "        text-align: right;\n",
       "    }\n",
       "</style>\n",
       "<table border=\"1\" class=\"dataframe\">\n",
       "  <thead>\n",
       "    <tr style=\"text-align: right;\">\n",
       "      <th></th>\n",
       "      <th>object_id</th>\n",
       "      <th>opted_in_to_mailing_list</th>\n",
       "      <th>enabled_for_marketing_drip</th>\n",
       "      <th>org_id</th>\n",
       "      <th>adopted</th>\n",
       "      <th>org_user_counts</th>\n",
       "      <th>invitations_sent</th>\n",
       "    </tr>\n",
       "  </thead>\n",
       "  <tbody>\n",
       "    <tr>\n",
       "      <th>count</th>\n",
       "      <td>12000.00000</td>\n",
       "      <td>12000.000000</td>\n",
       "      <td>12000.000000</td>\n",
       "      <td>12000.000000</td>\n",
       "      <td>12000.000000</td>\n",
       "      <td>12000.000000</td>\n",
       "      <td>12000.000000</td>\n",
       "    </tr>\n",
       "    <tr>\n",
       "      <th>mean</th>\n",
       "      <td>6000.50000</td>\n",
       "      <td>0.249500</td>\n",
       "      <td>0.149333</td>\n",
       "      <td>141.884583</td>\n",
       "      <td>0.133500</td>\n",
       "      <td>55.108500</td>\n",
       "      <td>0.534750</td>\n",
       "    </tr>\n",
       "    <tr>\n",
       "      <th>std</th>\n",
       "      <td>3464.24595</td>\n",
       "      <td>0.432742</td>\n",
       "      <td>0.356432</td>\n",
       "      <td>124.056723</td>\n",
       "      <td>0.340128</td>\n",
       "      <td>64.023959</td>\n",
       "      <td>1.350473</td>\n",
       "    </tr>\n",
       "    <tr>\n",
       "      <th>min</th>\n",
       "      <td>1.00000</td>\n",
       "      <td>0.000000</td>\n",
       "      <td>0.000000</td>\n",
       "      <td>0.000000</td>\n",
       "      <td>0.000000</td>\n",
       "      <td>2.000000</td>\n",
       "      <td>0.000000</td>\n",
       "    </tr>\n",
       "    <tr>\n",
       "      <th>25%</th>\n",
       "      <td>3000.75000</td>\n",
       "      <td>0.000000</td>\n",
       "      <td>0.000000</td>\n",
       "      <td>29.000000</td>\n",
       "      <td>0.000000</td>\n",
       "      <td>21.000000</td>\n",
       "      <td>0.000000</td>\n",
       "    </tr>\n",
       "    <tr>\n",
       "      <th>50%</th>\n",
       "      <td>6000.50000</td>\n",
       "      <td>0.000000</td>\n",
       "      <td>0.000000</td>\n",
       "      <td>108.000000</td>\n",
       "      <td>0.000000</td>\n",
       "      <td>29.000000</td>\n",
       "      <td>0.000000</td>\n",
       "    </tr>\n",
       "    <tr>\n",
       "      <th>75%</th>\n",
       "      <td>9000.25000</td>\n",
       "      <td>0.000000</td>\n",
       "      <td>0.000000</td>\n",
       "      <td>238.250000</td>\n",
       "      <td>0.000000</td>\n",
       "      <td>55.000000</td>\n",
       "      <td>0.000000</td>\n",
       "    </tr>\n",
       "    <tr>\n",
       "      <th>max</th>\n",
       "      <td>12000.00000</td>\n",
       "      <td>1.000000</td>\n",
       "      <td>1.000000</td>\n",
       "      <td>416.000000</td>\n",
       "      <td>1.000000</td>\n",
       "      <td>319.000000</td>\n",
       "      <td>13.000000</td>\n",
       "    </tr>\n",
       "  </tbody>\n",
       "</table>\n",
       "</div>"
      ],
      "text/plain": [
       "         object_id  opted_in_to_mailing_list  enabled_for_marketing_drip  \\\n",
       "count  12000.00000              12000.000000                12000.000000   \n",
       "mean    6000.50000                  0.249500                    0.149333   \n",
       "std     3464.24595                  0.432742                    0.356432   \n",
       "min        1.00000                  0.000000                    0.000000   \n",
       "25%     3000.75000                  0.000000                    0.000000   \n",
       "50%     6000.50000                  0.000000                    0.000000   \n",
       "75%     9000.25000                  0.000000                    0.000000   \n",
       "max    12000.00000                  1.000000                    1.000000   \n",
       "\n",
       "             org_id       adopted  org_user_counts  invitations_sent  \n",
       "count  12000.000000  12000.000000     12000.000000      12000.000000  \n",
       "mean     141.884583      0.133500        55.108500          0.534750  \n",
       "std      124.056723      0.340128        64.023959          1.350473  \n",
       "min        0.000000      0.000000         2.000000          0.000000  \n",
       "25%       29.000000      0.000000        21.000000          0.000000  \n",
       "50%      108.000000      0.000000        29.000000          0.000000  \n",
       "75%      238.250000      0.000000        55.000000          0.000000  \n",
       "max      416.000000      1.000000       319.000000         13.000000  "
      ]
     },
     "execution_count": 180,
     "metadata": {},
     "output_type": "execute_result"
    }
   ],
   "source": [
    "merged_user_info.describe()"
   ]
  },
  {
   "cell_type": "code",
   "execution_count": 181,
   "metadata": {},
   "outputs": [
    {
     "data": {
      "image/png": "[encoded data removed]",
      "text/plain": [
       "<Figure size 432x288 with 1 Axes>"
      ]
     },
     "metadata": {
      "needs_background": "light"
     },
     "output_type": "display_data"
    }
   ],
   "source": [
    "merged_user_info['adopted'].value_counts().plot(kind = 'bar')\n",
    "plt.xticks([0,1],['Non-Adopted', 'Adopted'])\n",
    "plt.ylabel('Count')\n",
    "plt.title('Adopted User Vs Non-Adopted')\n",
    "plt.show()\n"
   ]
  },
  {
   "cell_type": "code",
   "execution_count": 182,
   "metadata": {},
   "outputs": [],
   "source": [
    "def EDA_cat(df,g1,g2):\n",
    "\n",
    "    source_count = df.groupby(g1)[g2].value_counts(normalize = True).unstack().transpose()\n",
    "\n",
    "    source_count.plot(kind='bar', figsize=(7, 5), xlabel=g2, ylabel='Percent', rot=45)\n",
    "\n",
    "    plt.legend(title=g1, bbox_to_anchor=(1, 1), loc='upper left')\n",
    "    \n",
    "    plt.title('{} by {}'.format(g2,g1))\n"
   ]
  },
  {
   "cell_type": "code",
   "execution_count": 183,
   "metadata": {},
   "outputs": [
    {
     "data": {
      "image/png": "[encoded data removed]",
      "text/plain": [
       "<Figure size 504x360 with 1 Axes>"
      ]
     },
     "metadata": {
      "needs_background": "light"
     },
     "output_type": "display_data"
    }
   ],
   "source": [
    "EDA_cat(merged_user_info, 'adopted','creation_source')\n"
   ]
  },
  {
   "cell_type": "code",
   "execution_count": 184,
   "metadata": {},
   "outputs": [
    {
     "data": {
      "image/png": "[encoded data removed]",
      "text/plain": [
       "<Figure size 504x360 with 1 Axes>"
      ]
     },
     "metadata": {
      "needs_background": "light"
     },
     "output_type": "display_data"
    }
   ],
   "source": [
    "EDA_cat(merged_user_info, 'adopted','email_handle')"
   ]
  },
  {
   "cell_type": "code",
   "execution_count": 185,
   "metadata": {},
   "outputs": [
    {
     "data": {
      "image/png": "[encoded data removed]",
      "text/plain": [
       "<Figure size 504x360 with 1 Axes>"
      ]
     },
     "metadata": {
      "needs_background": "light"
     },
     "output_type": "display_data"
    }
   ],
   "source": [
    "EDA_cat(merged_user_info, 'adopted','opted_in_to_mailing_list')"
   ]
  },
  {
   "cell_type": "code",
   "execution_count": 186,
   "metadata": {},
   "outputs": [
    {
     "data": {
      "image/png": "[encoded data removed]",
      "text/plain": [
       "<Figure size 504x360 with 1 Axes>"
      ]
     },
     "metadata": {
      "needs_background": "light"
     },
     "output_type": "display_data"
    }
   ],
   "source": [
    "EDA_cat(merged_user_info, 'adopted','enabled_for_marketing_drip')"
   ]
  },
  {
   "cell_type": "code",
   "execution_count": 187,
   "metadata": {},
   "outputs": [
    {
     "data": {
      "image/png": "[encoded data removed]",
      "text/plain": [
       "<Figure size 432x288 with 2 Axes>"
      ]
     },
     "metadata": {
      "needs_background": "light"
     },
     "output_type": "display_data"
    }
   ],
   "source": [
    "merged_user_info['invitations_sent'].hist(by=merged_user_info['adopted'],bins =10)\n",
    "\n",
    "plt.suptitle('Invitations sent by Adopted')\n",
    "\n",
    "plt.show()"
   ]
  },
  {
   "cell_type": "code",
   "execution_count": 188,
   "metadata": {},
   "outputs": [
    {
     "data": {
      "image/png": "[encoded data removed]",
      "text/plain": [
       "<Figure size 432x288 with 2 Axes>"
      ]
     },
     "metadata": {
      "needs_background": "light"
     },
     "output_type": "display_data"
    }
   ],
   "source": [
    "merged_user_info['org_user_counts'].hist(by=merged_user_info['adopted'],bins =10)\n",
    "\n",
    "plt.suptitle('Organization Users by Adopted')\n",
    "\n",
    "plt.show()"
   ]
  },
  {
   "cell_type": "markdown",
   "metadata": {},
   "source": [
    "## Preprocessing"
   ]
  },
  {
   "cell_type": "code",
   "execution_count": 189,
   "metadata": {},
   "outputs": [],
   "source": [
    "from sklearn.preprocessing import StandardScaler\n",
    "from sklearn.compose import ColumnTransformer\n",
    "from sklearn.model_selection import train_test_split\n",
    "\n",
    "from sklearn.utils import resample"
   ]
  },
  {
   "cell_type": "code",
   "execution_count": 190,
   "metadata": {},
   "outputs": [],
   "source": [
    "target = merged_user_info['adopted']\n",
    "features = merged_user_info.drop(['object_id', \n",
    "                                  'creation_time',\n",
    "                                  'name', \n",
    "                                  'last_session_creation_time',\n",
    "                                  'org_id',\n",
    "                                  'adopted'],\n",
    "                                  axis = 1)"
   ]
  },
  {
   "cell_type": "code",
   "execution_count": 191,
   "metadata": {},
   "outputs": [
    {
     "name": "stdout",
     "output_type": "stream",
     "text": [
      "<class 'pandas.core.frame.DataFrame'>\n",
      "Int64Index: 12000 entries, 0 to 11999\n",
      "Data columns (total 6 columns):\n",
      " #   Column                      Non-Null Count  Dtype  \n",
      "---  ------                      --------------  -----  \n",
      " 0   creation_source             12000 non-null  object \n",
      " 1   opted_in_to_mailing_list    12000 non-null  int64  \n",
      " 2   enabled_for_marketing_drip  12000 non-null  int64  \n",
      " 3   org_user_counts             12000 non-null  int64  \n",
      " 4   invitations_sent            12000 non-null  float64\n",
      " 5   email_handle                12000 non-null  object \n",
      "dtypes: float64(1), int64(3), object(2)\n",
      "memory usage: 976.2+ KB\n"
     ]
    }
   ],
   "source": [
    "features.info()"
   ]
  },
  {
   "cell_type": "code",
   "execution_count": 192,
   "metadata": {},
   "outputs": [],
   "source": [
    "features = pd.get_dummies(features)\n",
    "\n",
    "cols = ['org_user_counts', 'invitations_sent'] \n",
    "\n",
    "col_trans = ColumnTransformer([('scaler',StandardScaler(), cols)],remainder = 'passthrough')\n",
    "\n",
    "X =col_trans.fit_transform(features)\n",
    "\n",
    "y = target"
   ]
  },
  {
   "cell_type": "code",
   "execution_count": 193,
   "metadata": {},
   "outputs": [],
   "source": [
    "X_train, X_test, y_train, y_test = train_test_split( X, y, \n",
    "                                                    test_size=0.4, \n",
    "                                                    random_state=343)"
   ]
  },
  {
   "cell_type": "markdown",
   "metadata": {},
   "source": [
    "#### SMOTE Resampling"
   ]
  },
  {
   "cell_type": "code",
   "execution_count": 194,
   "metadata": {},
   "outputs": [],
   "source": [
    "from imblearn.over_sampling import SMOTE"
   ]
  },
  {
   "cell_type": "code",
   "execution_count": 195,
   "metadata": {},
   "outputs": [],
   "source": [
    "smote = SMOTE()\n",
    "\n",
    "X_smt, y_smt = smote.fit_resample(X_train, y_train)\n",
    "\n"
   ]
  },
  {
   "cell_type": "code",
   "execution_count": 196,
   "metadata": {},
   "outputs": [
    {
     "name": "stdout",
     "output_type": "stream",
     "text": [
      "The original training set has 7200 observation with 937.0 of the adopted class\n",
      "The SMOTE training set has 12526 observation with 6263.0 of the adopted class\n"
     ]
    }
   ],
   "source": [
    "print('The original training set has {} observation with {} of the adopted class'.format(len(X_train),y_train.sum()))\n",
    "print('The SMOTE training set has {} observation with {} of the adopted class'.format(len(X_smt),y_smt.sum()))\n"
   ]
  },
  {
   "cell_type": "markdown",
   "metadata": {},
   "source": [
    "## Modeling"
   ]
  },
  {
   "cell_type": "code",
   "execution_count": 197,
   "metadata": {},
   "outputs": [],
   "source": [
    "from sklearn.linear_model import LogisticRegression\n",
    "from sklearn.ensemble import RandomForestClassifier\n",
    "from sklearn.ensemble import GradientBoostingClassifier\n",
    "\n",
    "from sklearn.metrics import confusion_matrix\n",
    "from sklearn.metrics import ConfusionMatrixDisplay\n",
    "from sklearn.metrics import classification_report"
   ]
  },
  {
   "cell_type": "code",
   "execution_count": 198,
   "metadata": {},
   "outputs": [],
   "source": [
    "def model_eval(model, X_train, y_train, X_test, y_test):\n",
    "    print()\n",
    "    print(model)\n",
    "    print()\n",
    "    model = model\n",
    "    model.fit(X_train, y_train)\n",
    "    \n",
    "    y_pred = model.predict(X_test)\n",
    "    \n",
    "    print(classification_report(y_test, y_pred))\n",
    "    \n",
    "    cm = confusion_matrix(y_test,y_pred)\n",
    "    ConfusionMatrixDisplay(cm).plot()\n",
    "    plt.show()"
   ]
  },
  {
   "cell_type": "code",
   "execution_count": 199,
   "metadata": {},
   "outputs": [
    {
     "name": "stdout",
     "output_type": "stream",
     "text": [
      "\n",
      "LogisticRegression(random_state=343)\n",
      "\n",
      "              precision    recall  f1-score   support\n",
      "\n",
      "         0.0       0.86      1.00      0.93      4135\n",
      "         1.0       0.00      0.00      0.00       665\n",
      "\n",
      "    accuracy                           0.86      4800\n",
      "   macro avg       0.43      0.50      0.46      4800\n",
      "weighted avg       0.74      0.86      0.80      4800\n",
      "\n"
     ]
    },
    {
     "name": "stderr",
     "output_type": "stream",
     "text": [
      "C:\\Users\\kyu_k\\anaconda3\\lib\\site-packages\\sklearn\\metrics\\_classification.py:1318: UndefinedMetricWarning: Precision and F-score are ill-defined and being set to 0.0 in labels with no predicted samples. Use `zero_division` parameter to control this behavior.\n",
      "  _warn_prf(average, modifier, msg_start, len(result))\n",
      "C:\\Users\\kyu_k\\anaconda3\\lib\\site-packages\\sklearn\\metrics\\_classification.py:1318: UndefinedMetricWarning: Precision and F-score are ill-defined and being set to 0.0 in labels with no predicted samples. Use `zero_division` parameter to control this behavior.\n",
      "  _warn_prf(average, modifier, msg_start, len(result))\n",
      "C:\\Users\\kyu_k\\anaconda3\\lib\\site-packages\\sklearn\\metrics\\_classification.py:1318: UndefinedMetricWarning: Precision and F-score are ill-defined and being set to 0.0 in labels with no predicted samples. Use `zero_division` parameter to control this behavior.\n",
      "  _warn_prf(average, modifier, msg_start, len(result))\n"
     ]
    },
    {
     "data": {
      "image/png": "[encoded data removed]",
      "text/plain": [
       "<Figure size 432x288 with 2 Axes>"
      ]
     },
     "metadata": {
      "needs_background": "light"
     },
     "output_type": "display_data"
    },
    {
     "name": "stdout",
     "output_type": "stream",
     "text": [
      "\n",
      "RandomForestClassifier(random_state=343)\n",
      "\n",
      "              precision    recall  f1-score   support\n",
      "\n",
      "         0.0       0.86      0.94      0.90      4135\n",
      "         1.0       0.15      0.07      0.09       665\n",
      "\n",
      "    accuracy                           0.82      4800\n",
      "   macro avg       0.50      0.50      0.50      4800\n",
      "weighted avg       0.76      0.82      0.79      4800\n",
      "\n"
     ]
    },
    {
     "data": {
      "image/png": "[encoded data removed]",
      "text/plain": [
       "<Figure size 432x288 with 2 Axes>"
      ]
     },
     "metadata": {
      "needs_background": "light"
     },
     "output_type": "display_data"
    },
    {
     "name": "stdout",
     "output_type": "stream",
     "text": [
      "\n",
      "GradientBoostingClassifier(random_state=343)\n",
      "\n",
      "              precision    recall  f1-score   support\n",
      "\n",
      "         0.0       0.86      1.00      0.92      4135\n",
      "         1.0       0.00      0.00      0.00       665\n",
      "\n",
      "    accuracy                           0.86      4800\n",
      "   macro avg       0.43      0.50      0.46      4800\n",
      "weighted avg       0.74      0.86      0.80      4800\n",
      "\n"
     ]
    },
    {
     "data": {
      "image/png": "[encoded data removed]",
      "text/plain": [
       "<Figure size 432x288 with 2 Axes>"
      ]
     },
     "metadata": {
      "needs_background": "light"
     },
     "output_type": "display_data"
    }
   ],
   "source": [
    "models= [LogisticRegression(random_state = 343),\n",
    "        RandomForestClassifier(random_state = 343),\n",
    "        GradientBoostingClassifier(random_state = 343)]\n",
    "\n",
    "for model in models:\n",
    "        \n",
    "    model_eval(model,\n",
    "           X_train,\n",
    "           y_train,\n",
    "           X_test,\n",
    "           y_test)"
   ]
  },
  {
   "cell_type": "code",
   "execution_count": 200,
   "metadata": {},
   "outputs": [
    {
     "name": "stdout",
     "output_type": "stream",
     "text": [
      "\n",
      "LogisticRegression(random_state=343)\n",
      "\n",
      "              precision    recall  f1-score   support\n",
      "\n",
      "         0.0       0.90      0.46      0.61      4135\n",
      "         1.0       0.17      0.67      0.27       665\n",
      "\n",
      "    accuracy                           0.49      4800\n",
      "   macro avg       0.53      0.57      0.44      4800\n",
      "weighted avg       0.80      0.49      0.56      4800\n",
      "\n"
     ]
    },
    {
     "data": {
      "image/png": "[encoded data removed]",
      "text/plain": [
       "<Figure size 432x288 with 2 Axes>"
      ]
     },
     "metadata": {
      "needs_background": "light"
     },
     "output_type": "display_data"
    },
    {
     "name": "stdout",
     "output_type": "stream",
     "text": [
      "\n",
      "RandomForestClassifier(random_state=343)\n",
      "\n",
      "              precision    recall  f1-score   support\n",
      "\n",
      "         0.0       0.86      0.84      0.85      4135\n",
      "         1.0       0.14      0.16      0.15       665\n",
      "\n",
      "    accuracy                           0.75      4800\n",
      "   macro avg       0.50      0.50      0.50      4800\n",
      "weighted avg       0.76      0.75      0.75      4800\n",
      "\n"
     ]
    },
    {
     "data": {
      "image/png": "[encoded data removed]",
      "text/plain": [
       "<Figure size 432x288 with 2 Axes>"
      ]
     },
     "metadata": {
      "needs_background": "light"
     },
     "output_type": "display_data"
    },
    {
     "name": "stdout",
     "output_type": "stream",
     "text": [
      "\n",
      "GradientBoostingClassifier(random_state=343)\n",
      "\n",
      "              precision    recall  f1-score   support\n",
      "\n",
      "         0.0       0.87      0.83      0.85      4135\n",
      "         1.0       0.19      0.25      0.22       665\n",
      "\n",
      "    accuracy                           0.75      4800\n",
      "   macro avg       0.53      0.54      0.53      4800\n",
      "weighted avg       0.78      0.75      0.76      4800\n",
      "\n"
     ]
    },
    {
     "data": {
      "image/png": "[encoded data removed]",
      "text/plain": [
       "<Figure size 432x288 with 2 Axes>"
      ]
     },
     "metadata": {
      "needs_background": "light"
     },
     "output_type": "display_data"
    }
   ],
   "source": [
    "models= [LogisticRegression(random_state = 343),\n",
    "        RandomForestClassifier(random_state = 343),\n",
    "        GradientBoostingClassifier(random_state = 343)]\n",
    "\n",
    "for model in models:\n",
    "        \n",
    "    model_eval(model,\n",
    "            X_smt,\n",
    "           y_smt,\n",
    "           X_test,\n",
    "           y_test)"
   ]
  },
  {
   "cell_type": "markdown",
   "metadata": {},
   "source": [
    "### Gradient Boost"
   ]
  },
  {
   "cell_type": "code",
   "execution_count": 201,
   "metadata": {},
   "outputs": [],
   "source": [
    "from sklearn.model_selection import RandomizedSearchCV"
   ]
  },
  {
   "cell_type": "code",
   "execution_count": 202,
   "metadata": {},
   "outputs": [
    {
     "data": {
      "text/plain": [
       "{'n_estimators': 200,\n",
       " 'min_samples_split': 2,\n",
       " 'min_samples_leaf': 8,\n",
       " 'max_depth': 10,\n",
       " 'learning_rate': 0.05}"
      ]
     },
     "execution_count": 202,
     "metadata": {},
     "output_type": "execute_result"
    }
   ],
   "source": [
    "\n",
    "n_estimators = [100, 200, 300, 400]\n",
    "max_depth = [2, 3, 5, 10, 15]\n",
    "min_samples_leaf = [1, 2, 4, 6, 8] \n",
    "min_samples_split = [2, 4, 6, 10]\n",
    "learn_rates = [0.02, 0.05]\n",
    "\n",
    "hyperparameter_grid = {\n",
    "    'n_estimators': n_estimators,\n",
    "    'max_depth': max_depth,\n",
    "    'min_samples_leaf': min_samples_leaf,\n",
    "    'min_samples_split': min_samples_split,\n",
    "    'learning_rate': learn_rates\n",
    "    }\n",
    "\n",
    "GB = GradientBoostingClassifier(random_state = 343)\n",
    "RandGB = RandomizedSearchCV(GB, hyperparameter_grid, random_state = 343, scoring = 'f1_weighted')\n",
    "RandGB.fit(X_smt,y_smt)\n",
    "RandGB.best_params_"
   ]
  },
  {
   "cell_type": "code",
   "execution_count": 203,
   "metadata": {},
   "outputs": [],
   "source": [
    "def model_eval2(model, X_train, y_train, X_test, y_test):\n",
    "    print()\n",
    "    print(model)\n",
    "    print()\n",
    "    model = model\n",
    "    model.fit(X_train, y_train)\n",
    "    \n",
    "    y_pred = model.predict(X_test)\n",
    "    \n",
    "    print(classification_report(y_test, y_pred))\n",
    "    \n",
    "    cm = confusion_matrix(y_test,y_pred)\n",
    "    ConfusionMatrixDisplay(cm).plot()\n",
    "    plt.show()\n",
    "    return(model)"
   ]
  },
  {
   "cell_type": "code",
   "execution_count": 204,
   "metadata": {},
   "outputs": [
    {
     "name": "stdout",
     "output_type": "stream",
     "text": [
      "\n",
      "GradientBoostingClassifier(learning_rate=0.05, n_estimators=200,\n",
      "                           random_state=343)\n",
      "\n",
      "              precision    recall  f1-score   support\n",
      "\n",
      "         0.0       0.87      0.82      0.85      4135\n",
      "         1.0       0.19      0.26      0.22       665\n",
      "\n",
      "    accuracy                           0.74      4800\n",
      "   macro avg       0.53      0.54      0.53      4800\n",
      "weighted avg       0.78      0.74      0.76      4800\n",
      "\n"
     ]
    },
    {
     "data": {
      "image/png": "[encoded data removed]",
      "text/plain": [
       "<Figure size 432x288 with 2 Axes>"
      ]
     },
     "metadata": {
      "needs_background": "light"
     },
     "output_type": "display_data"
    },
    {
     "data": {
      "image/png": "[encoded data removed]",
      "text/plain": [
       "<Figure size 432x288 with 1 Axes>"
      ]
     },
     "metadata": {
      "needs_background": "light"
     },
     "output_type": "display_data"
    }
   ],
   "source": [
    "\n",
    "\n",
    "GB2 = model_eval2(GradientBoostingClassifier(n_estimators = 200 ,\n",
    "                                       min_samples_split= 2,\n",
    "                                       learning_rate =.05,\n",
    "                                       random_state = 343), \n",
    "                                        X_smt,\n",
    "                                        y_smt,\n",
    "                                        X_test,\n",
    "                                        y_test)\n",
    "\n",
    "importances = pd.DataFrame(zip(features.columns,GB2.feature_importances_))\n",
    "importances.sort_values(by = 1, ascending =False, inplace =True)\n",
    "importances.plot(kind = 'bar', x =0 , y =1)\n",
    "plt.show()"
   ]
  },
  {
   "cell_type": "code",
   "execution_count": 205,
   "metadata": {},
   "outputs": [
    {
     "data": {
      "text/html": [
       "<div>\n",
       "<style scoped>\n",
       "    .dataframe tbody tr th:only-of-type {\n",
       "        vertical-align: middle;\n",
       "    }\n",
       "\n",
       "    .dataframe tbody tr th {\n",
       "        vertical-align: top;\n",
       "    }\n",
       "\n",
       "    .dataframe thead th {\n",
       "        text-align: right;\n",
       "    }\n",
       "</style>\n",
       "<table border=\"1\" class=\"dataframe\">\n",
       "  <thead>\n",
       "    <tr style=\"text-align: right;\">\n",
       "      <th></th>\n",
       "      <th>0</th>\n",
       "      <th>1</th>\n",
       "    </tr>\n",
       "  </thead>\n",
       "  <tbody>\n",
       "    <tr>\n",
       "      <th>0</th>\n",
       "      <td>opted_in_to_mailing_list</td>\n",
       "      <td>0.541995</td>\n",
       "    </tr>\n",
       "    <tr>\n",
       "      <th>1</th>\n",
       "      <td>enabled_for_marketing_drip</td>\n",
       "      <td>0.143501</td>\n",
       "    </tr>\n",
       "    <tr>\n",
       "      <th>6</th>\n",
       "      <td>creation_source_PERSONAL_PROJECTS</td>\n",
       "      <td>0.082347</td>\n",
       "    </tr>\n",
       "    <tr>\n",
       "      <th>3</th>\n",
       "      <td>invitations_sent</td>\n",
       "      <td>0.074227</td>\n",
       "    </tr>\n",
       "    <tr>\n",
       "      <th>2</th>\n",
       "      <td>org_user_counts</td>\n",
       "      <td>0.067865</td>\n",
       "    </tr>\n",
       "    <tr>\n",
       "      <th>13</th>\n",
       "      <td>email_handle_hotmail.com</td>\n",
       "      <td>0.021437</td>\n",
       "    </tr>\n",
       "    <tr>\n",
       "      <th>11</th>\n",
       "      <td>email_handle_gmail.com</td>\n",
       "      <td>0.016842</td>\n",
       "    </tr>\n",
       "    <tr>\n",
       "      <th>8</th>\n",
       "      <td>creation_source_SIGNUP_GOOGLE_AUTH</td>\n",
       "      <td>0.013600</td>\n",
       "    </tr>\n",
       "    <tr>\n",
       "      <th>10</th>\n",
       "      <td>email_handle_cuvox.de</td>\n",
       "      <td>0.013587</td>\n",
       "    </tr>\n",
       "    <tr>\n",
       "      <th>15</th>\n",
       "      <td>email_handle_yahoo.com</td>\n",
       "      <td>0.005477</td>\n",
       "    </tr>\n",
       "    <tr>\n",
       "      <th>4</th>\n",
       "      <td>creation_source_GUEST_INVITE</td>\n",
       "      <td>0.005307</td>\n",
       "    </tr>\n",
       "    <tr>\n",
       "      <th>12</th>\n",
       "      <td>email_handle_gustr.com</td>\n",
       "      <td>0.004326</td>\n",
       "    </tr>\n",
       "    <tr>\n",
       "      <th>14</th>\n",
       "      <td>email_handle_jourrapide.com</td>\n",
       "      <td>0.004249</td>\n",
       "    </tr>\n",
       "    <tr>\n",
       "      <th>5</th>\n",
       "      <td>creation_source_ORG_INVITE</td>\n",
       "      <td>0.004175</td>\n",
       "    </tr>\n",
       "    <tr>\n",
       "      <th>7</th>\n",
       "      <td>creation_source_SIGNUP</td>\n",
       "      <td>0.000747</td>\n",
       "    </tr>\n",
       "    <tr>\n",
       "      <th>9</th>\n",
       "      <td>email_handle_Other</td>\n",
       "      <td>0.000318</td>\n",
       "    </tr>\n",
       "  </tbody>\n",
       "</table>\n",
       "</div>"
      ],
      "text/plain": [
       "                                     0         1\n",
       "0             opted_in_to_mailing_list  0.541995\n",
       "1           enabled_for_marketing_drip  0.143501\n",
       "6    creation_source_PERSONAL_PROJECTS  0.082347\n",
       "3                     invitations_sent  0.074227\n",
       "2                      org_user_counts  0.067865\n",
       "13            email_handle_hotmail.com  0.021437\n",
       "11              email_handle_gmail.com  0.016842\n",
       "8   creation_source_SIGNUP_GOOGLE_AUTH  0.013600\n",
       "10               email_handle_cuvox.de  0.013587\n",
       "15              email_handle_yahoo.com  0.005477\n",
       "4         creation_source_GUEST_INVITE  0.005307\n",
       "12              email_handle_gustr.com  0.004326\n",
       "14         email_handle_jourrapide.com  0.004249\n",
       "5           creation_source_ORG_INVITE  0.004175\n",
       "7               creation_source_SIGNUP  0.000747\n",
       "9                   email_handle_Other  0.000318"
      ]
     },
     "execution_count": 205,
     "metadata": {},
     "output_type": "execute_result"
    }
   ],
   "source": [
    "importances"
   ]
  }
 ],
 "metadata": {
  "kernelspec": {
   "display_name": "Python 3",
   "language": "python",
   "name": "python3"
  },
  "language_info": {
   "codemirror_mode": {
    "name": "ipython",
    "version": 3
   },
   "file_extension": ".py",
   "mimetype": "text/x-python",
   "name": "python",
   "nbconvert_exporter": "python",
   "pygments_lexer": "ipython3",
   "version": "3.8.5"
  }
 },
 "nbformat": 4,
 "nbformat_minor": 4
}
