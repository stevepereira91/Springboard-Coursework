{
 "cells": [
  {
   "cell_type": "code",
   "execution_count": 142,
   "metadata": {},
   "outputs": [
    {
     "name": "stdout",
     "output_type": "stream",
     "text": [
      "2.6.0\n",
      "2. Query all tasks\n",
      "('Badminton Court', '07', 165)\n",
      "('Badminton Court', '08', 414)\n",
      "('Badminton Court', '09', 507)\n",
      "('Massage Room 1', '07', 166)\n",
      "('Massage Room 1', '08', 316)\n",
      "('Massage Room 1', '09', 402)\n",
      "('Massage Room 2', '07', 8)\n",
      "('Massage Room 2', '08', 18)\n",
      "('Massage Room 2', '09', 28)\n",
      "('Pool Table', '07', 110)\n",
      "('Pool Table', '08', 303)\n",
      "('Pool Table', '09', 443)\n",
      "('Snooker Table', '07', 140)\n",
      "('Snooker Table', '08', 316)\n",
      "('Snooker Table', '09', 404)\n",
      "('Squash Court', '07', 50)\n",
      "('Squash Court', '08', 184)\n",
      "('Squash Court', '09', 184)\n",
      "('Table Tennis', '07', 98)\n",
      "('Table Tennis', '08', 296)\n",
      "('Table Tennis', '09', 400)\n",
      "('Tennis Court 1', '07', 201)\n",
      "('Tennis Court 1', '08', 339)\n",
      "('Tennis Court 1', '09', 417)\n",
      "('Tennis Court 2', '07', 123)\n",
      "('Tennis Court 2', '08', 345)\n",
      "('Tennis Court 2', '09', 414)\n"
     ]
    }
   ],
   "source": [
    "import sqlite3\n",
    "from sqlite3 import Error\n",
    "\n",
    " \n",
    "def create_connection(db_file):\n",
    "    \"\"\" create a database connection to the SQLite database\n",
    "        specified by the db_file\n",
    "    :param db_file: database file\n",
    "    :return: Connection object or None\n",
    "    \"\"\"\n",
    "    conn = None\n",
    "    try:\n",
    "        conn = sqlite3.connect(db_file)\n",
    "        print(sqlite3.version)\n",
    "    except Error as e:\n",
    "        print(e)\n",
    " \n",
    "    return conn\n",
    "\n",
    " \n",
    "def select_all_tasks(conn):\n",
    "    \"\"\"\n",
    "    Query all rows in the tasks table\n",
    "    :param conn: the Connection object\n",
    "    :return:\n",
    "    \"\"\"\n",
    "    cur = conn.cursor()\n",
    "    \n",
    "    query1 = \"\"\"\n",
    "\n",
    "        \"\"\"\n",
    "    cur.execute(query1)\n",
    " \n",
    "    rows = cur.fetchall()\n",
    " \n",
    "    for row in rows:\n",
    "        print(row)\n",
    "\n",
    "\n",
    "def main():\n",
    "    database = \"sqlite_db_pythonsqlite.db\"\n",
    " \n",
    "    # create a database connection\n",
    "    conn = create_connection(database)\n",
    "    with conn: \n",
    "        print(\"2. Query all tasks\")\n",
    "        select_all_tasks(conn)\n",
    " \n",
    " \n",
    "if __name__ == '__main__':\n",
    "    main()"
   ]
  },
  {
   "cell_type": "markdown",
   "metadata": {},
   "source": [
    " PRAGMA table_info(Members)\n",
    "\n",
    "2.6.0\n",
    "2. Query all tasks\n",
    "1. (0, 'memid', 'int(2)', 1, \"'0'\", 1)\n",
    "2. (1, 'surname', 'varchar(17)', 0, 'NULL', 0)\n",
    "3. (2, 'firstname', 'varchar(9)', 0, 'NULL', 0)\n",
    "4. (3, 'address', 'varchar(39)', 0, 'NULL', 0)\n",
    "5. (4, 'zipcode', 'int(5)', 0, 'NULL', 0)\n",
    "6. (5, 'telephone', 'varchar(14)', 0, 'NULL', 0)\n",
    "7. (6, 'recommendedby', 'varchar(2)', 0, 'NULL', 0)\n",
    "8. (7, 'joindate', 'varchar(19)', 0, 'NULL', 0)\n",
    "    "
   ]
  },
  {
   "cell_type": "markdown",
   "metadata": {},
   "source": [
    "PRAGMA table_info(Facilities)\n",
    "\n",
    "2.6.0\n",
    "2. Query all tasks\n",
    "1. (0, 'facid', 'int(1)', 1, \"'0'\", 1)\n",
    "2. (1, 'name', 'varchar(15)', 0, 'NULL', 0)\n",
    "3. (2, 'membercost', 'decimal(2,1)', 0, 'NULL', 0)\n",
    "4. (3, 'guestcost', 'decimal(3,1)', 0, 'NULL', 0)\n",
    "5. (4, 'initialoutlay', 'int(5)', 0, 'NULL', 0)\n",
    "6. (5, 'monthlymaintenance', 'int(4)', 0, 'NULL', 0)"
   ]
  },
  {
   "cell_type": "markdown",
   "metadata": {},
   "source": [
    "PRAGMA table_info(Bookings)\n",
    "\n",
    "2.6.0\n",
    "2. Query all tasks\n",
    "1. (0, 'bookid', 'int(4)', 1, \"'0'\", 1)\n",
    "2. (1, 'facid', 'int(1)', 0, 'NULL', 0)\n",
    "3. (2, 'memid', 'int(2)', 0, 'NULL', 0)\n",
    "4. (3, 'starttime', 'varchar(19)', 0, 'NULL', 0)\n",
    "5. (4, 'slots', 'int(2)', 0, 'NULL', 0)"
   ]
  },
  {
   "cell_type": "code",
   "execution_count": null,
   "metadata": {},
   "outputs": [],
   "source": []
  },
  {
   "cell_type": "markdown",
   "metadata": {},
   "source": [
    "/* Q10: Produce a list of facilities with a total revenue less than 1000.\n",
    "The output of facility name and total revenue, sorted by revenue. Remember\n",
    "that there's a different cost for guests and members! */\n",
    "\n",
    "\n",
    "     \n",
    "     \n",
    "SELECT s.facility, sum(s.revenue)as totalrevenue \n",
    "FROM (SELECT f.name as facility, (CASE \n",
    "                    WHEN b.memid = 0 THEN f.guestcost * b.slots\n",
    "                    ELSE f.membercost * b.slots \n",
    "                    END) AS revenue\n",
    "            FROM  Facilities AS f\n",
    "            INNER JOIN Bookings as b\n",
    "            ON f.facid = b.facid) as s\n",
    "GROUP BY s.facility\n",
    "HAVING sum(s.revenue)<1000\n",
    "ORDER BY totalrevenue DESC;\n",
    "\n"
   ]
  },
  {
   "cell_type": "markdown",
   "metadata": {},
   "source": [
    "/* Q11: Produce a report of members and who recommended them in alphabetic surname,firstname order */\n",
    "\n",
    "\n",
    "SELECT m1.firstname||' '|| m1.surname as Member, \n",
    "        m2.firstname||' '|| m2.surname as Recommendation\n",
    "FROM Members as m1\n",
    "INNER JOIN Members as m2\n",
    "ON m1.recommendedby = m2.memid  \n",
    "ORDER BY m1.surname, m1.firstname\n",
    "\n",
    "\n",
    "\n"
   ]
  },
  {
   "cell_type": "markdown",
   "metadata": {},
   "source": [
    "\n",
    "/* Q12: Find the facilities with their usage by member, but not guests */\n",
    "\n",
    "SELECT sub.name, SUM(sub.usages) AS totalusage\n",
    "FROM (SELECT f.name as name, \n",
    "        CASE WHEN memid = 0 THEN 0\n",
    "            ELSE b.slots END AS usages\n",
    "       FROM Facilities AS f\n",
    "       INNER JOIN Bookings AS b\n",
    "       ON f.facid = b.facid) AS sub\n",
    "GROUP BY sub.name\n",
    "ORDER BY totalusage DESC\n"
   ]
  },
  {
   "cell_type": "markdown",
   "metadata": {},
   "source": [
    "/* Q13: Find the facilities usage by month, but not guests */\n",
    "\n",
    "SELECT facility, Month, SUM(usages)\n",
    "FROM(SELECT f.name AS facility, strftime('%m', b.starttime) as Month, \n",
    "        (CASE WHEN b.memid = 0 THEN 0\n",
    "            ELSE b.slots\n",
    "            END) AS usages  \n",
    "        FROM Facilities AS f\n",
    "        INNER JOIN Bookings AS b\n",
    "        ON f.facid = b.facid\n",
    "        )\n",
    "GROUP BY facility, Month\n",
    "ORDER BY facility,Month\n",
    "\n",
    "\n",
    "\n",
    "    "
   ]
  }
 ],
 "metadata": {
  "kernelspec": {
   "display_name": "Python 3",
   "language": "python",
   "name": "python3"
  },
  "language_info": {
   "codemirror_mode": {
    "name": "ipython",
    "version": 3
   },
   "file_extension": ".py",
   "mimetype": "text/x-python",
   "name": "python",
   "nbconvert_exporter": "python",
   "pygments_lexer": "ipython3",
   "version": "3.8.5"
  }
 },
 "nbformat": 4,
 "nbformat_minor": 4
}
