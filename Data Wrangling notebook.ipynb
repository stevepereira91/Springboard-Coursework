{
 "cells": [
  {
   "cell_type": "markdown",
   "metadata": {},
   "source": [
    "# Data Wrangling"
   ]
  },
  {
   "cell_type": "markdown",
   "metadata": {},
   "source": [
    "This data is pulled from the CT MLS system from 7/28 - 7/29/21.  The listings are those which closed within the range of 0-365 days from the previous dates listed.  All citys available were pulled from CT.  Listings are limited to single family homes, condos, co-op.  In the steps below the raw data will be processed to remove null values, convert data into either categorical or numerical data, and check for outliers. "
   ]
  },
  {
   "cell_type": "code",
   "execution_count": 2,
   "metadata": {},
   "outputs": [],
   "source": [
    "import pandas as pd\n",
    "import numpy as np"
   ]
  },
  {
   "cell_type": "code",
   "execution_count": 3,
   "metadata": {},
   "outputs": [
    {
     "data": {
      "text/plain": [
       "'C:\\\\Users\\\\kyu_k\\\\OneDrive\\\\Desktop\\\\ds\\\\Spring board DS Career track\\\\Capstonetwo\\\\Untitled Folder'"
      ]
     },
     "execution_count": 3,
     "metadata": {},
     "output_type": "execute_result"
    }
   ],
   "source": [
    "pwd"
   ]
  },
  {
   "cell_type": "code",
   "execution_count": 4,
   "metadata": {},
   "outputs": [],
   "source": [
    "data_merged = pd.DataFrame()\n"
   ]
  },
  {
   "cell_type": "code",
   "execution_count": 5,
   "metadata": {},
   "outputs": [],
   "source": [
    "#C:/Users/kyu_k/OneDrive/Desktop/ds/Spring board DS Career track/Capstone 2"
   ]
  },
  {
   "cell_type": "code",
   "execution_count": 6,
   "metadata": {},
   "outputs": [
    {
     "name": "stdout",
     "output_type": "stream",
     "text": [
      "C:/Users/kyu_k/OneDrive/Desktop/ds/Spring board DS Career track/Capstonetwo/data/Agent Single Line (1).csv\n",
      "C:/Users/kyu_k/OneDrive/Desktop/ds/Spring board DS Career track/Capstonetwo/data/Agent Single Line (2).csv\n",
      "C:/Users/kyu_k/OneDrive/Desktop/ds/Spring board DS Career track/Capstonetwo/data/Agent Single Line (3).csv\n",
      "C:/Users/kyu_k/OneDrive/Desktop/ds/Spring board DS Career track/Capstonetwo/data/Agent Single Line (4).csv\n",
      "C:/Users/kyu_k/OneDrive/Desktop/ds/Spring board DS Career track/Capstonetwo/data/Agent Single Line (5).csv\n",
      "C:/Users/kyu_k/OneDrive/Desktop/ds/Spring board DS Career track/Capstonetwo/data/Agent Single Line (6).csv\n",
      "C:/Users/kyu_k/OneDrive/Desktop/ds/Spring board DS Career track/Capstonetwo/data/Agent Single Line (7).csv\n",
      "C:/Users/kyu_k/OneDrive/Desktop/ds/Spring board DS Career track/Capstonetwo/data/Agent Single Line (8).csv\n",
      "C:/Users/kyu_k/OneDrive/Desktop/ds/Spring board DS Career track/Capstonetwo/data/Agent Single Line (9).csv\n",
      "C:/Users/kyu_k/OneDrive/Desktop/ds/Spring board DS Career track/Capstonetwo/data/Agent Single Line (10).csv\n",
      "C:/Users/kyu_k/OneDrive/Desktop/ds/Spring board DS Career track/Capstonetwo/data/Agent Single Line (11).csv\n",
      "C:/Users/kyu_k/OneDrive/Desktop/ds/Spring board DS Career track/Capstonetwo/data/Agent Single Line (12).csv\n",
      "C:/Users/kyu_k/OneDrive/Desktop/ds/Spring board DS Career track/Capstonetwo/data/Agent Single Line (13).csv\n",
      "C:/Users/kyu_k/OneDrive/Desktop/ds/Spring board DS Career track/Capstonetwo/data/Agent Single Line (14).csv\n",
      "C:/Users/kyu_k/OneDrive/Desktop/ds/Spring board DS Career track/Capstonetwo/data/Agent Single Line (15).csv\n",
      "C:/Users/kyu_k/OneDrive/Desktop/ds/Spring board DS Career track/Capstonetwo/data/Agent Single Line (16).csv\n",
      "C:/Users/kyu_k/OneDrive/Desktop/ds/Spring board DS Career track/Capstonetwo/data/Agent Single Line (17).csv\n",
      "C:/Users/kyu_k/OneDrive/Desktop/ds/Spring board DS Career track/Capstonetwo/data/Agent Single Line (18).csv\n",
      "C:/Users/kyu_k/OneDrive/Desktop/ds/Spring board DS Career track/Capstonetwo/data/Agent Single Line (19).csv\n",
      "C:/Users/kyu_k/OneDrive/Desktop/ds/Spring board DS Career track/Capstonetwo/data/Agent Single Line (20).csv\n",
      "C:/Users/kyu_k/OneDrive/Desktop/ds/Spring board DS Career track/Capstonetwo/data/Agent Single Line (21).csv\n",
      "C:/Users/kyu_k/OneDrive/Desktop/ds/Spring board DS Career track/Capstonetwo/data/Agent Single Line (22).csv\n",
      "C:/Users/kyu_k/OneDrive/Desktop/ds/Spring board DS Career track/Capstonetwo/data/Agent Single Line (23).csv\n",
      "C:/Users/kyu_k/OneDrive/Desktop/ds/Spring board DS Career track/Capstonetwo/data/Agent Single Line (24).csv\n",
      "C:/Users/kyu_k/OneDrive/Desktop/ds/Spring board DS Career track/Capstonetwo/data/Agent Single Line (25).csv\n",
      "C:/Users/kyu_k/OneDrive/Desktop/ds/Spring board DS Career track/Capstonetwo/data/Agent Single Line (26).csv\n",
      "C:/Users/kyu_k/OneDrive/Desktop/ds/Spring board DS Career track/Capstonetwo/data/Agent Single Line (27).csv\n",
      "C:/Users/kyu_k/OneDrive/Desktop/ds/Spring board DS Career track/Capstonetwo/data/Agent Single Line (28).csv\n",
      "C:/Users/kyu_k/OneDrive/Desktop/ds/Spring board DS Career track/Capstonetwo/data/Agent Single Line (29).csv\n",
      "C:/Users/kyu_k/OneDrive/Desktop/ds/Spring board DS Career track/Capstonetwo/data/Agent Single Line (30).csv\n",
      "C:/Users/kyu_k/OneDrive/Desktop/ds/Spring board DS Career track/Capstonetwo/data/Agent Single Line (31).csv\n",
      "C:/Users/kyu_k/OneDrive/Desktop/ds/Spring board DS Career track/Capstonetwo/data/Agent Single Line (32).csv\n",
      "C:/Users/kyu_k/OneDrive/Desktop/ds/Spring board DS Career track/Capstonetwo/data/Agent Single Line (33).csv\n",
      "C:/Users/kyu_k/OneDrive/Desktop/ds/Spring board DS Career track/Capstonetwo/data/Agent Single Line (34).csv\n",
      "C:/Users/kyu_k/OneDrive/Desktop/ds/Spring board DS Career track/Capstonetwo/data/Agent Single Line (35).csv\n",
      "C:/Users/kyu_k/OneDrive/Desktop/ds/Spring board DS Career track/Capstonetwo/data/Agent Single Line (36).csv\n",
      "C:/Users/kyu_k/OneDrive/Desktop/ds/Spring board DS Career track/Capstonetwo/data/Agent Single Line (37).csv\n",
      "C:/Users/kyu_k/OneDrive/Desktop/ds/Spring board DS Career track/Capstonetwo/data/Agent Single Line (38).csv\n",
      "C:/Users/kyu_k/OneDrive/Desktop/ds/Spring board DS Career track/Capstonetwo/data/Agent Single Line (39).csv\n",
      "C:/Users/kyu_k/OneDrive/Desktop/ds/Spring board DS Career track/Capstonetwo/data/Agent Single Line (40).csv\n",
      "C:/Users/kyu_k/OneDrive/Desktop/ds/Spring board DS Career track/Capstonetwo/data/Agent Single Line (41).csv\n",
      "C:/Users/kyu_k/OneDrive/Desktop/ds/Spring board DS Career track/Capstonetwo/data/Agent Single Line (42).csv\n",
      "C:/Users/kyu_k/OneDrive/Desktop/ds/Spring board DS Career track/Capstonetwo/data/Agent Single Line (43).csv\n",
      "C:/Users/kyu_k/OneDrive/Desktop/ds/Spring board DS Career track/Capstonetwo/data/Agent Single Line (44).csv\n",
      "C:/Users/kyu_k/OneDrive/Desktop/ds/Spring board DS Career track/Capstonetwo/data/Agent Single Line (45).csv\n",
      "C:/Users/kyu_k/OneDrive/Desktop/ds/Spring board DS Career track/Capstonetwo/data/Agent Single Line (46).csv\n",
      "C:/Users/kyu_k/OneDrive/Desktop/ds/Spring board DS Career track/Capstonetwo/data/Agent Single Line (47).csv\n",
      "C:/Users/kyu_k/OneDrive/Desktop/ds/Spring board DS Career track/Capstonetwo/data/Agent Single Line (48).csv\n",
      "C:/Users/kyu_k/OneDrive/Desktop/ds/Spring board DS Career track/Capstonetwo/data/Agent Single Line (49).csv\n",
      "C:/Users/kyu_k/OneDrive/Desktop/ds/Spring board DS Career track/Capstonetwo/data/Agent Single Line (50).csv\n",
      "C:/Users/kyu_k/OneDrive/Desktop/ds/Spring board DS Career track/Capstonetwo/data/Agent Single Line (51).csv\n",
      "C:/Users/kyu_k/OneDrive/Desktop/ds/Spring board DS Career track/Capstonetwo/data/Agent Single Line (52).csv\n",
      "C:/Users/kyu_k/OneDrive/Desktop/ds/Spring board DS Career track/Capstonetwo/data/Agent Single Line (53).csv\n",
      "C:/Users/kyu_k/OneDrive/Desktop/ds/Spring board DS Career track/Capstonetwo/data/Agent Single Line (54).csv\n",
      "C:/Users/kyu_k/OneDrive/Desktop/ds/Spring board DS Career track/Capstonetwo/data/Agent Single Line (55).csv\n",
      "C:/Users/kyu_k/OneDrive/Desktop/ds/Spring board DS Career track/Capstonetwo/data/Agent Single Line (56).csv\n",
      "C:/Users/kyu_k/OneDrive/Desktop/ds/Spring board DS Career track/Capstonetwo/data/Agent Single Line (57).csv\n",
      "C:/Users/kyu_k/OneDrive/Desktop/ds/Spring board DS Career track/Capstonetwo/data/Agent Single Line (58).csv\n",
      "C:/Users/kyu_k/OneDrive/Desktop/ds/Spring board DS Career track/Capstonetwo/data/Agent Single Line (59).csv\n",
      "C:/Users/kyu_k/OneDrive/Desktop/ds/Spring board DS Career track/Capstonetwo/data/Agent Single Line (60).csv\n",
      "C:/Users/kyu_k/OneDrive/Desktop/ds/Spring board DS Career track/Capstonetwo/data/Agent Single Line (61).csv\n",
      "C:/Users/kyu_k/OneDrive/Desktop/ds/Spring board DS Career track/Capstonetwo/data/Agent Single Line (62).csv\n",
      "C:/Users/kyu_k/OneDrive/Desktop/ds/Spring board DS Career track/Capstonetwo/data/Agent Single Line (63).csv\n",
      "C:/Users/kyu_k/OneDrive/Desktop/ds/Spring board DS Career track/Capstonetwo/data/Agent Single Line (64).csv\n",
      "C:/Users/kyu_k/OneDrive/Desktop/ds/Spring board DS Career track/Capstonetwo/data/Agent Single Line (65).csv\n",
      "C:/Users/kyu_k/OneDrive/Desktop/ds/Spring board DS Career track/Capstonetwo/data/Agent Single Line (66).csv\n",
      "C:/Users/kyu_k/OneDrive/Desktop/ds/Spring board DS Career track/Capstonetwo/data/Agent Single Line (67).csv\n",
      "C:/Users/kyu_k/OneDrive/Desktop/ds/Spring board DS Career track/Capstonetwo/data/Agent Single Line (68).csv\n"
     ]
    }
   ],
   "source": [
    "for i in range(1,69):        ####read csvs into dataframes\n",
    "    \n",
    "    filename = 'C:/Users/kyu_k/OneDrive/Desktop/ds/Spring board DS Career track/Capstonetwo/data/Agent Single Line (' + str(i) + ').csv'\n",
    "    dataframe = pd.read_csv(filename)\n",
    "    print(filename)\n",
    "    \n",
    "    if i == 1:\n",
    "        data_merged = dataframe\n",
    "        \n",
    "        \n",
    "    else:\n",
    "        data_merged = data_merged.append(dataframe)\n",
    "        \n",
    "        \n",
    "   "
   ]
  },
  {
   "cell_type": "code",
   "execution_count": 7,
   "metadata": {},
   "outputs": [],
   "source": [
    "data_merged.reset_index(inplace=True,drop = True)"
   ]
  },
  {
   "cell_type": "code",
   "execution_count": 8,
   "metadata": {},
   "outputs": [
    {
     "name": "stdout",
     "output_type": "stream",
     "text": [
      "(58107, 21)\n"
     ]
    }
   ],
   "source": [
    "print(data_merged.shape)"
   ]
  },
  {
   "cell_type": "code",
   "execution_count": 9,
   "metadata": {},
   "outputs": [
    {
     "name": "stdout",
     "output_type": "stream",
     "text": [
      "   #       MLS# Status Status Change Timestamp Prop Type  \\\n",
      "0  1  170323774   CLSD                09/13/20        SF   \n",
      "1  1  170366202   CLSD                03/18/21        SF   \n",
      "2  1  170378716   CLSD                05/14/21        SF   \n",
      "3  1  170305413   CLSD                03/10/21        SF   \n",
      "4  1  170365013   CLSD                04/22/21        SF   \n",
      "\n",
      "               List/Closed Price           Address Unnamed: 7     City  Acres  \\\n",
      "0  LP: $3,750,000 CP: $3,750,000      213 Separate              Amenia  21.42   \n",
      "1  LP: $7,950,000 CP: $6,800,000  292 Wood Duck Rd              Amenia   0.32   \n",
      "2       LP: $150,000 CP: $97,500   64 Long Hill Rd             Andover   0.92   \n",
      "3      LP: $119,900 CP: $100,000       560 Route 6             Andover   4.63   \n",
      "4      LP: $170,000 CP: $150,000       7 Bailey Rd             Andover   1.49   \n",
      "\n",
      "   ... Sq Ft Est Heated Above Grade Style or Rent Type Rooms Total  \\\n",
      "0  ...                        4,392           Colonial          11   \n",
      "1  ...                        5,169       Contemporary           7   \n",
      "2  ...                        1,800           Colonial           7   \n",
      "3  ...                        1,724              Ranch           6   \n",
      "4  ...                        1,138           Bungalow           6   \n",
      "\n",
      "   Beds Total        Bathrooms               Garage/Park Year Built  DOM  \\\n",
      "0           4  3 Full & 1 Half     2 Car/Attached Garage     2007.0   22   \n",
      "1           5  5 Full & 1 Half     2 Car/Attached Garage     2018.0   56   \n",
      "2           3           1 Full  2 Car/Off Street Parking     1935.0    8   \n",
      "3           3           1 Full    Car/Off Street Parking     1948.0  231   \n",
      "4           3           1 Full     2 Car/Detached Garage     1923.0   69   \n",
      "\n",
      "         Listing Agent List Office  \n",
      "0         Graham Klemm      KLEM40  \n",
      "1  Elyse Harney Morris      HARN42  \n",
      "2        Mike Defosses      EXRE01  \n",
      "3             Team Rio      EXRE01  \n",
      "4   Erica L Molochnick      REDB01  \n",
      "\n",
      "[5 rows x 21 columns]\n"
     ]
    }
   ],
   "source": [
    "print(data_merged.head())"
   ]
  },
  {
   "cell_type": "markdown",
   "metadata": {},
   "source": [
    "Features like garage/park and list/closed price we are going to have to split the feature into 2 new columns."
   ]
  },
  {
   "cell_type": "code",
   "execution_count": 10,
   "metadata": {},
   "outputs": [
    {
     "name": "stdout",
     "output_type": "stream",
     "text": [
      "<class 'pandas.core.frame.DataFrame'>\n",
      "RangeIndex: 58107 entries, 0 to 58106\n",
      "Data columns (total 21 columns):\n",
      " #   Column                        Non-Null Count  Dtype  \n",
      "---  ------                        --------------  -----  \n",
      " 0   #                             58107 non-null  int64  \n",
      " 1   MLS#                          58107 non-null  object \n",
      " 2   Status                        58107 non-null  object \n",
      " 3   Status Change Timestamp       58107 non-null  object \n",
      " 4   Prop Type                     58107 non-null  object \n",
      " 5   List/Closed Price             58107 non-null  object \n",
      " 6   Address                       58107 non-null  object \n",
      " 7   Unnamed: 7                    58107 non-null  object \n",
      " 8   City                          58107 non-null  object \n",
      " 9   Acres                         46390 non-null  object \n",
      " 10  Sq Ft Total                   58107 non-null  object \n",
      " 11  Sq Ft Est Heated Above Grade  58090 non-null  object \n",
      " 12  Style or Rent Type            58106 non-null  object \n",
      " 13  Rooms Total                   58107 non-null  int64  \n",
      " 14  Beds Total                    58107 non-null  int64  \n",
      " 15  Bathrooms                     58088 non-null  object \n",
      " 16  Garage/Park                   58107 non-null  object \n",
      " 17  Year Built                    58103 non-null  float64\n",
      " 18  DOM                           58107 non-null  object \n",
      " 19  Listing Agent                 58107 non-null  object \n",
      " 20  List Office                   58107 non-null  object \n",
      "dtypes: float64(1), int64(3), object(17)\n",
      "memory usage: 9.3+ MB\n",
      "None\n"
     ]
    }
   ],
   "source": [
    "print(data_merged.info())"
   ]
  },
  {
   "cell_type": "markdown",
   "metadata": {},
   "source": [
    "Features like Acres need to be examined for null values.  Acres, Sqft, Bathrooms need to be converted into numeric values."
   ]
  },
  {
   "cell_type": "code",
   "execution_count": 11,
   "metadata": {},
   "outputs": [
    {
     "data": {
      "text/html": [
       "<div>\n",
       "<style scoped>\n",
       "    .dataframe tbody tr th:only-of-type {\n",
       "        vertical-align: middle;\n",
       "    }\n",
       "\n",
       "    .dataframe tbody tr th {\n",
       "        vertical-align: top;\n",
       "    }\n",
       "\n",
       "    .dataframe thead th {\n",
       "        text-align: right;\n",
       "    }\n",
       "</style>\n",
       "<table border=\"1\" class=\"dataframe\">\n",
       "  <thead>\n",
       "    <tr style=\"text-align: right;\">\n",
       "      <th></th>\n",
       "      <th>#</th>\n",
       "      <th>Rooms Total</th>\n",
       "      <th>Beds Total</th>\n",
       "      <th>Year Built</th>\n",
       "    </tr>\n",
       "  </thead>\n",
       "  <tbody>\n",
       "    <tr>\n",
       "      <th>count</th>\n",
       "      <td>58107.000000</td>\n",
       "      <td>58107.000000</td>\n",
       "      <td>58107.000000</td>\n",
       "      <td>58103.000000</td>\n",
       "    </tr>\n",
       "    <tr>\n",
       "      <th>mean</th>\n",
       "      <td>1692.818542</td>\n",
       "      <td>6.868381</td>\n",
       "      <td>3.149053</td>\n",
       "      <td>1964.649244</td>\n",
       "    </tr>\n",
       "    <tr>\n",
       "      <th>std</th>\n",
       "      <td>1466.930825</td>\n",
       "      <td>2.385229</td>\n",
       "      <td>1.023004</td>\n",
       "      <td>39.048374</td>\n",
       "    </tr>\n",
       "    <tr>\n",
       "      <th>min</th>\n",
       "      <td>1.000000</td>\n",
       "      <td>0.000000</td>\n",
       "      <td>0.000000</td>\n",
       "      <td>0.000000</td>\n",
       "    </tr>\n",
       "    <tr>\n",
       "      <th>25%</th>\n",
       "      <td>1.000000</td>\n",
       "      <td>5.000000</td>\n",
       "      <td>3.000000</td>\n",
       "      <td>1951.000000</td>\n",
       "    </tr>\n",
       "    <tr>\n",
       "      <th>50%</th>\n",
       "      <td>1501.000000</td>\n",
       "      <td>7.000000</td>\n",
       "      <td>3.000000</td>\n",
       "      <td>1969.000000</td>\n",
       "    </tr>\n",
       "    <tr>\n",
       "      <th>75%</th>\n",
       "      <td>3001.000000</td>\n",
       "      <td>8.000000</td>\n",
       "      <td>4.000000</td>\n",
       "      <td>1988.000000</td>\n",
       "    </tr>\n",
       "    <tr>\n",
       "      <th>max</th>\n",
       "      <td>4501.000000</td>\n",
       "      <td>99.000000</td>\n",
       "      <td>15.000000</td>\n",
       "      <td>2021.000000</td>\n",
       "    </tr>\n",
       "  </tbody>\n",
       "</table>\n",
       "</div>"
      ],
      "text/plain": [
       "                  #   Rooms Total    Beds Total    Year Built\n",
       "count  58107.000000  58107.000000  58107.000000  58103.000000\n",
       "mean    1692.818542      6.868381      3.149053   1964.649244\n",
       "std     1466.930825      2.385229      1.023004     39.048374\n",
       "min        1.000000      0.000000      0.000000      0.000000\n",
       "25%        1.000000      5.000000      3.000000   1951.000000\n",
       "50%     1501.000000      7.000000      3.000000   1969.000000\n",
       "75%     3001.000000      8.000000      4.000000   1988.000000\n",
       "max     4501.000000     99.000000     15.000000   2021.000000"
      ]
     },
     "execution_count": 11,
     "metadata": {},
     "output_type": "execute_result"
    }
   ],
   "source": [
    "data_merged.describe()"
   ]
  },
  {
   "cell_type": "markdown",
   "metadata": {},
   "source": [
    "------------------------------------------------------------------------------------------"
   ]
  },
  {
   "cell_type": "markdown",
   "metadata": {},
   "source": [
    "# UNNAMED 7 "
   ]
  },
  {
   "cell_type": "code",
   "execution_count": 12,
   "metadata": {},
   "outputs": [
    {
     "name": "stdout",
     "output_type": "stream",
     "text": [
      "0         \n",
      "1         \n",
      "2         \n",
      "3         \n",
      "4         \n",
      "        ..\n",
      "58102     \n",
      "58103     \n",
      "58104     \n",
      "58105     \n",
      "58106     \n",
      "Name: Unnamed: 7, Length: 58107, dtype: object\n"
     ]
    }
   ],
   "source": [
    "print(data_merged['Unnamed: 7'])"
   ]
  },
  {
   "cell_type": "code",
   "execution_count": 13,
   "metadata": {},
   "outputs": [],
   "source": [
    "spaces=0\n",
    "nulls=0\n",
    "for i in data_merged['Unnamed: 7']:\n",
    "    if i == ' ':\n",
    "        spaces+=1\n",
    "    elif i is None:\n",
    "        nulls+=1\n",
    "        "
   ]
  },
  {
   "cell_type": "code",
   "execution_count": 14,
   "metadata": {},
   "outputs": [
    {
     "name": "stdout",
     "output_type": "stream",
     "text": [
      "58107 0\n"
     ]
    }
   ],
   "source": [
    "print(spaces,nulls)"
   ]
  },
  {
   "cell_type": "code",
   "execution_count": 15,
   "metadata": {},
   "outputs": [],
   "source": [
    "data_merged = data_merged.drop('Unnamed: 7',axis=1)  #### dropp column"
   ]
  },
  {
   "cell_type": "markdown",
   "metadata": {},
   "source": [
    "Dropped Unnamed 7 feature as it contains no data"
   ]
  },
  {
   "cell_type": "markdown",
   "metadata": {},
   "source": [
    "----------------------------------------------------------------------------------"
   ]
  },
  {
   "cell_type": "markdown",
   "metadata": {},
   "source": [
    "# MLS Number "
   ]
  },
  {
   "cell_type": "markdown",
   "metadata": {},
   "source": [
    "MLS number is a unique identifier for each listing or observation"
   ]
  },
  {
   "cell_type": "code",
   "execution_count": 16,
   "metadata": {},
   "outputs": [
    {
     "data": {
      "text/plain": [
       "'Checks for duplicate MLS IDs in Dataset\\n'"
      ]
     },
     "execution_count": 16,
     "metadata": {},
     "output_type": "execute_result"
    }
   ],
   "source": [
    "\n",
    "\"\"\"Checks for duplicate MLS IDs in Dataset\n",
    "\"\"\""
   ]
  },
  {
   "cell_type": "code",
   "execution_count": 17,
   "metadata": {},
   "outputs": [
    {
     "data": {
      "text/plain": [
       "count     58107\n",
       "unique        1\n",
       "top       False\n",
       "freq      58107\n",
       "Name: MLS#, dtype: object"
      ]
     },
     "execution_count": 17,
     "metadata": {},
     "output_type": "execute_result"
    }
   ],
   "source": [
    "data_merged['MLS#'].duplicated().describe() "
   ]
  },
  {
   "cell_type": "markdown",
   "metadata": {},
   "source": [
    "There are no duplicate values in MLS number"
   ]
  },
  {
   "cell_type": "markdown",
   "metadata": {},
   "source": [
    "-----------------------------------------------------------------------"
   ]
  },
  {
   "cell_type": "markdown",
   "metadata": {},
   "source": [
    "# Status"
   ]
  },
  {
   "cell_type": "markdown",
   "metadata": {},
   "source": [
    "Status is whether listing is active or not.  Data was specifically pulled on closed listings"
   ]
  },
  {
   "cell_type": "code",
   "execution_count": 18,
   "metadata": {},
   "outputs": [
    {
     "name": "stdout",
     "output_type": "stream",
     "text": [
      "['CLSD']\n"
     ]
    }
   ],
   "source": [
    "print(data_merged['Status'].unique())"
   ]
  },
  {
   "cell_type": "markdown",
   "metadata": {},
   "source": [
    "\n",
    "All the observations have closed as their status"
   ]
  },
  {
   "cell_type": "markdown",
   "metadata": {},
   "source": [
    "***"
   ]
  },
  {
   "cell_type": "markdown",
   "metadata": {},
   "source": [
    "# Status Date Change  "
   ]
  },
  {
   "cell_type": "markdown",
   "metadata": {},
   "source": [
    "***"
   ]
  },
  {
   "cell_type": "markdown",
   "metadata": {},
   "source": [
    "# Prop Type"
   ]
  },
  {
   "cell_type": "markdown",
   "metadata": {},
   "source": [
    "Property type represents the type of ownership.  Data was limited to Single Family homes, condos, and co-operative"
   ]
  },
  {
   "cell_type": "code",
   "execution_count": 19,
   "metadata": {},
   "outputs": [
    {
     "name": "stdout",
     "output_type": "stream",
     "text": [
      "count     58107\n",
      "unique        3\n",
      "top          SF\n",
      "freq      46390\n",
      "Name: Prop Type, dtype: object\n"
     ]
    }
   ],
   "source": [
    "print(data_merged['Prop Type'].describe())"
   ]
  },
  {
   "cell_type": "code",
   "execution_count": 20,
   "metadata": {},
   "outputs": [],
   "source": [
    "\n",
    "#prop_types = (data_merged['Prop Type'].unique())\n",
    "#type_counts = []\n",
    "#for i in prop_types:\n",
    "#    count = [i,len(data_merged[data_merged['Prop Type']==i])]\n",
    "#    type_counts.append(count)\n",
    "#print(type_counts)\n"
   ]
  },
  {
   "cell_type": "code",
   "execution_count": 21,
   "metadata": {},
   "outputs": [],
   "source": [
    "###[['SF', 46390], ['CO', 11468], ['CP', 249]]"
   ]
  },
  {
   "cell_type": "code",
   "execution_count": 22,
   "metadata": {},
   "outputs": [
    {
     "data": {
      "text/plain": [
       "SF    46390\n",
       "CO    11468\n",
       "CP      249\n",
       "Name: Prop Type, dtype: int64"
      ]
     },
     "execution_count": 22,
     "metadata": {},
     "output_type": "execute_result"
    }
   ],
   "source": [
    "data_merged['Prop Type'].value_counts()"
   ]
  },
  {
   "cell_type": "code",
   "execution_count": 23,
   "metadata": {},
   "outputs": [
    {
     "data": {
      "text/plain": [
       "58107"
      ]
     },
     "execution_count": 23,
     "metadata": {},
     "output_type": "execute_result"
    }
   ],
   "source": [
    "###double check totals match\n",
    "data_merged['Prop Type'].value_counts().sum()"
   ]
  },
  {
   "cell_type": "markdown",
   "metadata": {},
   "source": [
    "All of the records are either Single Family, Condo, or Cooperative"
   ]
  },
  {
   "cell_type": "markdown",
   "metadata": {},
   "source": [
    "***"
   ]
  },
  {
   "cell_type": "markdown",
   "metadata": {},
   "source": [
    "# List/Closed Price "
   ]
  },
  {
   "cell_type": "markdown",
   "metadata": {},
   "source": [
    "List/Closed Price contains both the original listing price from the date the propert hit the market and the closed price when it was sold"
   ]
  },
  {
   "cell_type": "code",
   "execution_count": 24,
   "metadata": {},
   "outputs": [
    {
     "name": "stdout",
     "output_type": "stream",
     "text": [
      "0        LP: $3,750,000 CP: $3,750,000\n",
      "1        LP: $7,950,000 CP: $6,800,000\n",
      "2             LP: $150,000 CP: $97,500\n",
      "3            LP: $119,900 CP: $100,000\n",
      "4            LP: $170,000 CP: $150,000\n",
      "                     ...              \n",
      "58102        LP: $675,000 CP: $705,000\n",
      "58103    LP: $2,100,000 CP: $2,000,000\n",
      "58104        LP: $889,900 CP: $930,000\n",
      "58105    LP: $1,249,000 CP: $1,210,000\n",
      "58106    LP: $2,300,000 CP: $2,500,000\n",
      "Name: List/Closed Price, Length: 58107, dtype: object\n"
     ]
    }
   ],
   "source": [
    "print(data_merged['List/Closed Price'])\n"
   ]
  },
  {
   "cell_type": "code",
   "execution_count": 25,
   "metadata": {},
   "outputs": [
    {
     "name": "stdout",
     "output_type": "stream",
     "text": [
      "LP: $3,750,000 CP: $3,750,000\n"
     ]
    }
   ],
   "source": [
    "print (data_merged.loc[0,'List/Closed Price'])"
   ]
  },
  {
   "cell_type": "markdown",
   "metadata": {},
   "source": [
    "The list and closed price have to be separated into new columns and converted to numeric values "
   ]
  },
  {
   "cell_type": "code",
   "execution_count": 26,
   "metadata": {},
   "outputs": [],
   "source": [
    "\n",
    "\n",
    "###data_merged['list_price'] = 0 \n",
    "###data_merged['close_price'] = 0\n",
    "  \n",
    "\n",
    "#for i in range(0,len(data_merged['List/Closed Price'])):\n",
    "       \n",
    " \n",
    "#    listLPCP = data_merged['List/Closed Price'][i].split(' ')\n",
    "#    data_merged.loc[i,'close_price'] = listLPCP[3]\n",
    "#    data_merged.loc[i,'list_price'] = listLPCP[1]\n",
    "    \n",
    "   "
   ]
  },
  {
   "cell_type": "code",
   "execution_count": 27,
   "metadata": {},
   "outputs": [],
   "source": [
    "data_merged['List/Closed Price']=  data_merged['List/Closed Price'].apply(lambda x: x.split(' ') )"
   ]
  },
  {
   "cell_type": "code",
   "execution_count": 28,
   "metadata": {},
   "outputs": [
    {
     "name": "stdout",
     "output_type": "stream",
     "text": [
      "0    [LP:, $3,750,000, CP:, $3,750,000]\n",
      "1    [LP:, $7,950,000, CP:, $6,800,000]\n",
      "2         [LP:, $150,000, CP:, $97,500]\n",
      "3        [LP:, $119,900, CP:, $100,000]\n",
      "4        [LP:, $170,000, CP:, $150,000]\n",
      "Name: List/Closed Price, dtype: object\n"
     ]
    }
   ],
   "source": [
    "print(data_merged['List/Closed Price'].head())"
   ]
  },
  {
   "cell_type": "code",
   "execution_count": 29,
   "metadata": {},
   "outputs": [],
   "source": [
    "for i in data_merged['List/Closed Price']:                           ####checking position of items to confirm list price and closed price are in correct position\n",
    "    if \"L\" not in i[0]:\n",
    "        print('Check')\n",
    "    elif \"C\" not in i[2]: \n",
    "         print('Check')"
   ]
  },
  {
   "cell_type": "code",
   "execution_count": 30,
   "metadata": {},
   "outputs": [],
   "source": [
    "data_merged['list_price']=  data_merged['List/Closed Price'].apply(lambda x: x[1])    #####creates new columns"
   ]
  },
  {
   "cell_type": "code",
   "execution_count": 31,
   "metadata": {},
   "outputs": [],
   "source": [
    "data_merged['close_price']=  data_merged['List/Closed Price'].apply(lambda x: x[3] )"
   ]
  },
  {
   "cell_type": "code",
   "execution_count": 32,
   "metadata": {},
   "outputs": [],
   "source": [
    "data_merged = data_merged.drop('List/Closed Price',axis=1)  #### dropp column"
   ]
  },
  {
   "cell_type": "markdown",
   "metadata": {},
   "source": [
    " "
   ]
  },
  {
   "cell_type": "markdown",
   "metadata": {},
   "source": [
    " "
   ]
  },
  {
   "cell_type": "markdown",
   "metadata": {},
   "source": [
    "### List Price"
   ]
  },
  {
   "cell_type": "code",
   "execution_count": 33,
   "metadata": {},
   "outputs": [
    {
     "data": {
      "text/plain": [
       "0    $3,750,000\n",
       "1    $7,950,000\n",
       "2      $150,000\n",
       "3      $119,900\n",
       "4      $170,000\n",
       "Name: list_price, dtype: object"
      ]
     },
     "execution_count": 33,
     "metadata": {},
     "output_type": "execute_result"
    }
   ],
   "source": [
    "data_merged['list_price'].head()"
   ]
  },
  {
   "cell_type": "markdown",
   "metadata": {},
   "source": [
    "Need to remove special characters"
   ]
  },
  {
   "cell_type": "code",
   "execution_count": 34,
   "metadata": {},
   "outputs": [],
   "source": [
    " #### remove special characters, converts to numeric\n",
    "\n",
    "data_merged['list_price'] = data_merged['list_price'].str.replace('$','')\n",
    "data_merged['list_price'] = data_merged['list_price'].str.replace(',','')\n",
    "data_merged['list_price'] = data_merged['list_price'].str.replace('\\xa0','')\n",
    "data_merged['list_price'] = pd.to_numeric(data_merged['list_price']) \n"
   ]
  },
  {
   "cell_type": "markdown",
   "metadata": {},
   "source": [
    "Character \\xa0 was the issue"
   ]
  },
  {
   "cell_type": "markdown",
   "metadata": {},
   "source": [
    "### Close Price"
   ]
  },
  {
   "cell_type": "code",
   "execution_count": 35,
   "metadata": {},
   "outputs": [],
   "source": [
    "data_merged['close_price'] = data_merged['close_price'].str.replace('$','')\n",
    "data_merged['close_price'] = data_merged['close_price'].str.replace(',','')\n",
    "data_merged['close_price'] = data_merged['close_price'].str.replace('\\xa0','')\n",
    "data_merged['close_price'] = pd.to_numeric(data_merged['close_price'])"
   ]
  },
  {
   "cell_type": "code",
   "execution_count": 36,
   "metadata": {},
   "outputs": [
    {
     "data": {
      "text/plain": [
       "count       58107.000000\n",
       "mean       450050.699503\n",
       "std        558295.500067\n",
       "min          4900.000000\n",
       "25%        210000.000000\n",
       "50%        299900.000000\n",
       "75%        469900.000000\n",
       "max      16750000.000000\n",
       "Name: list_price, dtype: object"
      ]
     },
     "execution_count": 36,
     "metadata": {},
     "output_type": "execute_result"
    }
   ],
   "source": [
    "data_merged['list_price'].describe().apply(lambda x: format(x, 'f')) ####apply to remove sci notation"
   ]
  },
  {
   "cell_type": "code",
   "execution_count": 37,
   "metadata": {},
   "outputs": [
    {
     "data": {
      "text/plain": [
       "count       58107.000000\n",
       "mean       447640.698504\n",
       "std        538819.805630\n",
       "min          7500.000000\n",
       "25%        215000.000000\n",
       "50%        306000.000000\n",
       "75%        475000.000000\n",
       "max      16500000.000000\n",
       "Name: close_price, dtype: object"
      ]
     },
     "execution_count": 37,
     "metadata": {},
     "output_type": "execute_result"
    }
   ],
   "source": [
    "data_merged['close_price'].describe().apply(lambda x: format(x, 'f'))  ####apply to remove sci notation"
   ]
  },
  {
   "cell_type": "markdown",
   "metadata": {},
   "source": [
    "The following was used to process List/Closed price.  \n",
    "1. List price was split from close price \n",
    "2. They are then put into their own columns\n",
    "3. Special characters are removed both columns\n",
    "4. The columns are converted into numeric"
   ]
  },
  {
   "cell_type": "markdown",
   "metadata": {},
   "source": [
    "***"
   ]
  },
  {
   "cell_type": "markdown",
   "metadata": {},
   "source": [
    "# Address "
   ]
  },
  {
   "cell_type": "markdown",
   "metadata": {},
   "source": [
    "House number and street name of property listing"
   ]
  },
  {
   "cell_type": "code",
   "execution_count": 38,
   "metadata": {},
   "outputs": [
    {
     "data": {
      "text/plain": [
       "0        213 Separate\n",
       "1    292 Wood Duck Rd\n",
       "2     64 Long Hill Rd\n",
       "3         560 Route 6\n",
       "4         7 Bailey Rd\n",
       "Name: Address, dtype: object"
      ]
     },
     "execution_count": 38,
     "metadata": {},
     "output_type": "execute_result"
    }
   ],
   "source": [
    "data_merged['Address'].head()"
   ]
  },
  {
   "cell_type": "code",
   "execution_count": 39,
   "metadata": {},
   "outputs": [
    {
     "data": {
      "text/plain": [
       "count           58107\n",
       "unique          56877\n",
       "top       15 Ridge Rd\n",
       "freq                4\n",
       "Name: Address, dtype: object"
      ]
     },
     "execution_count": 39,
     "metadata": {},
     "output_type": "execute_result"
    }
   ],
   "source": [
    "data_merged['Address'].describe()"
   ]
  },
  {
   "cell_type": "code",
   "execution_count": 40,
   "metadata": {},
   "outputs": [],
   "source": [
    "#df.apply(lambda x: func(x['col1'],x['col2']),axis=1)\n"
   ]
  },
  {
   "cell_type": "code",
   "execution_count": 41,
   "metadata": {},
   "outputs": [],
   "source": [
    "#data_merged['Address']=  data_merged['Address'].apply(lambda x: x.split(' ',1) )  ###splits street name from house number"
   ]
  },
  {
   "cell_type": "code",
   "execution_count": 42,
   "metadata": {},
   "outputs": [],
   "source": [
    "#data_merged['Address'].head()\n"
   ]
  },
  {
   "cell_type": "markdown",
   "metadata": {},
   "source": [
    "-----------------------------------------------------------------------"
   ]
  },
  {
   "cell_type": "markdown",
   "metadata": {},
   "source": [
    "# City"
   ]
  },
  {
   "cell_type": "markdown",
   "metadata": {},
   "source": [
    "Name of the city where property listing is located"
   ]
  },
  {
   "cell_type": "code",
   "execution_count": 43,
   "metadata": {},
   "outputs": [],
   "source": [
    "###Check for nulls "
   ]
  },
  {
   "cell_type": "code",
   "execution_count": 44,
   "metadata": {},
   "outputs": [
    {
     "data": {
      "text/plain": [
       "Stamford         2048\n",
       "Norwalk          1464\n",
       "Waterbury        1324\n",
       "Fairfield        1319\n",
       "Bridgeport       1219\n",
       "Danbury          1158\n",
       "West Hartford    1126\n",
       "Stratford        1077\n",
       "Hamden           1007\n",
       "Milford           975\n",
       "Name: City, dtype: int64"
      ]
     },
     "execution_count": 44,
     "metadata": {},
     "output_type": "execute_result"
    }
   ],
   "source": [
    "data_merged['City'].value_counts().head(10)"
   ]
  },
  {
   "cell_type": "code",
   "execution_count": 45,
   "metadata": {},
   "outputs": [
    {
     "data": {
      "text/plain": [
       "False    58107\n",
       "Name: City, dtype: int64"
      ]
     },
     "execution_count": 45,
     "metadata": {},
     "output_type": "execute_result"
    }
   ],
   "source": [
    "data_merged['City'].isnull().value_counts()"
   ]
  },
  {
   "cell_type": "markdown",
   "metadata": {},
   "source": [
    "There are no nulls in the City column"
   ]
  },
  {
   "cell_type": "markdown",
   "metadata": {},
   "source": [
    "_____________________________________________________________________________"
   ]
  },
  {
   "cell_type": "markdown",
   "metadata": {},
   "source": [
    "# ACRES"
   ]
  },
  {
   "cell_type": "markdown",
   "metadata": {},
   "source": [
    "Acres is the area of the land which the property sits"
   ]
  },
  {
   "cell_type": "code",
   "execution_count": 46,
   "metadata": {},
   "outputs": [
    {
     "data": {
      "text/plain": [
       "count     46390.00\n",
       "unique     1870.00\n",
       "top           0.17\n",
       "freq        942.00\n",
       "Name: Acres, dtype: float64"
      ]
     },
     "execution_count": 46,
     "metadata": {},
     "output_type": "execute_result"
    }
   ],
   "source": [
    "data_merged['Acres'].describe()  ###### check for nulls"
   ]
  },
  {
   "cell_type": "code",
   "execution_count": 47,
   "metadata": {},
   "outputs": [
    {
     "data": {
      "text/plain": [
       "False    46390\n",
       "True     11717\n",
       "Name: Acres, dtype: int64"
      ]
     },
     "execution_count": 47,
     "metadata": {},
     "output_type": "execute_result"
    }
   ],
   "source": [
    "(data_merged['Acres'].isnull()).value_counts()"
   ]
  },
  {
   "cell_type": "code",
   "execution_count": 48,
   "metadata": {},
   "outputs": [
    {
     "data": {
      "text/plain": [
       "True    58107\n",
       "dtype: int64"
      ]
     },
     "execution_count": 48,
     "metadata": {},
     "output_type": "execute_result"
    }
   ],
   "source": [
    "((data_merged['Acres'].isnull()) == (data_merged['Prop Type']!='SF')).value_counts()   ### Checks if missing plot size are not single family homes"
   ]
  },
  {
   "cell_type": "markdown",
   "metadata": {},
   "source": [
    "Nulls look like they are confined to none Single family dwellings"
   ]
  },
  {
   "cell_type": "code",
   "execution_count": 49,
   "metadata": {},
   "outputs": [
    {
     "data": {
      "text/plain": [
       "0.17    942\n",
       "1.00    780\n",
       "0.23    773\n",
       "0.11    727\n",
       "0.14    696\n",
       "0.18    631\n",
       "0.29    573\n",
       "0.46    570\n",
       "0.28    555\n",
       "0.00    547\n",
       "Name: Acres, dtype: int64"
      ]
     },
     "execution_count": 49,
     "metadata": {},
     "output_type": "execute_result"
    }
   ],
   "source": [
    "data_merged['Acres'].value_counts().head(10)"
   ]
  },
  {
   "cell_type": "code",
   "execution_count": 50,
   "metadata": {},
   "outputs": [
    {
     "data": {
      "text/plain": [
       "count     46390.00\n",
       "unique     1870.00\n",
       "top           0.17\n",
       "freq        942.00\n",
       "Name: Acres, dtype: float64"
      ]
     },
     "execution_count": 50,
     "metadata": {},
     "output_type": "execute_result"
    }
   ],
   "source": [
    "data_merged['Acres'].describe()"
   ]
  },
  {
   "cell_type": "code",
   "execution_count": 51,
   "metadata": {},
   "outputs": [
    {
     "data": {
      "text/plain": [
       "dtype('O')"
      ]
     },
     "execution_count": 51,
     "metadata": {},
     "output_type": "execute_result"
    }
   ],
   "source": [
    "data_merged['Acres'].dtypes"
   ]
  },
  {
   "cell_type": "code",
   "execution_count": 52,
   "metadata": {},
   "outputs": [],
   "source": [
    "data_merged['Acres'] = data_merged['Acres'].apply(lambda x: str(x).replace(',','') if (',' in str(x)) else x )"
   ]
  },
  {
   "cell_type": "markdown",
   "metadata": {},
   "source": [
    "The Acres column is mixed numeric objects and string objects"
   ]
  },
  {
   "cell_type": "code",
   "execution_count": 53,
   "metadata": {},
   "outputs": [],
   "source": [
    "#for i in data_merged['Acres']:\n",
    "#    if type(i) != float:\n",
    "#            \n",
    "#        print(i)\n",
    "#        print(float(i))\n",
    "#        \n",
    "#        print(type(i))\n",
    "#        print(i.isnumeric())\n",
    "#       \n",
    "        \n"
   ]
  },
  {
   "cell_type": "code",
   "execution_count": 54,
   "metadata": {},
   "outputs": [],
   "source": [
    "data_merged['Acres'] = data_merged['Acres'].apply(lambda x: float(x))  ### Covert all obseravtions to float objects"
   ]
  },
  {
   "cell_type": "code",
   "execution_count": 55,
   "metadata": {},
   "outputs": [
    {
     "data": {
      "text/plain": [
       "count    46390.000000\n",
       "mean         1.992514\n",
       "std         89.135904\n",
       "min          0.000000\n",
       "25%          0.240000\n",
       "50%          0.480000\n",
       "75%          1.140000\n",
       "max      12911.000000\n",
       "Name: Acres, dtype: float64"
      ]
     },
     "execution_count": 55,
     "metadata": {},
     "output_type": "execute_result"
    }
   ],
   "source": [
    "data_merged['Acres'].describe() "
   ]
  },
  {
   "cell_type": "markdown",
   "metadata": {},
   "source": [
    "The ramianing nulls in the Acre column will be converted to 0's.  The already existing 0's should be examined"
   ]
  },
  {
   "cell_type": "code",
   "execution_count": 56,
   "metadata": {},
   "outputs": [
    {
     "data": {
      "text/plain": [
       "673"
      ]
     },
     "execution_count": 56,
     "metadata": {},
     "output_type": "execute_result"
    }
   ],
   "source": [
    "len(data_merged.loc[data_merged['Acres']==0 ])"
   ]
  },
  {
   "cell_type": "markdown",
   "metadata": {},
   "source": [
    "There are potentially mislabelled Prop type if Single family dwellings have 0 acres recorded"
   ]
  },
  {
   "cell_type": "code",
   "execution_count": 57,
   "metadata": {},
   "outputs": [
    {
     "data": {
      "text/plain": [
       "673"
      ]
     },
     "execution_count": 57,
     "metadata": {},
     "output_type": "execute_result"
    }
   ],
   "source": [
    "len(data_merged.loc[ ((data_merged['Acres']== 0) \n",
    "                & (data_merged['Prop Type'] =='SF')) \n",
    "                ])"
   ]
  },
  {
   "cell_type": "code",
   "execution_count": 58,
   "metadata": {},
   "outputs": [
    {
     "data": {
      "text/plain": [
       "470               10 Owl Ct, Unit #10\n",
       "907          3 Lakeview Rise, Unit #3\n",
       "913       16 Twin Oaks Trl, Unit #134\n",
       "915                  10 Woodland Path\n",
       "978                   501 Berlin Tpke\n",
       "                     ...             \n",
       "57544              lot 49 Heritage Hl\n",
       "57550              Lot 15 Heritage Hl\n",
       "57565        15 Heritage Ct, Unit #15\n",
       "57571    32 Constitution Dr, Unit #32\n",
       "57965            25 197 Rte, Unit #41\n",
       "Name: Address, Length: 673, dtype: object"
      ]
     },
     "execution_count": 58,
     "metadata": {},
     "output_type": "execute_result"
    }
   ],
   "source": [
    "data_merged.loc[ (data_merged['Acres']== 0)]['Address']"
   ]
  },
  {
   "cell_type": "code",
   "execution_count": 59,
   "metadata": {},
   "outputs": [],
   "source": [
    "test =''\n",
    "for i in data_merged['Address'].loc[ (data_merged['Acres']== 0)]:\n",
    "          \n",
    "        test = test + i\n",
    "        \n",
    "\n",
    "mapping = [ (',', ''), ('1', ''), ('2', ''), ('3', ''), ('4', ''), ('5', ''), ('6', ''), ('7', ''), ('8', ''), ('9', ''), ('0', '') ]\n",
    "for a, b in mapping:\n",
    "    test = test.replace(a, b)\n",
    "test = test.split(' ')\n",
    "test = pd.DataFrame(test)"
   ]
  },
  {
   "cell_type": "code",
   "execution_count": 60,
   "metadata": {},
   "outputs": [
    {
     "data": {
      "text/plain": [
       "Unit          360\n",
       "#             328\n",
       "Rd            186\n",
       "Dr             87\n",
       "St             73\n",
       "Ln             66\n",
       "Ct             43\n",
       "Cir            37\n",
       "Way            35\n",
       "Old            22\n",
       "Main           21\n",
       "Ave            19\n",
       "Trl            16\n",
       "Brook          15\n",
       "Hill           14\n",
       "Colony         13\n",
       "Woodland       13\n",
       "Park           13\n",
       "R              12\n",
       "Ter            12\n",
       "Hunters        12\n",
       "N.             12\n",
       "Kelly          11\n",
       "S.             11\n",
       "Village        11\n",
       "               11\n",
       "Heritage        9\n",
       "Cambridge       9\n",
       "#A              9\n",
       "Copper          9\n",
       "Windermere      9\n",
       "Ridge           9\n",
       "Laurel          8\n",
       "Colchester      8\n",
       "Island          8\n",
       "Tpke            8\n",
       "Leetes          7\n",
       "Prospect        7\n",
       "Carson          7\n",
       "Cmns            7\n",
       "Allentown       7\n",
       "And             6\n",
       "Meadow          6\n",
       "Whitewood       6\n",
       "Circle          6\n",
       "Pond            6\n",
       "Shore           6\n",
       "North           6\n",
       "dtype: int64"
      ]
     },
     "execution_count": 60,
     "metadata": {},
     "output_type": "execute_result"
    }
   ],
   "source": [
    "test.value_counts()[test.value_counts()>5]"
   ]
  },
  {
   "cell_type": "markdown",
   "metadata": {},
   "source": [
    "Potentially 360 of these obeservations are mislabeled having 0 acres and unit in address suggesting condo or leased land\n",
    "Should these be recoded.  They will be dropped for now"
   ]
  },
  {
   "cell_type": "code",
   "execution_count": 61,
   "metadata": {},
   "outputs": [],
   "source": [
    "data_merged = data_merged[data_merged['Acres'] != 0]"
   ]
  },
  {
   "cell_type": "code",
   "execution_count": 62,
   "metadata": {},
   "outputs": [
    {
     "data": {
      "text/plain": [
       "False    45717\n",
       "True     11717\n",
       "Name: Acres, dtype: int64"
      ]
     },
     "execution_count": 62,
     "metadata": {},
     "output_type": "execute_result"
    }
   ],
   "source": [
    "data_merged['Acres'].isnull().value_counts()"
   ]
  },
  {
   "cell_type": "code",
   "execution_count": 63,
   "metadata": {},
   "outputs": [],
   "source": [
    "data_merged['Acres'] = data_merged['Acres'].apply(lambda x: 0 if (np.isnan(x)) else x)   ### Turn Nulls into 0 "
   ]
  },
  {
   "cell_type": "code",
   "execution_count": 64,
   "metadata": {},
   "outputs": [
    {
     "data": {
      "text/plain": [
       "count    57434.000000\n",
       "mean         1.609373\n",
       "std         80.112502\n",
       "min          0.000000\n",
       "25%          0.130000\n",
       "50%          0.340000\n",
       "75%          1.000000\n",
       "max      12911.000000\n",
       "Name: Acres, dtype: float64"
      ]
     },
     "execution_count": 64,
     "metadata": {},
     "output_type": "execute_result"
    }
   ],
   "source": [
    "data_merged['Acres'].describe()"
   ]
  },
  {
   "cell_type": "markdown",
   "metadata": {},
   "source": [
    "The Acres feature was processed as follows:\n",
    "1. Was checked for null values.  Accounted for 12k observations that corresponded to condo/co-op properties\n",
    "2. Commas are removed from numerical strings, strings are then converted to float\n",
    "3. There are 673 obeservations with 0 acres reported.  362 maybe mislabeled condos.  All 673 dropped\n",
    "4. Null values are recoded to 0"
   ]
  },
  {
   "cell_type": "markdown",
   "metadata": {},
   "source": [
    "***"
   ]
  },
  {
   "cell_type": "markdown",
   "metadata": {},
   "source": [
    "# SQFT TOTAL"
   ]
  },
  {
   "cell_type": "markdown",
   "metadata": {},
   "source": [
    "Total square feet of living space in the listing building"
   ]
  },
  {
   "cell_type": "code",
   "execution_count": 65,
   "metadata": {},
   "outputs": [
    {
     "data": {
      "text/plain": [
       "0        4,392\n",
       "1        5,169\n",
       "2        1,800\n",
       "3        1,724\n",
       "4        1,138\n",
       "         ...  \n",
       "58102    2,632\n",
       "58103    2,467\n",
       "58104    2,974\n",
       "58105    4,047\n",
       "58106    3,083\n",
       "Name: Sq Ft Total, Length: 57434, dtype: object"
      ]
     },
     "execution_count": 65,
     "metadata": {},
     "output_type": "execute_result"
    }
   ],
   "source": [
    "data_merged['Sq Ft Total']"
   ]
  },
  {
   "cell_type": "code",
   "execution_count": 66,
   "metadata": {},
   "outputs": [],
   "source": [
    "data_merged['Sq Ft Total'] = data_merged['Sq Ft Total'].str.replace(',','')   #### Remove commas"
   ]
  },
  {
   "cell_type": "code",
   "execution_count": 67,
   "metadata": {},
   "outputs": [],
   "source": [
    "data_merged['Sq Ft Total'] = pd.to_numeric(data_merged['Sq Ft Total'])        #### Convert to numeric"
   ]
  },
  {
   "cell_type": "code",
   "execution_count": 68,
   "metadata": {},
   "outputs": [
    {
     "data": {
      "text/plain": [
       "0    4392\n",
       "1    5169\n",
       "2    1800\n",
       "3    1724\n",
       "4    1138\n",
       "Name: Sq Ft Total, dtype: int64"
      ]
     },
     "execution_count": 68,
     "metadata": {},
     "output_type": "execute_result"
    }
   ],
   "source": [
    "data_merged['Sq Ft Total'].head()"
   ]
  },
  {
   "cell_type": "code",
   "execution_count": 69,
   "metadata": {},
   "outputs": [
    {
     "data": {
      "text/plain": [
       "count    57434.000000\n",
       "mean      2152.290925\n",
       "std       1449.656289\n",
       "min          0.000000\n",
       "25%       1302.000000\n",
       "50%       1793.000000\n",
       "75%       2565.000000\n",
       "max      99999.000000\n",
       "Name: Sq Ft Total, dtype: float64"
      ]
     },
     "execution_count": 69,
     "metadata": {},
     "output_type": "execute_result"
    }
   ],
   "source": [
    "data_merged['Sq Ft Total'].describe()"
   ]
  },
  {
   "cell_type": "code",
   "execution_count": 70,
   "metadata": {},
   "outputs": [
    {
     "data": {
      "text/html": [
       "<div>\n",
       "<style scoped>\n",
       "    .dataframe tbody tr th:only-of-type {\n",
       "        vertical-align: middle;\n",
       "    }\n",
       "\n",
       "    .dataframe tbody tr th {\n",
       "        vertical-align: top;\n",
       "    }\n",
       "\n",
       "    .dataframe thead th {\n",
       "        text-align: right;\n",
       "    }\n",
       "</style>\n",
       "<table border=\"1\" class=\"dataframe\">\n",
       "  <thead>\n",
       "    <tr style=\"text-align: right;\">\n",
       "      <th></th>\n",
       "      <th>#</th>\n",
       "      <th>MLS#</th>\n",
       "      <th>Status</th>\n",
       "      <th>Status Change Timestamp</th>\n",
       "      <th>Prop Type</th>\n",
       "      <th>Address</th>\n",
       "      <th>City</th>\n",
       "      <th>Acres</th>\n",
       "      <th>Sq Ft Total</th>\n",
       "      <th>Sq Ft Est Heated Above Grade</th>\n",
       "      <th>...</th>\n",
       "      <th>Rooms Total</th>\n",
       "      <th>Beds Total</th>\n",
       "      <th>Bathrooms</th>\n",
       "      <th>Garage/Park</th>\n",
       "      <th>Year Built</th>\n",
       "      <th>DOM</th>\n",
       "      <th>Listing Agent</th>\n",
       "      <th>List Office</th>\n",
       "      <th>list_price</th>\n",
       "      <th>close_price</th>\n",
       "    </tr>\n",
       "  </thead>\n",
       "  <tbody>\n",
       "    <tr>\n",
       "      <th>42942</th>\n",
       "      <td>1001</td>\n",
       "      <td>E10196431</td>\n",
       "      <td>CLSD</td>\n",
       "      <td>10/19/20</td>\n",
       "      <td>CO</td>\n",
       "      <td>4 Northwest St, Unit #B44</td>\n",
       "      <td>Stonington</td>\n",
       "      <td>0.0</td>\n",
       "      <td>0</td>\n",
       "      <td>NaN</td>\n",
       "      <td>...</td>\n",
       "      <td>0</td>\n",
       "      <td>0</td>\n",
       "      <td>NaN</td>\n",
       "      <td>1 Car/Open</td>\n",
       "      <td>1980.0</td>\n",
       "      <td>1,288</td>\n",
       "      <td>Kathy Michalove</td>\n",
       "      <td>SEABRD00</td>\n",
       "      <td>26000</td>\n",
       "      <td>23000</td>\n",
       "    </tr>\n",
       "  </tbody>\n",
       "</table>\n",
       "<p>1 rows × 21 columns</p>\n",
       "</div>"
      ],
      "text/plain": [
       "          #       MLS# Status Status Change Timestamp Prop Type  \\\n",
       "42942  1001  E10196431   CLSD                10/19/20        CO   \n",
       "\n",
       "                         Address        City  Acres  Sq Ft Total  \\\n",
       "42942  4 Northwest St, Unit #B44  Stonington    0.0            0   \n",
       "\n",
       "      Sq Ft Est Heated Above Grade  ... Rooms Total  Beds Total  Bathrooms  \\\n",
       "42942                          NaN  ...           0           0        NaN   \n",
       "\n",
       "      Garage/Park Year Built    DOM    Listing Agent List Office list_price  \\\n",
       "42942  1 Car/Open     1980.0  1,288  Kathy Michalove    SEABRD00      26000   \n",
       "\n",
       "       close_price  \n",
       "42942        23000  \n",
       "\n",
       "[1 rows x 21 columns]"
      ]
     },
     "execution_count": 70,
     "metadata": {},
     "output_type": "execute_result"
    }
   ],
   "source": [
    "data_merged[data_merged['Sq Ft Total']==0]"
   ]
  },
  {
   "cell_type": "code",
   "execution_count": 71,
   "metadata": {},
   "outputs": [],
   "source": [
    "data_merged.drop([42942],inplace=True)      ### Remove 0 Values"
   ]
  },
  {
   "cell_type": "code",
   "execution_count": 72,
   "metadata": {},
   "outputs": [
    {
     "data": {
      "text/html": [
       "<div>\n",
       "<style scoped>\n",
       "    .dataframe tbody tr th:only-of-type {\n",
       "        vertical-align: middle;\n",
       "    }\n",
       "\n",
       "    .dataframe tbody tr th {\n",
       "        vertical-align: top;\n",
       "    }\n",
       "\n",
       "    .dataframe thead th {\n",
       "        text-align: right;\n",
       "    }\n",
       "</style>\n",
       "<table border=\"1\" class=\"dataframe\">\n",
       "  <thead>\n",
       "    <tr style=\"text-align: right;\">\n",
       "      <th></th>\n",
       "      <th>#</th>\n",
       "      <th>MLS#</th>\n",
       "      <th>Status</th>\n",
       "      <th>Status Change Timestamp</th>\n",
       "      <th>Prop Type</th>\n",
       "      <th>Address</th>\n",
       "      <th>City</th>\n",
       "      <th>Acres</th>\n",
       "      <th>Sq Ft Total</th>\n",
       "      <th>Sq Ft Est Heated Above Grade</th>\n",
       "      <th>...</th>\n",
       "      <th>Rooms Total</th>\n",
       "      <th>Beds Total</th>\n",
       "      <th>Bathrooms</th>\n",
       "      <th>Garage/Park</th>\n",
       "      <th>Year Built</th>\n",
       "      <th>DOM</th>\n",
       "      <th>Listing Agent</th>\n",
       "      <th>List Office</th>\n",
       "      <th>list_price</th>\n",
       "      <th>close_price</th>\n",
       "    </tr>\n",
       "  </thead>\n",
       "  <tbody>\n",
       "  </tbody>\n",
       "</table>\n",
       "<p>0 rows × 21 columns</p>\n",
       "</div>"
      ],
      "text/plain": [
       "Empty DataFrame\n",
       "Columns: [#, MLS#, Status, Status Change Timestamp, Prop Type, Address, City, Acres, Sq Ft Total, Sq Ft Est Heated Above Grade, Style or Rent Type, Rooms Total, Beds Total, Bathrooms, Garage/Park, Year Built, DOM, Listing Agent, List Office, list_price, close_price]\n",
       "Index: []\n",
       "\n",
       "[0 rows x 21 columns]"
      ]
     },
     "execution_count": 72,
     "metadata": {},
     "output_type": "execute_result"
    }
   ],
   "source": [
    "data_merged[data_merged['Sq Ft Total']==0]\n"
   ]
  },
  {
   "cell_type": "code",
   "execution_count": 73,
   "metadata": {},
   "outputs": [
    {
     "data": {
      "text/html": [
       "<div>\n",
       "<style scoped>\n",
       "    .dataframe tbody tr th:only-of-type {\n",
       "        vertical-align: middle;\n",
       "    }\n",
       "\n",
       "    .dataframe tbody tr th {\n",
       "        vertical-align: top;\n",
       "    }\n",
       "\n",
       "    .dataframe thead th {\n",
       "        text-align: right;\n",
       "    }\n",
       "</style>\n",
       "<table border=\"1\" class=\"dataframe\">\n",
       "  <thead>\n",
       "    <tr style=\"text-align: right;\">\n",
       "      <th></th>\n",
       "      <th>#</th>\n",
       "      <th>MLS#</th>\n",
       "      <th>Status</th>\n",
       "      <th>Status Change Timestamp</th>\n",
       "      <th>Prop Type</th>\n",
       "      <th>Address</th>\n",
       "      <th>City</th>\n",
       "      <th>Acres</th>\n",
       "      <th>Sq Ft Total</th>\n",
       "      <th>Sq Ft Est Heated Above Grade</th>\n",
       "      <th>...</th>\n",
       "      <th>Rooms Total</th>\n",
       "      <th>Beds Total</th>\n",
       "      <th>Bathrooms</th>\n",
       "      <th>Garage/Park</th>\n",
       "      <th>Year Built</th>\n",
       "      <th>DOM</th>\n",
       "      <th>Listing Agent</th>\n",
       "      <th>List Office</th>\n",
       "      <th>list_price</th>\n",
       "      <th>close_price</th>\n",
       "    </tr>\n",
       "  </thead>\n",
       "  <tbody>\n",
       "    <tr>\n",
       "      <th>13781</th>\n",
       "      <td>1</td>\n",
       "      <td>170369089</td>\n",
       "      <td>CLSD</td>\n",
       "      <td>03/30/21</td>\n",
       "      <td>CP</td>\n",
       "      <td>5 Putnam Park</td>\n",
       "      <td>Greenwich</td>\n",
       "      <td>0.0</td>\n",
       "      <td>99999</td>\n",
       "      <td>99,999</td>\n",
       "      <td>...</td>\n",
       "      <td>5</td>\n",
       "      <td>2</td>\n",
       "      <td>1 Full</td>\n",
       "      <td>Car/Detached Garage, On Street Parking</td>\n",
       "      <td>1950.0</td>\n",
       "      <td>20</td>\n",
       "      <td>Karen Oztemel</td>\n",
       "      <td>BHHS135</td>\n",
       "      <td>399000</td>\n",
       "      <td>399000</td>\n",
       "    </tr>\n",
       "    <tr>\n",
       "      <th>42943</th>\n",
       "      <td>1001</td>\n",
       "      <td>170192538</td>\n",
       "      <td>CLSD</td>\n",
       "      <td>10/19/20</td>\n",
       "      <td>CO</td>\n",
       "      <td>4 Northwest St, Unit #B43</td>\n",
       "      <td>Stonington</td>\n",
       "      <td>0.0</td>\n",
       "      <td>99999</td>\n",
       "      <td>99,999</td>\n",
       "      <td>...</td>\n",
       "      <td>1</td>\n",
       "      <td>0</td>\n",
       "      <td>2 Full</td>\n",
       "      <td>Car/Unassigned Parking</td>\n",
       "      <td>1983.0</td>\n",
       "      <td>484</td>\n",
       "      <td>Kathy Michalove</td>\n",
       "      <td>SEABRD00</td>\n",
       "      <td>27000</td>\n",
       "      <td>27000</td>\n",
       "    </tr>\n",
       "  </tbody>\n",
       "</table>\n",
       "<p>2 rows × 21 columns</p>\n",
       "</div>"
      ],
      "text/plain": [
       "          #       MLS# Status Status Change Timestamp Prop Type  \\\n",
       "13781     1  170369089   CLSD                03/30/21        CP   \n",
       "42943  1001  170192538   CLSD                10/19/20        CO   \n",
       "\n",
       "                         Address        City  Acres  Sq Ft Total  \\\n",
       "13781              5 Putnam Park   Greenwich    0.0        99999   \n",
       "42943  4 Northwest St, Unit #B43  Stonington    0.0        99999   \n",
       "\n",
       "      Sq Ft Est Heated Above Grade  ... Rooms Total  Beds Total  Bathrooms  \\\n",
       "13781                       99,999  ...           5           2     1 Full   \n",
       "42943                       99,999  ...           1           0     2 Full   \n",
       "\n",
       "                                   Garage/Park Year Built  DOM  \\\n",
       "13781   Car/Detached Garage, On Street Parking     1950.0   20   \n",
       "42943                   Car/Unassigned Parking     1983.0  484   \n",
       "\n",
       "         Listing Agent List Office list_price  close_price  \n",
       "13781    Karen Oztemel     BHHS135     399000       399000  \n",
       "42943  Kathy Michalove    SEABRD00      27000        27000  \n",
       "\n",
       "[2 rows x 21 columns]"
      ]
     },
     "execution_count": 73,
     "metadata": {},
     "output_type": "execute_result"
    }
   ],
   "source": [
    "data_merged[data_merged['Sq Ft Total']==99999]"
   ]
  },
  {
   "cell_type": "code",
   "execution_count": 74,
   "metadata": {},
   "outputs": [],
   "source": [
    "data_merged.drop([13781],inplace=True)                    #### Remove sqft == 99999\n",
    "data_merged.drop([42943],inplace=True)"
   ]
  },
  {
   "cell_type": "code",
   "execution_count": 75,
   "metadata": {},
   "outputs": [
    {
     "data": {
      "text/html": [
       "<div>\n",
       "<style scoped>\n",
       "    .dataframe tbody tr th:only-of-type {\n",
       "        vertical-align: middle;\n",
       "    }\n",
       "\n",
       "    .dataframe tbody tr th {\n",
       "        vertical-align: top;\n",
       "    }\n",
       "\n",
       "    .dataframe thead th {\n",
       "        text-align: right;\n",
       "    }\n",
       "</style>\n",
       "<table border=\"1\" class=\"dataframe\">\n",
       "  <thead>\n",
       "    <tr style=\"text-align: right;\">\n",
       "      <th></th>\n",
       "      <th>#</th>\n",
       "      <th>MLS#</th>\n",
       "      <th>Status</th>\n",
       "      <th>Status Change Timestamp</th>\n",
       "      <th>Prop Type</th>\n",
       "      <th>Address</th>\n",
       "      <th>City</th>\n",
       "      <th>Acres</th>\n",
       "      <th>Sq Ft Total</th>\n",
       "      <th>Sq Ft Est Heated Above Grade</th>\n",
       "      <th>...</th>\n",
       "      <th>Rooms Total</th>\n",
       "      <th>Beds Total</th>\n",
       "      <th>Bathrooms</th>\n",
       "      <th>Garage/Park</th>\n",
       "      <th>Year Built</th>\n",
       "      <th>DOM</th>\n",
       "      <th>Listing Agent</th>\n",
       "      <th>List Office</th>\n",
       "      <th>list_price</th>\n",
       "      <th>close_price</th>\n",
       "    </tr>\n",
       "  </thead>\n",
       "  <tbody>\n",
       "  </tbody>\n",
       "</table>\n",
       "<p>0 rows × 21 columns</p>\n",
       "</div>"
      ],
      "text/plain": [
       "Empty DataFrame\n",
       "Columns: [#, MLS#, Status, Status Change Timestamp, Prop Type, Address, City, Acres, Sq Ft Total, Sq Ft Est Heated Above Grade, Style or Rent Type, Rooms Total, Beds Total, Bathrooms, Garage/Park, Year Built, DOM, Listing Agent, List Office, list_price, close_price]\n",
       "Index: []\n",
       "\n",
       "[0 rows x 21 columns]"
      ]
     },
     "execution_count": 75,
     "metadata": {},
     "output_type": "execute_result"
    }
   ],
   "source": [
    "data_merged[data_merged['Sq Ft Total']==99999]"
   ]
  },
  {
   "cell_type": "code",
   "execution_count": 76,
   "metadata": {},
   "outputs": [
    {
     "data": {
      "text/plain": [
       "count    57431.000000\n",
       "mean      2148.920949\n",
       "std       1329.701949\n",
       "min         50.000000\n",
       "25%       1302.000000\n",
       "50%       1793.000000\n",
       "75%       2565.000000\n",
       "max      61184.000000\n",
       "Name: Sq Ft Total, dtype: float64"
      ]
     },
     "execution_count": 76,
     "metadata": {},
     "output_type": "execute_result"
    }
   ],
   "source": [
    "data_merged['Sq Ft Total'].describe()"
   ]
  },
  {
   "cell_type": "markdown",
   "metadata": {},
   "source": [
    "Total sqft was processed as follows:\n",
    "1. Special characters removed then string converted into numeric values\n",
    "2. 1 observation removed with 0 or 99999 reported sqft "
   ]
  },
  {
   "cell_type": "markdown",
   "metadata": {},
   "source": [
    "----------------------------------------------------------------------------------"
   ]
  },
  {
   "cell_type": "markdown",
   "metadata": {},
   "source": [
    "# Sq Ft Est Heated Above Grade "
   ]
  },
  {
   "cell_type": "markdown",
   "metadata": {},
   "source": [
    "Sqft heated above grade represents the Sqft of living space that doesn't include space from a finished basement."
   ]
  },
  {
   "cell_type": "code",
   "execution_count": 77,
   "metadata": {},
   "outputs": [
    {
     "data": {
      "text/plain": [
       "count     57415\n",
       "unique     5371\n",
       "top       1,008\n",
       "freq        413\n",
       "Name: Sq Ft Est Heated Above Grade, dtype: object"
      ]
     },
     "execution_count": 77,
     "metadata": {},
     "output_type": "execute_result"
    }
   ],
   "source": [
    "data_merged['Sq Ft Est Heated Above Grade'].describe()"
   ]
  },
  {
   "cell_type": "code",
   "execution_count": 78,
   "metadata": {},
   "outputs": [
    {
     "data": {
      "text/plain": [
       "0    4,392\n",
       "1    5,169\n",
       "2    1,800\n",
       "3    1,724\n",
       "4    1,138\n",
       "Name: Sq Ft Est Heated Above Grade, dtype: object"
      ]
     },
     "execution_count": 78,
     "metadata": {},
     "output_type": "execute_result"
    }
   ],
   "source": [
    "data_merged['Sq Ft Est Heated Above Grade'].head()"
   ]
  },
  {
   "cell_type": "code",
   "execution_count": 79,
   "metadata": {},
   "outputs": [],
   "source": [
    "data_merged['Sq Ft Est Heated Above Grade'] = data_merged['Sq Ft Est Heated Above Grade'].str.replace(',','')"
   ]
  },
  {
   "cell_type": "code",
   "execution_count": 80,
   "metadata": {},
   "outputs": [],
   "source": [
    "data_merged['Sq Ft Est Heated Above Grade'] = pd.to_numeric(data_merged['Sq Ft Est Heated Above Grade'])    "
   ]
  },
  {
   "cell_type": "code",
   "execution_count": 81,
   "metadata": {},
   "outputs": [
    {
     "data": {
      "text/plain": [
       "count    57415.000000\n",
       "mean      1943.185614\n",
       "std       1169.549355\n",
       "min         50.000000\n",
       "25%       1209.000000\n",
       "50%       1592.000000\n",
       "75%       2323.000000\n",
       "max      61184.000000\n",
       "Name: Sq Ft Est Heated Above Grade, dtype: float64"
      ]
     },
     "execution_count": 81,
     "metadata": {},
     "output_type": "execute_result"
    }
   ],
   "source": [
    "data_merged['Sq Ft Est Heated Above Grade'].describe()"
   ]
  },
  {
   "cell_type": "code",
   "execution_count": 82,
   "metadata": {},
   "outputs": [
    {
     "data": {
      "text/plain": [
       "13"
      ]
     },
     "execution_count": 82,
     "metadata": {},
     "output_type": "execute_result"
    }
   ],
   "source": [
    "len(data_merged[data_merged['Sq Ft Est Heated Above Grade']<=350])"
   ]
  },
  {
   "cell_type": "code",
   "execution_count": 83,
   "metadata": {},
   "outputs": [
    {
     "data": {
      "text/plain": [
       "False    57415\n",
       "True        16\n",
       "Name: Sq Ft Est Heated Above Grade, dtype: int64"
      ]
     },
     "execution_count": 83,
     "metadata": {},
     "output_type": "execute_result"
    }
   ],
   "source": [
    "data_merged['Sq Ft Est Heated Above Grade'].isnull().value_counts()"
   ]
  },
  {
   "cell_type": "code",
   "execution_count": 84,
   "metadata": {},
   "outputs": [],
   "source": [
    "##data_merged[data_merged['Sq Ft Est Heated Above Grade'].isnull()]   "
   ]
  },
  {
   "cell_type": "markdown",
   "metadata": {},
   "source": [
    "Suppressed output, null values have reported SQFT total so they wont be dropped.  They will be changed to the value in Sqft total"
   ]
  },
  {
   "cell_type": "code",
   "execution_count": 85,
   "metadata": {},
   "outputs": [],
   "source": [
    "data_merged['Sq Ft Est Heated Above Grade'] = data_merged['Sq Ft Est Heated Above Grade'].apply(lambda x: 0 if (np.isnan(x)) else x)"
   ]
  },
  {
   "cell_type": "code",
   "execution_count": 86,
   "metadata": {},
   "outputs": [
    {
     "data": {
      "text/plain": [
       "16"
      ]
     },
     "execution_count": 86,
     "metadata": {},
     "output_type": "execute_result"
    }
   ],
   "source": [
    "len(data_merged[data_merged['Sq Ft Est Heated Above Grade']==0])"
   ]
  },
  {
   "cell_type": "code",
   "execution_count": 87,
   "metadata": {},
   "outputs": [
    {
     "data": {
      "text/plain": [
       "count    57431.000000\n",
       "mean      1942.644251\n",
       "std       1169.836016\n",
       "min          0.000000\n",
       "25%       1209.000000\n",
       "50%       1591.000000\n",
       "75%       2322.500000\n",
       "max      61184.000000\n",
       "Name: Sq Ft Est Heated Above Grade, dtype: float64"
      ]
     },
     "execution_count": 87,
     "metadata": {},
     "output_type": "execute_result"
    }
   ],
   "source": [
    "data_merged['Sq Ft Est Heated Above Grade'].describe()"
   ]
  },
  {
   "cell_type": "code",
   "execution_count": 88,
   "metadata": {},
   "outputs": [],
   "source": [
    "data_merged.loc[data_merged['Sq Ft Est Heated Above Grade']==0, 'Sq Ft Est Heated Above Grade']=data_merged.loc[data_merged['Sq Ft Est Heated Above Grade']==0, 'Sq Ft Total']"
   ]
  },
  {
   "cell_type": "markdown",
   "metadata": {},
   "source": [
    "All the 0 values are filled with the corresponding Sqft total as a substitute"
   ]
  },
  {
   "cell_type": "code",
   "execution_count": 89,
   "metadata": {},
   "outputs": [
    {
     "data": {
      "text/plain": [
       "0"
      ]
     },
     "execution_count": 89,
     "metadata": {},
     "output_type": "execute_result"
    }
   ],
   "source": [
    "len(data_merged[data_merged['Sq Ft Est Heated Above Grade']==0])"
   ]
  },
  {
   "cell_type": "code",
   "execution_count": 90,
   "metadata": {},
   "outputs": [
    {
     "data": {
      "text/plain": [
       "count    57431.000000\n",
       "mean      1943.349097\n",
       "std       1169.888998\n",
       "min         50.000000\n",
       "25%       1209.000000\n",
       "50%       1592.000000\n",
       "75%       2323.000000\n",
       "max      61184.000000\n",
       "Name: Sq Ft Est Heated Above Grade, dtype: float64"
      ]
     },
     "execution_count": 90,
     "metadata": {},
     "output_type": "execute_result"
    }
   ],
   "source": [
    "data_merged['Sq Ft Est Heated Above Grade'].describe()"
   ]
  },
  {
   "cell_type": "markdown",
   "metadata": {},
   "source": [
    "Sqft above grade was processed as follows:\n",
    "1. Special characters have been removed, and converted to numeric entries\n",
    "2. There are 13 entries that have less than 350 sqft but greater than 0\n",
    "3. 16 entries that were null were converted to zeros.  They still had reported Sqft totals so they were filled with Sqft Totals"
   ]
  },
  {
   "cell_type": "markdown",
   "metadata": {},
   "source": [
    "--------------------------------------------------------------------------"
   ]
  },
  {
   "cell_type": "markdown",
   "metadata": {},
   "source": [
    "# Style or Rent Type "
   ]
  },
  {
   "cell_type": "code",
   "execution_count": 91,
   "metadata": {},
   "outputs": [
    {
     "data": {
      "text/plain": [
       "0        Colonial\n",
       "1    Contemporary\n",
       "2        Colonial\n",
       "3           Ranch\n",
       "4        Bungalow\n",
       "Name: Style or Rent Type, dtype: object"
      ]
     },
     "execution_count": 91,
     "metadata": {},
     "output_type": "execute_result"
    }
   ],
   "source": [
    "data_merged['Style or Rent Type'].head() "
   ]
  },
  {
   "cell_type": "code",
   "execution_count": 92,
   "metadata": {},
   "outputs": [
    {
     "data": {
      "text/plain": [
       "count        57430\n",
       "unique         254\n",
       "top       Colonial\n",
       "freq         16157\n",
       "Name: Style or Rent Type, dtype: object"
      ]
     },
     "execution_count": 92,
     "metadata": {},
     "output_type": "execute_result"
    }
   ],
   "source": [
    "data_merged['Style or Rent Type'].describe() "
   ]
  },
  {
   "cell_type": "code",
   "execution_count": 93,
   "metadata": {},
   "outputs": [
    {
     "data": {
      "text/plain": [
       "Colonial                  16157\n",
       "Ranch                     12631\n",
       "Cape Cod                   7365\n",
       "Townhouse                  6233\n",
       "Raised Ranch               3341\n",
       "Split Level                1511\n",
       "Contemporary               1260\n",
       "Colonial, Contemporary      657\n",
       "Other                       493\n",
       "Colonial, Antique           453\n",
       "Name: Style or Rent Type, dtype: int64"
      ]
     },
     "execution_count": 93,
     "metadata": {},
     "output_type": "execute_result"
    }
   ],
   "source": [
    "data_merged['Style or Rent Type'].value_counts().head(10) "
   ]
  },
  {
   "cell_type": "code",
   "execution_count": 94,
   "metadata": {},
   "outputs": [
    {
     "data": {
      "text/plain": [
       "1"
      ]
     },
     "execution_count": 94,
     "metadata": {},
     "output_type": "execute_result"
    }
   ],
   "source": [
    "len(data_merged[data_merged['Style or Rent Type'].isnull()])"
   ]
  },
  {
   "cell_type": "code",
   "execution_count": 95,
   "metadata": {},
   "outputs": [],
   "source": [
    "data_merged.loc[data_merged['Style or Rent Type'].isnull(),['Style or Rent Type']] = 'Other'"
   ]
  },
  {
   "cell_type": "markdown",
   "metadata": {},
   "source": [
    "1 null observation was converted to Other"
   ]
  },
  {
   "cell_type": "code",
   "execution_count": 96,
   "metadata": {},
   "outputs": [
    {
     "data": {
      "text/plain": [
       "False    57431\n",
       "Name: Style or Rent Type, dtype: int64"
      ]
     },
     "execution_count": 96,
     "metadata": {},
     "output_type": "execute_result"
    }
   ],
   "source": [
    "data_merged['Style or Rent Type'].str.isnumeric().value_counts()"
   ]
  },
  {
   "cell_type": "code",
   "execution_count": 97,
   "metadata": {},
   "outputs": [
    {
     "data": {
      "text/plain": [
       "True     38145\n",
       "False    19286\n",
       "Name: Style or Rent Type, dtype: int64"
      ]
     },
     "execution_count": 97,
     "metadata": {},
     "output_type": "execute_result"
    }
   ],
   "source": [
    "data_merged['Style or Rent Type'].str.isalpha().value_counts()"
   ]
  },
  {
   "cell_type": "code",
   "execution_count": 98,
   "metadata": {},
   "outputs": [
    {
     "data": {
      "text/plain": [
       "False    57431\n",
       "Name: Style or Rent Type, dtype: int64"
      ]
     },
     "execution_count": 98,
     "metadata": {},
     "output_type": "execute_result"
    }
   ],
   "source": [
    "data_merged['Style or Rent Type'].str.isdigit().value_counts()"
   ]
  },
  {
   "cell_type": "markdown",
   "metadata": {},
   "source": [
    "There are no Entrys which contain numeric characters, 20k obsevations contain special characters likely commas and spaces"
   ]
  },
  {
   "cell_type": "code",
   "execution_count": 99,
   "metadata": {},
   "outputs": [],
   "source": [
    "data_merged['Style or Rent Type'] = data_merged['Style or Rent Type'].apply(lambda x: x.split(', ') if(',' in x) else x)"
   ]
  },
  {
   "cell_type": "code",
   "execution_count": 100,
   "metadata": {},
   "outputs": [],
   "source": [
    "data_merged['Style or Rent Type'] = data_merged['Style or Rent Type'].apply(lambda x: x[0] if(type(x) is list) else x)"
   ]
  },
  {
   "cell_type": "markdown",
   "metadata": {},
   "source": [
    "Properties with a more than one style are split and is replaced by the first entry"
   ]
  },
  {
   "cell_type": "code",
   "execution_count": 101,
   "metadata": {},
   "outputs": [
    {
     "data": {
      "text/plain": [
       "Colonial                  18484\n",
       "Ranch                     13617\n",
       "Cape Cod                   8569\n",
       "Townhouse                  6438\n",
       "Raised Ranch               3440\n",
       "Contemporary               1897\n",
       "Split Level                1543\n",
       "Other                       494\n",
       "Bungalow                    433\n",
       "Single Family Detached      364\n",
       "Apartment                   320\n",
       "Antique                     298\n",
       "Cottage                     228\n",
       "Farm House                  179\n",
       "Half Duplex                 167\n",
       "Mid Rise                    147\n",
       "High Rise                   141\n",
       "Victorian                   123\n",
       "Tudor                        78\n",
       "Hi-Ranch                     73\n",
       "Barn                         51\n",
       "Georgian Colonial            43\n",
       "Log                          42\n",
       "Modern                       39\n",
       "Row House                    37\n",
       "Saltbox                      32\n",
       "Penthouse                    28\n",
       "Mobile Home                  22\n",
       "European                     22\n",
       "Studio Apt                   20\n",
       "Name: Style or Rent Type, dtype: int64"
      ]
     },
     "execution_count": 101,
     "metadata": {},
     "output_type": "execute_result"
    }
   ],
   "source": [
    "data_merged['Style or Rent Type'].value_counts().head(30) "
   ]
  },
  {
   "cell_type": "markdown",
   "metadata": {},
   "source": [
    "Style is processed as follows:\n",
    "1. The 1 null entry is replaced by 'other'\n",
    "2. If multiple styles are used they are replaced by the first style in observation"
   ]
  },
  {
   "cell_type": "markdown",
   "metadata": {},
   "source": [
    "---------------------------------------------------------------------"
   ]
  },
  {
   "cell_type": "markdown",
   "metadata": {},
   "source": [
    "# Rooms Total "
   ]
  },
  {
   "cell_type": "markdown",
   "metadata": {},
   "source": [
    "Rooms total represents the total rooms in a property.  Included will be dining rooms, bedrooms, family rooms etc"
   ]
  },
  {
   "cell_type": "code",
   "execution_count": 102,
   "metadata": {},
   "outputs": [
    {
     "data": {
      "text/plain": [
       "0    11\n",
       "1     7\n",
       "2     7\n",
       "3     6\n",
       "4     6\n",
       "Name: Rooms Total, dtype: int64"
      ]
     },
     "execution_count": 102,
     "metadata": {},
     "output_type": "execute_result"
    }
   ],
   "source": [
    "data_merged['Rooms Total'].head()"
   ]
  },
  {
   "cell_type": "code",
   "execution_count": 103,
   "metadata": {},
   "outputs": [
    {
     "data": {
      "text/plain": [
       "count    57431.000000\n",
       "mean         6.886577\n",
       "std          2.386578\n",
       "min          1.000000\n",
       "25%          5.000000\n",
       "50%          7.000000\n",
       "75%          8.000000\n",
       "max         99.000000\n",
       "Name: Rooms Total, dtype: float64"
      ]
     },
     "execution_count": 103,
     "metadata": {},
     "output_type": "execute_result"
    }
   ],
   "source": [
    "data_merged['Rooms Total'].describe()"
   ]
  },
  {
   "cell_type": "code",
   "execution_count": 104,
   "metadata": {},
   "outputs": [
    {
     "data": {
      "text/plain": [
       "2"
      ]
     },
     "execution_count": 104,
     "metadata": {},
     "output_type": "execute_result"
    }
   ],
   "source": [
    "len(data_merged[data_merged['Rooms Total']==99])"
   ]
  },
  {
   "cell_type": "code",
   "execution_count": 105,
   "metadata": {},
   "outputs": [],
   "source": [
    "data_merged.drop([14307],inplace=True)                    #### Remove sqft == 99\n",
    "data_merged.drop([14308],inplace=True)"
   ]
  },
  {
   "cell_type": "code",
   "execution_count": 106,
   "metadata": {},
   "outputs": [
    {
     "data": {
      "text/plain": [
       "0"
      ]
     },
     "execution_count": 106,
     "metadata": {},
     "output_type": "execute_result"
    }
   ],
   "source": [
    "len(data_merged[data_merged['Rooms Total']==99])"
   ]
  },
  {
   "cell_type": "markdown",
   "metadata": {},
   "source": [
    "2 observations are dropped with Rooms total ==0.  They had missing entries across the features"
   ]
  },
  {
   "cell_type": "code",
   "execution_count": 107,
   "metadata": {},
   "outputs": [
    {
     "data": {
      "text/plain": [
       "1"
      ]
     },
     "execution_count": 107,
     "metadata": {},
     "output_type": "execute_result"
    }
   ],
   "source": [
    "len(data_merged[data_merged['Rooms Total']==90])"
   ]
  },
  {
   "cell_type": "code",
   "execution_count": 108,
   "metadata": {},
   "outputs": [],
   "source": [
    "data_merged.drop([5741],inplace=True)"
   ]
  },
  {
   "cell_type": "code",
   "execution_count": 109,
   "metadata": {},
   "outputs": [
    {
     "data": {
      "text/plain": [
       "0"
      ]
     },
     "execution_count": 109,
     "metadata": {},
     "output_type": "execute_result"
    }
   ],
   "source": [
    "len(data_merged[data_merged['Rooms Total']==90])"
   ]
  },
  {
   "cell_type": "markdown",
   "metadata": {},
   "source": [
    "1 Observation with 90 rooms dropped due to it being land and not a house"
   ]
  },
  {
   "cell_type": "code",
   "execution_count": 110,
   "metadata": {},
   "outputs": [
    {
     "data": {
      "text/plain": [
       "False    57428\n",
       "Name: Rooms Total, dtype: int64"
      ]
     },
     "execution_count": 110,
     "metadata": {},
     "output_type": "execute_result"
    }
   ],
   "source": [
    "data_merged['Rooms Total'].isnull().value_counts()"
   ]
  },
  {
   "cell_type": "code",
   "execution_count": 111,
   "metadata": {},
   "outputs": [
    {
     "data": {
      "text/plain": [
       "count    57428.000000\n",
       "mean         6.881922\n",
       "std          2.297877\n",
       "min          1.000000\n",
       "25%          5.000000\n",
       "50%          7.000000\n",
       "75%          8.000000\n",
       "max         66.000000\n",
       "Name: Rooms Total, dtype: float64"
      ]
     },
     "execution_count": 111,
     "metadata": {},
     "output_type": "execute_result"
    }
   ],
   "source": [
    "data_merged['Rooms Total'].describe()"
   ]
  },
  {
   "cell_type": "markdown",
   "metadata": {},
   "source": [
    "Total rooms was processed as follows:\n",
    "1. All values in series are already numeric\n",
    "2. 3 Observations dropped which had issues\n",
    "3. No null values in the series"
   ]
  },
  {
   "cell_type": "markdown",
   "metadata": {},
   "source": [
    "***"
   ]
  },
  {
   "cell_type": "markdown",
   "metadata": {},
   "source": [
    "#   Beds Total"
   ]
  },
  {
   "cell_type": "markdown",
   "metadata": {},
   "source": [
    "Beds Total represents the number of bedrooms in the house.  Usually characterized by a room with a door and closet."
   ]
  },
  {
   "cell_type": "code",
   "execution_count": 112,
   "metadata": {},
   "outputs": [
    {
     "data": {
      "text/plain": [
       "count    57428.000000\n",
       "mean         3.157223\n",
       "std          1.023021\n",
       "min          0.000000\n",
       "25%          3.000000\n",
       "50%          3.000000\n",
       "75%          4.000000\n",
       "max         15.000000\n",
       "Name: Beds Total, dtype: float64"
      ]
     },
     "execution_count": 112,
     "metadata": {},
     "output_type": "execute_result"
    }
   ],
   "source": [
    "data_merged['Beds Total'].describe()"
   ]
  },
  {
   "cell_type": "code",
   "execution_count": 113,
   "metadata": {},
   "outputs": [
    {
     "data": {
      "text/plain": [
       "88"
      ]
     },
     "execution_count": 113,
     "metadata": {},
     "output_type": "execute_result"
    }
   ],
   "source": [
    "len(data_merged[data_merged['Beds Total']==0])"
   ]
  },
  {
   "cell_type": "code",
   "execution_count": 114,
   "metadata": {},
   "outputs": [],
   "source": [
    "##data_merged[data_merged['Beds Total']==0]"
   ]
  },
  {
   "cell_type": "code",
   "execution_count": 115,
   "metadata": {},
   "outputs": [
    {
     "data": {
      "text/plain": [
       "False    57428\n",
       "Name: Beds Total, dtype: int64"
      ]
     },
     "execution_count": 115,
     "metadata": {},
     "output_type": "execute_result"
    }
   ],
   "source": [
    "data_merged['Beds Total'].isnull().value_counts()"
   ]
  },
  {
   "cell_type": "code",
   "execution_count": 116,
   "metadata": {},
   "outputs": [
    {
     "data": {
      "text/plain": [
       "3     24530\n",
       "4     14581\n",
       "2     11471\n",
       "5      3587\n",
       "1      2164\n",
       "6       794\n",
       "7       156\n",
       "0        88\n",
       "8        35\n",
       "9        12\n",
       "11        5\n",
       "12        2\n",
       "10        2\n",
       "15        1\n",
       "Name: Beds Total, dtype: int64"
      ]
     },
     "execution_count": 116,
     "metadata": {},
     "output_type": "execute_result"
    }
   ],
   "source": [
    "data_merged['Beds Total'].value_counts()"
   ]
  },
  {
   "cell_type": "markdown",
   "metadata": {},
   "source": [
    "Beds Total were processed as follows:\n",
    "1. Values in series already numeric\n",
    "2. Values in series seem reasonable 0 values can be studios\n",
    "3. No modifications needed\n"
   ]
  },
  {
   "cell_type": "markdown",
   "metadata": {},
   "source": [
    "--------------------------------------------------------------------------------------------------------------------"
   ]
  },
  {
   "cell_type": "markdown",
   "metadata": {},
   "source": [
    "# Bathrooms "
   ]
  },
  {
   "cell_type": "markdown",
   "metadata": {},
   "source": [
    "Bathrooms represents the number of bathrooms in a property. They can either be half or full indicating the presence of shower/bathtub."
   ]
  },
  {
   "cell_type": "code",
   "execution_count": 117,
   "metadata": {},
   "outputs": [
    {
     "data": {
      "text/plain": [
       "count               57412\n",
       "unique                 52\n",
       "top       2 Full & 1 Half\n",
       "freq                12880\n",
       "Name: Bathrooms, dtype: object"
      ]
     },
     "execution_count": 117,
     "metadata": {},
     "output_type": "execute_result"
    }
   ],
   "source": [
    "data_merged['Bathrooms'].describe()"
   ]
  },
  {
   "cell_type": "code",
   "execution_count": 118,
   "metadata": {},
   "outputs": [
    {
     "data": {
      "text/plain": [
       "2 Full & 1 Half    12880\n",
       "2 Full             12360\n",
       "1 Full & 1 Half    10044\n",
       "1 Full              9793\n",
       "3 Full & 1 Half     3895\n",
       "3 Full              3363\n",
       "4 Full & 1 Half     1171\n",
       "2 Full & 2 Half      716\n",
       "4 Full               526\n",
       "3 Full & 2 Half      519\n",
       "Name: Bathrooms, dtype: int64"
      ]
     },
     "execution_count": 118,
     "metadata": {},
     "output_type": "execute_result"
    }
   ],
   "source": [
    "data_merged['Bathrooms'].value_counts().head(10)"
   ]
  },
  {
   "cell_type": "code",
   "execution_count": 119,
   "metadata": {},
   "outputs": [],
   "source": [
    "#  data_merged['Bathrooms'] = data_merged['Bathrooms'].apply(lambda x: x.split('&'))"
   ]
  },
  {
   "cell_type": "markdown",
   "metadata": {},
   "source": [
    "\n",
    "AttributeError   Traceback (most recent call last)\n",
    "<ipython-input-461-a8c3442477bf> in <module>\n",
    "----> 1 data_merged['Bathrooms'] = data_merged['Bathrooms'].apply(lambda x: x.split('&'))\n",
    "\n",
    "~\\anaconda3\\lib\\site-packages\\pandas\\core\\series.py in apply(self, func, convert_dtype, args, **kwds)\n",
    "   4198             else:\n",
    "   4199                 values = self.astype(object)._values\n",
    "-> 4200                 mapped = lib.map_infer(values, f, convert=convert_dtype)\n",
    "   4201 \n",
    "   4202         if len(mapped) and isinstance(mapped[0], Series):\n",
    "\n",
    "pandas\\_libs\\lib.pyx in pandas._libs.lib.map_infer()\n",
    "\n",
    "<ipython-input-461-a8c3442477bf> in <lambda>(x)\n",
    "----> 1 data_merged['Bathrooms'] = data_merged['Bathrooms'].apply(lambda x: x.split('&'))\n",
    "\n",
    "AttributeError: 'float' object has no attribute 'split'"
   ]
  },
  {
   "cell_type": "code",
   "execution_count": 120,
   "metadata": {},
   "outputs": [
    {
     "data": {
      "text/plain": [
       "str"
      ]
     },
     "execution_count": 120,
     "metadata": {},
     "output_type": "execute_result"
    }
   ],
   "source": [
    "type(data_merged['Bathrooms'][1])     ####need to identify not str"
   ]
  },
  {
   "cell_type": "code",
   "execution_count": 121,
   "metadata": {},
   "outputs": [
    {
     "name": "stdout",
     "output_type": "stream",
     "text": [
      "MLS#         170318789\n",
      "Bathrooms          NaN\n",
      "Name: 14587, dtype: object\n",
      "MLS#         170296008\n",
      "Bathrooms          NaN\n",
      "Name: 14590, dtype: object\n",
      "MLS#         170340976\n",
      "Bathrooms          NaN\n",
      "Name: 14591, dtype: object\n",
      "MLS#         170394127\n",
      "Bathrooms          NaN\n",
      "Name: 14592, dtype: object\n",
      "MLS#         170324757\n",
      "Bathrooms          NaN\n",
      "Name: 14593, dtype: object\n",
      "MLS#         170262389\n",
      "Bathrooms          NaN\n",
      "Name: 14594, dtype: object\n",
      "MLS#         170273381\n",
      "Bathrooms          NaN\n",
      "Name: 20279, dtype: object\n",
      "MLS#         170257507\n",
      "Bathrooms          NaN\n",
      "Name: 29945, dtype: object\n",
      "MLS#         170386295\n",
      "Bathrooms          NaN\n",
      "Name: 30479, dtype: object\n",
      "MLS#         170350695\n",
      "Bathrooms          NaN\n",
      "Name: 34705, dtype: object\n",
      "MLS#         170355886\n",
      "Bathrooms          NaN\n",
      "Name: 37384, dtype: object\n",
      "MLS#         170384384\n",
      "Bathrooms          NaN\n",
      "Name: 42080, dtype: object\n",
      "MLS#         170382922\n",
      "Bathrooms          NaN\n",
      "Name: 42945, dtype: object\n",
      "MLS#         170399407 CO\n",
      "Bathrooms             NaN\n",
      "Name: 42946, dtype: object\n",
      "MLS#         170388550\n",
      "Bathrooms          NaN\n",
      "Name: 42947, dtype: object\n",
      "MLS#         170370044\n",
      "Bathrooms          NaN\n",
      "Name: 43015, dtype: object\n"
     ]
    }
   ],
   "source": [
    "test =data_merged[['MLS#','Bathrooms']]\n",
    "issues = 0\n",
    "issues_mls=[]\n",
    "for i in range(0, len(test)-1):\n",
    "    \n",
    "    if type(test.iloc[i]['Bathrooms']) != str:\n",
    "        issues +=1\n",
    "        print(test.iloc[i])\n",
    "        issues_mls.append(test.iloc[i]['MLS#'])"
   ]
  },
  {
   "cell_type": "code",
   "execution_count": 122,
   "metadata": {},
   "outputs": [
    {
     "name": "stdout",
     "output_type": "stream",
     "text": [
      "16\n"
     ]
    }
   ],
   "source": [
    "print(issues)"
   ]
  },
  {
   "cell_type": "code",
   "execution_count": 123,
   "metadata": {},
   "outputs": [
    {
     "name": "stdout",
     "output_type": "stream",
     "text": [
      "         #       MLS# Status Status Change Timestamp Prop Type  \\\n",
      "14587  501  170318789   CLSD                08/10/20        CO   \n",
      "\n",
      "                              Address      City  Acres  Sq Ft Total  \\\n",
      "14587  379 Whitfield St, Unit #CS1036  Guilford    0.0          578   \n",
      "\n",
      "       Sq Ft Est Heated Above Grade  ... Rooms Total  Beds Total  Bathrooms  \\\n",
      "14587                         578.0  ...           1           0        NaN   \n",
      "\n",
      "                                Garage/Park Year Built  DOM  \\\n",
      "14587   Car/Unassigned Parking, Parking Lot     2012.0    9   \n",
      "\n",
      "                  Listing Agent List Office list_price  close_price  \n",
      "14587  Deborah Citelli-Robinson      PEAR51      13500        12000  \n",
      "\n",
      "[1 rows x 21 columns]\n",
      "         #       MLS# Status Status Change Timestamp Prop Type  \\\n",
      "14590  501  170296008   CLSD                08/20/20        CO   \n",
      "\n",
      "                              Address      City  Acres  Sq Ft Total  \\\n",
      "14590  379 Whitfield St, Unit #CS2636  Guilford    0.0          578   \n",
      "\n",
      "       Sq Ft Est Heated Above Grade  ... Rooms Total  Beds Total  Bathrooms  \\\n",
      "14590                         578.0  ...           1           0        NaN   \n",
      "\n",
      "                                          Garage/Park Year Built  DOM  \\\n",
      "14590   Car/Unassigned Parking, Parking Lot, Security     2012.0   75   \n",
      "\n",
      "                  Listing Agent List Office list_price  close_price  \n",
      "14590  Deborah Citelli-Robinson      PEAR51      17900        17900  \n",
      "\n",
      "[1 rows x 21 columns]\n",
      "         #       MLS# Status Status Change Timestamp Prop Type  \\\n",
      "14591  501  170340976   CLSD                11/17/20        CO   \n",
      "\n",
      "                              Address      City  Acres  Sq Ft Total  \\\n",
      "14591  379 Whitfield St, Unit #BS1438  Guilford    0.0          646   \n",
      "\n",
      "       Sq Ft Est Heated Above Grade  ... Rooms Total  Beds Total  Bathrooms  \\\n",
      "14591                         646.0  ...           1           0        NaN   \n",
      "\n",
      "                   Garage/Park Year Built  DOM             Listing Agent  \\\n",
      "14591   Car/Unassigned Parking     2012.0   22  Deborah Citelli-Robinson   \n",
      "\n",
      "      List Office list_price  close_price  \n",
      "14591      PEAR51      23900        23000  \n",
      "\n",
      "[1 rows x 21 columns]\n",
      "         #       MLS# Status Status Change Timestamp Prop Type  \\\n",
      "14592  501  170394127   CLSD                06/12/21        CO   \n",
      "\n",
      "                              Address      City  Acres  Sq Ft Total  \\\n",
      "14592  379 Whitfield St, Unit #CN1746  Guilford    0.0          776   \n",
      "\n",
      "       Sq Ft Est Heated Above Grade  ... Rooms Total  Beds Total  Bathrooms  \\\n",
      "14592                         776.0  ...           1           0        NaN   \n",
      "\n",
      "                                 Garage/Park Year Built  DOM  \\\n",
      "14592  2 Car/Unassigned Parking, Parking Lot     2012.0   35   \n",
      "\n",
      "                  Listing Agent List Office list_price  close_price  \n",
      "14592  Deborah Citelli-Robinson      PEAR51      29900        27000  \n",
      "\n",
      "[1 rows x 21 columns]\n",
      "         #       MLS# Status Status Change Timestamp Prop Type  \\\n",
      "14593  501  170324757   CLSD                10/28/20        CO   \n",
      "\n",
      "                              Address      City  Acres  Sq Ft Total  \\\n",
      "14593  379 Whitfield St, Unit #AN2242  Guilford    0.0          756   \n",
      "\n",
      "       Sq Ft Est Heated Above Grade  ... Rooms Total  Beds Total  Bathrooms  \\\n",
      "14593                         756.0  ...           1           0        NaN   \n",
      "\n",
      "      Garage/Park Year Built  DOM    Listing Agent List Office list_price  \\\n",
      "14593   Car/Paved     2012.0   65  Rose Ciardiello      RAVE50      30000   \n",
      "\n",
      "       close_price  \n",
      "14593        30000  \n",
      "\n",
      "[1 rows x 21 columns]\n",
      "         #       MLS# Status Status Change Timestamp Prop Type  \\\n",
      "14594  501  170262389   CLSD                08/07/20        CO   \n",
      "\n",
      "                              Address      City  Acres  Sq Ft Total  \\\n",
      "14594  379 Whitfield St, Unit #CN1546  Guilford    0.0          776   \n",
      "\n",
      "       Sq Ft Est Heated Above Grade  ... Rooms Total  Beds Total  Bathrooms  \\\n",
      "14594                         776.0  ...           1           0        NaN   \n",
      "\n",
      "                                 Garage/Park Year Built  DOM  \\\n",
      "14594  1 Car/Unassigned Parking, Parking Lot     2012.0  197   \n",
      "\n",
      "                  Listing Agent List Office list_price  close_price  \n",
      "14594  Deborah Citelli-Robinson      PEAR51      39999        37000  \n",
      "\n",
      "[1 rows x 21 columns]\n",
      "          #       MLS# Status Status Change Timestamp Prop Type  \\\n",
      "20279  1501  170273381   CLSD                08/31/20        SF   \n",
      "\n",
      "                 Address     City  Acres  Sq Ft Total  \\\n",
      "20279  349 Hartford Tpke  Hampton    0.8         1546   \n",
      "\n",
      "       Sq Ft Est Heated Above Grade  ... Rooms Total  Beds Total  Bathrooms  \\\n",
      "20279                        1546.0  ...           5           0        NaN   \n",
      "\n",
      "      Garage/Park Year Built  DOM     Listing Agent List Office list_price  \\\n",
      "20279   Car/Other     1879.0  141  Nicole M Garbutt      BRBR01      35000   \n",
      "\n",
      "       close_price  \n",
      "20279        30000  \n",
      "\n",
      "[1 rows x 21 columns]\n",
      "          #       MLS# Status Status Change Timestamp Prop Type     Address  \\\n",
      "29945  1501  170257507   CLSD                05/16/21        SF  46 Pond Rd   \n",
      "\n",
      "               City  Acres  Sq Ft Total  Sq Ft Est Heated Above Grade  ...  \\\n",
      "29945  New Hartford   0.43         1200                        1200.0  ...   \n",
      "\n",
      "      Rooms Total  Beds Total  Bathrooms              Garage/Park Year Built  \\\n",
      "29945           5           3        NaN   Car/Off Street Parking     1987.0   \n",
      "\n",
      "       DOM   Listing Agent List Office list_price  close_price  \n",
      "29945  456  Valerie Lebiti      BHHS41     104900       104900  \n",
      "\n",
      "[1 rows x 21 columns]\n",
      "          #       MLS# Status Status Change Timestamp Prop Type  \\\n",
      "30479  2001  170386295   CLSD                05/07/21        SF   \n",
      "\n",
      "              Address        City  Acres  Sq Ft Total  \\\n",
      "30479  281 Pequot Ave  New London   0.32         9999   \n",
      "\n",
      "       Sq Ft Est Heated Above Grade  ... Rooms Total  Beds Total  Bathrooms  \\\n",
      "30479                        9999.0  ...           1           0        NaN   \n",
      "\n",
      "                   Garage/Park Year Built  DOM   Listing Agent List Office  \\\n",
      "30479   Car/Off Street Parking     1910.0    9  Camille Taylor    ERATYR00   \n",
      "\n",
      "      list_price  close_price  \n",
      "30479     194900       141000  \n",
      "\n",
      "[1 rows x 21 columns]\n",
      "          #       MLS# Status Status Change Timestamp Prop Type       Address  \\\n",
      "34705  1501  170350695   CLSD                01/22/21        SF  36 Hedge Ave   \n",
      "\n",
      "          City  Acres  Sq Ft Total  Sq Ft Est Heated Above Grade  ...  \\\n",
      "34705  Norwich   0.53         1784                        1784.0  ...   \n",
      "\n",
      "      Rooms Total  Beds Total  Bathrooms  Garage/Park Year Built  DOM  \\\n",
      "34705           1           0        NaN  1 Car/Other     1850.0   35   \n",
      "\n",
      "           Listing Agent List Office list_price  close_price  \n",
      "34705  Leticia Rodriguez      KWGH30      19900        15000  \n",
      "\n",
      "[1 rows x 21 columns]\n",
      "       #       MLS# Status Status Change Timestamp Prop Type  \\\n",
      "37384  1  170355886   CLSD                12/19/20        CO   \n",
      "\n",
      "                             Address        City  Acres  Sq Ft Total  \\\n",
      "37384  28 Fox Hill Garage, Unit #G28  Ridgefield    0.0          200   \n",
      "\n",
      "       Sq Ft Est Heated Above Grade  ... Rooms Total  Beds Total  Bathrooms  \\\n",
      "37384                         200.0  ...           1           0        NaN   \n",
      "\n",
      "                 Garage/Park Year Built  DOM     Listing Agent List Office  \\\n",
      "37384  1 Car/Detached Garage     1974.0    3  Michael Pavlicin     CBRB102   \n",
      "\n",
      "      list_price  close_price  \n",
      "37384      12900        12900  \n",
      "\n",
      "[1 rows x 21 columns]\n",
      "       #       MLS# Status Status Change Timestamp Prop Type  \\\n",
      "42080  1  170384384   CLSD                06/07/21        CO   \n",
      "\n",
      "                       Address      City  Acres  Sq Ft Total  \\\n",
      "42080  148 Seaton Rd, Unit #G9  Stamford    0.0          195   \n",
      "\n",
      "       Sq Ft Est Heated Above Grade  ... Rooms Total  Beds Total  Bathrooms  \\\n",
      "42080                         195.0  ...           1           0        NaN   \n",
      "\n",
      "                    Garage/Park Year Built  DOM    Listing Agent List Office  \\\n",
      "42080  1 Car/Unit Garage, Other     1951.0   71  Mei Ling Cheung        3623   \n",
      "\n",
      "      list_price  close_price  \n",
      "42080      25000        25000  \n",
      "\n",
      "[1 rows x 21 columns]\n",
      "          #       MLS# Status Status Change Timestamp Prop Type  \\\n",
      "42945  1001  170382922   CLSD                05/10/21        CO   \n",
      "\n",
      "                         Address        City  Acres  Sq Ft Total  \\\n",
      "42945  4 Northwest St, Unit #B26  Stonington    0.0           50   \n",
      "\n",
      "       Sq Ft Est Heated Above Grade  ... Rooms Total  Beds Total  Bathrooms  \\\n",
      "42945                          50.0  ...           1           0        NaN   \n",
      "\n",
      "                   Garage/Park Year Built  DOM    Listing Agent List Office  \\\n",
      "42945   Car/Off Street Parking     1983.0   17  Kathy Michalove    SEABRD00   \n",
      "\n",
      "      list_price  close_price  \n",
      "42945      49000        46500  \n",
      "\n",
      "[1 rows x 21 columns]\n",
      "          #          MLS# Status Status Change Timestamp Prop Type  \\\n",
      "42946  1001  170399407 CO   CLSD                06/09/21        CO   \n",
      "\n",
      "                        Address        City  Acres  Sq Ft Total  \\\n",
      "42946  4 Northwest St, Unit #B8  Stonington    0.0          100   \n",
      "\n",
      "       Sq Ft Est Heated Above Grade  ... Rooms Total  Beds Total  Bathrooms  \\\n",
      "42946                         100.0  ...           1           0        NaN   \n",
      "\n",
      "                   Garage/Park Year Built  DOM    Listing Agent List Office  \\\n",
      "42946   Car/Off Street Parking     1983.0    1  Kathy Michalove    SEABRD00   \n",
      "\n",
      "      list_price  close_price  \n",
      "42946      49750        48500  \n",
      "\n",
      "[1 rows x 21 columns]\n",
      "          #       MLS# Status Status Change Timestamp Prop Type  \\\n",
      "42947  1001  170388550   CLSD                07/22/21        CO   \n",
      "\n",
      "                         Address        City  Acres  Sq Ft Total  \\\n",
      "42947  4 Northwest St, Unit #B24  Stonington    0.0           50   \n",
      "\n",
      "       Sq Ft Est Heated Above Grade  ... Rooms Total  Beds Total  Bathrooms  \\\n",
      "42947                          50.0  ...           1           0        NaN   \n",
      "\n",
      "                                       Garage/Park Year Built  DOM  \\\n",
      "42947   Car/Unassigned Parking, Off Street Parking     1983.0   41   \n",
      "\n",
      "         Listing Agent List Office list_price  close_price  \n",
      "42947  Kathy Michalove    SEABRD00      59000        49000  \n",
      "\n",
      "[1 rows x 21 columns]\n",
      "          #       MLS# Status Status Change Timestamp Prop Type  \\\n",
      "43015  1001  170370044   CLSD                03/24/21        CO   \n",
      "\n",
      "                   Address       City  Acres  Sq Ft Total  \\\n",
      "43015  BS05 Harbourview Pl  Stratford    0.0          100   \n",
      "\n",
      "       Sq Ft Est Heated Above Grade  ... Rooms Total  Beds Total  Bathrooms  \\\n",
      "43015                         100.0  ...           1           0        NaN   \n",
      "\n",
      "                                       Garage/Park Year Built  DOM  \\\n",
      "43015   Car/Off Street Parking, Parking Lot, Other     2009.0   50   \n",
      "\n",
      "      Listing Agent List Office list_price  close_price  \n",
      "43015     Omar Cruz      CPCT80      25000        15000  \n",
      "\n",
      "[1 rows x 21 columns]\n"
     ]
    }
   ],
   "source": [
    "for i in issues_mls:                                   ####Checking what observations with missing baths looks like\n",
    "    print(data_merged[data_merged['MLS#']==i])"
   ]
  },
  {
   "cell_type": "code",
   "execution_count": 124,
   "metadata": {},
   "outputs": [],
   "source": [
    "data_merged=data_merged.dropna(subset = ['Bathrooms'])     #### Subset picks column for NA"
   ]
  },
  {
   "cell_type": "markdown",
   "metadata": {},
   "source": [
    "16 observations dropped for having null values for bathrooms"
   ]
  },
  {
   "cell_type": "code",
   "execution_count": 125,
   "metadata": {},
   "outputs": [
    {
     "data": {
      "text/plain": [
       "True     57402\n",
       "False       10\n",
       "Name: Bathrooms, dtype: int64"
      ]
     },
     "execution_count": 125,
     "metadata": {},
     "output_type": "execute_result"
    }
   ],
   "source": [
    " data_merged['Bathrooms'].apply(lambda x: 'Full' in x).value_counts()      ###### Count countaining full for QA"
   ]
  },
  {
   "cell_type": "code",
   "execution_count": 126,
   "metadata": {},
   "outputs": [
    {
     "data": {
      "text/plain": [
       "True     31220\n",
       "False    26192\n",
       "Name: Bathrooms, dtype: int64"
      ]
     },
     "execution_count": 126,
     "metadata": {},
     "output_type": "execute_result"
    }
   ],
   "source": [
    " data_merged['Bathrooms'].apply(lambda x: 'Half' in x).value_counts()        ###### Count countaining Half for QA"
   ]
  },
  {
   "cell_type": "code",
   "execution_count": 127,
   "metadata": {},
   "outputs": [],
   "source": [
    "data_merged['Bathrooms'] = data_merged['Bathrooms'].apply(lambda x: x.split('&'))"
   ]
  },
  {
   "cell_type": "code",
   "execution_count": 128,
   "metadata": {},
   "outputs": [
    {
     "data": {
      "text/plain": [
       "0        [3 Full ,  1 Half]\n",
       "1        [5 Full ,  1 Half]\n",
       "2                  [1 Full]\n",
       "3                  [1 Full]\n",
       "4                  [1 Full]\n",
       "                ...        \n",
       "58102    [3 Full ,  1 Half]\n",
       "58103    [2 Full ,  1 Half]\n",
       "58104    [3 Full ,  1 Half]\n",
       "58105    [3 Full ,  1 Half]\n",
       "58106    [2 Full ,  1 Half]\n",
       "Name: Bathrooms, Length: 57412, dtype: object"
      ]
     },
     "execution_count": 128,
     "metadata": {},
     "output_type": "execute_result"
    }
   ],
   "source": [
    "data_merged['Bathrooms'] "
   ]
  },
  {
   "cell_type": "markdown",
   "metadata": {},
   "source": [
    "The series is split on '&' in order to extract both full and half baths"
   ]
  },
  {
   "cell_type": "markdown",
   "metadata": {},
   "source": [
    "### Full Bath"
   ]
  },
  {
   "cell_type": "code",
   "execution_count": 129,
   "metadata": {},
   "outputs": [],
   "source": [
    "data_merged['Full Bath'] = data_merged['Bathrooms'].apply(lambda x: x[0] if ('Full' in x[0]) else '0')   "
   ]
  },
  {
   "cell_type": "code",
   "execution_count": 130,
   "metadata": {},
   "outputs": [
    {
     "data": {
      "text/plain": [
       "0    3 Full \n",
       "1    5 Full \n",
       "2     1 Full\n",
       "3     1 Full\n",
       "4     1 Full\n",
       "Name: Full Bath, dtype: object"
      ]
     },
     "execution_count": 130,
     "metadata": {},
     "output_type": "execute_result"
    }
   ],
   "source": [
    "data_merged['Full Bath'].head()"
   ]
  },
  {
   "cell_type": "code",
   "execution_count": 131,
   "metadata": {},
   "outputs": [
    {
     "data": {
      "text/plain": [
       "2 Full      13617\n",
       "2 Full      12360\n",
       "1 Full      10398\n",
       "1 Full       9793\n",
       "3 Full       4450\n",
       "3 Full       3363\n",
       "4 Full       1576\n",
       "5 Full        692\n",
       "4 Full        526\n",
       "6 Full        299\n",
       "7 Full        117\n",
       "5 Full        117\n",
       "8 Full         47\n",
       "6 Full         27\n",
       "0              10\n",
       "9 Full          9\n",
       "7 Full          4\n",
       "12 Full         2\n",
       "99 Full         1\n",
       "20 Full         1\n",
       "11 Full         1\n",
       "9 Full          1\n",
       "10 Full         1\n",
       "Name: Full Bath, dtype: int64"
      ]
     },
     "execution_count": 131,
     "metadata": {},
     "output_type": "execute_result"
    }
   ],
   "source": [
    "data_merged['Full Bath'].value_counts()"
   ]
  },
  {
   "cell_type": "code",
   "execution_count": 132,
   "metadata": {},
   "outputs": [],
   "source": [
    "data_merged['Full Bath'] = data_merged['Full Bath'].apply(lambda x: x.split(' ',1))"
   ]
  },
  {
   "cell_type": "code",
   "execution_count": 133,
   "metadata": {},
   "outputs": [
    {
     "data": {
      "text/plain": [
       "0    [3, Full ]\n",
       "1    [5, Full ]\n",
       "2     [1, Full]\n",
       "3     [1, Full]\n",
       "4     [1, Full]\n",
       "Name: Full Bath, dtype: object"
      ]
     },
     "execution_count": 133,
     "metadata": {},
     "output_type": "execute_result"
    }
   ],
   "source": [
    "data_merged['Full Bath'].head()"
   ]
  },
  {
   "cell_type": "code",
   "execution_count": 134,
   "metadata": {},
   "outputs": [],
   "source": [
    "data_merged['Full Bath'] = data_merged['Full Bath'].apply(lambda x: x[0])"
   ]
  },
  {
   "cell_type": "code",
   "execution_count": 135,
   "metadata": {},
   "outputs": [
    {
     "data": {
      "text/plain": [
       "2     25977\n",
       "1     20191\n",
       "3      7813\n",
       "4      2102\n",
       "5       809\n",
       "6       326\n",
       "7       121\n",
       "8        47\n",
       "0        10\n",
       "9        10\n",
       "12        2\n",
       "20        1\n",
       "11        1\n",
       "99        1\n",
       "10        1\n",
       "Name: Full Bath, dtype: int64"
      ]
     },
     "execution_count": 135,
     "metadata": {},
     "output_type": "execute_result"
    }
   ],
   "source": [
    "data_merged['Full Bath'].value_counts()"
   ]
  },
  {
   "cell_type": "code",
   "execution_count": 136,
   "metadata": {},
   "outputs": [],
   "source": [
    "data_merged = (data_merged[data_merged['Full Bath']!='99']) "
   ]
  },
  {
   "cell_type": "code",
   "execution_count": 137,
   "metadata": {},
   "outputs": [],
   "source": [
    "data_merged['Full Bath'] = pd.to_numeric(data_merged['Full Bath'])  "
   ]
  },
  {
   "cell_type": "code",
   "execution_count": 138,
   "metadata": {},
   "outputs": [
    {
     "data": {
      "text/plain": [
       "count    57411.000000\n",
       "mean         1.939890\n",
       "std          0.975377\n",
       "min          0.000000\n",
       "25%          1.000000\n",
       "50%          2.000000\n",
       "75%          2.000000\n",
       "max         20.000000\n",
       "Name: Full Bath, dtype: float64"
      ]
     },
     "execution_count": 138,
     "metadata": {},
     "output_type": "execute_result"
    }
   ],
   "source": [
    "data_merged['Full Bath'].describe()"
   ]
  },
  {
   "cell_type": "markdown",
   "metadata": {},
   "source": [
    "\n",
    "Full Baths seems to be in order. Now to finish Half Baths \n",
    "\n"
   ]
  },
  {
   "cell_type": "markdown",
   "metadata": {},
   "source": [
    "### Half Baths"
   ]
  },
  {
   "cell_type": "code",
   "execution_count": 139,
   "metadata": {},
   "outputs": [],
   "source": [
    "data_merged['Half Bath'] = data_merged['Bathrooms'].apply(lambda x: x[1] if (len(x)==2) else '0')"
   ]
  },
  {
   "cell_type": "code",
   "execution_count": 140,
   "metadata": {},
   "outputs": [
    {
     "data": {
      "text/plain": [
       " 1 Half    28592\n",
       "0          26192\n",
       " 2 Half     2393\n",
       " 3 Half      207\n",
       " 4 Half       25\n",
       " 5 Half        1\n",
       " 8 Half        1\n",
       "Name: Half Bath, dtype: int64"
      ]
     },
     "execution_count": 140,
     "metadata": {},
     "output_type": "execute_result"
    }
   ],
   "source": [
    "data_merged['Half Bath'].value_counts()"
   ]
  },
  {
   "cell_type": "code",
   "execution_count": 141,
   "metadata": {},
   "outputs": [
    {
     "data": {
      "text/plain": [
       "0     1 Half\n",
       "1     1 Half\n",
       "2          0\n",
       "3          0\n",
       "4          0\n",
       "Name: Half Bath, dtype: object"
      ]
     },
     "execution_count": 141,
     "metadata": {},
     "output_type": "execute_result"
    }
   ],
   "source": [
    "data_merged['Half Bath'].head()"
   ]
  },
  {
   "cell_type": "code",
   "execution_count": 142,
   "metadata": {},
   "outputs": [],
   "source": [
    "data_merged['Half Bath'] = data_merged['Half Bath'].str.replace(' ','') "
   ]
  },
  {
   "cell_type": "code",
   "execution_count": 143,
   "metadata": {},
   "outputs": [
    {
     "data": {
      "text/plain": [
       "0    1Half\n",
       "1    1Half\n",
       "2        0\n",
       "3        0\n",
       "4        0\n",
       "Name: Half Bath, dtype: object"
      ]
     },
     "execution_count": 143,
     "metadata": {},
     "output_type": "execute_result"
    }
   ],
   "source": [
    "data_merged['Half Bath'].head()"
   ]
  },
  {
   "cell_type": "code",
   "execution_count": 144,
   "metadata": {},
   "outputs": [],
   "source": [
    "data_merged['Half Bath'] = data_merged['Half Bath'].apply(lambda x: x.split('Half'))"
   ]
  },
  {
   "cell_type": "code",
   "execution_count": 145,
   "metadata": {},
   "outputs": [
    {
     "data": {
      "text/plain": [
       "0    [1, ]\n",
       "1    [1, ]\n",
       "2      [0]\n",
       "3      [0]\n",
       "4      [0]\n",
       "Name: Half Bath, dtype: object"
      ]
     },
     "execution_count": 145,
     "metadata": {},
     "output_type": "execute_result"
    }
   ],
   "source": [
    "data_merged['Half Bath'].head()"
   ]
  },
  {
   "cell_type": "code",
   "execution_count": 146,
   "metadata": {},
   "outputs": [],
   "source": [
    "data_merged['Half Bath'] = data_merged['Half Bath'].apply(lambda x: x[0])"
   ]
  },
  {
   "cell_type": "code",
   "execution_count": 147,
   "metadata": {},
   "outputs": [
    {
     "data": {
      "text/plain": [
       "1    28592\n",
       "0    26192\n",
       "2     2393\n",
       "3      207\n",
       "4       25\n",
       "8        1\n",
       "5        1\n",
       "Name: Half Bath, dtype: int64"
      ]
     },
     "execution_count": 147,
     "metadata": {},
     "output_type": "execute_result"
    }
   ],
   "source": [
    "data_merged['Half Bath'].value_counts()"
   ]
  },
  {
   "cell_type": "markdown",
   "metadata": {},
   "source": [
    "There are too many zero entries, perhaps there is an issue.  Upon Checking this matches the check before making changes to the bathroom column."
   ]
  },
  {
   "cell_type": "code",
   "execution_count": 148,
   "metadata": {},
   "outputs": [],
   "source": [
    "data_merged['Half Bath'] = pd.to_numeric(data_merged['Half Bath'])  "
   ]
  },
  {
   "cell_type": "code",
   "execution_count": 149,
   "metadata": {},
   "outputs": [
    {
     "data": {
      "text/plain": [
       "count    57411.000000\n",
       "mean         0.594172\n",
       "std          0.593872\n",
       "min          0.000000\n",
       "25%          0.000000\n",
       "50%          1.000000\n",
       "75%          1.000000\n",
       "max          8.000000\n",
       "Name: Half Bath, dtype: float64"
      ]
     },
     "execution_count": 149,
     "metadata": {},
     "output_type": "execute_result"
    }
   ],
   "source": [
    "data_merged['Half Bath'].describe()"
   ]
  },
  {
   "cell_type": "code",
   "execution_count": 150,
   "metadata": {},
   "outputs": [],
   "source": [
    "####split on full or half, include else statement to \"\" or 0 for nothing #######"
   ]
  },
  {
   "cell_type": "code",
   "execution_count": 151,
   "metadata": {},
   "outputs": [],
   "source": [
    "data_merged = data_merged.drop('Bathrooms',axis=1)  #### dropp column"
   ]
  },
  {
   "cell_type": "markdown",
   "metadata": {},
   "source": [
    "Bathrooms were processed as follows:\n",
    "1. 16 observations were dropped due to null bathrooms\n",
    "2. The series was split into 2 columns for half and full baths\n",
    "3. All non-numeric characters were removed\n",
    "4. The series was converted to numeric values\n",
    "5. All values seem reasonable. 1 dropped for 99 full bathroms\n"
   ]
  },
  {
   "cell_type": "markdown",
   "metadata": {},
   "source": [
    "-------------------------------------------------------------------------------------"
   ]
  },
  {
   "cell_type": "markdown",
   "metadata": {},
   "source": [
    "# Garage / park"
   ]
  },
  {
   "cell_type": "markdown",
   "metadata": {},
   "source": [
    "Garage/park represents the number of space available for cars and their format.  Format can be attached garage, detached garage, off street park, carport, etc."
   ]
  },
  {
   "cell_type": "code",
   "execution_count": 152,
   "metadata": {},
   "outputs": [
    {
     "data": {
      "text/plain": [
       "0       2 Car/Attached Garage\n",
       "1       2 Car/Attached Garage\n",
       "2    2 Car/Off Street Parking\n",
       "3      Car/Off Street Parking\n",
       "4       2 Car/Detached Garage\n",
       "Name: Garage/Park, dtype: object"
      ]
     },
     "execution_count": 152,
     "metadata": {},
     "output_type": "execute_result"
    }
   ],
   "source": [
    "data_merged['Garage/Park'].head()"
   ]
  },
  {
   "cell_type": "code",
   "execution_count": 153,
   "metadata": {},
   "outputs": [
    {
     "data": {
      "text/plain": [
       "2 Car/Attached Garage                               12918\n",
       "1 Car/Attached Garage                                5814\n",
       "1 Car/Detached Garage                                3202\n",
       " Car/Off Street Parking                              3031\n",
       "2 Car/Detached Garage                                3028\n",
       "2 Car/Under House Garage                             2394\n",
       "1 Car/Under House Garage                             2391\n",
       "3 Car/Attached Garage                                2191\n",
       " Car/Paved                                           1811\n",
       " Car/Paved, Off Street Parking                       1705\n",
       "2 Car/Attached Garage, Paved                         1062\n",
       " Car/Assigned Parking                                 835\n",
       "2 Car/Attached Garage, Under House Garage             718\n",
       " Car/Other                                            651\n",
       " Car/Unpaved                                          395\n",
       "1 Car/Attached Garage, Under House Garage             388\n",
       "3 Car/Detached Garage                                 350\n",
       "1 Car/Attached Garage, Paved                          344\n",
       " Car/Paved, Assigned Parking                          338\n",
       "2 Car/Attached Garage, Paved, Off Street Parking      323\n",
       "Name: Garage/Park, dtype: int64"
      ]
     },
     "execution_count": 153,
     "metadata": {},
     "output_type": "execute_result"
    }
   ],
   "source": [
    "data_merged['Garage/Park'].value_counts().head(20)"
   ]
  },
  {
   "cell_type": "code",
   "execution_count": 154,
   "metadata": {},
   "outputs": [
    {
     "data": {
      "text/plain": [
       "True     43134\n",
       "False    14277\n",
       "Name: Garage/Park, dtype: int64"
      ]
     },
     "execution_count": 154,
     "metadata": {},
     "output_type": "execute_result"
    }
   ],
   "source": [
    " data_merged['Garage/Park'].apply(lambda x: 'Garage' in x).value_counts()       ###counts entries with 'garage' for test below"
   ]
  },
  {
   "cell_type": "markdown",
   "metadata": {},
   "source": [
    "43k observations have potentially have garage. 14k potentially have no garage"
   ]
  },
  {
   "cell_type": "code",
   "execution_count": 155,
   "metadata": {},
   "outputs": [],
   "source": [
    "data_merged['Garage/Park'] = data_merged['Garage/Park'].apply(lambda x: x.split('/',1))"
   ]
  },
  {
   "cell_type": "code",
   "execution_count": 156,
   "metadata": {},
   "outputs": [
    {
     "data": {
      "text/plain": [
       "0       [2 Car, Attached Garage]\n",
       "1       [2 Car, Attached Garage]\n",
       "2    [2 Car, Off Street Parking]\n",
       "3     [ Car, Off Street Parking]\n",
       "4       [2 Car, Detached Garage]\n",
       "Name: Garage/Park, dtype: object"
      ]
     },
     "execution_count": 156,
     "metadata": {},
     "output_type": "execute_result"
    }
   ],
   "source": [
    "data_merged['Garage/Park'].head()"
   ]
  },
  {
   "cell_type": "code",
   "execution_count": 157,
   "metadata": {},
   "outputs": [
    {
     "data": {
      "text/html": [
       "<div>\n",
       "<style scoped>\n",
       "    .dataframe tbody tr th:only-of-type {\n",
       "        vertical-align: middle;\n",
       "    }\n",
       "\n",
       "    .dataframe tbody tr th {\n",
       "        vertical-align: top;\n",
       "    }\n",
       "\n",
       "    .dataframe thead th {\n",
       "        text-align: right;\n",
       "    }\n",
       "</style>\n",
       "<table border=\"1\" class=\"dataframe\">\n",
       "  <thead>\n",
       "    <tr style=\"text-align: right;\">\n",
       "      <th></th>\n",
       "      <th>#</th>\n",
       "      <th>MLS#</th>\n",
       "      <th>Status</th>\n",
       "      <th>Status Change Timestamp</th>\n",
       "      <th>Prop Type</th>\n",
       "      <th>Address</th>\n",
       "      <th>City</th>\n",
       "      <th>Acres</th>\n",
       "      <th>Sq Ft Total</th>\n",
       "      <th>Sq Ft Est Heated Above Grade</th>\n",
       "      <th>...</th>\n",
       "      <th>Beds Total</th>\n",
       "      <th>Garage/Park</th>\n",
       "      <th>Year Built</th>\n",
       "      <th>DOM</th>\n",
       "      <th>Listing Agent</th>\n",
       "      <th>List Office</th>\n",
       "      <th>list_price</th>\n",
       "      <th>close_price</th>\n",
       "      <th>Full Bath</th>\n",
       "      <th>Half Bath</th>\n",
       "    </tr>\n",
       "  </thead>\n",
       "  <tbody>\n",
       "    <tr>\n",
       "      <th>28528</th>\n",
       "      <td>1</td>\n",
       "      <td>N10197464</td>\n",
       "      <td>CLSD</td>\n",
       "      <td>05/09/21</td>\n",
       "      <td>CO</td>\n",
       "      <td>40 Harbour Close, Unit #B-14</td>\n",
       "      <td>New Haven</td>\n",
       "      <td>0.0</td>\n",
       "      <td>1500</td>\n",
       "      <td>1500.0</td>\n",
       "      <td>...</td>\n",
       "      <td>2</td>\n",
       "      <td>[Assigned Parking]</td>\n",
       "      <td>1983.0</td>\n",
       "      <td>43</td>\n",
       "      <td>Rick Chamberlin</td>\n",
       "      <td>REAT30</td>\n",
       "      <td>279900</td>\n",
       "      <td>265000</td>\n",
       "      <td>2</td>\n",
       "      <td>1</td>\n",
       "    </tr>\n",
       "    <tr>\n",
       "      <th>32142</th>\n",
       "      <td>3501</td>\n",
       "      <td>L152330</td>\n",
       "      <td>CLSD</td>\n",
       "      <td>08/19/20</td>\n",
       "      <td>SF</td>\n",
       "      <td>419 Bald Mountain Rd</td>\n",
       "      <td>Norfolk</td>\n",
       "      <td>518.3</td>\n",
       "      <td>7100</td>\n",
       "      <td>7100.0</td>\n",
       "      <td>...</td>\n",
       "      <td>9</td>\n",
       "      <td>[2 Car]</td>\n",
       "      <td>1925.0</td>\n",
       "      <td>2,089</td>\n",
       "      <td>THOMAS MCGOWAN</td>\n",
       "      <td>HARN42</td>\n",
       "      <td>3999000</td>\n",
       "      <td>4015000</td>\n",
       "      <td>7</td>\n",
       "      <td>0</td>\n",
       "    </tr>\n",
       "  </tbody>\n",
       "</table>\n",
       "<p>2 rows × 22 columns</p>\n",
       "</div>"
      ],
      "text/plain": [
       "          #       MLS# Status Status Change Timestamp Prop Type  \\\n",
       "28528     1  N10197464   CLSD                05/09/21        CO   \n",
       "32142  3501    L152330   CLSD                08/19/20        SF   \n",
       "\n",
       "                            Address       City  Acres  Sq Ft Total  \\\n",
       "28528  40 Harbour Close, Unit #B-14  New Haven    0.0         1500   \n",
       "32142          419 Bald Mountain Rd    Norfolk  518.3         7100   \n",
       "\n",
       "       Sq Ft Est Heated Above Grade  ... Beds Total         Garage/Park  \\\n",
       "28528                        1500.0  ...          2  [Assigned Parking]   \n",
       "32142                        7100.0  ...          9             [2 Car]   \n",
       "\n",
       "       Year Built    DOM    Listing Agent List Office list_price close_price  \\\n",
       "28528      1983.0     43  Rick Chamberlin      REAT30     279900      265000   \n",
       "32142      1925.0  2,089   THOMAS MCGOWAN      HARN42    3999000     4015000   \n",
       "\n",
       "       Full Bath  Half Bath  \n",
       "28528          2          1  \n",
       "32142          7          0  \n",
       "\n",
       "[2 rows x 22 columns]"
      ]
     },
     "execution_count": 157,
     "metadata": {},
     "output_type": "execute_result"
    }
   ],
   "source": [
    "data_merged[data_merged['Garage/Park'].apply(lambda x: len(x)<2)]"
   ]
  },
  {
   "cell_type": "code",
   "execution_count": 158,
   "metadata": {},
   "outputs": [],
   "source": [
    "### df.at[index, 'col_name'] = x"
   ]
  },
  {
   "cell_type": "code",
   "execution_count": 159,
   "metadata": {},
   "outputs": [],
   "source": [
    "data_merged.at[32142,'Garage/Park'] = ['2 Car', 'Garage']"
   ]
  },
  {
   "cell_type": "code",
   "execution_count": 160,
   "metadata": {},
   "outputs": [],
   "source": [
    "data_merged.at[28528,'Garage/Park'] = ['Assigned Parking','Parking Lot']"
   ]
  },
  {
   "cell_type": "code",
   "execution_count": 161,
   "metadata": {},
   "outputs": [
    {
     "data": {
      "text/plain": [
       "0"
      ]
     },
     "execution_count": 161,
     "metadata": {},
     "output_type": "execute_result"
    }
   ],
   "source": [
    "len(data_merged[data_merged['Garage/Park'].apply(lambda x: len(x)<2)])"
   ]
  },
  {
   "cell_type": "code",
   "execution_count": 162,
   "metadata": {},
   "outputs": [
    {
     "data": {
      "text/html": [
       "<div>\n",
       "<style scoped>\n",
       "    .dataframe tbody tr th:only-of-type {\n",
       "        vertical-align: middle;\n",
       "    }\n",
       "\n",
       "    .dataframe tbody tr th {\n",
       "        vertical-align: top;\n",
       "    }\n",
       "\n",
       "    .dataframe thead th {\n",
       "        text-align: right;\n",
       "    }\n",
       "</style>\n",
       "<table border=\"1\" class=\"dataframe\">\n",
       "  <thead>\n",
       "    <tr style=\"text-align: right;\">\n",
       "      <th></th>\n",
       "      <th>#</th>\n",
       "      <th>MLS#</th>\n",
       "      <th>Status</th>\n",
       "      <th>Status Change Timestamp</th>\n",
       "      <th>Prop Type</th>\n",
       "      <th>Address</th>\n",
       "      <th>City</th>\n",
       "      <th>Acres</th>\n",
       "      <th>Sq Ft Total</th>\n",
       "      <th>Sq Ft Est Heated Above Grade</th>\n",
       "      <th>...</th>\n",
       "      <th>Beds Total</th>\n",
       "      <th>Garage/Park</th>\n",
       "      <th>Year Built</th>\n",
       "      <th>DOM</th>\n",
       "      <th>Listing Agent</th>\n",
       "      <th>List Office</th>\n",
       "      <th>list_price</th>\n",
       "      <th>close_price</th>\n",
       "      <th>Full Bath</th>\n",
       "      <th>Half Bath</th>\n",
       "    </tr>\n",
       "  </thead>\n",
       "  <tbody>\n",
       "  </tbody>\n",
       "</table>\n",
       "<p>0 rows × 22 columns</p>\n",
       "</div>"
      ],
      "text/plain": [
       "Empty DataFrame\n",
       "Columns: [#, MLS#, Status, Status Change Timestamp, Prop Type, Address, City, Acres, Sq Ft Total, Sq Ft Est Heated Above Grade, Style or Rent Type, Rooms Total, Beds Total, Garage/Park, Year Built, DOM, Listing Agent, List Office, list_price, close_price, Full Bath, Half Bath]\n",
       "Index: []\n",
       "\n",
       "[0 rows x 22 columns]"
      ]
     },
     "execution_count": 162,
     "metadata": {},
     "output_type": "execute_result"
    }
   ],
   "source": [
    "data_merged[data_merged['Garage/Park'].apply(lambda x: len(x)>2)]"
   ]
  },
  {
   "cell_type": "markdown",
   "metadata": {},
   "source": [
    "Corrected 2 observations by looking them up on Zillow"
   ]
  },
  {
   "cell_type": "code",
   "execution_count": 163,
   "metadata": {},
   "outputs": [],
   "source": [
    "data_merged['Garage'] = data_merged['Garage/Park'].apply(lambda x: x[0] if ('Garage' in x[1]) else '0')   ####Uses count if garage is in descriptor"
   ]
  },
  {
   "cell_type": "markdown",
   "metadata": {},
   "source": [
    "Logic is used to create the Garage column.  If the observation contains the word 'Garage' it is copied into the new column  "
   ]
  },
  {
   "cell_type": "code",
   "execution_count": 164,
   "metadata": {},
   "outputs": [],
   "source": [
    "data_merged['Parking'] = data_merged['Garage/Park'].apply(lambda x: x[1])"
   ]
  },
  {
   "cell_type": "markdown",
   "metadata": {},
   "source": [
    "Retaining the format of the car spaces in the new Parking column."
   ]
  },
  {
   "cell_type": "code",
   "execution_count": 165,
   "metadata": {},
   "outputs": [
    {
     "data": {
      "text/plain": [
       "43135"
      ]
     },
     "execution_count": 165,
     "metadata": {},
     "output_type": "execute_result"
    }
   ],
   "source": [
    "data_merged['Garage'][data_merged['Garage']!= '0'].value_counts().sum()            ##### Matches above count"
   ]
  },
  {
   "cell_type": "code",
   "execution_count": 166,
   "metadata": {},
   "outputs": [
    {
     "data": {
      "text/plain": [
       "2 Car     23083\n",
       "1 Car     15135\n",
       "0         14276\n",
       "3 Car      3707\n",
       "4 Car       702\n",
       "5 Car       186\n",
       " Car        139\n",
       "6 Car        95\n",
       "7 Car        25\n",
       "8 Car        24\n",
       "9 Car        10\n",
       "10 Car        9\n",
       "12 Car        6\n",
       "11 Car        5\n",
       "13 Car        3\n",
       "14 Car        2\n",
       "18 Car        1\n",
       "40 Car        1\n",
       "50 Car        1\n",
       "17 Car        1\n",
       "Name: Garage, dtype: int64"
      ]
     },
     "execution_count": 166,
     "metadata": {},
     "output_type": "execute_result"
    }
   ],
   "source": [
    "data_merged['Garage'].value_counts()"
   ]
  },
  {
   "cell_type": "code",
   "execution_count": 167,
   "metadata": {},
   "outputs": [
    {
     "data": {
      "text/plain": [
       "139"
      ]
     },
     "execution_count": 167,
     "metadata": {},
     "output_type": "execute_result"
    }
   ],
   "source": [
    "len(data_merged[data_merged['Garage']==\" Car\"])"
   ]
  },
  {
   "cell_type": "code",
   "execution_count": 168,
   "metadata": {},
   "outputs": [],
   "source": [
    "data_merged['Garage'] = data_merged['Garage'].apply(lambda x: '99999' if (x == ' Car') else x)         #####perhaps impute 99999 later"
   ]
  },
  {
   "cell_type": "markdown",
   "metadata": {},
   "source": [
    "139 observations had responses that indicated garages but did not have a numerical value in the observation.  These are recoded as 99999 to maintain identity."
   ]
  },
  {
   "cell_type": "code",
   "execution_count": 169,
   "metadata": {},
   "outputs": [
    {
     "data": {
      "text/plain": [
       "2 Car     23083\n",
       "1 Car     15135\n",
       "0         14276\n",
       "3 Car      3707\n",
       "4 Car       702\n",
       "5 Car       186\n",
       "99999       139\n",
       "6 Car        95\n",
       "7 Car        25\n",
       "8 Car        24\n",
       "9 Car        10\n",
       "10 Car        9\n",
       "12 Car        6\n",
       "11 Car        5\n",
       "13 Car        3\n",
       "14 Car        2\n",
       "40 Car        1\n",
       "50 Car        1\n",
       "18 Car        1\n",
       "17 Car        1\n",
       "Name: Garage, dtype: int64"
      ]
     },
     "execution_count": 169,
     "metadata": {},
     "output_type": "execute_result"
    }
   ],
   "source": [
    "data_merged['Garage'].value_counts()"
   ]
  },
  {
   "cell_type": "code",
   "execution_count": 170,
   "metadata": {},
   "outputs": [],
   "source": [
    "data_merged['Garage'] = data_merged['Garage'].str.replace(' ','')  "
   ]
  },
  {
   "cell_type": "code",
   "execution_count": 171,
   "metadata": {},
   "outputs": [
    {
     "data": {
      "text/plain": [
       "0    2Car\n",
       "1    2Car\n",
       "2       0\n",
       "3       0\n",
       "4    2Car\n",
       "5    2Car\n",
       "6    2Car\n",
       "7    1Car\n",
       "8    2Car\n",
       "9    2Car\n",
       "Name: Garage, dtype: object"
      ]
     },
     "execution_count": 171,
     "metadata": {},
     "output_type": "execute_result"
    }
   ],
   "source": [
    "data_merged['Garage'].head(10)"
   ]
  },
  {
   "cell_type": "code",
   "execution_count": 172,
   "metadata": {},
   "outputs": [],
   "source": [
    "data_merged['Garage'] = data_merged['Garage'].str.replace('Car','')  "
   ]
  },
  {
   "cell_type": "code",
   "execution_count": 173,
   "metadata": {},
   "outputs": [],
   "source": [
    "data_merged['Garage'] = data_merged['Garage'].str.replace('car','')  "
   ]
  },
  {
   "cell_type": "code",
   "execution_count": 174,
   "metadata": {},
   "outputs": [],
   "source": [
    "data_merged['Garage'] = pd.to_numeric(data_merged['Garage'])  "
   ]
  },
  {
   "cell_type": "code",
   "execution_count": 175,
   "metadata": {},
   "outputs": [
    {
     "data": {
      "text/plain": [
       "count    57411.000000\n",
       "mean       243.463047\n",
       "std       4914.473854\n",
       "min          0.000000\n",
       "25%          1.000000\n",
       "50%          1.000000\n",
       "75%          2.000000\n",
       "max      99999.000000\n",
       "Name: Garage, dtype: float64"
      ]
     },
     "execution_count": 175,
     "metadata": {},
     "output_type": "execute_result"
    }
   ],
   "source": [
    "data_merged['Garage'].describe()"
   ]
  },
  {
   "cell_type": "code",
   "execution_count": 176,
   "metadata": {},
   "outputs": [],
   "source": [
    "data_merged = data_merged.drop('Garage/Park',axis=1)  #### dropp column"
   ]
  },
  {
   "cell_type": "markdown",
   "metadata": {},
   "source": [
    "Garage/Parking is processed as follows:\n",
    "1. The garage and parking values are split and stored in 2 new columns.\n",
    "2. 2 incomplete Garage obervations were filled using a search on Zillow\n",
    "3. All non-numeric characters are removed from the Garage. \n",
    "4. The series is converted to numeric values"
   ]
  },
  {
   "cell_type": "markdown",
   "metadata": {},
   "source": [
    "-------------------------------------------------------------------------------"
   ]
  },
  {
   "cell_type": "markdown",
   "metadata": {},
   "source": [
    "# Year Built"
   ]
  },
  {
   "cell_type": "markdown",
   "metadata": {},
   "source": [
    "Year built is the year the building was built.  Age can be inferred"
   ]
  },
  {
   "cell_type": "code",
   "execution_count": 177,
   "metadata": {},
   "outputs": [
    {
     "data": {
      "text/plain": [
       "count    57407.000000\n",
       "mean      1964.288449\n",
       "std         39.063627\n",
       "min          0.000000\n",
       "25%       1951.000000\n",
       "50%       1969.000000\n",
       "75%       1988.000000\n",
       "max       2021.000000\n",
       "Name: Year Built, dtype: float64"
      ]
     },
     "execution_count": 177,
     "metadata": {},
     "output_type": "execute_result"
    }
   ],
   "source": [
    "data_merged['Year Built'].describe()"
   ]
  },
  {
   "cell_type": "code",
   "execution_count": 178,
   "metadata": {},
   "outputs": [
    {
     "data": {
      "text/html": [
       "<div>\n",
       "<style scoped>\n",
       "    .dataframe tbody tr th:only-of-type {\n",
       "        vertical-align: middle;\n",
       "    }\n",
       "\n",
       "    .dataframe tbody tr th {\n",
       "        vertical-align: top;\n",
       "    }\n",
       "\n",
       "    .dataframe thead th {\n",
       "        text-align: right;\n",
       "    }\n",
       "</style>\n",
       "<table border=\"1\" class=\"dataframe\">\n",
       "  <thead>\n",
       "    <tr style=\"text-align: right;\">\n",
       "      <th></th>\n",
       "      <th>#</th>\n",
       "      <th>MLS#</th>\n",
       "      <th>Status</th>\n",
       "      <th>Status Change Timestamp</th>\n",
       "      <th>Prop Type</th>\n",
       "      <th>Address</th>\n",
       "      <th>City</th>\n",
       "      <th>Acres</th>\n",
       "      <th>Sq Ft Total</th>\n",
       "      <th>Sq Ft Est Heated Above Grade</th>\n",
       "      <th>...</th>\n",
       "      <th>Year Built</th>\n",
       "      <th>DOM</th>\n",
       "      <th>Listing Agent</th>\n",
       "      <th>List Office</th>\n",
       "      <th>list_price</th>\n",
       "      <th>close_price</th>\n",
       "      <th>Full Bath</th>\n",
       "      <th>Half Bath</th>\n",
       "      <th>Garage</th>\n",
       "      <th>Parking</th>\n",
       "    </tr>\n",
       "  </thead>\n",
       "  <tbody>\n",
       "    <tr>\n",
       "      <th>1285</th>\n",
       "      <td>1</td>\n",
       "      <td>N353220</td>\n",
       "      <td>CLSD</td>\n",
       "      <td>12/22/20</td>\n",
       "      <td>SF</td>\n",
       "      <td>202 Pole Hill Rd</td>\n",
       "      <td>Bethany</td>\n",
       "      <td>1.5</td>\n",
       "      <td>2328</td>\n",
       "      <td>2328.0</td>\n",
       "      <td>...</td>\n",
       "      <td>0.0</td>\n",
       "      <td>1,945</td>\n",
       "      <td>Thomas J Cavaliere</td>\n",
       "      <td>CBRB34</td>\n",
       "      <td>369900</td>\n",
       "      <td>400000</td>\n",
       "      <td>2</td>\n",
       "      <td>1</td>\n",
       "      <td>2</td>\n",
       "      <td>Under House Garage</td>\n",
       "    </tr>\n",
       "  </tbody>\n",
       "</table>\n",
       "<p>1 rows × 23 columns</p>\n",
       "</div>"
      ],
      "text/plain": [
       "      #     MLS# Status Status Change Timestamp Prop Type           Address  \\\n",
       "1285  1  N353220   CLSD                12/22/20        SF  202 Pole Hill Rd   \n",
       "\n",
       "         City  Acres  Sq Ft Total  Sq Ft Est Heated Above Grade  ...  \\\n",
       "1285  Bethany    1.5         2328                        2328.0  ...   \n",
       "\n",
       "     Year Built    DOM       Listing Agent  List Office list_price  \\\n",
       "1285        0.0  1,945  Thomas J Cavaliere       CBRB34     369900   \n",
       "\n",
       "     close_price Full Bath  Half Bath  Garage             Parking  \n",
       "1285      400000         2          1       2  Under House Garage  \n",
       "\n",
       "[1 rows x 23 columns]"
      ]
     },
     "execution_count": 178,
     "metadata": {},
     "output_type": "execute_result"
    }
   ],
   "source": [
    "data_merged[data_merged['Year Built'] == 0]"
   ]
  },
  {
   "cell_type": "code",
   "execution_count": 179,
   "metadata": {},
   "outputs": [],
   "source": [
    "data_merged.drop(index=1285,inplace = True)"
   ]
  },
  {
   "cell_type": "code",
   "execution_count": 180,
   "metadata": {},
   "outputs": [
    {
     "data": {
      "text/html": [
       "<div>\n",
       "<style scoped>\n",
       "    .dataframe tbody tr th:only-of-type {\n",
       "        vertical-align: middle;\n",
       "    }\n",
       "\n",
       "    .dataframe tbody tr th {\n",
       "        vertical-align: top;\n",
       "    }\n",
       "\n",
       "    .dataframe thead th {\n",
       "        text-align: right;\n",
       "    }\n",
       "</style>\n",
       "<table border=\"1\" class=\"dataframe\">\n",
       "  <thead>\n",
       "    <tr style=\"text-align: right;\">\n",
       "      <th></th>\n",
       "      <th>#</th>\n",
       "      <th>MLS#</th>\n",
       "      <th>Status</th>\n",
       "      <th>Status Change Timestamp</th>\n",
       "      <th>Prop Type</th>\n",
       "      <th>Address</th>\n",
       "      <th>City</th>\n",
       "      <th>Acres</th>\n",
       "      <th>Sq Ft Total</th>\n",
       "      <th>Sq Ft Est Heated Above Grade</th>\n",
       "      <th>...</th>\n",
       "      <th>Year Built</th>\n",
       "      <th>DOM</th>\n",
       "      <th>Listing Agent</th>\n",
       "      <th>List Office</th>\n",
       "      <th>list_price</th>\n",
       "      <th>close_price</th>\n",
       "      <th>Full Bath</th>\n",
       "      <th>Half Bath</th>\n",
       "      <th>Garage</th>\n",
       "      <th>Parking</th>\n",
       "    </tr>\n",
       "  </thead>\n",
       "  <tbody>\n",
       "  </tbody>\n",
       "</table>\n",
       "<p>0 rows × 23 columns</p>\n",
       "</div>"
      ],
      "text/plain": [
       "Empty DataFrame\n",
       "Columns: [#, MLS#, Status, Status Change Timestamp, Prop Type, Address, City, Acres, Sq Ft Total, Sq Ft Est Heated Above Grade, Style or Rent Type, Rooms Total, Beds Total, Year Built, DOM, Listing Agent, List Office, list_price, close_price, Full Bath, Half Bath, Garage, Parking]\n",
       "Index: []\n",
       "\n",
       "[0 rows x 23 columns]"
      ]
     },
     "execution_count": 180,
     "metadata": {},
     "output_type": "execute_result"
    }
   ],
   "source": [
    "data_merged[data_merged['Year Built'] <= 1650]"
   ]
  },
  {
   "cell_type": "code",
   "execution_count": 181,
   "metadata": {},
   "outputs": [
    {
     "data": {
      "text/html": [
       "<div>\n",
       "<style scoped>\n",
       "    .dataframe tbody tr th:only-of-type {\n",
       "        vertical-align: middle;\n",
       "    }\n",
       "\n",
       "    .dataframe tbody tr th {\n",
       "        vertical-align: top;\n",
       "    }\n",
       "\n",
       "    .dataframe thead th {\n",
       "        text-align: right;\n",
       "    }\n",
       "</style>\n",
       "<table border=\"1\" class=\"dataframe\">\n",
       "  <thead>\n",
       "    <tr style=\"text-align: right;\">\n",
       "      <th></th>\n",
       "      <th>#</th>\n",
       "      <th>MLS#</th>\n",
       "      <th>Status</th>\n",
       "      <th>Status Change Timestamp</th>\n",
       "      <th>Prop Type</th>\n",
       "      <th>Address</th>\n",
       "      <th>City</th>\n",
       "      <th>Acres</th>\n",
       "      <th>Sq Ft Total</th>\n",
       "      <th>Sq Ft Est Heated Above Grade</th>\n",
       "      <th>...</th>\n",
       "      <th>Year Built</th>\n",
       "      <th>DOM</th>\n",
       "      <th>Listing Agent</th>\n",
       "      <th>List Office</th>\n",
       "      <th>list_price</th>\n",
       "      <th>close_price</th>\n",
       "      <th>Full Bath</th>\n",
       "      <th>Half Bath</th>\n",
       "      <th>Garage</th>\n",
       "      <th>Parking</th>\n",
       "    </tr>\n",
       "  </thead>\n",
       "  <tbody>\n",
       "  </tbody>\n",
       "</table>\n",
       "<p>0 rows × 23 columns</p>\n",
       "</div>"
      ],
      "text/plain": [
       "Empty DataFrame\n",
       "Columns: [#, MLS#, Status, Status Change Timestamp, Prop Type, Address, City, Acres, Sq Ft Total, Sq Ft Est Heated Above Grade, Style or Rent Type, Rooms Total, Beds Total, Year Built, DOM, Listing Agent, List Office, list_price, close_price, Full Bath, Half Bath, Garage, Parking]\n",
       "Index: []\n",
       "\n",
       "[0 rows x 23 columns]"
      ]
     },
     "execution_count": 181,
     "metadata": {},
     "output_type": "execute_result"
    }
   ],
   "source": [
    "data_merged[data_merged['Year Built'] <= 1650]"
   ]
  },
  {
   "cell_type": "code",
   "execution_count": 182,
   "metadata": {},
   "outputs": [
    {
     "data": {
      "text/html": [
       "<div>\n",
       "<style scoped>\n",
       "    .dataframe tbody tr th:only-of-type {\n",
       "        vertical-align: middle;\n",
       "    }\n",
       "\n",
       "    .dataframe tbody tr th {\n",
       "        vertical-align: top;\n",
       "    }\n",
       "\n",
       "    .dataframe thead th {\n",
       "        text-align: right;\n",
       "    }\n",
       "</style>\n",
       "<table border=\"1\" class=\"dataframe\">\n",
       "  <thead>\n",
       "    <tr style=\"text-align: right;\">\n",
       "      <th></th>\n",
       "      <th>#</th>\n",
       "      <th>MLS#</th>\n",
       "      <th>Status</th>\n",
       "      <th>Status Change Timestamp</th>\n",
       "      <th>Prop Type</th>\n",
       "      <th>Address</th>\n",
       "      <th>City</th>\n",
       "      <th>Acres</th>\n",
       "      <th>Sq Ft Total</th>\n",
       "      <th>Sq Ft Est Heated Above Grade</th>\n",
       "      <th>...</th>\n",
       "      <th>Year Built</th>\n",
       "      <th>DOM</th>\n",
       "      <th>Listing Agent</th>\n",
       "      <th>List Office</th>\n",
       "      <th>list_price</th>\n",
       "      <th>close_price</th>\n",
       "      <th>Full Bath</th>\n",
       "      <th>Half Bath</th>\n",
       "      <th>Garage</th>\n",
       "      <th>Parking</th>\n",
       "    </tr>\n",
       "  </thead>\n",
       "  <tbody>\n",
       "    <tr>\n",
       "      <th>29413</th>\n",
       "      <td>1001</td>\n",
       "      <td>170392935</td>\n",
       "      <td>CLSD</td>\n",
       "      <td>06/18/21</td>\n",
       "      <td>SF</td>\n",
       "      <td>25 Hanford Ln</td>\n",
       "      <td>New Canaan</td>\n",
       "      <td>2.31</td>\n",
       "      <td>3554</td>\n",
       "      <td>2984.0</td>\n",
       "      <td>...</td>\n",
       "      <td>NaN</td>\n",
       "      <td>13</td>\n",
       "      <td>Christine D Saxe</td>\n",
       "      <td>CPCT83</td>\n",
       "      <td>1649000</td>\n",
       "      <td>1900000</td>\n",
       "      <td>3</td>\n",
       "      <td>0</td>\n",
       "      <td>2</td>\n",
       "      <td>Attached Garage, Paved</td>\n",
       "    </tr>\n",
       "    <tr>\n",
       "      <th>52356</th>\n",
       "      <td>501</td>\n",
       "      <td>170348051</td>\n",
       "      <td>CLSD</td>\n",
       "      <td>12/29/20</td>\n",
       "      <td>SF</td>\n",
       "      <td>68 Bushnell Ave</td>\n",
       "      <td>Watertown</td>\n",
       "      <td>0.34</td>\n",
       "      <td>2083</td>\n",
       "      <td>2083.0</td>\n",
       "      <td>...</td>\n",
       "      <td>NaN</td>\n",
       "      <td>20</td>\n",
       "      <td>William Narducci</td>\n",
       "      <td>SHWC22</td>\n",
       "      <td>287000</td>\n",
       "      <td>281750</td>\n",
       "      <td>1</td>\n",
       "      <td>1</td>\n",
       "      <td>2</td>\n",
       "      <td>Detached Garage, Off Street Parking</td>\n",
       "    </tr>\n",
       "    <tr>\n",
       "      <th>54216</th>\n",
       "      <td>2501</td>\n",
       "      <td>170335485</td>\n",
       "      <td>CLSD</td>\n",
       "      <td>12/12/20</td>\n",
       "      <td>SF</td>\n",
       "      <td>24 10 O Clock Ln</td>\n",
       "      <td>Weston</td>\n",
       "      <td>2.12</td>\n",
       "      <td>2674</td>\n",
       "      <td>1649.0</td>\n",
       "      <td>...</td>\n",
       "      <td>NaN</td>\n",
       "      <td>38</td>\n",
       "      <td>Patricia D Manea</td>\n",
       "      <td>4166</td>\n",
       "      <td>574995</td>\n",
       "      <td>585000</td>\n",
       "      <td>3</td>\n",
       "      <td>0</td>\n",
       "      <td>1</td>\n",
       "      <td>Detached Garage</td>\n",
       "    </tr>\n",
       "    <tr>\n",
       "      <th>54560</th>\n",
       "      <td>2501</td>\n",
       "      <td>170319053</td>\n",
       "      <td>CLSD</td>\n",
       "      <td>01/25/21</td>\n",
       "      <td>SF</td>\n",
       "      <td>40 Bridge St</td>\n",
       "      <td>Westport</td>\n",
       "      <td>0.30</td>\n",
       "      <td>2331</td>\n",
       "      <td>1531.0</td>\n",
       "      <td>...</td>\n",
       "      <td>NaN</td>\n",
       "      <td>110</td>\n",
       "      <td>Angus Beavers</td>\n",
       "      <td>3548</td>\n",
       "      <td>975000</td>\n",
       "      <td>750000</td>\n",
       "      <td>1</td>\n",
       "      <td>1</td>\n",
       "      <td>1</td>\n",
       "      <td>Attached Garage</td>\n",
       "    </tr>\n",
       "  </tbody>\n",
       "</table>\n",
       "<p>4 rows × 23 columns</p>\n",
       "</div>"
      ],
      "text/plain": [
       "          #       MLS# Status Status Change Timestamp Prop Type  \\\n",
       "29413  1001  170392935   CLSD                06/18/21        SF   \n",
       "52356   501  170348051   CLSD                12/29/20        SF   \n",
       "54216  2501  170335485   CLSD                12/12/20        SF   \n",
       "54560  2501  170319053   CLSD                01/25/21        SF   \n",
       "\n",
       "                Address        City  Acres  Sq Ft Total  \\\n",
       "29413     25 Hanford Ln  New Canaan   2.31         3554   \n",
       "52356   68 Bushnell Ave   Watertown   0.34         2083   \n",
       "54216  24 10 O Clock Ln      Weston   2.12         2674   \n",
       "54560      40 Bridge St    Westport   0.30         2331   \n",
       "\n",
       "       Sq Ft Est Heated Above Grade  ... Year Built  DOM     Listing Agent  \\\n",
       "29413                        2984.0  ...        NaN   13  Christine D Saxe   \n",
       "52356                        2083.0  ...        NaN   20  William Narducci   \n",
       "54216                        1649.0  ...        NaN   38  Patricia D Manea   \n",
       "54560                        1531.0  ...        NaN  110     Angus Beavers   \n",
       "\n",
       "       List Office list_price close_price Full Bath  Half Bath  Garage  \\\n",
       "29413       CPCT83    1649000     1900000         3          0       2   \n",
       "52356       SHWC22     287000      281750         1          1       2   \n",
       "54216         4166     574995      585000         3          0       1   \n",
       "54560         3548     975000      750000         1          1       1   \n",
       "\n",
       "                                   Parking  \n",
       "29413               Attached Garage, Paved  \n",
       "52356  Detached Garage, Off Street Parking  \n",
       "54216                      Detached Garage  \n",
       "54560                      Attached Garage  \n",
       "\n",
       "[4 rows x 23 columns]"
      ]
     },
     "execution_count": 182,
     "metadata": {},
     "output_type": "execute_result"
    }
   ],
   "source": [
    "data_merged[data_merged['Year Built'].isnull()]"
   ]
  },
  {
   "cell_type": "code",
   "execution_count": 183,
   "metadata": {},
   "outputs": [],
   "source": [
    "### 52356 1920, 29413 1969, 54216 1956, 54560 2021"
   ]
  },
  {
   "cell_type": "code",
   "execution_count": 184,
   "metadata": {},
   "outputs": [],
   "source": [
    "data_merged.at[52356,'Year Built'] = 1920"
   ]
  },
  {
   "cell_type": "code",
   "execution_count": 185,
   "metadata": {},
   "outputs": [],
   "source": [
    "data_merged.at[29413,'Year Built'] = 1969"
   ]
  },
  {
   "cell_type": "code",
   "execution_count": 186,
   "metadata": {},
   "outputs": [],
   "source": [
    "data_merged.at[54216,'Year Built'] = 1956"
   ]
  },
  {
   "cell_type": "code",
   "execution_count": 187,
   "metadata": {},
   "outputs": [],
   "source": [
    "data_merged.at[54560,'Year Built'] = 2021"
   ]
  },
  {
   "cell_type": "code",
   "execution_count": 188,
   "metadata": {},
   "outputs": [
    {
     "data": {
      "text/plain": [
       "0"
      ]
     },
     "execution_count": 188,
     "metadata": {},
     "output_type": "execute_result"
    }
   ],
   "source": [
    "len(data_merged[data_merged['Year Built'].isnull()])"
   ]
  },
  {
   "cell_type": "code",
   "execution_count": 189,
   "metadata": {},
   "outputs": [
    {
     "data": {
      "text/plain": [
       "count    57410.000000\n",
       "mean      1964.322818\n",
       "std         38.193826\n",
       "min       1659.000000\n",
       "25%       1951.000000\n",
       "50%       1969.000000\n",
       "75%       1988.000000\n",
       "max       2021.000000\n",
       "Name: Year Built, dtype: float64"
      ]
     },
     "execution_count": 189,
     "metadata": {},
     "output_type": "execute_result"
    }
   ],
   "source": [
    "data_merged['Year Built'].describe()"
   ]
  },
  {
   "cell_type": "markdown",
   "metadata": {},
   "source": [
    "### Age"
   ]
  },
  {
   "cell_type": "code",
   "execution_count": 190,
   "metadata": {},
   "outputs": [],
   "source": [
    "today = pd.to_datetime('today')"
   ]
  },
  {
   "cell_type": "code",
   "execution_count": 191,
   "metadata": {},
   "outputs": [],
   "source": [
    "current_year = today.year"
   ]
  },
  {
   "cell_type": "code",
   "execution_count": 192,
   "metadata": {},
   "outputs": [],
   "source": [
    "data_merged['Age'] = current_year - data_merged['Year Built'] "
   ]
  },
  {
   "cell_type": "code",
   "execution_count": 193,
   "metadata": {},
   "outputs": [
    {
     "data": {
      "text/plain": [
       "count    57410.000000\n",
       "mean        56.677182\n",
       "std         38.193826\n",
       "min          0.000000\n",
       "25%         33.000000\n",
       "50%         52.000000\n",
       "75%         70.000000\n",
       "max        362.000000\n",
       "Name: Age, dtype: float64"
      ]
     },
     "execution_count": 193,
     "metadata": {},
     "output_type": "execute_result"
    }
   ],
   "source": [
    "data_merged['Age'].describe()"
   ]
  },
  {
   "cell_type": "markdown",
   "metadata": {},
   "source": []
  },
  {
   "cell_type": "markdown",
   "metadata": {},
   "source": [
    "____________________________________________________________________________"
   ]
  },
  {
   "cell_type": "markdown",
   "metadata": {},
   "source": [
    "# Days on Market"
   ]
  },
  {
   "cell_type": "markdown",
   "metadata": {},
   "source": [
    "Days on the market is number of days between when the day the property was listed and the day the property closed"
   ]
  },
  {
   "cell_type": "code",
   "execution_count": 194,
   "metadata": {},
   "outputs": [
    {
     "data": {
      "text/plain": [
       "0      22\n",
       "1      56\n",
       "2       8\n",
       "3     231\n",
       "4      69\n",
       "5       2\n",
       "6      41\n",
       "7      77\n",
       "8       3\n",
       "9      88\n",
       "10      7\n",
       "11     73\n",
       "12      8\n",
       "13      4\n",
       "14    242\n",
       "15      1\n",
       "16      2\n",
       "17     69\n",
       "18      4\n",
       "19      7\n",
       "Name: DOM, dtype: object"
      ]
     },
     "execution_count": 194,
     "metadata": {},
     "output_type": "execute_result"
    }
   ],
   "source": [
    "data_merged['DOM'].head(20)"
   ]
  },
  {
   "cell_type": "code",
   "execution_count": 195,
   "metadata": {},
   "outputs": [
    {
     "data": {
      "text/plain": [
       "count     57410\n",
       "unique     1087\n",
       "top           3\n",
       "freq       2671\n",
       "Name: DOM, dtype: object"
      ]
     },
     "execution_count": 195,
     "metadata": {},
     "output_type": "execute_result"
    }
   ],
   "source": [
    "data_merged['DOM'].describe()"
   ]
  },
  {
   "cell_type": "markdown",
   "metadata": {},
   "source": [
    "The series needs to be converted to numeric values"
   ]
  },
  {
   "cell_type": "code",
   "execution_count": 196,
   "metadata": {},
   "outputs": [
    {
     "name": "stdout",
     "output_type": "stream",
     "text": [
      "3      2671\n",
      "2      2229\n",
      "4      2183\n",
      "5      1557\n",
      "1      1122\n",
      "       ... \n",
      "587       1\n",
      "926       1\n",
      "570       1\n",
      "873       1\n",
      "-2        1\n",
      "Name: DOM, Length: 1087, dtype: int64\n"
     ]
    }
   ],
   "source": [
    "print(data_merged['DOM'].value_counts())"
   ]
  },
  {
   "cell_type": "code",
   "execution_count": 197,
   "metadata": {},
   "outputs": [
    {
     "data": {
      "text/plain": [
       "False    57410\n",
       "Name: DOM, dtype: int64"
      ]
     },
     "execution_count": 197,
     "metadata": {},
     "output_type": "execute_result"
    }
   ],
   "source": [
    "data_merged['DOM'].isnull().value_counts()"
   ]
  },
  {
   "cell_type": "code",
   "execution_count": 198,
   "metadata": {},
   "outputs": [
    {
     "data": {
      "text/plain": [
       "False    57410\n",
       "Name: DOM, dtype: int64"
      ]
     },
     "execution_count": 198,
     "metadata": {},
     "output_type": "execute_result"
    }
   ],
   "source": [
    "(data_merged['DOM']=='').value_counts()"
   ]
  },
  {
   "cell_type": "code",
   "execution_count": 199,
   "metadata": {},
   "outputs": [],
   "source": [
    "#########is numeric to look fin at this point"
   ]
  },
  {
   "cell_type": "code",
   "execution_count": 200,
   "metadata": {},
   "outputs": [],
   "source": [
    "data_merged['DOM'] = data_merged['DOM'].apply(lambda x: str(x).replace(',','') if (',' in str(x)) else x )"
   ]
  },
  {
   "cell_type": "code",
   "execution_count": 201,
   "metadata": {},
   "outputs": [],
   "source": [
    "data_merged['DOM'] = pd.to_numeric(data_merged['DOM']) "
   ]
  },
  {
   "cell_type": "markdown",
   "metadata": {},
   "source": [
    "Non numeric characters were removed and series converted to numeric values"
   ]
  },
  {
   "cell_type": "code",
   "execution_count": 202,
   "metadata": {},
   "outputs": [
    {
     "data": {
      "text/plain": [
       "False    57410\n",
       "Name: DOM, dtype: int64"
      ]
     },
     "execution_count": 202,
     "metadata": {},
     "output_type": "execute_result"
    }
   ],
   "source": [
    "data_merged['DOM'].isnull().value_counts()"
   ]
  },
  {
   "cell_type": "code",
   "execution_count": 203,
   "metadata": {},
   "outputs": [],
   "source": [
    "##data_merged[data_merged['DOM'].isnull()]"
   ]
  },
  {
   "cell_type": "code",
   "execution_count": 204,
   "metadata": {},
   "outputs": [
    {
     "data": {
      "text/plain": [
       "count    57410.000000\n",
       "mean        52.470528\n",
       "std         83.467637\n",
       "min       -328.000000\n",
       "25%          6.000000\n",
       "50%         29.000000\n",
       "75%         66.000000\n",
       "max       2889.000000\n",
       "Name: DOM, dtype: float64"
      ]
     },
     "execution_count": 204,
     "metadata": {},
     "output_type": "execute_result"
    }
   ],
   "source": [
    "data_merged['DOM'].describe()"
   ]
  },
  {
   "cell_type": "code",
   "execution_count": 205,
   "metadata": {},
   "outputs": [
    {
     "data": {
      "text/plain": [
       "11"
      ]
     },
     "execution_count": 205,
     "metadata": {},
     "output_type": "execute_result"
    }
   ],
   "source": [
    "len(data_merged[data_merged['DOM'] < 0])"
   ]
  },
  {
   "cell_type": "markdown",
   "metadata": {},
   "source": [
    "Negative values do not make sense. These 11 observations will be replaced with the mean days on market"
   ]
  },
  {
   "cell_type": "code",
   "execution_count": 206,
   "metadata": {},
   "outputs": [],
   "source": [
    "average_dom = (data_merged.loc[data_merged['DOM'] >= 0,'DOM']).mean()"
   ]
  },
  {
   "cell_type": "code",
   "execution_count": 207,
   "metadata": {},
   "outputs": [],
   "source": [
    "data_merged.loc[data_merged['DOM'] < 0,'DOM'] = average_dom"
   ]
  },
  {
   "cell_type": "code",
   "execution_count": 208,
   "metadata": {},
   "outputs": [
    {
     "data": {
      "text/plain": [
       "count    57410.000000\n",
       "mean        52.492064\n",
       "std         83.443046\n",
       "min          0.000000\n",
       "25%          6.000000\n",
       "50%         29.000000\n",
       "75%         66.000000\n",
       "max       2889.000000\n",
       "Name: DOM, dtype: float64"
      ]
     },
     "execution_count": 208,
     "metadata": {},
     "output_type": "execute_result"
    }
   ],
   "source": [
    "data_merged['DOM'].describe()"
   ]
  },
  {
   "cell_type": "markdown",
   "metadata": {},
   "source": [
    "Days on Market were processed as follows:\n",
    "1. Non numeric characters were removed and the series was converted to numeric values\n",
    "2. 11 negative observations were replaced by the mean Days on Market"
   ]
  },
  {
   "cell_type": "markdown",
   "metadata": {},
   "source": [
    "***"
   ]
  },
  {
   "cell_type": "markdown",
   "metadata": {},
   "source": [
    "# Summary Stats"
   ]
  },
  {
   "cell_type": "code",
   "execution_count": 209,
   "metadata": {},
   "outputs": [
    {
     "name": "stdout",
     "output_type": "stream",
     "text": [
      "<class 'pandas.core.frame.DataFrame'>\n",
      "Int64Index: 57410 entries, 0 to 58106\n",
      "Data columns (total 24 columns):\n",
      " #   Column                        Non-Null Count  Dtype  \n",
      "---  ------                        --------------  -----  \n",
      " 0   #                             57410 non-null  int64  \n",
      " 1   MLS#                          57410 non-null  object \n",
      " 2   Status                        57410 non-null  object \n",
      " 3   Status Change Timestamp       57410 non-null  object \n",
      " 4   Prop Type                     57410 non-null  object \n",
      " 5   Address                       57410 non-null  object \n",
      " 6   City                          57410 non-null  object \n",
      " 7   Acres                         57410 non-null  float64\n",
      " 8   Sq Ft Total                   57410 non-null  int64  \n",
      " 9   Sq Ft Est Heated Above Grade  57410 non-null  float64\n",
      " 10  Style or Rent Type            57410 non-null  object \n",
      " 11  Rooms Total                   57410 non-null  int64  \n",
      " 12  Beds Total                    57410 non-null  int64  \n",
      " 13  Year Built                    57410 non-null  float64\n",
      " 14  DOM                           57410 non-null  float64\n",
      " 15  Listing Agent                 57410 non-null  object \n",
      " 16  List Office                   57410 non-null  object \n",
      " 17  list_price                    57410 non-null  int64  \n",
      " 18  close_price                   57410 non-null  int64  \n",
      " 19  Full Bath                     57410 non-null  int64  \n",
      " 20  Half Bath                     57410 non-null  int64  \n",
      " 21  Garage                        57410 non-null  int64  \n",
      " 22  Parking                       57410 non-null  object \n",
      " 23  Age                           57410 non-null  float64\n",
      "dtypes: float64(5), int64(9), object(10)\n",
      "memory usage: 13.5+ MB\n",
      "None\n"
     ]
    }
   ],
   "source": [
    "print(data_merged.info())"
   ]
  },
  {
   "cell_type": "code",
   "execution_count": 210,
   "metadata": {},
   "outputs": [
    {
     "name": "stdout",
     "output_type": "stream",
     "text": [
      "                  #         Acres   Sq Ft Total  Sq Ft Est Heated Above Grade  \\\n",
      "count  57410.000000  57410.000000  57410.000000                  57410.000000   \n",
      "mean    1686.908378      1.609958   2149.181780                   1943.566086   \n",
      "std     1466.587461     80.129240   1329.153322                   1169.310715   \n",
      "min        1.000000      0.000000    100.000000                    100.000000   \n",
      "25%        1.000000      0.130000   1302.000000                   1210.000000   \n",
      "50%     1501.000000      0.340000   1794.000000                   1592.000000   \n",
      "75%     3001.000000      1.000000   2565.000000                   2323.750000   \n",
      "max     4501.000000  12911.000000  61184.000000                  61184.000000   \n",
      "\n",
      "        Rooms Total    Beds Total    Year Built           DOM    list_price  \\\n",
      "count  57410.000000  57410.000000  57410.000000  57410.000000  5.741000e+04   \n",
      "mean       6.883313      3.158091   1964.322818     52.492064  4.528182e+05   \n",
      "std        2.296270      1.021816     38.193826     83.443046  5.605271e+05   \n",
      "min        1.000000      0.000000   1659.000000      0.000000  1.000000e+04   \n",
      "25%        5.000000      3.000000   1951.000000      6.000000  2.130000e+05   \n",
      "50%        7.000000      3.000000   1969.000000     29.000000  2.999000e+05   \n",
      "75%        8.000000      4.000000   1988.000000     66.000000  4.749000e+05   \n",
      "max       66.000000     15.000000   2021.000000   2889.000000  1.675000e+07   \n",
      "\n",
      "        close_price     Full Bath     Half Bath        Garage           Age  \n",
      "count  5.741000e+04  57410.000000  57410.000000  57410.000000  57410.000000  \n",
      "mean   4.503702e+05      1.939889      0.594165    243.467253     56.677182  \n",
      "std    5.409076e+05      0.975385      0.593875   4914.516552     38.193826  \n",
      "min    1.050000e+04      0.000000      0.000000      0.000000      0.000000  \n",
      "25%    2.150000e+05      1.000000      0.000000      1.000000     33.000000  \n",
      "50%    3.080000e+05      2.000000      1.000000      1.000000     52.000000  \n",
      "75%    4.750000e+05      2.000000      1.000000      2.000000     70.000000  \n",
      "max    1.650000e+07     20.000000      8.000000  99999.000000    362.000000  \n"
     ]
    }
   ],
   "source": [
    "print(data_merged.describe())"
   ]
  },
  {
   "cell_type": "code",
   "execution_count": 211,
   "metadata": {},
   "outputs": [],
   "source": [
    "data_merged.reset_index(inplace=True,drop = True)"
   ]
  }
 ],
 "metadata": {
  "kernelspec": {
   "display_name": "Python 3",
   "language": "python",
   "name": "python3"
  },
  "language_info": {
   "codemirror_mode": {
    "name": "ipython",
    "version": 3
   },
   "file_extension": ".py",
   "mimetype": "text/x-python",
   "name": "python",
   "nbconvert_exporter": "python",
   "pygments_lexer": "ipython3",
   "version": "3.8.5"
  }
 },
 "nbformat": 4,
 "nbformat_minor": 4
}
