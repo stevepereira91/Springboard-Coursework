{
 "cells": [
  {
   "cell_type": "code",
   "execution_count": 1145,
   "metadata": {},
   "outputs": [],
   "source": [
    "import pandas as pd\n",
    "import numpy as np"
   ]
  },
  {
   "cell_type": "code",
   "execution_count": 1146,
   "metadata": {},
   "outputs": [
    {
     "data": {
      "text/plain": [
       "'C:\\\\Users\\\\kyu_k\\\\OneDrive\\\\Desktop\\\\ds\\\\Spring board DS Career track\\\\Capstonetwo\\\\Untitled Folder'"
      ]
     },
     "execution_count": 1146,
     "metadata": {},
     "output_type": "execute_result"
    }
   ],
   "source": [
    "pwd"
   ]
  },
  {
   "cell_type": "code",
   "execution_count": 1147,
   "metadata": {},
   "outputs": [],
   "source": [
    "data_merged = pd.DataFrame()\n"
   ]
  },
  {
   "cell_type": "code",
   "execution_count": 1148,
   "metadata": {},
   "outputs": [],
   "source": [
    "#C:/Users/kyu_k/OneDrive/Desktop/ds/Spring board DS Career track/Capstone 2"
   ]
  },
  {
   "cell_type": "code",
   "execution_count": 1149,
   "metadata": {},
   "outputs": [
    {
     "name": "stdout",
     "output_type": "stream",
     "text": [
      "C:/Users/kyu_k/OneDrive/Desktop/ds/Spring board DS Career track/Capstonetwo/data/Agent Single Line (1).csv\n",
      "C:/Users/kyu_k/OneDrive/Desktop/ds/Spring board DS Career track/Capstonetwo/data/Agent Single Line (2).csv\n",
      "C:/Users/kyu_k/OneDrive/Desktop/ds/Spring board DS Career track/Capstonetwo/data/Agent Single Line (3).csv\n",
      "C:/Users/kyu_k/OneDrive/Desktop/ds/Spring board DS Career track/Capstonetwo/data/Agent Single Line (4).csv\n",
      "C:/Users/kyu_k/OneDrive/Desktop/ds/Spring board DS Career track/Capstonetwo/data/Agent Single Line (5).csv\n",
      "C:/Users/kyu_k/OneDrive/Desktop/ds/Spring board DS Career track/Capstonetwo/data/Agent Single Line (6).csv\n",
      "C:/Users/kyu_k/OneDrive/Desktop/ds/Spring board DS Career track/Capstonetwo/data/Agent Single Line (7).csv\n",
      "C:/Users/kyu_k/OneDrive/Desktop/ds/Spring board DS Career track/Capstonetwo/data/Agent Single Line (8).csv\n",
      "C:/Users/kyu_k/OneDrive/Desktop/ds/Spring board DS Career track/Capstonetwo/data/Agent Single Line (9).csv\n",
      "C:/Users/kyu_k/OneDrive/Desktop/ds/Spring board DS Career track/Capstonetwo/data/Agent Single Line (10).csv\n",
      "C:/Users/kyu_k/OneDrive/Desktop/ds/Spring board DS Career track/Capstonetwo/data/Agent Single Line (11).csv\n",
      "C:/Users/kyu_k/OneDrive/Desktop/ds/Spring board DS Career track/Capstonetwo/data/Agent Single Line (12).csv\n",
      "C:/Users/kyu_k/OneDrive/Desktop/ds/Spring board DS Career track/Capstonetwo/data/Agent Single Line (13).csv\n",
      "C:/Users/kyu_k/OneDrive/Desktop/ds/Spring board DS Career track/Capstonetwo/data/Agent Single Line (14).csv\n",
      "C:/Users/kyu_k/OneDrive/Desktop/ds/Spring board DS Career track/Capstonetwo/data/Agent Single Line (15).csv\n",
      "C:/Users/kyu_k/OneDrive/Desktop/ds/Spring board DS Career track/Capstonetwo/data/Agent Single Line (16).csv\n",
      "C:/Users/kyu_k/OneDrive/Desktop/ds/Spring board DS Career track/Capstonetwo/data/Agent Single Line (17).csv\n",
      "C:/Users/kyu_k/OneDrive/Desktop/ds/Spring board DS Career track/Capstonetwo/data/Agent Single Line (18).csv\n",
      "C:/Users/kyu_k/OneDrive/Desktop/ds/Spring board DS Career track/Capstonetwo/data/Agent Single Line (19).csv\n",
      "C:/Users/kyu_k/OneDrive/Desktop/ds/Spring board DS Career track/Capstonetwo/data/Agent Single Line (20).csv\n",
      "C:/Users/kyu_k/OneDrive/Desktop/ds/Spring board DS Career track/Capstonetwo/data/Agent Single Line (21).csv\n",
      "C:/Users/kyu_k/OneDrive/Desktop/ds/Spring board DS Career track/Capstonetwo/data/Agent Single Line (22).csv\n",
      "C:/Users/kyu_k/OneDrive/Desktop/ds/Spring board DS Career track/Capstonetwo/data/Agent Single Line (23).csv\n",
      "C:/Users/kyu_k/OneDrive/Desktop/ds/Spring board DS Career track/Capstonetwo/data/Agent Single Line (24).csv\n",
      "C:/Users/kyu_k/OneDrive/Desktop/ds/Spring board DS Career track/Capstonetwo/data/Agent Single Line (25).csv\n",
      "C:/Users/kyu_k/OneDrive/Desktop/ds/Spring board DS Career track/Capstonetwo/data/Agent Single Line (26).csv\n",
      "C:/Users/kyu_k/OneDrive/Desktop/ds/Spring board DS Career track/Capstonetwo/data/Agent Single Line (27).csv\n",
      "C:/Users/kyu_k/OneDrive/Desktop/ds/Spring board DS Career track/Capstonetwo/data/Agent Single Line (28).csv\n",
      "C:/Users/kyu_k/OneDrive/Desktop/ds/Spring board DS Career track/Capstonetwo/data/Agent Single Line (29).csv\n",
      "C:/Users/kyu_k/OneDrive/Desktop/ds/Spring board DS Career track/Capstonetwo/data/Agent Single Line (30).csv\n",
      "C:/Users/kyu_k/OneDrive/Desktop/ds/Spring board DS Career track/Capstonetwo/data/Agent Single Line (31).csv\n",
      "C:/Users/kyu_k/OneDrive/Desktop/ds/Spring board DS Career track/Capstonetwo/data/Agent Single Line (32).csv\n",
      "C:/Users/kyu_k/OneDrive/Desktop/ds/Spring board DS Career track/Capstonetwo/data/Agent Single Line (33).csv\n",
      "C:/Users/kyu_k/OneDrive/Desktop/ds/Spring board DS Career track/Capstonetwo/data/Agent Single Line (34).csv\n",
      "C:/Users/kyu_k/OneDrive/Desktop/ds/Spring board DS Career track/Capstonetwo/data/Agent Single Line (35).csv\n",
      "C:/Users/kyu_k/OneDrive/Desktop/ds/Spring board DS Career track/Capstonetwo/data/Agent Single Line (36).csv\n",
      "C:/Users/kyu_k/OneDrive/Desktop/ds/Spring board DS Career track/Capstonetwo/data/Agent Single Line (37).csv\n",
      "C:/Users/kyu_k/OneDrive/Desktop/ds/Spring board DS Career track/Capstonetwo/data/Agent Single Line (38).csv\n",
      "C:/Users/kyu_k/OneDrive/Desktop/ds/Spring board DS Career track/Capstonetwo/data/Agent Single Line (39).csv\n",
      "C:/Users/kyu_k/OneDrive/Desktop/ds/Spring board DS Career track/Capstonetwo/data/Agent Single Line (40).csv\n",
      "C:/Users/kyu_k/OneDrive/Desktop/ds/Spring board DS Career track/Capstonetwo/data/Agent Single Line (41).csv\n",
      "C:/Users/kyu_k/OneDrive/Desktop/ds/Spring board DS Career track/Capstonetwo/data/Agent Single Line (42).csv\n",
      "C:/Users/kyu_k/OneDrive/Desktop/ds/Spring board DS Career track/Capstonetwo/data/Agent Single Line (43).csv\n",
      "C:/Users/kyu_k/OneDrive/Desktop/ds/Spring board DS Career track/Capstonetwo/data/Agent Single Line (44).csv\n",
      "C:/Users/kyu_k/OneDrive/Desktop/ds/Spring board DS Career track/Capstonetwo/data/Agent Single Line (45).csv\n",
      "C:/Users/kyu_k/OneDrive/Desktop/ds/Spring board DS Career track/Capstonetwo/data/Agent Single Line (46).csv\n",
      "C:/Users/kyu_k/OneDrive/Desktop/ds/Spring board DS Career track/Capstonetwo/data/Agent Single Line (47).csv\n",
      "C:/Users/kyu_k/OneDrive/Desktop/ds/Spring board DS Career track/Capstonetwo/data/Agent Single Line (48).csv\n",
      "C:/Users/kyu_k/OneDrive/Desktop/ds/Spring board DS Career track/Capstonetwo/data/Agent Single Line (49).csv\n",
      "C:/Users/kyu_k/OneDrive/Desktop/ds/Spring board DS Career track/Capstonetwo/data/Agent Single Line (50).csv\n",
      "C:/Users/kyu_k/OneDrive/Desktop/ds/Spring board DS Career track/Capstonetwo/data/Agent Single Line (51).csv\n",
      "C:/Users/kyu_k/OneDrive/Desktop/ds/Spring board DS Career track/Capstonetwo/data/Agent Single Line (52).csv\n",
      "C:/Users/kyu_k/OneDrive/Desktop/ds/Spring board DS Career track/Capstonetwo/data/Agent Single Line (53).csv\n",
      "C:/Users/kyu_k/OneDrive/Desktop/ds/Spring board DS Career track/Capstonetwo/data/Agent Single Line (54).csv\n",
      "C:/Users/kyu_k/OneDrive/Desktop/ds/Spring board DS Career track/Capstonetwo/data/Agent Single Line (55).csv\n",
      "C:/Users/kyu_k/OneDrive/Desktop/ds/Spring board DS Career track/Capstonetwo/data/Agent Single Line (56).csv\n",
      "C:/Users/kyu_k/OneDrive/Desktop/ds/Spring board DS Career track/Capstonetwo/data/Agent Single Line (57).csv\n",
      "C:/Users/kyu_k/OneDrive/Desktop/ds/Spring board DS Career track/Capstonetwo/data/Agent Single Line (58).csv\n",
      "C:/Users/kyu_k/OneDrive/Desktop/ds/Spring board DS Career track/Capstonetwo/data/Agent Single Line (59).csv\n",
      "C:/Users/kyu_k/OneDrive/Desktop/ds/Spring board DS Career track/Capstonetwo/data/Agent Single Line (60).csv\n",
      "C:/Users/kyu_k/OneDrive/Desktop/ds/Spring board DS Career track/Capstonetwo/data/Agent Single Line (61).csv\n",
      "C:/Users/kyu_k/OneDrive/Desktop/ds/Spring board DS Career track/Capstonetwo/data/Agent Single Line (62).csv\n",
      "C:/Users/kyu_k/OneDrive/Desktop/ds/Spring board DS Career track/Capstonetwo/data/Agent Single Line (63).csv\n",
      "C:/Users/kyu_k/OneDrive/Desktop/ds/Spring board DS Career track/Capstonetwo/data/Agent Single Line (64).csv\n",
      "C:/Users/kyu_k/OneDrive/Desktop/ds/Spring board DS Career track/Capstonetwo/data/Agent Single Line (65).csv\n",
      "C:/Users/kyu_k/OneDrive/Desktop/ds/Spring board DS Career track/Capstonetwo/data/Agent Single Line (66).csv\n",
      "C:/Users/kyu_k/OneDrive/Desktop/ds/Spring board DS Career track/Capstonetwo/data/Agent Single Line (67).csv\n",
      "C:/Users/kyu_k/OneDrive/Desktop/ds/Spring board DS Career track/Capstonetwo/data/Agent Single Line (68).csv\n"
     ]
    }
   ],
   "source": [
    "for i in range(1,69):\n",
    "    \n",
    "    filename = 'C:/Users/kyu_k/OneDrive/Desktop/ds/Spring board DS Career track/Capstonetwo/data/Agent Single Line (' + str(i) + ').csv'\n",
    "    dataframe = pd.read_csv(filename)\n",
    "    print(filename)\n",
    "    \n",
    "    if i == 1:\n",
    "        data_merged = dataframe\n",
    "        \n",
    "        \n",
    "    else:\n",
    "        data_merged = data_merged.append(dataframe)\n",
    "        \n",
    "        \n",
    "   "
   ]
  },
  {
   "cell_type": "code",
   "execution_count": 1150,
   "metadata": {},
   "outputs": [],
   "source": [
    "data_merged.reset_index(inplace=True,drop = True)"
   ]
  },
  {
   "cell_type": "code",
   "execution_count": 1151,
   "metadata": {},
   "outputs": [
    {
     "name": "stdout",
     "output_type": "stream",
     "text": [
      "(58107, 21)\n"
     ]
    }
   ],
   "source": [
    "print(data_merged.shape)"
   ]
  },
  {
   "cell_type": "code",
   "execution_count": 1152,
   "metadata": {},
   "outputs": [
    {
     "name": "stdout",
     "output_type": "stream",
     "text": [
      "   #       MLS# Status Status Change Timestamp Prop Type  \\\n",
      "0  1  170323774   CLSD                09/13/20        SF   \n",
      "1  1  170366202   CLSD                03/18/21        SF   \n",
      "2  1  170378716   CLSD                05/14/21        SF   \n",
      "3  1  170305413   CLSD                03/10/21        SF   \n",
      "4  1  170365013   CLSD                04/22/21        SF   \n",
      "\n",
      "               List/Closed Price           Address Unnamed: 7     City  Acres  \\\n",
      "0  LP: $3,750,000 CP: $3,750,000      213 Separate              Amenia  21.42   \n",
      "1  LP: $7,950,000 CP: $6,800,000  292 Wood Duck Rd              Amenia   0.32   \n",
      "2       LP: $150,000 CP: $97,500   64 Long Hill Rd             Andover   0.92   \n",
      "3      LP: $119,900 CP: $100,000       560 Route 6             Andover   4.63   \n",
      "4      LP: $170,000 CP: $150,000       7 Bailey Rd             Andover   1.49   \n",
      "\n",
      "   ... Sq Ft Est Heated Above Grade Style or Rent Type Rooms Total  \\\n",
      "0  ...                        4,392           Colonial          11   \n",
      "1  ...                        5,169       Contemporary           7   \n",
      "2  ...                        1,800           Colonial           7   \n",
      "3  ...                        1,724              Ranch           6   \n",
      "4  ...                        1,138           Bungalow           6   \n",
      "\n",
      "   Beds Total        Bathrooms               Garage/Park Year Built  DOM  \\\n",
      "0           4  3 Full & 1 Half     2 Car/Attached Garage     2007.0   22   \n",
      "1           5  5 Full & 1 Half     2 Car/Attached Garage     2018.0   56   \n",
      "2           3           1 Full  2 Car/Off Street Parking     1935.0    8   \n",
      "3           3           1 Full    Car/Off Street Parking     1948.0  231   \n",
      "4           3           1 Full     2 Car/Detached Garage     1923.0   69   \n",
      "\n",
      "         Listing Agent List Office  \n",
      "0         Graham Klemm      KLEM40  \n",
      "1  Elyse Harney Morris      HARN42  \n",
      "2        Mike Defosses      EXRE01  \n",
      "3             Team Rio      EXRE01  \n",
      "4   Erica L Molochnick      REDB01  \n",
      "\n",
      "[5 rows x 21 columns]\n"
     ]
    }
   ],
   "source": [
    "print(data_merged.head())"
   ]
  },
  {
   "cell_type": "code",
   "execution_count": 1153,
   "metadata": {},
   "outputs": [
    {
     "name": "stdout",
     "output_type": "stream",
     "text": [
      "<class 'pandas.core.frame.DataFrame'>\n",
      "RangeIndex: 58107 entries, 0 to 58106\n",
      "Data columns (total 21 columns):\n",
      " #   Column                        Non-Null Count  Dtype  \n",
      "---  ------                        --------------  -----  \n",
      " 0   #                             58107 non-null  int64  \n",
      " 1   MLS#                          58107 non-null  object \n",
      " 2   Status                        58107 non-null  object \n",
      " 3   Status Change Timestamp       58107 non-null  object \n",
      " 4   Prop Type                     58107 non-null  object \n",
      " 5   List/Closed Price             58107 non-null  object \n",
      " 6   Address                       58107 non-null  object \n",
      " 7   Unnamed: 7                    58107 non-null  object \n",
      " 8   City                          58107 non-null  object \n",
      " 9   Acres                         46390 non-null  object \n",
      " 10  Sq Ft Total                   58107 non-null  object \n",
      " 11  Sq Ft Est Heated Above Grade  58090 non-null  object \n",
      " 12  Style or Rent Type            58106 non-null  object \n",
      " 13  Rooms Total                   58107 non-null  int64  \n",
      " 14  Beds Total                    58107 non-null  int64  \n",
      " 15  Bathrooms                     58088 non-null  object \n",
      " 16  Garage/Park                   58107 non-null  object \n",
      " 17  Year Built                    58103 non-null  float64\n",
      " 18  DOM                           58107 non-null  object \n",
      " 19  Listing Agent                 58107 non-null  object \n",
      " 20  List Office                   58107 non-null  object \n",
      "dtypes: float64(1), int64(3), object(17)\n",
      "memory usage: 9.3+ MB\n",
      "None\n"
     ]
    }
   ],
   "source": [
    "print(data_merged.info())"
   ]
  },
  {
   "cell_type": "code",
   "execution_count": 1154,
   "metadata": {},
   "outputs": [
    {
     "data": {
      "text/html": [
       "<div>\n",
       "<style scoped>\n",
       "    .dataframe tbody tr th:only-of-type {\n",
       "        vertical-align: middle;\n",
       "    }\n",
       "\n",
       "    .dataframe tbody tr th {\n",
       "        vertical-align: top;\n",
       "    }\n",
       "\n",
       "    .dataframe thead th {\n",
       "        text-align: right;\n",
       "    }\n",
       "</style>\n",
       "<table border=\"1\" class=\"dataframe\">\n",
       "  <thead>\n",
       "    <tr style=\"text-align: right;\">\n",
       "      <th></th>\n",
       "      <th>#</th>\n",
       "      <th>Rooms Total</th>\n",
       "      <th>Beds Total</th>\n",
       "      <th>Year Built</th>\n",
       "    </tr>\n",
       "  </thead>\n",
       "  <tbody>\n",
       "    <tr>\n",
       "      <th>count</th>\n",
       "      <td>58107.000000</td>\n",
       "      <td>58107.000000</td>\n",
       "      <td>58107.000000</td>\n",
       "      <td>58103.000000</td>\n",
       "    </tr>\n",
       "    <tr>\n",
       "      <th>mean</th>\n",
       "      <td>1692.818542</td>\n",
       "      <td>6.868381</td>\n",
       "      <td>3.149053</td>\n",
       "      <td>1964.649244</td>\n",
       "    </tr>\n",
       "    <tr>\n",
       "      <th>std</th>\n",
       "      <td>1466.930825</td>\n",
       "      <td>2.385229</td>\n",
       "      <td>1.023004</td>\n",
       "      <td>39.048374</td>\n",
       "    </tr>\n",
       "    <tr>\n",
       "      <th>min</th>\n",
       "      <td>1.000000</td>\n",
       "      <td>0.000000</td>\n",
       "      <td>0.000000</td>\n",
       "      <td>0.000000</td>\n",
       "    </tr>\n",
       "    <tr>\n",
       "      <th>25%</th>\n",
       "      <td>1.000000</td>\n",
       "      <td>5.000000</td>\n",
       "      <td>3.000000</td>\n",
       "      <td>1951.000000</td>\n",
       "    </tr>\n",
       "    <tr>\n",
       "      <th>50%</th>\n",
       "      <td>1501.000000</td>\n",
       "      <td>7.000000</td>\n",
       "      <td>3.000000</td>\n",
       "      <td>1969.000000</td>\n",
       "    </tr>\n",
       "    <tr>\n",
       "      <th>75%</th>\n",
       "      <td>3001.000000</td>\n",
       "      <td>8.000000</td>\n",
       "      <td>4.000000</td>\n",
       "      <td>1988.000000</td>\n",
       "    </tr>\n",
       "    <tr>\n",
       "      <th>max</th>\n",
       "      <td>4501.000000</td>\n",
       "      <td>99.000000</td>\n",
       "      <td>15.000000</td>\n",
       "      <td>2021.000000</td>\n",
       "    </tr>\n",
       "  </tbody>\n",
       "</table>\n",
       "</div>"
      ],
      "text/plain": [
       "                  #   Rooms Total    Beds Total    Year Built\n",
       "count  58107.000000  58107.000000  58107.000000  58103.000000\n",
       "mean    1692.818542      6.868381      3.149053   1964.649244\n",
       "std     1466.930825      2.385229      1.023004     39.048374\n",
       "min        1.000000      0.000000      0.000000      0.000000\n",
       "25%        1.000000      5.000000      3.000000   1951.000000\n",
       "50%     1501.000000      7.000000      3.000000   1969.000000\n",
       "75%     3001.000000      8.000000      4.000000   1988.000000\n",
       "max     4501.000000     99.000000     15.000000   2021.000000"
      ]
     },
     "execution_count": 1154,
     "metadata": {},
     "output_type": "execute_result"
    }
   ],
   "source": [
    "data_merged.describe()"
   ]
  },
  {
   "cell_type": "markdown",
   "metadata": {},
   "source": [
    "------------------------------------------------------------------------------------------"
   ]
  },
  {
   "cell_type": "code",
   "execution_count": 1155,
   "metadata": {},
   "outputs": [
    {
     "name": "stdout",
     "output_type": "stream",
     "text": [
      "0         \n",
      "1         \n",
      "2         \n",
      "3         \n",
      "4         \n",
      "        ..\n",
      "58102     \n",
      "58103     \n",
      "58104     \n",
      "58105     \n",
      "58106     \n",
      "Name: Unnamed: 7, Length: 58107, dtype: object\n"
     ]
    }
   ],
   "source": [
    "#### UNNAMED 7 #################################################\n",
    "\n",
    "print(data_merged['Unnamed: 7'])"
   ]
  },
  {
   "cell_type": "code",
   "execution_count": 1156,
   "metadata": {},
   "outputs": [],
   "source": [
    "spaces=0\n",
    "nulls=0\n",
    "for i in data_merged['Unnamed: 7']:\n",
    "    if i == ' ':\n",
    "        spaces+=1\n",
    "    elif i is None:\n",
    "        nulls+=1\n",
    "        "
   ]
  },
  {
   "cell_type": "code",
   "execution_count": 1157,
   "metadata": {},
   "outputs": [
    {
     "name": "stdout",
     "output_type": "stream",
     "text": [
      "58107 0\n"
     ]
    }
   ],
   "source": [
    "print(spaces,nulls)"
   ]
  },
  {
   "cell_type": "code",
   "execution_count": 1158,
   "metadata": {},
   "outputs": [],
   "source": [
    "data_merged = data_merged.drop('Unnamed: 7',axis=1)"
   ]
  },
  {
   "cell_type": "code",
   "execution_count": 1159,
   "metadata": {},
   "outputs": [
    {
     "name": "stdout",
     "output_type": "stream",
     "text": [
      "<class 'pandas.core.frame.DataFrame'>\n",
      "RangeIndex: 58107 entries, 0 to 58106\n",
      "Data columns (total 20 columns):\n",
      " #   Column                        Non-Null Count  Dtype  \n",
      "---  ------                        --------------  -----  \n",
      " 0   #                             58107 non-null  int64  \n",
      " 1   MLS#                          58107 non-null  object \n",
      " 2   Status                        58107 non-null  object \n",
      " 3   Status Change Timestamp       58107 non-null  object \n",
      " 4   Prop Type                     58107 non-null  object \n",
      " 5   List/Closed Price             58107 non-null  object \n",
      " 6   Address                       58107 non-null  object \n",
      " 7   City                          58107 non-null  object \n",
      " 8   Acres                         46390 non-null  object \n",
      " 9   Sq Ft Total                   58107 non-null  object \n",
      " 10  Sq Ft Est Heated Above Grade  58090 non-null  object \n",
      " 11  Style or Rent Type            58106 non-null  object \n",
      " 12  Rooms Total                   58107 non-null  int64  \n",
      " 13  Beds Total                    58107 non-null  int64  \n",
      " 14  Bathrooms                     58088 non-null  object \n",
      " 15  Garage/Park                   58107 non-null  object \n",
      " 16  Year Built                    58103 non-null  float64\n",
      " 17  DOM                           58107 non-null  object \n",
      " 18  Listing Agent                 58107 non-null  object \n",
      " 19  List Office                   58107 non-null  object \n",
      "dtypes: float64(1), int64(3), object(16)\n",
      "memory usage: 8.9+ MB\n",
      "None\n"
     ]
    }
   ],
   "source": [
    "print(data_merged.info())"
   ]
  },
  {
   "cell_type": "markdown",
   "metadata": {},
   "source": [
    "----------------------------------------------------------------------------------"
   ]
  },
  {
   "cell_type": "code",
   "execution_count": 1160,
   "metadata": {},
   "outputs": [
    {
     "data": {
      "text/plain": [
       "'Checks for duplicate MLS IDs in Dataset\\n'"
      ]
     },
     "execution_count": 1160,
     "metadata": {},
     "output_type": "execute_result"
    }
   ],
   "source": [
    "####### MLS #   #################################################\n",
    "\"\"\"Checks for duplicate MLS IDs in Dataset\n",
    "\"\"\""
   ]
  },
  {
   "cell_type": "code",
   "execution_count": 1161,
   "metadata": {},
   "outputs": [
    {
     "data": {
      "text/plain": [
       "count     58107\n",
       "unique        1\n",
       "top       False\n",
       "freq      58107\n",
       "Name: MLS#, dtype: object"
      ]
     },
     "execution_count": 1161,
     "metadata": {},
     "output_type": "execute_result"
    }
   ],
   "source": [
    "data_merged['MLS#'].duplicated().describe() "
   ]
  },
  {
   "cell_type": "code",
   "execution_count": 1162,
   "metadata": {},
   "outputs": [
    {
     "data": {
      "text/plain": [
       "'1 Value False = no duplicates'"
      ]
     },
     "execution_count": 1162,
     "metadata": {},
     "output_type": "execute_result"
    }
   ],
   "source": [
    "'''1 Value False = no duplicates'''"
   ]
  },
  {
   "cell_type": "markdown",
   "metadata": {},
   "source": [
    "-----------------------------------------------------------------------"
   ]
  },
  {
   "cell_type": "code",
   "execution_count": 1163,
   "metadata": {},
   "outputs": [],
   "source": [
    "########## Status ################################################"
   ]
  },
  {
   "cell_type": "code",
   "execution_count": 1164,
   "metadata": {},
   "outputs": [
    {
     "name": "stdout",
     "output_type": "stream",
     "text": [
      "['CLSD']\n"
     ]
    }
   ],
   "source": [
    "print(data_merged['Status'].unique())"
   ]
  },
  {
   "cell_type": "code",
   "execution_count": 1165,
   "metadata": {},
   "outputs": [
    {
     "data": {
      "text/plain": [
       "'All records have closed status'"
      ]
     },
     "execution_count": 1165,
     "metadata": {},
     "output_type": "execute_result"
    }
   ],
   "source": [
    "'''All records have closed status'''\n"
   ]
  },
  {
   "cell_type": "code",
   "execution_count": 1166,
   "metadata": {},
   "outputs": [],
   "source": [
    "########## Status Date Change  ############################"
   ]
  },
  {
   "cell_type": "code",
   "execution_count": 1167,
   "metadata": {},
   "outputs": [],
   "source": [
    "#############  Prop type #######################"
   ]
  },
  {
   "cell_type": "code",
   "execution_count": 1168,
   "metadata": {},
   "outputs": [
    {
     "name": "stdout",
     "output_type": "stream",
     "text": [
      "count     58107\n",
      "unique        3\n",
      "top          SF\n",
      "freq      46390\n",
      "Name: Prop Type, dtype: object\n"
     ]
    }
   ],
   "source": [
    "print(data_merged['Prop Type'].describe())"
   ]
  },
  {
   "cell_type": "code",
   "execution_count": 1169,
   "metadata": {},
   "outputs": [
    {
     "name": "stdout",
     "output_type": "stream",
     "text": [
      "[['SF', 46390], ['CO', 11468], ['CP', 249]]\n"
     ]
    }
   ],
   "source": [
    "prop_types = (data_merged['Prop Type'].unique())\n",
    "type_counts = []\n",
    "for i in prop_types:\n",
    "    count = [i,len(data_merged[data_merged['Prop Type']==i])]\n",
    "    type_counts.append(count)\n",
    "print(type_counts)"
   ]
  },
  {
   "cell_type": "code",
   "execution_count": 1170,
   "metadata": {},
   "outputs": [
    {
     "name": "stdout",
     "output_type": "stream",
     "text": [
      "58107\n"
     ]
    }
   ],
   "source": [
    "###double check totals match\n",
    "\n",
    "sum = 0\n",
    "for i in type_counts:\n",
    "    sum+= i[1]\n",
    "print(sum)"
   ]
  },
  {
   "cell_type": "code",
   "execution_count": 1171,
   "metadata": {},
   "outputs": [
    {
     "data": {
      "text/plain": [
       "'All of the records are either Single Family, Condo, or Cooperative'"
      ]
     },
     "execution_count": 1171,
     "metadata": {},
     "output_type": "execute_result"
    }
   ],
   "source": [
    "'''All of the records are either Single Family, Condo, or Cooperative'''"
   ]
  },
  {
   "cell_type": "markdown",
   "metadata": {},
   "source": [
    "_________________________________________________________________________________________"
   ]
  },
  {
   "cell_type": "code",
   "execution_count": 1172,
   "metadata": {},
   "outputs": [],
   "source": [
    "##### List/Closed Price  ########################"
   ]
  },
  {
   "cell_type": "code",
   "execution_count": 1173,
   "metadata": {},
   "outputs": [
    {
     "name": "stdout",
     "output_type": "stream",
     "text": [
      "0        LP: $3,750,000 CP: $3,750,000\n",
      "1        LP: $7,950,000 CP: $6,800,000\n",
      "2             LP: $150,000 CP: $97,500\n",
      "3            LP: $119,900 CP: $100,000\n",
      "4            LP: $170,000 CP: $150,000\n",
      "                     ...              \n",
      "58102        LP: $675,000 CP: $705,000\n",
      "58103    LP: $2,100,000 CP: $2,000,000\n",
      "58104        LP: $889,900 CP: $930,000\n",
      "58105    LP: $1,249,000 CP: $1,210,000\n",
      "58106    LP: $2,300,000 CP: $2,500,000\n",
      "Name: List/Closed Price, Length: 58107, dtype: object\n"
     ]
    }
   ],
   "source": [
    "print(data_merged['List/Closed Price'])"
   ]
  },
  {
   "cell_type": "code",
   "execution_count": 1174,
   "metadata": {},
   "outputs": [
    {
     "name": "stdout",
     "output_type": "stream",
     "text": [
      "LP: $3,750,000 CP: $3,750,000\n"
     ]
    }
   ],
   "source": [
    "print (data_merged.loc[0,'List/Closed Price'])"
   ]
  },
  {
   "cell_type": "code",
   "execution_count": 1175,
   "metadata": {},
   "outputs": [
    {
     "data": {
      "text/plain": [
       "\"\\n\\ndata_merged['list_price'] = 0 \\ndata_merged['close_price'] = 0\\n  \\n\\nfor i in range(0,len(data_merged['List/Closed Price'])):\\n       \\n \\n    listLPCP = data_merged['List/Closed Price'][i].split(' ')\\n    data_merged.loc[i,'close_price'] = listLPCP[3]\\n    data_merged.loc[i,'list_price'] = listLPCP[1]\\n\""
      ]
     },
     "execution_count": 1175,
     "metadata": {},
     "output_type": "execute_result"
    }
   ],
   "source": [
    "'''\n",
    "\n",
    "data_merged['list_price'] = 0 \n",
    "data_merged['close_price'] = 0\n",
    "  \n",
    "\n",
    "for i in range(0,len(data_merged['List/Closed Price'])):\n",
    "       \n",
    " \n",
    "    listLPCP = data_merged['List/Closed Price'][i].split(' ')\n",
    "    data_merged.loc[i,'close_price'] = listLPCP[3]\n",
    "    data_merged.loc[i,'list_price'] = listLPCP[1]\n",
    "'''    \n",
    "   "
   ]
  },
  {
   "cell_type": "code",
   "execution_count": 1176,
   "metadata": {},
   "outputs": [],
   "source": [
    "data_merged['List/Closed Price']=  data_merged['List/Closed Price'].apply(lambda x: x.split(' ') )"
   ]
  },
  {
   "cell_type": "code",
   "execution_count": 1177,
   "metadata": {},
   "outputs": [
    {
     "name": "stdout",
     "output_type": "stream",
     "text": [
      "0    [LP:, $3,750,000, CP:, $3,750,000]\n",
      "1    [LP:, $7,950,000, CP:, $6,800,000]\n",
      "2         [LP:, $150,000, CP:, $97,500]\n",
      "3        [LP:, $119,900, CP:, $100,000]\n",
      "4        [LP:, $170,000, CP:, $150,000]\n",
      "Name: List/Closed Price, dtype: object\n"
     ]
    }
   ],
   "source": [
    "print(data_merged['List/Closed Price'].head())"
   ]
  },
  {
   "cell_type": "code",
   "execution_count": null,
   "metadata": {},
   "outputs": [],
   "source": []
  },
  {
   "cell_type": "code",
   "execution_count": 1178,
   "metadata": {},
   "outputs": [],
   "source": [
    "for i in data_merged['List/Closed Price']:                           ####checking position of items\n",
    "    if \"L\" not in i[0]:\n",
    "        print('Check')\n",
    "    elif \"C\" not in i[2]: \n",
    "         print('Check')"
   ]
  },
  {
   "cell_type": "code",
   "execution_count": 1179,
   "metadata": {},
   "outputs": [],
   "source": [
    "data_merged['list_price']=  data_merged['List/Closed Price'].apply(lambda x: x[1])    #####creates new columns"
   ]
  },
  {
   "cell_type": "code",
   "execution_count": 1180,
   "metadata": {},
   "outputs": [],
   "source": [
    "data_merged['close_price']=  data_merged['List/Closed Price'].apply(lambda x: x[3] )"
   ]
  },
  {
   "cell_type": "markdown",
   "metadata": {},
   "source": [
    " "
   ]
  },
  {
   "cell_type": "markdown",
   "metadata": {},
   "source": [
    " "
   ]
  },
  {
   "cell_type": "code",
   "execution_count": 1181,
   "metadata": {},
   "outputs": [
    {
     "data": {
      "text/plain": [
       "False    58107\n",
       "Name: list_price, dtype: int64"
      ]
     },
     "execution_count": 1181,
     "metadata": {},
     "output_type": "execute_result"
    }
   ],
   "source": [
    "data_merged['list_price'].apply(lambda x: x.isnumeric()).value_counts()"
   ]
  },
  {
   "cell_type": "markdown",
   "metadata": {},
   "source": [
    "4 observations contain non numeric characters"
   ]
  },
  {
   "cell_type": "code",
   "execution_count": 1182,
   "metadata": {},
   "outputs": [],
   "source": [
    "issues = data_merged['list_price'].str.isnumeric()   #### filter for issues"
   ]
  },
  {
   "cell_type": "code",
   "execution_count": 1183,
   "metadata": {},
   "outputs": [
    {
     "data": {
      "text/html": [
       "<div>\n",
       "<style scoped>\n",
       "    .dataframe tbody tr th:only-of-type {\n",
       "        vertical-align: middle;\n",
       "    }\n",
       "\n",
       "    .dataframe tbody tr th {\n",
       "        vertical-align: top;\n",
       "    }\n",
       "\n",
       "    .dataframe thead th {\n",
       "        text-align: right;\n",
       "    }\n",
       "</style>\n",
       "<table border=\"1\" class=\"dataframe\">\n",
       "  <thead>\n",
       "    <tr style=\"text-align: right;\">\n",
       "      <th></th>\n",
       "      <th>#</th>\n",
       "      <th>MLS#</th>\n",
       "      <th>Status</th>\n",
       "      <th>Status Change Timestamp</th>\n",
       "      <th>Prop Type</th>\n",
       "      <th>List/Closed Price</th>\n",
       "      <th>Address</th>\n",
       "      <th>City</th>\n",
       "      <th>Acres</th>\n",
       "      <th>Sq Ft Total</th>\n",
       "      <th>...</th>\n",
       "      <th>Rooms Total</th>\n",
       "      <th>Beds Total</th>\n",
       "      <th>Bathrooms</th>\n",
       "      <th>Garage/Park</th>\n",
       "      <th>Year Built</th>\n",
       "      <th>DOM</th>\n",
       "      <th>Listing Agent</th>\n",
       "      <th>List Office</th>\n",
       "      <th>list_price</th>\n",
       "      <th>close_price</th>\n",
       "    </tr>\n",
       "  </thead>\n",
       "  <tbody>\n",
       "  </tbody>\n",
       "</table>\n",
       "<p>0 rows × 22 columns</p>\n",
       "</div>"
      ],
      "text/plain": [
       "Empty DataFrame\n",
       "Columns: [#, MLS#, Status, Status Change Timestamp, Prop Type, List/Closed Price, Address, City, Acres, Sq Ft Total, Sq Ft Est Heated Above Grade, Style or Rent Type, Rooms Total, Beds Total, Bathrooms, Garage/Park, Year Built, DOM, Listing Agent, List Office, list_price, close_price]\n",
       "Index: []\n",
       "\n",
       "[0 rows x 22 columns]"
      ]
     },
     "execution_count": 1183,
     "metadata": {},
     "output_type": "execute_result"
    }
   ],
   "source": [
    "data_merged[issues].head()"
   ]
  },
  {
   "cell_type": "code",
   "execution_count": 1184,
   "metadata": {},
   "outputs": [
    {
     "data": {
      "text/plain": [
       "'$210,000\\xa0'"
      ]
     },
     "execution_count": 1184,
     "metadata": {},
     "output_type": "execute_result"
    }
   ],
   "source": [
    "data_merged.iloc[11542]['list_price']"
   ]
  },
  {
   "cell_type": "markdown",
   "metadata": {},
   "source": [
    "Character \\xa0 was the issue"
   ]
  },
  {
   "cell_type": "code",
   "execution_count": 1185,
   "metadata": {
    "scrolled": true
   },
   "outputs": [],
   "source": [
    " #### remove special characters, converts to numeric\n",
    "\n",
    "data_merged['list_price'] = data_merged['list_price'].str.replace('$','')\n",
    "data_merged['list_price'] = data_merged['list_price'].str.replace(',','')\n",
    "####data_merged['list_price'] = data_merged['list_price'].str.replace(' ','')\n",
    "####data_merged['list_price'] = data_merged['list_price'].str.replace('\\t','')  \n",
    "####data_merged['list_price'] = data_merged['list_price'].str.replace('\\r','') \n",
    "data_merged['list_price'] = data_merged['list_price'].str.replace('\\xa0','')\n",
    "data_merged['list_price'] = pd.to_numeric(data_merged['list_price']) \n"
   ]
  },
  {
   "cell_type": "code",
   "execution_count": 1186,
   "metadata": {},
   "outputs": [],
   "source": [
    "data_merged['close_price'] = data_merged['close_price'].str.replace('$','')\n",
    "data_merged['close_price'] = data_merged['close_price'].str.replace(',','')\n",
    "data_merged['close_price'] = data_merged['close_price'].str.replace('\\xa0','')\n",
    "data_merged['close_price'] = pd.to_numeric(data_merged['close_price'])"
   ]
  },
  {
   "cell_type": "code",
   "execution_count": 1187,
   "metadata": {},
   "outputs": [
    {
     "data": {
      "text/html": [
       "<div>\n",
       "<style scoped>\n",
       "    .dataframe tbody tr th:only-of-type {\n",
       "        vertical-align: middle;\n",
       "    }\n",
       "\n",
       "    .dataframe tbody tr th {\n",
       "        vertical-align: top;\n",
       "    }\n",
       "\n",
       "    .dataframe thead th {\n",
       "        text-align: right;\n",
       "    }\n",
       "</style>\n",
       "<table border=\"1\" class=\"dataframe\">\n",
       "  <thead>\n",
       "    <tr style=\"text-align: right;\">\n",
       "      <th></th>\n",
       "      <th>#</th>\n",
       "      <th>Rooms Total</th>\n",
       "      <th>Beds Total</th>\n",
       "      <th>Year Built</th>\n",
       "      <th>list_price</th>\n",
       "      <th>close_price</th>\n",
       "    </tr>\n",
       "  </thead>\n",
       "  <tbody>\n",
       "    <tr>\n",
       "      <th>count</th>\n",
       "      <td>58107.000000</td>\n",
       "      <td>58107.000000</td>\n",
       "      <td>58107.000000</td>\n",
       "      <td>58103.000000</td>\n",
       "      <td>5.810700e+04</td>\n",
       "      <td>5.810700e+04</td>\n",
       "    </tr>\n",
       "    <tr>\n",
       "      <th>mean</th>\n",
       "      <td>1692.818542</td>\n",
       "      <td>6.868381</td>\n",
       "      <td>3.149053</td>\n",
       "      <td>1964.649244</td>\n",
       "      <td>4.500507e+05</td>\n",
       "      <td>4.476407e+05</td>\n",
       "    </tr>\n",
       "    <tr>\n",
       "      <th>std</th>\n",
       "      <td>1466.930825</td>\n",
       "      <td>2.385229</td>\n",
       "      <td>1.023004</td>\n",
       "      <td>39.048374</td>\n",
       "      <td>5.582955e+05</td>\n",
       "      <td>5.388198e+05</td>\n",
       "    </tr>\n",
       "    <tr>\n",
       "      <th>min</th>\n",
       "      <td>1.000000</td>\n",
       "      <td>0.000000</td>\n",
       "      <td>0.000000</td>\n",
       "      <td>0.000000</td>\n",
       "      <td>4.900000e+03</td>\n",
       "      <td>7.500000e+03</td>\n",
       "    </tr>\n",
       "    <tr>\n",
       "      <th>25%</th>\n",
       "      <td>1.000000</td>\n",
       "      <td>5.000000</td>\n",
       "      <td>3.000000</td>\n",
       "      <td>1951.000000</td>\n",
       "      <td>2.100000e+05</td>\n",
       "      <td>2.150000e+05</td>\n",
       "    </tr>\n",
       "    <tr>\n",
       "      <th>50%</th>\n",
       "      <td>1501.000000</td>\n",
       "      <td>7.000000</td>\n",
       "      <td>3.000000</td>\n",
       "      <td>1969.000000</td>\n",
       "      <td>2.999000e+05</td>\n",
       "      <td>3.060000e+05</td>\n",
       "    </tr>\n",
       "    <tr>\n",
       "      <th>75%</th>\n",
       "      <td>3001.000000</td>\n",
       "      <td>8.000000</td>\n",
       "      <td>4.000000</td>\n",
       "      <td>1988.000000</td>\n",
       "      <td>4.699000e+05</td>\n",
       "      <td>4.750000e+05</td>\n",
       "    </tr>\n",
       "    <tr>\n",
       "      <th>max</th>\n",
       "      <td>4501.000000</td>\n",
       "      <td>99.000000</td>\n",
       "      <td>15.000000</td>\n",
       "      <td>2021.000000</td>\n",
       "      <td>1.675000e+07</td>\n",
       "      <td>1.650000e+07</td>\n",
       "    </tr>\n",
       "  </tbody>\n",
       "</table>\n",
       "</div>"
      ],
      "text/plain": [
       "                  #   Rooms Total    Beds Total    Year Built    list_price  \\\n",
       "count  58107.000000  58107.000000  58107.000000  58103.000000  5.810700e+04   \n",
       "mean    1692.818542      6.868381      3.149053   1964.649244  4.500507e+05   \n",
       "std     1466.930825      2.385229      1.023004     39.048374  5.582955e+05   \n",
       "min        1.000000      0.000000      0.000000      0.000000  4.900000e+03   \n",
       "25%        1.000000      5.000000      3.000000   1951.000000  2.100000e+05   \n",
       "50%     1501.000000      7.000000      3.000000   1969.000000  2.999000e+05   \n",
       "75%     3001.000000      8.000000      4.000000   1988.000000  4.699000e+05   \n",
       "max     4501.000000     99.000000     15.000000   2021.000000  1.675000e+07   \n",
       "\n",
       "        close_price  \n",
       "count  5.810700e+04  \n",
       "mean   4.476407e+05  \n",
       "std    5.388198e+05  \n",
       "min    7.500000e+03  \n",
       "25%    2.150000e+05  \n",
       "50%    3.060000e+05  \n",
       "75%    4.750000e+05  \n",
       "max    1.650000e+07  "
      ]
     },
     "execution_count": 1187,
     "metadata": {},
     "output_type": "execute_result"
    }
   ],
   "source": [
    "data_merged.describe()"
   ]
  },
  {
   "cell_type": "markdown",
   "metadata": {},
   "source": [
    "____________________________________________________________________________________________________"
   ]
  },
  {
   "cell_type": "code",
   "execution_count": 1188,
   "metadata": {},
   "outputs": [],
   "source": [
    "######## Address ####################"
   ]
  },
  {
   "cell_type": "code",
   "execution_count": 1189,
   "metadata": {},
   "outputs": [
    {
     "data": {
      "text/plain": [
       "0        213 Separate\n",
       "1    292 Wood Duck Rd\n",
       "2     64 Long Hill Rd\n",
       "3         560 Route 6\n",
       "4         7 Bailey Rd\n",
       "Name: Address, dtype: object"
      ]
     },
     "execution_count": 1189,
     "metadata": {},
     "output_type": "execute_result"
    }
   ],
   "source": [
    "data_merged['Address'].head()"
   ]
  },
  {
   "cell_type": "code",
   "execution_count": 1190,
   "metadata": {},
   "outputs": [],
   "source": [
    "#df.apply(lambda x: func(x['col1'],x['col2']),axis=1)\n"
   ]
  },
  {
   "cell_type": "code",
   "execution_count": 1191,
   "metadata": {},
   "outputs": [],
   "source": [
    "data_merged['Address']=  data_merged['Address'].apply(lambda x: x.split(' ',1) )"
   ]
  },
  {
   "cell_type": "code",
   "execution_count": 1192,
   "metadata": {},
   "outputs": [
    {
     "data": {
      "text/plain": [
       "0        [213, Separate]\n",
       "1    [292, Wood Duck Rd]\n",
       "2     [64, Long Hill Rd]\n",
       "3         [560, Route 6]\n",
       "4         [7, Bailey Rd]\n",
       "Name: Address, dtype: object"
      ]
     },
     "execution_count": 1192,
     "metadata": {},
     "output_type": "execute_result"
    }
   ],
   "source": [
    "data_merged['Address'].head()\n"
   ]
  },
  {
   "cell_type": "markdown",
   "metadata": {},
   "source": [
    "-----------------------------------------------------------------------"
   ]
  },
  {
   "cell_type": "code",
   "execution_count": 1193,
   "metadata": {},
   "outputs": [],
   "source": [
    "#####city######"
   ]
  },
  {
   "cell_type": "code",
   "execution_count": null,
   "metadata": {},
   "outputs": [],
   "source": []
  },
  {
   "cell_type": "markdown",
   "metadata": {},
   "source": [
    "_____________________________________________________________________________"
   ]
  },
  {
   "cell_type": "code",
   "execution_count": 1194,
   "metadata": {},
   "outputs": [],
   "source": [
    "###### ACRES"
   ]
  },
  {
   "cell_type": "code",
   "execution_count": 1195,
   "metadata": {},
   "outputs": [
    {
     "data": {
      "text/plain": [
       "count     46390.00\n",
       "unique     1870.00\n",
       "top           0.17\n",
       "freq        942.00\n",
       "Name: Acres, dtype: float64"
      ]
     },
     "execution_count": 1195,
     "metadata": {},
     "output_type": "execute_result"
    }
   ],
   "source": [
    "data_merged['Acres'].describe()"
   ]
  },
  {
   "cell_type": "code",
   "execution_count": 1196,
   "metadata": {},
   "outputs": [
    {
     "data": {
      "text/plain": [
       "False    46390\n",
       "True     11717\n",
       "Name: Acres, dtype: int64"
      ]
     },
     "execution_count": 1196,
     "metadata": {},
     "output_type": "execute_result"
    }
   ],
   "source": [
    "(data_merged['Acres'].isnull()).value_counts()"
   ]
  },
  {
   "cell_type": "code",
   "execution_count": 1197,
   "metadata": {},
   "outputs": [
    {
     "data": {
      "text/plain": [
       "True    58107\n",
       "dtype: int64"
      ]
     },
     "execution_count": 1197,
     "metadata": {},
     "output_type": "execute_result"
    }
   ],
   "source": [
    "((data_merged['Acres'].isnull()) == (data_merged['Prop Type']!='SF')).value_counts()   ### Checks if missing plot size are not single family homes"
   ]
  },
  {
   "cell_type": "code",
   "execution_count": null,
   "metadata": {},
   "outputs": [],
   "source": []
  },
  {
   "cell_type": "code",
   "execution_count": 1198,
   "metadata": {},
   "outputs": [
    {
     "data": {
      "text/plain": [
       "False    9663\n",
       "Name: Acres, dtype: int64"
      ]
     },
     "execution_count": 1198,
     "metadata": {},
     "output_type": "execute_result"
    }
   ],
   "source": [
    "data_merged['Acres'].str.isnumeric().value_counts()"
   ]
  },
  {
   "cell_type": "code",
   "execution_count": 1199,
   "metadata": {},
   "outputs": [],
   "source": [
    "data_merged['Acres'] = data_merged['Acres'].str.replace(',','')\n",
    "data_merged['Acres'] = data_merged['Acres'].str.replace(' ','')\n",
    "data_merged['Acres'] = data_merged['Acres'].str.replace('\\xa0','')\n",
    "\n"
   ]
  },
  {
   "cell_type": "code",
   "execution_count": 1200,
   "metadata": {},
   "outputs": [],
   "source": [
    "issues = data_merged['Acres'].str.isnumeric().value_counts()"
   ]
  },
  {
   "cell_type": "code",
   "execution_count": null,
   "metadata": {},
   "outputs": [],
   "source": []
  },
  {
   "cell_type": "code",
   "execution_count": null,
   "metadata": {},
   "outputs": [],
   "source": []
  },
  {
   "cell_type": "code",
   "execution_count": 1201,
   "metadata": {},
   "outputs": [
    {
     "data": {
      "text/plain": [
       "False    9663\n",
       "Name: Acres, dtype: int64"
      ]
     },
     "execution_count": 1201,
     "metadata": {},
     "output_type": "execute_result"
    }
   ],
   "source": [
    "issues"
   ]
  },
  {
   "cell_type": "markdown",
   "metadata": {},
   "source": [
    "----------------------------------------------------------------------------------------------"
   ]
  },
  {
   "cell_type": "code",
   "execution_count": 1202,
   "metadata": {},
   "outputs": [],
   "source": [
    "### SQFT TOTAL"
   ]
  },
  {
   "cell_type": "code",
   "execution_count": 1203,
   "metadata": {},
   "outputs": [
    {
     "data": {
      "text/plain": [
       "0        4,392\n",
       "1        5,169\n",
       "2        1,800\n",
       "3        1,724\n",
       "4        1,138\n",
       "         ...  \n",
       "58102    2,632\n",
       "58103    2,467\n",
       "58104    2,974\n",
       "58105    4,047\n",
       "58106    3,083\n",
       "Name: Sq Ft Total, Length: 58107, dtype: object"
      ]
     },
     "execution_count": 1203,
     "metadata": {},
     "output_type": "execute_result"
    }
   ],
   "source": [
    "data_merged['Sq Ft Total']"
   ]
  },
  {
   "cell_type": "code",
   "execution_count": 1204,
   "metadata": {},
   "outputs": [],
   "source": [
    "data_merged['Sq Ft Total'] = data_merged['Sq Ft Total'].str.replace(',','')   #### Remove commas"
   ]
  },
  {
   "cell_type": "code",
   "execution_count": 1205,
   "metadata": {},
   "outputs": [],
   "source": [
    "data_merged['Sq Ft Total'] = pd.to_numeric(data_merged['Sq Ft Total'])        #### Convert to numeric"
   ]
  },
  {
   "cell_type": "code",
   "execution_count": 1206,
   "metadata": {},
   "outputs": [
    {
     "data": {
      "text/plain": [
       "0    4392\n",
       "1    5169\n",
       "2    1800\n",
       "3    1724\n",
       "4    1138\n",
       "Name: Sq Ft Total, dtype: int64"
      ]
     },
     "execution_count": 1206,
     "metadata": {},
     "output_type": "execute_result"
    }
   ],
   "source": [
    "data_merged['Sq Ft Total'].head()"
   ]
  },
  {
   "cell_type": "code",
   "execution_count": 1207,
   "metadata": {},
   "outputs": [
    {
     "data": {
      "text/plain": [
       "count    58107.000000\n",
       "mean      2144.762748\n",
       "std       1445.660832\n",
       "min          0.000000\n",
       "25%       1296.000000\n",
       "50%       1788.000000\n",
       "75%       2556.000000\n",
       "max      99999.000000\n",
       "Name: Sq Ft Total, dtype: float64"
      ]
     },
     "execution_count": 1207,
     "metadata": {},
     "output_type": "execute_result"
    }
   ],
   "source": [
    "data_merged['Sq Ft Total'].describe()"
   ]
  },
  {
   "cell_type": "code",
   "execution_count": 1208,
   "metadata": {},
   "outputs": [
    {
     "data": {
      "text/html": [
       "<div>\n",
       "<style scoped>\n",
       "    .dataframe tbody tr th:only-of-type {\n",
       "        vertical-align: middle;\n",
       "    }\n",
       "\n",
       "    .dataframe tbody tr th {\n",
       "        vertical-align: top;\n",
       "    }\n",
       "\n",
       "    .dataframe thead th {\n",
       "        text-align: right;\n",
       "    }\n",
       "</style>\n",
       "<table border=\"1\" class=\"dataframe\">\n",
       "  <thead>\n",
       "    <tr style=\"text-align: right;\">\n",
       "      <th></th>\n",
       "      <th>#</th>\n",
       "      <th>MLS#</th>\n",
       "      <th>Status</th>\n",
       "      <th>Status Change Timestamp</th>\n",
       "      <th>Prop Type</th>\n",
       "      <th>List/Closed Price</th>\n",
       "      <th>Address</th>\n",
       "      <th>City</th>\n",
       "      <th>Acres</th>\n",
       "      <th>Sq Ft Total</th>\n",
       "      <th>...</th>\n",
       "      <th>Rooms Total</th>\n",
       "      <th>Beds Total</th>\n",
       "      <th>Bathrooms</th>\n",
       "      <th>Garage/Park</th>\n",
       "      <th>Year Built</th>\n",
       "      <th>DOM</th>\n",
       "      <th>Listing Agent</th>\n",
       "      <th>List Office</th>\n",
       "      <th>list_price</th>\n",
       "      <th>close_price</th>\n",
       "    </tr>\n",
       "  </thead>\n",
       "  <tbody>\n",
       "    <tr>\n",
       "      <th>42942</th>\n",
       "      <td>1001</td>\n",
       "      <td>E10196431</td>\n",
       "      <td>CLSD</td>\n",
       "      <td>10/19/20</td>\n",
       "      <td>CO</td>\n",
       "      <td>[LP:, $26,000, CP:, $23,000]</td>\n",
       "      <td>[4, Northwest St, Unit #B44]</td>\n",
       "      <td>Stonington</td>\n",
       "      <td>NaN</td>\n",
       "      <td>0</td>\n",
       "      <td>...</td>\n",
       "      <td>0</td>\n",
       "      <td>0</td>\n",
       "      <td>NaN</td>\n",
       "      <td>1 Car/Open</td>\n",
       "      <td>1980.0</td>\n",
       "      <td>1,288</td>\n",
       "      <td>Kathy Michalove</td>\n",
       "      <td>SEABRD00</td>\n",
       "      <td>26000</td>\n",
       "      <td>23000</td>\n",
       "    </tr>\n",
       "  </tbody>\n",
       "</table>\n",
       "<p>1 rows × 22 columns</p>\n",
       "</div>"
      ],
      "text/plain": [
       "          #       MLS# Status Status Change Timestamp Prop Type  \\\n",
       "42942  1001  E10196431   CLSD                10/19/20        CO   \n",
       "\n",
       "                  List/Closed Price                       Address        City  \\\n",
       "42942  [LP:, $26,000, CP:, $23,000]  [4, Northwest St, Unit #B44]  Stonington   \n",
       "\n",
       "      Acres  Sq Ft Total  ... Rooms Total Beds Total  Bathrooms  Garage/Park  \\\n",
       "42942   NaN            0  ...           0          0        NaN   1 Car/Open   \n",
       "\n",
       "      Year Built    DOM    Listing Agent List Office list_price close_price  \n",
       "42942     1980.0  1,288  Kathy Michalove    SEABRD00      26000       23000  \n",
       "\n",
       "[1 rows x 22 columns]"
      ]
     },
     "execution_count": 1208,
     "metadata": {},
     "output_type": "execute_result"
    }
   ],
   "source": [
    "data_merged[data_merged['Sq Ft Total']==0]"
   ]
  },
  {
   "cell_type": "code",
   "execution_count": 1209,
   "metadata": {},
   "outputs": [],
   "source": [
    "data_merged.drop([42942],inplace=True)      ### Remove 0 Values"
   ]
  },
  {
   "cell_type": "code",
   "execution_count": 1210,
   "metadata": {},
   "outputs": [
    {
     "data": {
      "text/html": [
       "<div>\n",
       "<style scoped>\n",
       "    .dataframe tbody tr th:only-of-type {\n",
       "        vertical-align: middle;\n",
       "    }\n",
       "\n",
       "    .dataframe tbody tr th {\n",
       "        vertical-align: top;\n",
       "    }\n",
       "\n",
       "    .dataframe thead th {\n",
       "        text-align: right;\n",
       "    }\n",
       "</style>\n",
       "<table border=\"1\" class=\"dataframe\">\n",
       "  <thead>\n",
       "    <tr style=\"text-align: right;\">\n",
       "      <th></th>\n",
       "      <th>#</th>\n",
       "      <th>MLS#</th>\n",
       "      <th>Status</th>\n",
       "      <th>Status Change Timestamp</th>\n",
       "      <th>Prop Type</th>\n",
       "      <th>List/Closed Price</th>\n",
       "      <th>Address</th>\n",
       "      <th>City</th>\n",
       "      <th>Acres</th>\n",
       "      <th>Sq Ft Total</th>\n",
       "      <th>...</th>\n",
       "      <th>Rooms Total</th>\n",
       "      <th>Beds Total</th>\n",
       "      <th>Bathrooms</th>\n",
       "      <th>Garage/Park</th>\n",
       "      <th>Year Built</th>\n",
       "      <th>DOM</th>\n",
       "      <th>Listing Agent</th>\n",
       "      <th>List Office</th>\n",
       "      <th>list_price</th>\n",
       "      <th>close_price</th>\n",
       "    </tr>\n",
       "  </thead>\n",
       "  <tbody>\n",
       "  </tbody>\n",
       "</table>\n",
       "<p>0 rows × 22 columns</p>\n",
       "</div>"
      ],
      "text/plain": [
       "Empty DataFrame\n",
       "Columns: [#, MLS#, Status, Status Change Timestamp, Prop Type, List/Closed Price, Address, City, Acres, Sq Ft Total, Sq Ft Est Heated Above Grade, Style or Rent Type, Rooms Total, Beds Total, Bathrooms, Garage/Park, Year Built, DOM, Listing Agent, List Office, list_price, close_price]\n",
       "Index: []\n",
       "\n",
       "[0 rows x 22 columns]"
      ]
     },
     "execution_count": 1210,
     "metadata": {},
     "output_type": "execute_result"
    }
   ],
   "source": [
    "data_merged[data_merged['Sq Ft Total']==0]\n"
   ]
  },
  {
   "cell_type": "code",
   "execution_count": 1211,
   "metadata": {},
   "outputs": [
    {
     "data": {
      "text/html": [
       "<div>\n",
       "<style scoped>\n",
       "    .dataframe tbody tr th:only-of-type {\n",
       "        vertical-align: middle;\n",
       "    }\n",
       "\n",
       "    .dataframe tbody tr th {\n",
       "        vertical-align: top;\n",
       "    }\n",
       "\n",
       "    .dataframe thead th {\n",
       "        text-align: right;\n",
       "    }\n",
       "</style>\n",
       "<table border=\"1\" class=\"dataframe\">\n",
       "  <thead>\n",
       "    <tr style=\"text-align: right;\">\n",
       "      <th></th>\n",
       "      <th>#</th>\n",
       "      <th>MLS#</th>\n",
       "      <th>Status</th>\n",
       "      <th>Status Change Timestamp</th>\n",
       "      <th>Prop Type</th>\n",
       "      <th>List/Closed Price</th>\n",
       "      <th>Address</th>\n",
       "      <th>City</th>\n",
       "      <th>Acres</th>\n",
       "      <th>Sq Ft Total</th>\n",
       "      <th>...</th>\n",
       "      <th>Rooms Total</th>\n",
       "      <th>Beds Total</th>\n",
       "      <th>Bathrooms</th>\n",
       "      <th>Garage/Park</th>\n",
       "      <th>Year Built</th>\n",
       "      <th>DOM</th>\n",
       "      <th>Listing Agent</th>\n",
       "      <th>List Office</th>\n",
       "      <th>list_price</th>\n",
       "      <th>close_price</th>\n",
       "    </tr>\n",
       "  </thead>\n",
       "  <tbody>\n",
       "    <tr>\n",
       "      <th>13781</th>\n",
       "      <td>1</td>\n",
       "      <td>170369089</td>\n",
       "      <td>CLSD</td>\n",
       "      <td>03/30/21</td>\n",
       "      <td>CP</td>\n",
       "      <td>[LP:, $399,000, CP:, $399,000]</td>\n",
       "      <td>[5, Putnam Park]</td>\n",
       "      <td>Greenwich</td>\n",
       "      <td>NaN</td>\n",
       "      <td>99999</td>\n",
       "      <td>...</td>\n",
       "      <td>5</td>\n",
       "      <td>2</td>\n",
       "      <td>1 Full</td>\n",
       "      <td>Car/Detached Garage, On Street Parking</td>\n",
       "      <td>1950.0</td>\n",
       "      <td>20</td>\n",
       "      <td>Karen Oztemel</td>\n",
       "      <td>BHHS135</td>\n",
       "      <td>399000</td>\n",
       "      <td>399000</td>\n",
       "    </tr>\n",
       "    <tr>\n",
       "      <th>42943</th>\n",
       "      <td>1001</td>\n",
       "      <td>170192538</td>\n",
       "      <td>CLSD</td>\n",
       "      <td>10/19/20</td>\n",
       "      <td>CO</td>\n",
       "      <td>[LP:, $27,000, CP:, $27,000]</td>\n",
       "      <td>[4, Northwest St, Unit #B43]</td>\n",
       "      <td>Stonington</td>\n",
       "      <td>NaN</td>\n",
       "      <td>99999</td>\n",
       "      <td>...</td>\n",
       "      <td>1</td>\n",
       "      <td>0</td>\n",
       "      <td>2 Full</td>\n",
       "      <td>Car/Unassigned Parking</td>\n",
       "      <td>1983.0</td>\n",
       "      <td>484</td>\n",
       "      <td>Kathy Michalove</td>\n",
       "      <td>SEABRD00</td>\n",
       "      <td>27000</td>\n",
       "      <td>27000</td>\n",
       "    </tr>\n",
       "  </tbody>\n",
       "</table>\n",
       "<p>2 rows × 22 columns</p>\n",
       "</div>"
      ],
      "text/plain": [
       "          #       MLS# Status Status Change Timestamp Prop Type  \\\n",
       "13781     1  170369089   CLSD                03/30/21        CP   \n",
       "42943  1001  170192538   CLSD                10/19/20        CO   \n",
       "\n",
       "                    List/Closed Price                       Address  \\\n",
       "13781  [LP:, $399,000, CP:, $399,000]              [5, Putnam Park]   \n",
       "42943    [LP:, $27,000, CP:, $27,000]  [4, Northwest St, Unit #B43]   \n",
       "\n",
       "             City Acres  Sq Ft Total  ... Rooms Total Beds Total  Bathrooms  \\\n",
       "13781   Greenwich   NaN        99999  ...           5          2     1 Full   \n",
       "42943  Stonington   NaN        99999  ...           1          0     2 Full   \n",
       "\n",
       "                                   Garage/Park Year Built  DOM  \\\n",
       "13781   Car/Detached Garage, On Street Parking     1950.0   20   \n",
       "42943                   Car/Unassigned Parking     1983.0  484   \n",
       "\n",
       "         Listing Agent List Office list_price close_price  \n",
       "13781    Karen Oztemel     BHHS135     399000      399000  \n",
       "42943  Kathy Michalove    SEABRD00      27000       27000  \n",
       "\n",
       "[2 rows x 22 columns]"
      ]
     },
     "execution_count": 1211,
     "metadata": {},
     "output_type": "execute_result"
    }
   ],
   "source": [
    "data_merged[data_merged['Sq Ft Total']==99999]"
   ]
  },
  {
   "cell_type": "code",
   "execution_count": 1212,
   "metadata": {},
   "outputs": [],
   "source": [
    "data_merged.drop([13781],inplace=True)                    #### Remove sqft == 99999\n",
    "data_merged.drop([42943],inplace=True)"
   ]
  },
  {
   "cell_type": "code",
   "execution_count": 1213,
   "metadata": {},
   "outputs": [
    {
     "data": {
      "text/html": [
       "<div>\n",
       "<style scoped>\n",
       "    .dataframe tbody tr th:only-of-type {\n",
       "        vertical-align: middle;\n",
       "    }\n",
       "\n",
       "    .dataframe tbody tr th {\n",
       "        vertical-align: top;\n",
       "    }\n",
       "\n",
       "    .dataframe thead th {\n",
       "        text-align: right;\n",
       "    }\n",
       "</style>\n",
       "<table border=\"1\" class=\"dataframe\">\n",
       "  <thead>\n",
       "    <tr style=\"text-align: right;\">\n",
       "      <th></th>\n",
       "      <th>#</th>\n",
       "      <th>MLS#</th>\n",
       "      <th>Status</th>\n",
       "      <th>Status Change Timestamp</th>\n",
       "      <th>Prop Type</th>\n",
       "      <th>List/Closed Price</th>\n",
       "      <th>Address</th>\n",
       "      <th>City</th>\n",
       "      <th>Acres</th>\n",
       "      <th>Sq Ft Total</th>\n",
       "      <th>...</th>\n",
       "      <th>Rooms Total</th>\n",
       "      <th>Beds Total</th>\n",
       "      <th>Bathrooms</th>\n",
       "      <th>Garage/Park</th>\n",
       "      <th>Year Built</th>\n",
       "      <th>DOM</th>\n",
       "      <th>Listing Agent</th>\n",
       "      <th>List Office</th>\n",
       "      <th>list_price</th>\n",
       "      <th>close_price</th>\n",
       "    </tr>\n",
       "  </thead>\n",
       "  <tbody>\n",
       "  </tbody>\n",
       "</table>\n",
       "<p>0 rows × 22 columns</p>\n",
       "</div>"
      ],
      "text/plain": [
       "Empty DataFrame\n",
       "Columns: [#, MLS#, Status, Status Change Timestamp, Prop Type, List/Closed Price, Address, City, Acres, Sq Ft Total, Sq Ft Est Heated Above Grade, Style or Rent Type, Rooms Total, Beds Total, Bathrooms, Garage/Park, Year Built, DOM, Listing Agent, List Office, list_price, close_price]\n",
       "Index: []\n",
       "\n",
       "[0 rows x 22 columns]"
      ]
     },
     "execution_count": 1213,
     "metadata": {},
     "output_type": "execute_result"
    }
   ],
   "source": [
    "data_merged[data_merged['Sq Ft Total']==99999]"
   ]
  },
  {
   "cell_type": "code",
   "execution_count": 1214,
   "metadata": {},
   "outputs": [
    {
     "data": {
      "text/plain": [
       "count    58104.000000\n",
       "mean      2141.431416\n",
       "std       1326.781904\n",
       "min         50.000000\n",
       "25%       1296.000000\n",
       "50%       1788.000000\n",
       "75%       2556.000000\n",
       "max      61184.000000\n",
       "Name: Sq Ft Total, dtype: float64"
      ]
     },
     "execution_count": 1214,
     "metadata": {},
     "output_type": "execute_result"
    }
   ],
   "source": [
    "data_merged['Sq Ft Total'].describe()"
   ]
  },
  {
   "cell_type": "markdown",
   "metadata": {},
   "source": [
    "----------------------------------------------------------------------------------"
   ]
  },
  {
   "cell_type": "code",
   "execution_count": 1215,
   "metadata": {},
   "outputs": [],
   "source": [
    "########## Sq Ft Est Heated Above Grade "
   ]
  },
  {
   "cell_type": "code",
   "execution_count": 1216,
   "metadata": {},
   "outputs": [
    {
     "data": {
      "text/plain": [
       "count     58088\n",
       "unique     5375\n",
       "top       1,008\n",
       "freq        417\n",
       "Name: Sq Ft Est Heated Above Grade, dtype: object"
      ]
     },
     "execution_count": 1216,
     "metadata": {},
     "output_type": "execute_result"
    }
   ],
   "source": [
    "data_merged['Sq Ft Est Heated Above Grade'].describe()"
   ]
  },
  {
   "cell_type": "code",
   "execution_count": 1217,
   "metadata": {},
   "outputs": [],
   "source": [
    "data_merged['Sq Ft Est Heated Above Grade'] = data_merged['Sq Ft Est Heated Above Grade'].str.replace(',','')"
   ]
  },
  {
   "cell_type": "code",
   "execution_count": 1218,
   "metadata": {},
   "outputs": [],
   "source": [
    "data_merged['Sq Ft Est Heated Above Grade'] = pd.to_numeric(data_merged['Sq Ft Est Heated Above Grade'])    "
   ]
  },
  {
   "cell_type": "code",
   "execution_count": 1219,
   "metadata": {},
   "outputs": [
    {
     "data": {
      "text/plain": [
       "count    58104.000000\n",
       "mean      2141.431416\n",
       "std       1326.781904\n",
       "min         50.000000\n",
       "25%       1296.000000\n",
       "50%       1788.000000\n",
       "75%       2556.000000\n",
       "max      61184.000000\n",
       "Name: Sq Ft Total, dtype: float64"
      ]
     },
     "execution_count": 1219,
     "metadata": {},
     "output_type": "execute_result"
    }
   ],
   "source": [
    "data_merged['Sq Ft Total'].describe()"
   ]
  },
  {
   "cell_type": "markdown",
   "metadata": {},
   "source": [
    "--------------------------------------------------------------------------"
   ]
  },
  {
   "cell_type": "code",
   "execution_count": 1220,
   "metadata": {},
   "outputs": [],
   "source": [
    "######Style or Rent Type "
   ]
  },
  {
   "cell_type": "code",
   "execution_count": 1221,
   "metadata": {},
   "outputs": [
    {
     "data": {
      "text/plain": [
       "0        Colonial\n",
       "1    Contemporary\n",
       "2        Colonial\n",
       "3           Ranch\n",
       "4        Bungalow\n",
       "Name: Style or Rent Type, dtype: object"
      ]
     },
     "execution_count": 1221,
     "metadata": {},
     "output_type": "execute_result"
    }
   ],
   "source": [
    "data_merged['Style or Rent Type'].head() "
   ]
  },
  {
   "cell_type": "code",
   "execution_count": 1222,
   "metadata": {},
   "outputs": [
    {
     "data": {
      "text/plain": [
       "count        58103\n",
       "unique         255\n",
       "top       Colonial\n",
       "freq         16295\n",
       "Name: Style or Rent Type, dtype: object"
      ]
     },
     "execution_count": 1222,
     "metadata": {},
     "output_type": "execute_result"
    }
   ],
   "source": [
    "data_merged['Style or Rent Type'].describe() "
   ]
  },
  {
   "cell_type": "code",
   "execution_count": 1223,
   "metadata": {},
   "outputs": [
    {
     "data": {
      "text/plain": [
       "Colonial                16295\n",
       "Ranch                   12711\n",
       "Cape Cod                 7408\n",
       "Townhouse                6233\n",
       "Raised Ranch             3348\n",
       "                        ...  \n",
       "Row House, Other            1\n",
       "Split Level, A-Frame        1\n",
       "Split Level, Antique        1\n",
       "Tudor, Victorian            1\n",
       "Mobile Home, Other          1\n",
       "Name: Style or Rent Type, Length: 255, dtype: int64"
      ]
     },
     "execution_count": 1223,
     "metadata": {},
     "output_type": "execute_result"
    }
   ],
   "source": [
    "data_merged['Style or Rent Type'].value_counts()"
   ]
  },
  {
   "cell_type": "code",
   "execution_count": 1224,
   "metadata": {},
   "outputs": [],
   "source": [
    "##### Rooms Total "
   ]
  },
  {
   "cell_type": "code",
   "execution_count": 1225,
   "metadata": {},
   "outputs": [
    {
     "data": {
      "text/plain": [
       "0    11\n",
       "1     7\n",
       "2     7\n",
       "3     6\n",
       "4     6\n",
       "Name: Rooms Total, dtype: int64"
      ]
     },
     "execution_count": 1225,
     "metadata": {},
     "output_type": "execute_result"
    }
   ],
   "source": [
    "data_merged['Rooms Total'].head()"
   ]
  },
  {
   "cell_type": "code",
   "execution_count": 1226,
   "metadata": {},
   "outputs": [
    {
     "data": {
      "text/plain": [
       "count    58104.000000\n",
       "mean         6.868632\n",
       "std          2.384983\n",
       "min          1.000000\n",
       "25%          5.000000\n",
       "50%          7.000000\n",
       "75%          8.000000\n",
       "max         99.000000\n",
       "Name: Rooms Total, dtype: float64"
      ]
     },
     "execution_count": 1226,
     "metadata": {},
     "output_type": "execute_result"
    }
   ],
   "source": [
    "data_merged['Rooms Total'].describe()"
   ]
  },
  {
   "cell_type": "code",
   "execution_count": 1227,
   "metadata": {},
   "outputs": [
    {
     "data": {
      "text/html": [
       "<div>\n",
       "<style scoped>\n",
       "    .dataframe tbody tr th:only-of-type {\n",
       "        vertical-align: middle;\n",
       "    }\n",
       "\n",
       "    .dataframe tbody tr th {\n",
       "        vertical-align: top;\n",
       "    }\n",
       "\n",
       "    .dataframe thead th {\n",
       "        text-align: right;\n",
       "    }\n",
       "</style>\n",
       "<table border=\"1\" class=\"dataframe\">\n",
       "  <thead>\n",
       "    <tr style=\"text-align: right;\">\n",
       "      <th></th>\n",
       "      <th>#</th>\n",
       "      <th>MLS#</th>\n",
       "      <th>Status</th>\n",
       "      <th>Status Change Timestamp</th>\n",
       "      <th>Prop Type</th>\n",
       "      <th>List/Closed Price</th>\n",
       "      <th>Address</th>\n",
       "      <th>City</th>\n",
       "      <th>Acres</th>\n",
       "      <th>Sq Ft Total</th>\n",
       "      <th>...</th>\n",
       "      <th>Rooms Total</th>\n",
       "      <th>Beds Total</th>\n",
       "      <th>Bathrooms</th>\n",
       "      <th>Garage/Park</th>\n",
       "      <th>Year Built</th>\n",
       "      <th>DOM</th>\n",
       "      <th>Listing Agent</th>\n",
       "      <th>List Office</th>\n",
       "      <th>list_price</th>\n",
       "      <th>close_price</th>\n",
       "    </tr>\n",
       "  </thead>\n",
       "  <tbody>\n",
       "    <tr>\n",
       "      <th>14307</th>\n",
       "      <td>501</td>\n",
       "      <td>170271291</td>\n",
       "      <td>CLSD</td>\n",
       "      <td>04/05/21</td>\n",
       "      <td>CO</td>\n",
       "      <td>[LP:, $59,000, CP:, $59,000]</td>\n",
       "      <td>[7, River Rd, Unit #C-7]</td>\n",
       "      <td>Greenwich</td>\n",
       "      <td>NaN</td>\n",
       "      <td>50</td>\n",
       "      <td>...</td>\n",
       "      <td>99</td>\n",
       "      <td>0</td>\n",
       "      <td>NaN</td>\n",
       "      <td>Car/Other</td>\n",
       "      <td>1988.0</td>\n",
       "      <td>594</td>\n",
       "      <td>Barbara V Stephens</td>\n",
       "      <td>JSOTH1</td>\n",
       "      <td>59000</td>\n",
       "      <td>59000</td>\n",
       "    </tr>\n",
       "    <tr>\n",
       "      <th>14308</th>\n",
       "      <td>501</td>\n",
       "      <td>170271397</td>\n",
       "      <td>CLSD</td>\n",
       "      <td>06/21/21</td>\n",
       "      <td>CO</td>\n",
       "      <td>[LP:, $89,000, CP:, $79,000]</td>\n",
       "      <td>[7, River Rd, Unit #E-8]</td>\n",
       "      <td>Greenwich</td>\n",
       "      <td>NaN</td>\n",
       "      <td>50</td>\n",
       "      <td>...</td>\n",
       "      <td>99</td>\n",
       "      <td>0</td>\n",
       "      <td>NaN</td>\n",
       "      <td>Car/Other</td>\n",
       "      <td>1988.0</td>\n",
       "      <td>446</td>\n",
       "      <td>Barbara V Stephens</td>\n",
       "      <td>JSOTH1</td>\n",
       "      <td>89000</td>\n",
       "      <td>79000</td>\n",
       "    </tr>\n",
       "  </tbody>\n",
       "</table>\n",
       "<p>2 rows × 22 columns</p>\n",
       "</div>"
      ],
      "text/plain": [
       "         #       MLS# Status Status Change Timestamp Prop Type  \\\n",
       "14307  501  170271291   CLSD                04/05/21        CO   \n",
       "14308  501  170271397   CLSD                06/21/21        CO   \n",
       "\n",
       "                  List/Closed Price                   Address       City  \\\n",
       "14307  [LP:, $59,000, CP:, $59,000]  [7, River Rd, Unit #C-7]  Greenwich   \n",
       "14308  [LP:, $89,000, CP:, $79,000]  [7, River Rd, Unit #E-8]  Greenwich   \n",
       "\n",
       "      Acres  Sq Ft Total  ...  Rooms Total Beds Total  Bathrooms  Garage/Park  \\\n",
       "14307   NaN           50  ...           99          0        NaN    Car/Other   \n",
       "14308   NaN           50  ...           99          0        NaN    Car/Other   \n",
       "\n",
       "      Year Built  DOM       Listing Agent List Office list_price close_price  \n",
       "14307     1988.0  594  Barbara V Stephens      JSOTH1      59000       59000  \n",
       "14308     1988.0  446  Barbara V Stephens      JSOTH1      89000       79000  \n",
       "\n",
       "[2 rows x 22 columns]"
      ]
     },
     "execution_count": 1227,
     "metadata": {},
     "output_type": "execute_result"
    }
   ],
   "source": [
    "data_merged[data_merged['Rooms Total']==99]"
   ]
  },
  {
   "cell_type": "code",
   "execution_count": 1228,
   "metadata": {},
   "outputs": [],
   "source": [
    "data_merged.drop([14307],inplace=True)                    #### Remove sqft == 99\n",
    "data_merged.drop([14308],inplace=True)"
   ]
  },
  {
   "cell_type": "code",
   "execution_count": 1229,
   "metadata": {},
   "outputs": [
    {
     "data": {
      "text/html": [
       "<div>\n",
       "<style scoped>\n",
       "    .dataframe tbody tr th:only-of-type {\n",
       "        vertical-align: middle;\n",
       "    }\n",
       "\n",
       "    .dataframe tbody tr th {\n",
       "        vertical-align: top;\n",
       "    }\n",
       "\n",
       "    .dataframe thead th {\n",
       "        text-align: right;\n",
       "    }\n",
       "</style>\n",
       "<table border=\"1\" class=\"dataframe\">\n",
       "  <thead>\n",
       "    <tr style=\"text-align: right;\">\n",
       "      <th></th>\n",
       "      <th>#</th>\n",
       "      <th>MLS#</th>\n",
       "      <th>Status</th>\n",
       "      <th>Status Change Timestamp</th>\n",
       "      <th>Prop Type</th>\n",
       "      <th>List/Closed Price</th>\n",
       "      <th>Address</th>\n",
       "      <th>City</th>\n",
       "      <th>Acres</th>\n",
       "      <th>Sq Ft Total</th>\n",
       "      <th>...</th>\n",
       "      <th>Rooms Total</th>\n",
       "      <th>Beds Total</th>\n",
       "      <th>Bathrooms</th>\n",
       "      <th>Garage/Park</th>\n",
       "      <th>Year Built</th>\n",
       "      <th>DOM</th>\n",
       "      <th>Listing Agent</th>\n",
       "      <th>List Office</th>\n",
       "      <th>list_price</th>\n",
       "      <th>close_price</th>\n",
       "    </tr>\n",
       "  </thead>\n",
       "  <tbody>\n",
       "  </tbody>\n",
       "</table>\n",
       "<p>0 rows × 22 columns</p>\n",
       "</div>"
      ],
      "text/plain": [
       "Empty DataFrame\n",
       "Columns: [#, MLS#, Status, Status Change Timestamp, Prop Type, List/Closed Price, Address, City, Acres, Sq Ft Total, Sq Ft Est Heated Above Grade, Style or Rent Type, Rooms Total, Beds Total, Bathrooms, Garage/Park, Year Built, DOM, Listing Agent, List Office, list_price, close_price]\n",
       "Index: []\n",
       "\n",
       "[0 rows x 22 columns]"
      ]
     },
     "execution_count": 1229,
     "metadata": {},
     "output_type": "execute_result"
    }
   ],
   "source": [
    "data_merged[data_merged['Rooms Total']==99]"
   ]
  },
  {
   "cell_type": "code",
   "execution_count": 1230,
   "metadata": {},
   "outputs": [
    {
     "data": {
      "text/plain": [
       "count    58102.000000\n",
       "mean         6.865461\n",
       "std          2.322960\n",
       "min          1.000000\n",
       "25%          5.000000\n",
       "50%          7.000000\n",
       "75%          8.000000\n",
       "max         90.000000\n",
       "Name: Rooms Total, dtype: float64"
      ]
     },
     "execution_count": 1230,
     "metadata": {},
     "output_type": "execute_result"
    }
   ],
   "source": [
    "data_merged['Rooms Total'].describe()"
   ]
  },
  {
   "cell_type": "markdown",
   "metadata": {},
   "source": [
    "----------------------------------------------------------------"
   ]
  },
  {
   "cell_type": "code",
   "execution_count": 1231,
   "metadata": {},
   "outputs": [],
   "source": [
    "#####   Beds Total"
   ]
  },
  {
   "cell_type": "code",
   "execution_count": 1232,
   "metadata": {},
   "outputs": [
    {
     "data": {
      "text/plain": [
       "count    58102.000000\n",
       "mean         3.149289\n",
       "std          1.022703\n",
       "min          0.000000\n",
       "25%          3.000000\n",
       "50%          3.000000\n",
       "75%          4.000000\n",
       "max         15.000000\n",
       "Name: Beds Total, dtype: float64"
      ]
     },
     "execution_count": 1232,
     "metadata": {},
     "output_type": "execute_result"
    }
   ],
   "source": [
    "data_merged['Beds Total'].describe()"
   ]
  },
  {
   "cell_type": "code",
   "execution_count": 1233,
   "metadata": {},
   "outputs": [
    {
     "data": {
      "text/html": [
       "<div>\n",
       "<style scoped>\n",
       "    .dataframe tbody tr th:only-of-type {\n",
       "        vertical-align: middle;\n",
       "    }\n",
       "\n",
       "    .dataframe tbody tr th {\n",
       "        vertical-align: top;\n",
       "    }\n",
       "\n",
       "    .dataframe thead th {\n",
       "        text-align: right;\n",
       "    }\n",
       "</style>\n",
       "<table border=\"1\" class=\"dataframe\">\n",
       "  <thead>\n",
       "    <tr style=\"text-align: right;\">\n",
       "      <th></th>\n",
       "      <th>#</th>\n",
       "      <th>MLS#</th>\n",
       "      <th>Status</th>\n",
       "      <th>Status Change Timestamp</th>\n",
       "      <th>Prop Type</th>\n",
       "      <th>List/Closed Price</th>\n",
       "      <th>Address</th>\n",
       "      <th>City</th>\n",
       "      <th>Acres</th>\n",
       "      <th>Sq Ft Total</th>\n",
       "      <th>...</th>\n",
       "      <th>Rooms Total</th>\n",
       "      <th>Beds Total</th>\n",
       "      <th>Bathrooms</th>\n",
       "      <th>Garage/Park</th>\n",
       "      <th>Year Built</th>\n",
       "      <th>DOM</th>\n",
       "      <th>Listing Agent</th>\n",
       "      <th>List Office</th>\n",
       "      <th>list_price</th>\n",
       "      <th>close_price</th>\n",
       "    </tr>\n",
       "  </thead>\n",
       "  <tbody>\n",
       "    <tr>\n",
       "      <th>1651</th>\n",
       "      <td>1</td>\n",
       "      <td>170290873</td>\n",
       "      <td>CLSD</td>\n",
       "      <td>09/12/20</td>\n",
       "      <td>SF</td>\n",
       "      <td>[LP:, $675,000, CP:, $565,000]</td>\n",
       "      <td>[158, Greenwood Ave]</td>\n",
       "      <td>Bethel</td>\n",
       "      <td>NaN</td>\n",
       "      <td>5400</td>\n",
       "      <td>...</td>\n",
       "      <td>12</td>\n",
       "      <td>0</td>\n",
       "      <td>99 Full &amp; 4 Half</td>\n",
       "      <td>Car/Paved, Off Street Parking</td>\n",
       "      <td>1890.0</td>\n",
       "      <td>119</td>\n",
       "      <td>Marge Lanzara</td>\n",
       "      <td>CWB120</td>\n",
       "      <td>675000</td>\n",
       "      <td>565000</td>\n",
       "    </tr>\n",
       "    <tr>\n",
       "      <th>2904</th>\n",
       "      <td>1</td>\n",
       "      <td>170308879</td>\n",
       "      <td>CLSD</td>\n",
       "      <td>08/03/20</td>\n",
       "      <td>CO</td>\n",
       "      <td>[LP:, $79,900, CP:, $67,500]</td>\n",
       "      <td>[2625, Park Ave, Unit #4T]</td>\n",
       "      <td>Bridgeport</td>\n",
       "      <td>NaN</td>\n",
       "      <td>605</td>\n",
       "      <td>...</td>\n",
       "      <td>1</td>\n",
       "      <td>0</td>\n",
       "      <td>1 Full</td>\n",
       "      <td>1 Car/Assigned Parking, Off Street Parking</td>\n",
       "      <td>1964.0</td>\n",
       "      <td>13</td>\n",
       "      <td>Rosania Melo</td>\n",
       "      <td>ACAM71</td>\n",
       "      <td>79900</td>\n",
       "      <td>67500</td>\n",
       "    </tr>\n",
       "    <tr>\n",
       "      <th>2911</th>\n",
       "      <td>1</td>\n",
       "      <td>170362264</td>\n",
       "      <td>CLSD</td>\n",
       "      <td>04/16/21</td>\n",
       "      <td>CO</td>\n",
       "      <td>[LP:, $76,900, CP:, $74,900]</td>\n",
       "      <td>[2625, Park Ave, Unit #16H]</td>\n",
       "      <td>Bridgeport</td>\n",
       "      <td>NaN</td>\n",
       "      <td>571</td>\n",
       "      <td>...</td>\n",
       "      <td>3</td>\n",
       "      <td>0</td>\n",
       "      <td>1 Full</td>\n",
       "      <td>1 Car/Parking Garage</td>\n",
       "      <td>1964.0</td>\n",
       "      <td>105</td>\n",
       "      <td>Mala A Vaish</td>\n",
       "      <td>KELL70</td>\n",
       "      <td>76900</td>\n",
       "      <td>74900</td>\n",
       "    </tr>\n",
       "    <tr>\n",
       "      <th>2916</th>\n",
       "      <td>1</td>\n",
       "      <td>170394274</td>\n",
       "      <td>CLSD</td>\n",
       "      <td>06/11/21</td>\n",
       "      <td>CO</td>\n",
       "      <td>[LP:, $77,000, CP:, $77,000]</td>\n",
       "      <td>[2625, Park Ave, Unit #14T]</td>\n",
       "      <td>Bridgeport</td>\n",
       "      <td>NaN</td>\n",
       "      <td>605</td>\n",
       "      <td>...</td>\n",
       "      <td>2</td>\n",
       "      <td>0</td>\n",
       "      <td>1 Full</td>\n",
       "      <td>1 Car/Assigned Parking, Parking Garage</td>\n",
       "      <td>1964.0</td>\n",
       "      <td>4</td>\n",
       "      <td>James Millington</td>\n",
       "      <td>RAVE80</td>\n",
       "      <td>77000</td>\n",
       "      <td>77000</td>\n",
       "    </tr>\n",
       "    <tr>\n",
       "      <th>2918</th>\n",
       "      <td>1</td>\n",
       "      <td>170329355</td>\n",
       "      <td>CLSD</td>\n",
       "      <td>10/27/20</td>\n",
       "      <td>CO</td>\n",
       "      <td>[LP:, $89,000, CP:, $78,000]</td>\n",
       "      <td>[2625, Park Ave, Unit #4T]</td>\n",
       "      <td>Bridgeport</td>\n",
       "      <td>NaN</td>\n",
       "      <td>605</td>\n",
       "      <td>...</td>\n",
       "      <td>1</td>\n",
       "      <td>0</td>\n",
       "      <td>1 Full</td>\n",
       "      <td>1 Car/Off Street Parking</td>\n",
       "      <td>1964.0</td>\n",
       "      <td>44</td>\n",
       "      <td>Rosania Melo</td>\n",
       "      <td>ACAM71</td>\n",
       "      <td>89000</td>\n",
       "      <td>78000</td>\n",
       "    </tr>\n",
       "    <tr>\n",
       "      <th>...</th>\n",
       "      <td>...</td>\n",
       "      <td>...</td>\n",
       "      <td>...</td>\n",
       "      <td>...</td>\n",
       "      <td>...</td>\n",
       "      <td>...</td>\n",
       "      <td>...</td>\n",
       "      <td>...</td>\n",
       "      <td>...</td>\n",
       "      <td>...</td>\n",
       "      <td>...</td>\n",
       "      <td>...</td>\n",
       "      <td>...</td>\n",
       "      <td>...</td>\n",
       "      <td>...</td>\n",
       "      <td>...</td>\n",
       "      <td>...</td>\n",
       "      <td>...</td>\n",
       "      <td>...</td>\n",
       "      <td>...</td>\n",
       "      <td>...</td>\n",
       "    </tr>\n",
       "    <tr>\n",
       "      <th>44178</th>\n",
       "      <td>2001</td>\n",
       "      <td>170344867</td>\n",
       "      <td>CLSD</td>\n",
       "      <td>02/10/21</td>\n",
       "      <td>SF</td>\n",
       "      <td>[LP:, $345,000, CP:, $320,000]</td>\n",
       "      <td>[297, Oaklawn Ave]</td>\n",
       "      <td>Stamford</td>\n",
       "      <td>NaN</td>\n",
       "      <td>1100</td>\n",
       "      <td>...</td>\n",
       "      <td>3</td>\n",
       "      <td>0</td>\n",
       "      <td>1 Full &amp; 1 Half</td>\n",
       "      <td>Car/Paved, Off Street Parking</td>\n",
       "      <td>1957.0</td>\n",
       "      <td>125</td>\n",
       "      <td>Elaine Parruccini</td>\n",
       "      <td>RAVE130</td>\n",
       "      <td>345000</td>\n",
       "      <td>320000</td>\n",
       "    </tr>\n",
       "    <tr>\n",
       "      <th>49459</th>\n",
       "      <td>2501</td>\n",
       "      <td>170392438</td>\n",
       "      <td>CLSD</td>\n",
       "      <td>05/24/21</td>\n",
       "      <td>SF</td>\n",
       "      <td>[LP:, $129,000, CP:, $125,000]</td>\n",
       "      <td>[32, Pequot Trl]</td>\n",
       "      <td>Voluntown</td>\n",
       "      <td>NaN</td>\n",
       "      <td>480</td>\n",
       "      <td>...</td>\n",
       "      <td>2</td>\n",
       "      <td>0</td>\n",
       "      <td>1 Full</td>\n",
       "      <td>Car/Unpaved, Off Street Parking</td>\n",
       "      <td>1960.0</td>\n",
       "      <td>1</td>\n",
       "      <td>Matthew Vieira</td>\n",
       "      <td>RESI60</td>\n",
       "      <td>129000</td>\n",
       "      <td>125000</td>\n",
       "    </tr>\n",
       "    <tr>\n",
       "      <th>51605</th>\n",
       "      <td>1</td>\n",
       "      <td>170390572</td>\n",
       "      <td>CLSD</td>\n",
       "      <td>06/21/21</td>\n",
       "      <td>CP</td>\n",
       "      <td>[LP:, $59,900, CP:, $55,000]</td>\n",
       "      <td>[41, Jones Hill Rd, Unit #106]</td>\n",
       "      <td>West Haven</td>\n",
       "      <td>NaN</td>\n",
       "      <td>800</td>\n",
       "      <td>...</td>\n",
       "      <td>1</td>\n",
       "      <td>0</td>\n",
       "      <td>1 Full</td>\n",
       "      <td>Car/Paved, Off Street Parking, Parking Lot</td>\n",
       "      <td>1967.0</td>\n",
       "      <td>4</td>\n",
       "      <td>John F Jaser</td>\n",
       "      <td>WSRR30</td>\n",
       "      <td>59900</td>\n",
       "      <td>55000</td>\n",
       "    </tr>\n",
       "    <tr>\n",
       "      <th>51658</th>\n",
       "      <td>1</td>\n",
       "      <td>170362275</td>\n",
       "      <td>CLSD</td>\n",
       "      <td>01/29/21</td>\n",
       "      <td>CO</td>\n",
       "      <td>[LP:, $95,000, CP:, $89,900]</td>\n",
       "      <td>[42, N. Main St, Unit #79]</td>\n",
       "      <td>West Hartford</td>\n",
       "      <td>NaN</td>\n",
       "      <td>506</td>\n",
       "      <td>...</td>\n",
       "      <td>2</td>\n",
       "      <td>0</td>\n",
       "      <td>1 Full</td>\n",
       "      <td>Car/Paved, Off Street Parking</td>\n",
       "      <td>1978.0</td>\n",
       "      <td>20</td>\n",
       "      <td>Christine A Green</td>\n",
       "      <td>RAVE02</td>\n",
       "      <td>95000</td>\n",
       "      <td>89900</td>\n",
       "    </tr>\n",
       "    <tr>\n",
       "      <th>56185</th>\n",
       "      <td>4501</td>\n",
       "      <td>170393143</td>\n",
       "      <td>CLSD</td>\n",
       "      <td>05/28/21</td>\n",
       "      <td>SF</td>\n",
       "      <td>[LP:, $119,900, CP:, $120,000]</td>\n",
       "      <td>[601, W. Wakefield Blvd]</td>\n",
       "      <td>Winchester</td>\n",
       "      <td>0.92</td>\n",
       "      <td>414</td>\n",
       "      <td>...</td>\n",
       "      <td>2</td>\n",
       "      <td>0</td>\n",
       "      <td>&amp; 1 Half</td>\n",
       "      <td>Car/Paved, Off Street Parking</td>\n",
       "      <td>1940.0</td>\n",
       "      <td>4</td>\n",
       "      <td>Rosemary Jacob</td>\n",
       "      <td>BRLA40</td>\n",
       "      <td>119900</td>\n",
       "      <td>120000</td>\n",
       "    </tr>\n",
       "  </tbody>\n",
       "</table>\n",
       "<p>88 rows × 22 columns</p>\n",
       "</div>"
      ],
      "text/plain": [
       "          #       MLS# Status Status Change Timestamp Prop Type  \\\n",
       "1651      1  170290873   CLSD                09/12/20        SF   \n",
       "2904      1  170308879   CLSD                08/03/20        CO   \n",
       "2911      1  170362264   CLSD                04/16/21        CO   \n",
       "2916      1  170394274   CLSD                06/11/21        CO   \n",
       "2918      1  170329355   CLSD                10/27/20        CO   \n",
       "...     ...        ...    ...                     ...       ...   \n",
       "44178  2001  170344867   CLSD                02/10/21        SF   \n",
       "49459  2501  170392438   CLSD                05/24/21        SF   \n",
       "51605     1  170390572   CLSD                06/21/21        CP   \n",
       "51658     1  170362275   CLSD                01/29/21        CO   \n",
       "56185  4501  170393143   CLSD                05/28/21        SF   \n",
       "\n",
       "                    List/Closed Price                         Address  \\\n",
       "1651   [LP:, $675,000, CP:, $565,000]            [158, Greenwood Ave]   \n",
       "2904     [LP:, $79,900, CP:, $67,500]      [2625, Park Ave, Unit #4T]   \n",
       "2911     [LP:, $76,900, CP:, $74,900]     [2625, Park Ave, Unit #16H]   \n",
       "2916     [LP:, $77,000, CP:, $77,000]     [2625, Park Ave, Unit #14T]   \n",
       "2918     [LP:, $89,000, CP:, $78,000]      [2625, Park Ave, Unit #4T]   \n",
       "...                               ...                             ...   \n",
       "44178  [LP:, $345,000, CP:, $320,000]              [297, Oaklawn Ave]   \n",
       "49459  [LP:, $129,000, CP:, $125,000]                [32, Pequot Trl]   \n",
       "51605    [LP:, $59,900, CP:, $55,000]  [41, Jones Hill Rd, Unit #106]   \n",
       "51658    [LP:, $95,000, CP:, $89,900]      [42, N. Main St, Unit #79]   \n",
       "56185  [LP:, $119,900, CP:, $120,000]        [601, W. Wakefield Blvd]   \n",
       "\n",
       "                City Acres  Sq Ft Total  ...  Rooms Total Beds Total  \\\n",
       "1651          Bethel   NaN         5400  ...           12          0   \n",
       "2904      Bridgeport   NaN          605  ...            1          0   \n",
       "2911      Bridgeport   NaN          571  ...            3          0   \n",
       "2916      Bridgeport   NaN          605  ...            2          0   \n",
       "2918      Bridgeport   NaN          605  ...            1          0   \n",
       "...              ...   ...          ...  ...          ...        ...   \n",
       "44178       Stamford   NaN         1100  ...            3          0   \n",
       "49459      Voluntown   NaN          480  ...            2          0   \n",
       "51605     West Haven   NaN          800  ...            1          0   \n",
       "51658  West Hartford   NaN          506  ...            2          0   \n",
       "56185     Winchester  0.92          414  ...            2          0   \n",
       "\n",
       "              Bathrooms                                  Garage/Park  \\\n",
       "1651   99 Full & 4 Half                Car/Paved, Off Street Parking   \n",
       "2904             1 Full   1 Car/Assigned Parking, Off Street Parking   \n",
       "2911             1 Full                         1 Car/Parking Garage   \n",
       "2916             1 Full       1 Car/Assigned Parking, Parking Garage   \n",
       "2918             1 Full                     1 Car/Off Street Parking   \n",
       "...                 ...                                          ...   \n",
       "44178   1 Full & 1 Half                Car/Paved, Off Street Parking   \n",
       "49459            1 Full              Car/Unpaved, Off Street Parking   \n",
       "51605            1 Full   Car/Paved, Off Street Parking, Parking Lot   \n",
       "51658            1 Full                Car/Paved, Off Street Parking   \n",
       "56185          & 1 Half                Car/Paved, Off Street Parking   \n",
       "\n",
       "      Year Built  DOM      Listing Agent List Office list_price close_price  \n",
       "1651      1890.0  119      Marge Lanzara      CWB120     675000      565000  \n",
       "2904      1964.0   13       Rosania Melo      ACAM71      79900       67500  \n",
       "2911      1964.0  105       Mala A Vaish      KELL70      76900       74900  \n",
       "2916      1964.0    4   James Millington      RAVE80      77000       77000  \n",
       "2918      1964.0   44       Rosania Melo      ACAM71      89000       78000  \n",
       "...          ...  ...                ...         ...        ...         ...  \n",
       "44178     1957.0  125  Elaine Parruccini     RAVE130     345000      320000  \n",
       "49459     1960.0    1     Matthew Vieira      RESI60     129000      125000  \n",
       "51605     1967.0    4       John F Jaser      WSRR30      59900       55000  \n",
       "51658     1978.0   20  Christine A Green      RAVE02      95000       89900  \n",
       "56185     1940.0    4     Rosemary Jacob      BRLA40     119900      120000  \n",
       "\n",
       "[88 rows x 22 columns]"
      ]
     },
     "execution_count": 1233,
     "metadata": {},
     "output_type": "execute_result"
    }
   ],
   "source": [
    "data_merged[data_merged['Beds Total']==0]"
   ]
  },
  {
   "cell_type": "markdown",
   "metadata": {},
   "source": [
    "--------------------------------------------------------------------------------------------------------------------"
   ]
  },
  {
   "cell_type": "code",
   "execution_count": null,
   "metadata": {},
   "outputs": [],
   "source": [
    "###########bathrooms"
   ]
  },
  {
   "cell_type": "code",
   "execution_count": 1234,
   "metadata": {},
   "outputs": [
    {
     "data": {
      "text/plain": [
       "count               58086\n",
       "unique                 52\n",
       "top       2 Full & 1 Half\n",
       "freq                13022\n",
       "Name: Bathrooms, dtype: object"
      ]
     },
     "execution_count": 1234,
     "metadata": {},
     "output_type": "execute_result"
    }
   ],
   "source": [
    "data_merged['Bathrooms'].describe()"
   ]
  },
  {
   "cell_type": "code",
   "execution_count": 1235,
   "metadata": {},
   "outputs": [
    {
     "data": {
      "text/plain": [
       "0     3 Full & 1 Half\n",
       "1     5 Full & 1 Half\n",
       "2              1 Full\n",
       "3              1 Full\n",
       "4              1 Full\n",
       "5              1 Full\n",
       "6              2 Full\n",
       "7              1 Full\n",
       "8              2 Full\n",
       "9              2 Full\n",
       "10             1 Full\n",
       "11    1 Full & 2 Half\n",
       "12             1 Full\n",
       "13             1 Full\n",
       "14             2 Full\n",
       "15             2 Full\n",
       "16    1 Full & 1 Half\n",
       "17    1 Full & 1 Half\n",
       "18             2 Full\n",
       "19    2 Full & 1 Half\n",
       "Name: Bathrooms, dtype: object"
      ]
     },
     "execution_count": 1235,
     "metadata": {},
     "output_type": "execute_result"
    }
   ],
   "source": [
    "data_merged['Bathrooms'].head(20)"
   ]
  },
  {
   "cell_type": "code",
   "execution_count": 1236,
   "metadata": {},
   "outputs": [
    {
     "data": {
      "text/plain": [
       "2 Full & 1 Half     13022\n",
       "2 Full              12565\n",
       "1 Full & 1 Half     10117\n",
       "1 Full               9980\n",
       "3 Full & 1 Half      3919\n",
       "3 Full               3389\n",
       "4 Full & 1 Half      1176\n",
       "2 Full & 2 Half       724\n",
       "4 Full                528\n",
       "3 Full & 2 Half       520\n",
       "5 Full & 1 Half       412\n",
       "4 Full & 2 Half       360\n",
       "1 Full & 2 Half       350\n",
       "5 Full & 2 Half       230\n",
       "6 Full & 2 Half       142\n",
       "6 Full & 1 Half       120\n",
       "5 Full                117\n",
       "7 Full & 2 Half        52\n",
       "5 Full & 3 Half        46\n",
       "4 Full & 3 Half        41\n",
       "7 Full & 1 Half        40\n",
       "3 Full & 3 Half        34\n",
       "6 Full & 3 Half        33\n",
       "6 Full                 27\n",
       "2 Full & 3 Half        20\n",
       "7 Full & 3 Half        19\n",
       "8 Full & 1 Half        18\n",
       "8 Full & 2 Half        16\n",
       "8 Full & 3 Half         9\n",
       " & 1 Half               8\n",
       "7 Full & 4 Half         6\n",
       "9 Full & 2 Half         5\n",
       "1 Full & 3 Half         5\n",
       "4 Full & 4 Half         4\n",
       "7 Full                  4\n",
       "5 Full & 4 Half         4\n",
       "8 Full & 4 Half         4\n",
       "9 Full & 1 Half         3\n",
       "6 Full & 4 Half         3\n",
       "12 Full & 2 Half        2\n",
       "11 Full & 2 Half        1\n",
       "2 Full & 4 Half         1\n",
       " & 2 Half               1\n",
       "20 Full                 1\n",
       "6 Full & 8 Half         1\n",
       "9 Full & 4 Half         1\n",
       "9 Full                  1\n",
       " & 4 Half               1\n",
       "3 Full & 4 Half         1\n",
       "3 Full & 5 Half         1\n",
       "99 Full & 4 Half        1\n",
       "10 Full & 1 Half        1\n",
       "Name: Bathrooms, dtype: int64"
      ]
     },
     "execution_count": 1236,
     "metadata": {},
     "output_type": "execute_result"
    }
   ],
   "source": [
    "data_merged['Bathrooms'].value_counts()"
   ]
  },
  {
   "cell_type": "code",
   "execution_count": 1237,
   "metadata": {},
   "outputs": [
    {
     "ename": "AttributeError",
     "evalue": "'float' object has no attribute 'split'",
     "output_type": "error",
     "traceback": [
      "\u001b[1;31m--------------------------------------------------\u001b[0m",
      "\u001b[1;31mAttributeError\u001b[0m   Traceback (most recent call last)",
      "\u001b[1;32m<ipython-input-1237-a8c3442477bf>\u001b[0m in \u001b[0;36m<module>\u001b[1;34m\u001b[0m\n\u001b[1;32m----> 1\u001b[1;33m \u001b[0mdata_merged\u001b[0m\u001b[1;33m[\u001b[0m\u001b[1;34m'Bathrooms'\u001b[0m\u001b[1;33m]\u001b[0m \u001b[1;33m=\u001b[0m \u001b[0mdata_merged\u001b[0m\u001b[1;33m[\u001b[0m\u001b[1;34m'Bathrooms'\u001b[0m\u001b[1;33m]\u001b[0m\u001b[1;33m.\u001b[0m\u001b[0mapply\u001b[0m\u001b[1;33m(\u001b[0m\u001b[1;32mlambda\u001b[0m \u001b[0mx\u001b[0m\u001b[1;33m:\u001b[0m \u001b[0mx\u001b[0m\u001b[1;33m.\u001b[0m\u001b[0msplit\u001b[0m\u001b[1;33m(\u001b[0m\u001b[1;34m'&'\u001b[0m\u001b[1;33m)\u001b[0m\u001b[1;33m)\u001b[0m\u001b[1;33m\u001b[0m\u001b[1;33m\u001b[0m\u001b[0m\n\u001b[0m",
      "\u001b[1;32m~\\anaconda3\\lib\\site-packages\\pandas\\core\\series.py\u001b[0m in \u001b[0;36mapply\u001b[1;34m(self, func, convert_dtype, args, **kwds)\u001b[0m\n\u001b[0;32m   4198\u001b[0m             \u001b[1;32melse\u001b[0m\u001b[1;33m:\u001b[0m\u001b[1;33m\u001b[0m\u001b[1;33m\u001b[0m\u001b[0m\n\u001b[0;32m   4199\u001b[0m                 \u001b[0mvalues\u001b[0m \u001b[1;33m=\u001b[0m \u001b[0mself\u001b[0m\u001b[1;33m.\u001b[0m\u001b[0mastype\u001b[0m\u001b[1;33m(\u001b[0m\u001b[0mobject\u001b[0m\u001b[1;33m)\u001b[0m\u001b[1;33m.\u001b[0m\u001b[0m_values\u001b[0m\u001b[1;33m\u001b[0m\u001b[1;33m\u001b[0m\u001b[0m\n\u001b[1;32m-> 4200\u001b[1;33m                 \u001b[0mmapped\u001b[0m \u001b[1;33m=\u001b[0m \u001b[0mlib\u001b[0m\u001b[1;33m.\u001b[0m\u001b[0mmap_infer\u001b[0m\u001b[1;33m(\u001b[0m\u001b[0mvalues\u001b[0m\u001b[1;33m,\u001b[0m \u001b[0mf\u001b[0m\u001b[1;33m,\u001b[0m \u001b[0mconvert\u001b[0m\u001b[1;33m=\u001b[0m\u001b[0mconvert_dtype\u001b[0m\u001b[1;33m)\u001b[0m\u001b[1;33m\u001b[0m\u001b[1;33m\u001b[0m\u001b[0m\n\u001b[0m\u001b[0;32m   4201\u001b[0m \u001b[1;33m\u001b[0m\u001b[0m\n\u001b[0;32m   4202\u001b[0m         \u001b[1;32mif\u001b[0m \u001b[0mlen\u001b[0m\u001b[1;33m(\u001b[0m\u001b[0mmapped\u001b[0m\u001b[1;33m)\u001b[0m \u001b[1;32mand\u001b[0m \u001b[0misinstance\u001b[0m\u001b[1;33m(\u001b[0m\u001b[0mmapped\u001b[0m\u001b[1;33m[\u001b[0m\u001b[1;36m0\u001b[0m\u001b[1;33m]\u001b[0m\u001b[1;33m,\u001b[0m \u001b[0mSeries\u001b[0m\u001b[1;33m)\u001b[0m\u001b[1;33m:\u001b[0m\u001b[1;33m\u001b[0m\u001b[1;33m\u001b[0m\u001b[0m\n",
      "\u001b[1;32mpandas\\_libs\\lib.pyx\u001b[0m in \u001b[0;36mpandas._libs.lib.map_infer\u001b[1;34m()\u001b[0m\n",
      "\u001b[1;32m<ipython-input-1237-a8c3442477bf>\u001b[0m in \u001b[0;36m<lambda>\u001b[1;34m(x)\u001b[0m\n\u001b[1;32m----> 1\u001b[1;33m \u001b[0mdata_merged\u001b[0m\u001b[1;33m[\u001b[0m\u001b[1;34m'Bathrooms'\u001b[0m\u001b[1;33m]\u001b[0m \u001b[1;33m=\u001b[0m \u001b[0mdata_merged\u001b[0m\u001b[1;33m[\u001b[0m\u001b[1;34m'Bathrooms'\u001b[0m\u001b[1;33m]\u001b[0m\u001b[1;33m.\u001b[0m\u001b[0mapply\u001b[0m\u001b[1;33m(\u001b[0m\u001b[1;32mlambda\u001b[0m \u001b[0mx\u001b[0m\u001b[1;33m:\u001b[0m \u001b[0mx\u001b[0m\u001b[1;33m.\u001b[0m\u001b[0msplit\u001b[0m\u001b[1;33m(\u001b[0m\u001b[1;34m'&'\u001b[0m\u001b[1;33m)\u001b[0m\u001b[1;33m)\u001b[0m\u001b[1;33m\u001b[0m\u001b[1;33m\u001b[0m\u001b[0m\n\u001b[0m",
      "\u001b[1;31mAttributeError\u001b[0m: 'float' object has no attribute 'split'"
     ]
    }
   ],
   "source": [
    "data_merged['Bathrooms'] = data_merged['Bathrooms'].apply(lambda x: x.split('&'))"
   ]
  },
  {
   "cell_type": "code",
   "execution_count": 1238,
   "metadata": {},
   "outputs": [
    {
     "data": {
      "text/plain": [
       "str"
      ]
     },
     "execution_count": 1238,
     "metadata": {},
     "output_type": "execute_result"
    }
   ],
   "source": [
    "type(data_merged['Bathrooms'][1])     ####need to identify not str"
   ]
  },
  {
   "cell_type": "code",
   "execution_count": 1239,
   "metadata": {},
   "outputs": [
    {
     "name": "stdout",
     "output_type": "stream",
     "text": [
      "MLS#         170318789\n",
      "Bathrooms          NaN\n",
      "Name: 14587, dtype: object\n",
      "MLS#         170296008\n",
      "Bathrooms          NaN\n",
      "Name: 14590, dtype: object\n",
      "MLS#         170340976\n",
      "Bathrooms          NaN\n",
      "Name: 14591, dtype: object\n",
      "MLS#         170394127\n",
      "Bathrooms          NaN\n",
      "Name: 14592, dtype: object\n",
      "MLS#         170324757\n",
      "Bathrooms          NaN\n",
      "Name: 14593, dtype: object\n",
      "MLS#         170262389\n",
      "Bathrooms          NaN\n",
      "Name: 14594, dtype: object\n",
      "MLS#         170273381\n",
      "Bathrooms          NaN\n",
      "Name: 20279, dtype: object\n",
      "MLS#         170257507\n",
      "Bathrooms          NaN\n",
      "Name: 29945, dtype: object\n",
      "MLS#         170386295\n",
      "Bathrooms          NaN\n",
      "Name: 30479, dtype: object\n",
      "MLS#         170350695\n",
      "Bathrooms          NaN\n",
      "Name: 34705, dtype: object\n",
      "MLS#         170355886\n",
      "Bathrooms          NaN\n",
      "Name: 37384, dtype: object\n",
      "MLS#         170384384\n",
      "Bathrooms          NaN\n",
      "Name: 42080, dtype: object\n",
      "MLS#         170382922\n",
      "Bathrooms          NaN\n",
      "Name: 42945, dtype: object\n",
      "MLS#         170399407 CO\n",
      "Bathrooms             NaN\n",
      "Name: 42946, dtype: object\n",
      "MLS#         170388550\n",
      "Bathrooms          NaN\n",
      "Name: 42947, dtype: object\n",
      "MLS#         170370044\n",
      "Bathrooms          NaN\n",
      "Name: 43015, dtype: object\n"
     ]
    }
   ],
   "source": [
    "test =data_merged[['MLS#','Bathrooms']]\n",
    "issues = 0\n",
    "issues_mls=[]\n",
    "for i in range(0, len(test)-1):\n",
    "    \n",
    "    if type(test.iloc[i]['Bathrooms']) != str:\n",
    "        issues +=1\n",
    "        print(test.iloc[i])\n",
    "        issues_mls.append(test.iloc[i]['MLS#'])"
   ]
  },
  {
   "cell_type": "code",
   "execution_count": 1240,
   "metadata": {},
   "outputs": [
    {
     "name": "stdout",
     "output_type": "stream",
     "text": [
      "16\n"
     ]
    }
   ],
   "source": [
    "print(issues)"
   ]
  },
  {
   "cell_type": "code",
   "execution_count": 1241,
   "metadata": {},
   "outputs": [
    {
     "name": "stdout",
     "output_type": "stream",
     "text": [
      "         #       MLS# Status Status Change Timestamp Prop Type  \\\n",
      "14587  501  170318789   CLSD                08/10/20        CO   \n",
      "\n",
      "                  List/Closed Price                            Address  \\\n",
      "14587  [LP:, $13,500, CP:, $12,000]  [379, Whitfield St, Unit #CS1036]   \n",
      "\n",
      "           City Acres  Sq Ft Total  ...  Rooms Total Beds Total  Bathrooms  \\\n",
      "14587  Guilford   NaN          578  ...            1          0        NaN   \n",
      "\n",
      "                                Garage/Park Year Built DOM  \\\n",
      "14587   Car/Unassigned Parking, Parking Lot     2012.0   9   \n",
      "\n",
      "                  Listing Agent List Office list_price close_price  \n",
      "14587  Deborah Citelli-Robinson      PEAR51      13500       12000  \n",
      "\n",
      "[1 rows x 22 columns]\n",
      "         #       MLS# Status Status Change Timestamp Prop Type  \\\n",
      "14590  501  170296008   CLSD                08/20/20        CO   \n",
      "\n",
      "                  List/Closed Price                            Address  \\\n",
      "14590  [LP:, $17,900, CP:, $17,900]  [379, Whitfield St, Unit #CS2636]   \n",
      "\n",
      "           City Acres  Sq Ft Total  ...  Rooms Total Beds Total  Bathrooms  \\\n",
      "14590  Guilford   NaN          578  ...            1          0        NaN   \n",
      "\n",
      "                                          Garage/Park Year Built DOM  \\\n",
      "14590   Car/Unassigned Parking, Parking Lot, Security     2012.0  75   \n",
      "\n",
      "                  Listing Agent List Office list_price close_price  \n",
      "14590  Deborah Citelli-Robinson      PEAR51      17900       17900  \n",
      "\n",
      "[1 rows x 22 columns]\n",
      "         #       MLS# Status Status Change Timestamp Prop Type  \\\n",
      "14591  501  170340976   CLSD                11/17/20        CO   \n",
      "\n",
      "                  List/Closed Price                            Address  \\\n",
      "14591  [LP:, $23,900, CP:, $23,000]  [379, Whitfield St, Unit #BS1438]   \n",
      "\n",
      "           City Acres  Sq Ft Total  ...  Rooms Total Beds Total  Bathrooms  \\\n",
      "14591  Guilford   NaN          646  ...            1          0        NaN   \n",
      "\n",
      "                   Garage/Park Year Built DOM             Listing Agent  \\\n",
      "14591   Car/Unassigned Parking     2012.0  22  Deborah Citelli-Robinson   \n",
      "\n",
      "      List Office list_price close_price  \n",
      "14591      PEAR51      23900       23000  \n",
      "\n",
      "[1 rows x 22 columns]\n",
      "         #       MLS# Status Status Change Timestamp Prop Type  \\\n",
      "14592  501  170394127   CLSD                06/12/21        CO   \n",
      "\n",
      "                  List/Closed Price                            Address  \\\n",
      "14592  [LP:, $29,900, CP:, $27,000]  [379, Whitfield St, Unit #CN1746]   \n",
      "\n",
      "           City Acres  Sq Ft Total  ...  Rooms Total Beds Total  Bathrooms  \\\n",
      "14592  Guilford   NaN          776  ...            1          0        NaN   \n",
      "\n",
      "                                 Garage/Park Year Built DOM  \\\n",
      "14592  2 Car/Unassigned Parking, Parking Lot     2012.0  35   \n",
      "\n",
      "                  Listing Agent List Office list_price close_price  \n",
      "14592  Deborah Citelli-Robinson      PEAR51      29900       27000  \n",
      "\n",
      "[1 rows x 22 columns]\n",
      "         #       MLS# Status Status Change Timestamp Prop Type  \\\n",
      "14593  501  170324757   CLSD                10/28/20        CO   \n",
      "\n",
      "                  List/Closed Price                            Address  \\\n",
      "14593  [LP:, $30,000, CP:, $30,000]  [379, Whitfield St, Unit #AN2242]   \n",
      "\n",
      "           City Acres  Sq Ft Total  ...  Rooms Total Beds Total  Bathrooms  \\\n",
      "14593  Guilford   NaN          756  ...            1          0        NaN   \n",
      "\n",
      "       Garage/Park Year Built DOM    Listing Agent List Office list_price  \\\n",
      "14593    Car/Paved     2012.0  65  Rose Ciardiello      RAVE50      30000   \n",
      "\n",
      "      close_price  \n",
      "14593       30000  \n",
      "\n",
      "[1 rows x 22 columns]\n",
      "         #       MLS# Status Status Change Timestamp Prop Type  \\\n",
      "14594  501  170262389   CLSD                08/07/20        CO   \n",
      "\n",
      "                  List/Closed Price                            Address  \\\n",
      "14594  [LP:, $39,999, CP:, $37,000]  [379, Whitfield St, Unit #CN1546]   \n",
      "\n",
      "           City Acres  Sq Ft Total  ...  Rooms Total Beds Total  Bathrooms  \\\n",
      "14594  Guilford   NaN          776  ...            1          0        NaN   \n",
      "\n",
      "                                 Garage/Park Year Built  DOM  \\\n",
      "14594  1 Car/Unassigned Parking, Parking Lot     2012.0  197   \n",
      "\n",
      "                  Listing Agent List Office list_price close_price  \n",
      "14594  Deborah Citelli-Robinson      PEAR51      39999       37000  \n",
      "\n",
      "[1 rows x 22 columns]\n",
      "          #       MLS# Status Status Change Timestamp Prop Type  \\\n",
      "20279  1501  170273381   CLSD                08/31/20        SF   \n",
      "\n",
      "                  List/Closed Price               Address     City Acres  \\\n",
      "20279  [LP:, $35,000, CP:, $30,000]  [349, Hartford Tpke]  Hampton   NaN   \n",
      "\n",
      "       Sq Ft Total  ...  Rooms Total Beds Total  Bathrooms  Garage/Park  \\\n",
      "20279         1546  ...            5          0        NaN    Car/Other   \n",
      "\n",
      "      Year Built  DOM     Listing Agent List Office list_price close_price  \n",
      "20279     1879.0  141  Nicole M Garbutt      BRBR01      35000       30000  \n",
      "\n",
      "[1 rows x 22 columns]\n",
      "          #       MLS# Status Status Change Timestamp Prop Type  \\\n",
      "29945  1501  170257507   CLSD                05/16/21        SF   \n",
      "\n",
      "                    List/Closed Price        Address          City Acres  \\\n",
      "29945  [LP:, $104,900, CP:, $104,900]  [46, Pond Rd]  New Hartford   NaN   \n",
      "\n",
      "       Sq Ft Total  ...  Rooms Total Beds Total  Bathrooms  \\\n",
      "29945         1200  ...            5          3        NaN   \n",
      "\n",
      "                   Garage/Park Year Built  DOM   Listing Agent List Office  \\\n",
      "29945   Car/Off Street Parking     1987.0  456  Valerie Lebiti      BHHS41   \n",
      "\n",
      "      list_price close_price  \n",
      "29945     104900      104900  \n",
      "\n",
      "[1 rows x 22 columns]\n",
      "          #       MLS# Status Status Change Timestamp Prop Type  \\\n",
      "30479  2001  170386295   CLSD                05/07/21        SF   \n",
      "\n",
      "                    List/Closed Price            Address        City Acres  \\\n",
      "30479  [LP:, $194,900, CP:, $141,000]  [281, Pequot Ave]  New London   NaN   \n",
      "\n",
      "       Sq Ft Total  ...  Rooms Total Beds Total  Bathrooms  \\\n",
      "30479         9999  ...            1          0        NaN   \n",
      "\n",
      "                   Garage/Park Year Built DOM   Listing Agent List Office  \\\n",
      "30479   Car/Off Street Parking     1910.0   9  Camille Taylor    ERATYR00   \n",
      "\n",
      "      list_price close_price  \n",
      "30479     194900      141000  \n",
      "\n",
      "[1 rows x 22 columns]\n",
      "          #       MLS# Status Status Change Timestamp Prop Type  \\\n",
      "34705  1501  170350695   CLSD                01/22/21        SF   \n",
      "\n",
      "                  List/Closed Price          Address     City Acres  \\\n",
      "34705  [LP:, $19,900, CP:, $15,000]  [36, Hedge Ave]  Norwich   NaN   \n",
      "\n",
      "       Sq Ft Total  ...  Rooms Total Beds Total  Bathrooms  Garage/Park  \\\n",
      "34705         1784  ...            1          0        NaN  1 Car/Other   \n",
      "\n",
      "      Year Built DOM      Listing Agent List Office list_price close_price  \n",
      "34705     1850.0  35  Leticia Rodriguez      KWGH30      19900       15000  \n",
      "\n",
      "[1 rows x 22 columns]\n",
      "       #       MLS# Status Status Change Timestamp Prop Type  \\\n",
      "37384  1  170355886   CLSD                12/19/20        CO   \n",
      "\n",
      "                  List/Closed Price                           Address  \\\n",
      "37384  [LP:, $12,900, CP:, $12,900]  [28, Fox Hill Garage, Unit #G28]   \n",
      "\n",
      "             City Acres  Sq Ft Total  ...  Rooms Total Beds Total  Bathrooms  \\\n",
      "37384  Ridgefield   NaN          200  ...            1          0        NaN   \n",
      "\n",
      "                 Garage/Park Year Built DOM     Listing Agent List Office  \\\n",
      "37384  1 Car/Detached Garage     1974.0   3  Michael Pavlicin     CBRB102   \n",
      "\n",
      "      list_price close_price  \n",
      "37384      12900       12900  \n",
      "\n",
      "[1 rows x 22 columns]\n",
      "       #       MLS# Status Status Change Timestamp Prop Type  \\\n",
      "42080  1  170384384   CLSD                06/07/21        CO   \n",
      "\n",
      "                  List/Closed Price                     Address      City  \\\n",
      "42080  [LP:, $25,000, CP:, $25,000]  [148, Seaton Rd, Unit #G9]  Stamford   \n",
      "\n",
      "      Acres  Sq Ft Total  ...  Rooms Total Beds Total  Bathrooms  \\\n",
      "42080   NaN          195  ...            1          0        NaN   \n",
      "\n",
      "                    Garage/Park Year Built DOM    Listing Agent List Office  \\\n",
      "42080  1 Car/Unit Garage, Other     1951.0  71  Mei Ling Cheung        3623   \n",
      "\n",
      "      list_price close_price  \n",
      "42080      25000       25000  \n",
      "\n",
      "[1 rows x 22 columns]\n",
      "          #       MLS# Status Status Change Timestamp Prop Type  \\\n",
      "42945  1001  170382922   CLSD                05/10/21        CO   \n",
      "\n",
      "                  List/Closed Price                       Address        City  \\\n",
      "42945  [LP:, $49,000, CP:, $46,500]  [4, Northwest St, Unit #B26]  Stonington   \n",
      "\n",
      "      Acres  Sq Ft Total  ...  Rooms Total Beds Total  Bathrooms  \\\n",
      "42945   NaN           50  ...            1          0        NaN   \n",
      "\n",
      "                   Garage/Park Year Built DOM    Listing Agent List Office  \\\n",
      "42945   Car/Off Street Parking     1983.0  17  Kathy Michalove    SEABRD00   \n",
      "\n",
      "      list_price close_price  \n",
      "42945      49000       46500  \n",
      "\n"
     ]
    },
    {
     "name": "stdout",
     "output_type": "stream",
     "text": [
      "[1 rows x 22 columns]\n",
      "          #          MLS# Status Status Change Timestamp Prop Type  \\\n",
      "42946  1001  170399407 CO   CLSD                06/09/21        CO   \n",
      "\n",
      "                  List/Closed Price                      Address        City  \\\n",
      "42946  [LP:, $49,750, CP:, $48,500]  [4, Northwest St, Unit #B8]  Stonington   \n",
      "\n",
      "      Acres  Sq Ft Total  ...  Rooms Total Beds Total  Bathrooms  \\\n",
      "42946   NaN          100  ...            1          0        NaN   \n",
      "\n",
      "                   Garage/Park Year Built DOM    Listing Agent List Office  \\\n",
      "42946   Car/Off Street Parking     1983.0   1  Kathy Michalove    SEABRD00   \n",
      "\n",
      "      list_price close_price  \n",
      "42946      49750       48500  \n",
      "\n",
      "[1 rows x 22 columns]\n",
      "          #       MLS# Status Status Change Timestamp Prop Type  \\\n",
      "42947  1001  170388550   CLSD                07/22/21        CO   \n",
      "\n",
      "                  List/Closed Price                       Address        City  \\\n",
      "42947  [LP:, $59,000, CP:, $49,000]  [4, Northwest St, Unit #B24]  Stonington   \n",
      "\n",
      "      Acres  Sq Ft Total  ...  Rooms Total Beds Total  Bathrooms  \\\n",
      "42947   NaN           50  ...            1          0        NaN   \n",
      "\n",
      "                                       Garage/Park Year Built DOM  \\\n",
      "42947   Car/Unassigned Parking, Off Street Parking     1983.0  41   \n",
      "\n",
      "         Listing Agent List Office list_price close_price  \n",
      "42947  Kathy Michalove    SEABRD00      59000       49000  \n",
      "\n",
      "[1 rows x 22 columns]\n",
      "          #       MLS# Status Status Change Timestamp Prop Type  \\\n",
      "43015  1001  170370044   CLSD                03/24/21        CO   \n",
      "\n",
      "                  List/Closed Price                 Address       City Acres  \\\n",
      "43015  [LP:, $25,000, CP:, $15,000]  [BS05, Harbourview Pl]  Stratford   NaN   \n",
      "\n",
      "       Sq Ft Total  ...  Rooms Total Beds Total  Bathrooms  \\\n",
      "43015          100  ...            1          0        NaN   \n",
      "\n",
      "                                       Garage/Park Year Built DOM  \\\n",
      "43015   Car/Off Street Parking, Parking Lot, Other     2009.0  50   \n",
      "\n",
      "       Listing Agent List Office list_price close_price  \n",
      "43015      Omar Cruz      CPCT80      25000       15000  \n",
      "\n",
      "[1 rows x 22 columns]\n"
     ]
    }
   ],
   "source": [
    "for i in issues_mls:                                   ####Checking what observations with missing baths looks like\n",
    "    print(data_merged[data_merged['MLS#']==i])"
   ]
  },
  {
   "cell_type": "code",
   "execution_count": 1242,
   "metadata": {},
   "outputs": [],
   "source": [
    "data_merged=data_merged.dropna(subset = ['Bathrooms'])"
   ]
  },
  {
   "cell_type": "code",
   "execution_count": 1248,
   "metadata": {},
   "outputs": [
    {
     "name": "stdout",
     "output_type": "stream",
     "text": [
      "58086\n"
     ]
    }
   ],
   "source": [
    "print(len(data_merged))"
   ]
  },
  {
   "cell_type": "code",
   "execution_count": 1244,
   "metadata": {},
   "outputs": [],
   "source": [
    "data_merged['Bathrooms'] = data_merged['Bathrooms'].apply(lambda x: x.split('&'))"
   ]
  },
  {
   "cell_type": "code",
   "execution_count": 1245,
   "metadata": {},
   "outputs": [
    {
     "data": {
      "text/plain": [
       "0        [3 Full ,  1 Half]\n",
       "1        [5 Full ,  1 Half]\n",
       "2                  [1 Full]\n",
       "3                  [1 Full]\n",
       "4                  [1 Full]\n",
       "                ...        \n",
       "58102    [3 Full ,  1 Half]\n",
       "58103    [2 Full ,  1 Half]\n",
       "58104    [3 Full ,  1 Half]\n",
       "58105    [3 Full ,  1 Half]\n",
       "58106    [2 Full ,  1 Half]\n",
       "Name: Bathrooms, Length: 58086, dtype: object"
      ]
     },
     "execution_count": 1245,
     "metadata": {},
     "output_type": "execute_result"
    }
   ],
   "source": [
    "data_merged['Bathrooms'] "
   ]
  },
  {
   "cell_type": "code",
   "execution_count": 1246,
   "metadata": {},
   "outputs": [
    {
     "data": {
      "text/plain": [
       "True"
      ]
     },
     "execution_count": 1246,
     "metadata": {},
     "output_type": "execute_result"
    }
   ],
   "source": [
    "'Full' in data_merged['Bathrooms'][0][0]"
   ]
  },
  {
   "cell_type": "code",
   "execution_count": 1253,
   "metadata": {},
   "outputs": [
    {
     "ename": "SyntaxError",
     "evalue": "invalid syntax (<ipython-input-1253-ac5eff1fe818>, line 1)",
     "output_type": "error",
     "traceback": [
      "\u001b[1;36m  File \u001b[1;32m\"<ipython-input-1253-ac5eff1fe818>\"\u001b[1;36m, line \u001b[1;32m1\u001b[0m\n\u001b[1;33m    data_merged['Full Bath'] = data_merged['Bathrooms'].apply(lambda x: x[0] if ('Full' in x[0]))\u001b[0m\n\u001b[1;37m                                                                                                ^\u001b[0m\n\u001b[1;31mSyntaxError\u001b[0m\u001b[1;31m:\u001b[0m invalid syntax\n"
     ]
    }
   ],
   "source": [
    "data_merged['Full Bath'] = data_merged['Bathrooms'].apply(lambda x: x[0] if ('Full' in x[0]))"
   ]
  },
  {
   "cell_type": "code",
   "execution_count": 1255,
   "metadata": {},
   "outputs": [
    {
     "data": {
      "text/plain": [
       "True"
      ]
     },
     "execution_count": 1255,
     "metadata": {},
     "output_type": "execute_result"
    }
   ],
   "source": [
    "'full' in '3 full'"
   ]
  },
  {
   "cell_type": "code",
   "execution_count": 1256,
   "metadata": {},
   "outputs": [
    {
     "data": {
      "text/plain": [
       "['tttttt']"
      ]
     },
     "execution_count": 1256,
     "metadata": {},
     "output_type": "execute_result"
    }
   ],
   "source": [
    "['tttttt']"
   ]
  },
  {
   "cell_type": "code",
   "execution_count": 1257,
   "metadata": {},
   "outputs": [
    {
     "data": {
      "text/plain": [
       "2"
      ]
     },
     "execution_count": 1257,
     "metadata": {},
     "output_type": "execute_result"
    }
   ],
   "source": [
    "len(['tttt','tttttt'])"
   ]
  },
  {
   "cell_type": "code",
   "execution_count": 1259,
   "metadata": {},
   "outputs": [
    {
     "data": {
      "text/plain": [
       "2"
      ]
     },
     "execution_count": 1259,
     "metadata": {},
     "output_type": "execute_result"
    }
   ],
   "source": [
    "len(data_merged['Bathrooms'][0])"
   ]
  },
  {
   "cell_type": "markdown",
   "metadata": {},
   "source": [
    "-------------------------------------------------------------------------------------"
   ]
  },
  {
   "cell_type": "code",
   "execution_count": null,
   "metadata": {},
   "outputs": [],
   "source": [
    "#####Garage / park"
   ]
  },
  {
   "cell_type": "markdown",
   "metadata": {},
   "source": [
    "-------------------------------------------------------------------------------"
   ]
  },
  {
   "cell_type": "code",
   "execution_count": null,
   "metadata": {},
   "outputs": [],
   "source": [
    "##### Year Built"
   ]
  },
  {
   "cell_type": "code",
   "execution_count": 1260,
   "metadata": {},
   "outputs": [
    {
     "data": {
      "text/plain": [
       "count    58082.000000\n",
       "mean      1964.645587\n",
       "std         39.046053\n",
       "min          0.000000\n",
       "25%       1951.000000\n",
       "50%       1969.000000\n",
       "75%       1988.000000\n",
       "max       2021.000000\n",
       "Name: Year Built, dtype: float64"
      ]
     },
     "execution_count": 1260,
     "metadata": {},
     "output_type": "execute_result"
    }
   ],
   "source": [
    "data_merged['Year Built'].describe()"
   ]
  },
  {
   "cell_type": "code",
   "execution_count": 1261,
   "metadata": {},
   "outputs": [
    {
     "data": {
      "text/html": [
       "<div>\n",
       "<style scoped>\n",
       "    .dataframe tbody tr th:only-of-type {\n",
       "        vertical-align: middle;\n",
       "    }\n",
       "\n",
       "    .dataframe tbody tr th {\n",
       "        vertical-align: top;\n",
       "    }\n",
       "\n",
       "    .dataframe thead th {\n",
       "        text-align: right;\n",
       "    }\n",
       "</style>\n",
       "<table border=\"1\" class=\"dataframe\">\n",
       "  <thead>\n",
       "    <tr style=\"text-align: right;\">\n",
       "      <th></th>\n",
       "      <th>#</th>\n",
       "      <th>MLS#</th>\n",
       "      <th>Status</th>\n",
       "      <th>Status Change Timestamp</th>\n",
       "      <th>Prop Type</th>\n",
       "      <th>List/Closed Price</th>\n",
       "      <th>Address</th>\n",
       "      <th>City</th>\n",
       "      <th>Acres</th>\n",
       "      <th>Sq Ft Total</th>\n",
       "      <th>...</th>\n",
       "      <th>Rooms Total</th>\n",
       "      <th>Beds Total</th>\n",
       "      <th>Bathrooms</th>\n",
       "      <th>Garage/Park</th>\n",
       "      <th>Year Built</th>\n",
       "      <th>DOM</th>\n",
       "      <th>Listing Agent</th>\n",
       "      <th>List Office</th>\n",
       "      <th>list_price</th>\n",
       "      <th>close_price</th>\n",
       "    </tr>\n",
       "  </thead>\n",
       "  <tbody>\n",
       "    <tr>\n",
       "      <th>1285</th>\n",
       "      <td>1</td>\n",
       "      <td>N353220</td>\n",
       "      <td>CLSD</td>\n",
       "      <td>12/22/20</td>\n",
       "      <td>SF</td>\n",
       "      <td>[LP:, $369,900, CP:, $400,000]</td>\n",
       "      <td>[202, Pole Hill Rd]</td>\n",
       "      <td>Bethany</td>\n",
       "      <td>NaN</td>\n",
       "      <td>2328</td>\n",
       "      <td>...</td>\n",
       "      <td>8</td>\n",
       "      <td>4</td>\n",
       "      <td>[2 Full ,  1 Half]</td>\n",
       "      <td>2 Car/Under House Garage</td>\n",
       "      <td>0.0</td>\n",
       "      <td>1,945</td>\n",
       "      <td>Thomas J Cavaliere</td>\n",
       "      <td>CBRB34</td>\n",
       "      <td>369900</td>\n",
       "      <td>400000</td>\n",
       "    </tr>\n",
       "  </tbody>\n",
       "</table>\n",
       "<p>1 rows × 22 columns</p>\n",
       "</div>"
      ],
      "text/plain": [
       "      #     MLS# Status Status Change Timestamp Prop Type  \\\n",
       "1285  1  N353220   CLSD                12/22/20        SF   \n",
       "\n",
       "                   List/Closed Price              Address     City Acres  \\\n",
       "1285  [LP:, $369,900, CP:, $400,000]  [202, Pole Hill Rd]  Bethany   NaN   \n",
       "\n",
       "      Sq Ft Total  ...  Rooms Total Beds Total           Bathrooms  \\\n",
       "1285         2328  ...            8          4  [2 Full ,  1 Half]   \n",
       "\n",
       "                   Garage/Park Year Built    DOM       Listing Agent  \\\n",
       "1285  2 Car/Under House Garage        0.0  1,945  Thomas J Cavaliere   \n",
       "\n",
       "     List Office list_price close_price  \n",
       "1285      CBRB34     369900      400000  \n",
       "\n",
       "[1 rows x 22 columns]"
      ]
     },
     "execution_count": 1261,
     "metadata": {},
     "output_type": "execute_result"
    }
   ],
   "source": [
    "data_merged[data_merged['Year Built'] == 0]"
   ]
  },
  {
   "cell_type": "code",
   "execution_count": null,
   "metadata": {},
   "outputs": [],
   "source": []
  }
 ],
 "metadata": {
  "kernelspec": {
   "display_name": "Python 3",
   "language": "python",
   "name": "python3"
  },
  "language_info": {
   "codemirror_mode": {
    "name": "ipython",
    "version": 3
   },
   "file_extension": ".py",
   "mimetype": "text/x-python",
   "name": "python",
   "nbconvert_exporter": "python",
   "pygments_lexer": "ipython3",
   "version": "3.8.5"
  }
 },
 "nbformat": 4,
 "nbformat_minor": 4
}
