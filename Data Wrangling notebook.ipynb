{
 "cells": [
  {
   "cell_type": "code",
   "execution_count": 1,
   "metadata": {},
   "outputs": [],
   "source": [
    "import pandas as pd"
   ]
  },
  {
   "cell_type": "code",
   "execution_count": 10,
   "metadata": {},
   "outputs": [],
   "source": [
    "data_merged = pd.DataFrame()"
   ]
  },
  {
   "cell_type": "code",
   "execution_count": 26,
   "metadata": {},
   "outputs": [
    {
     "name": "stdout",
     "output_type": "stream",
     "text": [
      "           #       Acres  Rooms Total  Beds Total   Year Built         DOM\n",
      "count  500.0  389.000000    500.00000  500.000000   500.000000  500.000000\n",
      "mean     1.0    0.636067      6.44200    2.932000  1961.458000   18.970000\n",
      "std      0.0    0.843020      1.85189    0.872295    31.202555   33.065871\n",
      "min      1.0    0.000000      1.00000    0.000000  1760.000000    0.000000\n",
      "25%      1.0    0.200000      5.00000    2.000000  1950.000000    3.000000\n",
      "50%      1.0    0.330000      6.00000    3.000000  1965.000000    6.000000\n",
      "75%      1.0    0.700000      7.00000    3.000000  1983.000000   30.000000\n",
      "max      1.0   10.000000     13.00000    6.000000  2021.000000  596.000000\n",
      "            #       Acres  Rooms Total   Beds Total   Year Built          DOM\n",
      "count  1000.0  769.000000  1000.000000  1000.000000  1000.000000  1000.000000\n",
      "mean      1.0    0.639467     6.393000     2.920000  1963.523000    20.130000\n",
      "std       0.0    0.915306     1.916305     0.893531    30.955609    28.719713\n",
      "min       1.0    0.000000     1.000000     0.000000  1760.000000     0.000000\n",
      "25%       1.0    0.180000     5.000000     2.000000  1950.000000     3.000000\n",
      "50%       1.0    0.320000     6.000000     3.000000  1967.000000     7.000000\n",
      "75%       1.0    0.730000     7.000000     3.000000  1986.000000    32.000000\n",
      "max       1.0   10.470000    18.000000     6.000000  2021.000000   596.000000\n",
      "            #        Acres  Rooms Total   Beds Total   Year Built          DOM\n",
      "count  1500.0  1162.000000  1500.000000  1500.000000  1500.000000  1500.000000\n",
      "mean      1.0     0.644862     6.365333     2.938000  1963.757333    20.433333\n",
      "std       0.0     0.962652     1.901475     0.890703    30.207595    27.097880\n",
      "min       1.0     0.000000     1.000000     0.000000  1760.000000   -22.000000\n",
      "25%       1.0     0.180000     5.000000     2.000000  1950.000000     3.000000\n",
      "50%       1.0     0.320000     6.000000     3.000000  1967.000000     8.000000\n",
      "75%       1.0     0.730000     7.000000     3.000000  1986.000000    33.000000\n",
      "max       1.0    11.790000    18.000000     6.000000  2021.000000   596.000000\n",
      "            #        Acres  Rooms Total   Beds Total  Year Built         DOM\n",
      "count  2000.0  1530.000000  2000.000000  2000.000000  2000.00000  2000.00000\n",
      "mean      1.0     0.629556     6.364500     2.937500  1963.59150    21.62000\n",
      "std       0.0     0.945276     1.900644     0.905541    30.60155    27.02193\n",
      "min       1.0     0.000000     1.000000     0.000000  1760.00000   -22.00000\n",
      "25%       1.0     0.180000     5.000000     2.000000  1950.00000     4.00000\n",
      "50%       1.0     0.320000     6.000000     3.000000  1967.00000     9.00000\n",
      "75%       1.0     0.700000     7.000000     3.000000  1986.00000    35.00000\n",
      "max       1.0    11.790000    18.000000     7.000000  2021.00000   596.00000\n",
      "            #        Acres  Rooms Total   Beds Total   Year Built          DOM\n",
      "count  2500.0  1900.000000   2500.00000  2500.000000  2500.000000  2500.000000\n",
      "mean      1.0     0.642758      6.38320     2.930000  1963.709200    22.098800\n",
      "std       0.0     1.418770      1.91024     0.905001    30.282117    27.209535\n",
      "min       1.0     0.000000      1.00000     0.000000  1760.000000   -22.000000\n",
      "25%       1.0     0.180000      5.00000     2.000000  1950.000000     4.000000\n",
      "50%       1.0     0.310000      6.00000     3.000000  1967.000000     9.000000\n",
      "75%       1.0     0.700000      7.00000     3.000000  1986.000000    35.000000\n",
      "max       1.0    48.540000     18.00000     7.000000  2021.000000   596.000000\n",
      "            #        Acres  Rooms Total   Beds Total   Year Built          DOM\n",
      "count  3000.0  2287.000000  3000.000000  3000.000000  3000.000000  3000.000000\n",
      "mean      1.0     0.642864     6.377333     2.934667  1963.915333    22.755000\n",
      "std       0.0     1.339263     1.895649     0.902221    30.451863    27.301272\n",
      "min       1.0     0.000000     1.000000     0.000000  1760.000000   -22.000000\n",
      "25%       1.0     0.180000     5.000000     2.000000  1950.000000     4.000000\n",
      "50%       1.0     0.310000     6.000000     3.000000  1967.000000    10.000000\n",
      "75%       1.0     0.700000     7.000000     3.000000  1986.000000    36.000000\n",
      "max       1.0    48.540000    18.000000     9.000000  2021.000000   596.000000\n",
      "            #        Acres  Rooms Total   Beds Total   Year Built          DOM\n",
      "count  3500.0  2666.000000  3500.000000  3500.000000  3500.000000  3500.000000\n",
      "mean      1.0     0.629865     6.350857     2.931714  1963.669429    24.528000\n",
      "std       0.0     1.282635     1.879717     0.900395    30.925371    28.657791\n",
      "min       1.0     0.000000     1.000000     0.000000  1760.000000   -22.000000\n",
      "25%       1.0     0.180000     5.000000     2.000000  1950.000000     4.000000\n",
      "50%       1.0     0.300000     6.000000     3.000000  1967.000000    11.000000\n",
      "75%       1.0     0.690000     7.000000     3.000000  1986.000000    40.000000\n",
      "max       1.0    48.540000    18.000000     9.000000  2021.000000   596.000000\n",
      "            #        Acres  Rooms Total   Beds Total   Year Built          DOM\n",
      "count  4000.0  3054.000000  4000.000000  4000.000000  4000.000000  4000.000000\n",
      "mean      1.0     0.623949     6.336000     2.930000  1963.605500    26.255000\n",
      "std       0.0     1.224314     1.860906     0.896828    30.684471    30.060978\n",
      "min       1.0     0.000000     1.000000     0.000000  1760.000000   -22.000000\n",
      "25%       1.0     0.180000     5.000000     2.000000  1950.000000     4.000000\n",
      "50%       1.0     0.300000     6.000000     3.000000  1967.000000    13.000000\n",
      "75%       1.0     0.690000     7.000000     3.000000  1986.000000    44.000000\n",
      "max       1.0    48.540000    18.000000     9.000000  2021.000000   596.000000\n",
      "            #        Acres  Rooms Total   Beds Total   Year Built          DOM\n",
      "count  4500.0  3435.000000  4500.000000  4500.000000  4500.000000  4500.000000\n",
      "mean      1.0     0.652978     6.343333     2.937556  1963.393556    27.945333\n",
      "std       0.0     1.958449     1.869049     0.901883    31.357726    31.691432\n",
      "min       1.0     0.000000     1.000000     0.000000  1700.000000   -22.000000\n",
      "25%       1.0     0.180000     5.000000     2.000000  1950.000000     4.000000\n",
      "50%       1.0     0.310000     6.000000     3.000000  1967.000000    14.000000\n",
      "75%       1.0     0.690000     7.000000     3.000000  1986.000000    46.000000\n",
      "max       1.0    90.880000    18.000000     9.000000  2021.000000   596.000000\n",
      "            #        Acres  Rooms Total   Beds Total   Year Built          DOM\n",
      "count  5000.0  3817.000000  5000.000000  5000.000000  5000.000000  5000.000000\n",
      "mean      1.0     0.647349     6.317600     2.929400  1963.236800    26.471400\n",
      "std       0.0     1.909255     1.854027     0.901431    31.144591    30.804898\n",
      "min       1.0     0.000000     1.000000     0.000000  1700.000000   -22.000000\n",
      "25%       1.0     0.180000     5.000000     2.000000  1950.000000     4.000000\n",
      "50%       1.0     0.310000     6.000000     3.000000  1967.000000    12.000000\n",
      "75%       1.0     0.680000     7.000000     3.000000  1986.000000    43.000000\n",
      "max       1.0    90.880000    18.000000     9.000000  2021.000000   596.000000\n"
     ]
    }
   ],
   "source": [
    "for i in range(1,11):\n",
    "    \n",
    "    filename = 'C:/Users/kyu_k/OneDrive/Desktop/ds/Spring board DS Career track/Capstone 2/data/2/Agent Single Line (' + str(i) + ').csv'\n",
    "    dataframe = pd.read_csv(filename)\n",
    "    \n",
    "    if i == 1:\n",
    "        data_merged = dataframe\n",
    "        print(data_merged.describe())\n",
    "    else:\n",
    "        data_merged = data_merged.append(dataframe)\n",
    "        print(data_merged.describe())"
   ]
  },
  {
   "cell_type": "code",
   "execution_count": 27,
   "metadata": {},
   "outputs": [
    {
     "name": "stdout",
     "output_type": "stream",
     "text": [
      "(5000, 21)\n"
     ]
    }
   ],
   "source": [
    "print(data_merged.shape)"
   ]
  },
  {
   "cell_type": "code",
   "execution_count": 28,
   "metadata": {},
   "outputs": [
    {
     "name": "stdout",
     "output_type": "stream",
     "text": [
      "   #       MLS# Status Status Change Timestamp Prop Type  \\\n",
      "0  1  170391220   CLSD                07/07/21        CP   \n",
      "1  1  170390981   CLSD                07/03/21        CP   \n",
      "2  1  170390572   CLSD                06/21/21        CP   \n",
      "3  1  170393098   CLSD                06/30/21        CO   \n",
      "4  1  170389223   CLSD                06/01/21        CO   \n",
      "\n",
      "           List/Closed Price                      Address Unnamed: 7  \\\n",
      "0  LP: $139,900 CP: $140,700  86 Centerbrook Rd, Unit #86              \n",
      "1  LP: $169,000 CP: $169,000     190 Wooster St, Unit #50              \n",
      "2    LP: $59,900 CP: $55,000  41 Jones Hill Rd, Unit #106              \n",
      "3  LP: $174,900 CP: $176,000     33 Brockton Ct, Unit #33              \n",
      "4  LP: $159,900 CP: $155,000     25 Florence Rd, Unit #79              \n",
      "\n",
      "           City  Acres  ... Sq Ft Est Heated Above Grade  \\\n",
      "0        Hamden    NaN  ...                        1,050   \n",
      "1     New Haven    NaN  ...                        1,100   \n",
      "2    West Haven    NaN  ...                          800   \n",
      "3  Beacon Falls    NaN  ...                        1,072   \n",
      "4      Branford    NaN  ...                          950   \n",
      "\n",
      "     Style or Rent Type Rooms Total  Beds Total        Bathrooms  \\\n",
      "0             Townhouse           5           2  1 Full & 1 Half   \n",
      "1  Townhouse, Row House           7           3  1 Full & 1 Half   \n",
      "2                 Ranch           1           0           1 Full   \n",
      "3             Townhouse           4           2  1 Full & 1 Half   \n",
      "4             Townhouse           4           1           1 Full   \n",
      "\n",
      "                                         Garage/Park Year Built  DOM  \\\n",
      "0                               Car/Assigned Parking       1967    6   \n",
      "1  1 Car/Assigned Parking, Off Street Parking, Pa...       1964    3   \n",
      "2         Car/Paved, Off Street Parking, Parking Lot       1967    4   \n",
      "3    Car/Paved, Assigned Parking, Off Street Parking       1982   19   \n",
      "4                           1 Car/Under House Garage       1991    3   \n",
      "\n",
      "     Listing Agent List Office  \n",
      "0   Dave S Candido      PRCZ30  \n",
      "1  Cheryl Szczarba      SEAB30  \n",
      "2     John F Jaser      WSRR30  \n",
      "3     Rick Settani      SHWC22  \n",
      "4     Susan Turner      RAVE56  \n",
      "\n",
      "[5 rows x 21 columns]\n"
     ]
    }
   ],
   "source": [
    "print(data_merged.head())"
   ]
  },
  {
   "cell_type": "code",
   "execution_count": 29,
   "metadata": {},
   "outputs": [
    {
     "name": "stdout",
     "output_type": "stream",
     "text": [
      "<class 'pandas.core.frame.DataFrame'>\n",
      "Int64Index: 5000 entries, 0 to 499\n",
      "Data columns (total 21 columns):\n",
      " #   Column                        Non-Null Count  Dtype  \n",
      "---  ------                        --------------  -----  \n",
      " 0   #                             5000 non-null   int64  \n",
      " 1   MLS#                          5000 non-null   object \n",
      " 2   Status                        5000 non-null   object \n",
      " 3   Status Change Timestamp       5000 non-null   object \n",
      " 4   Prop Type                     5000 non-null   object \n",
      " 5   List/Closed Price             5000 non-null   object \n",
      " 6   Address                       5000 non-null   object \n",
      " 7   Unnamed: 7                    5000 non-null   object \n",
      " 8   City                          5000 non-null   object \n",
      " 9   Acres                         3817 non-null   float64\n",
      " 10  Sq Ft Total                   5000 non-null   object \n",
      " 11  Sq Ft Est Heated Above Grade  5000 non-null   object \n",
      " 12  Style or Rent Type            5000 non-null   object \n",
      " 13  Rooms Total                   5000 non-null   int64  \n",
      " 14  Beds Total                    5000 non-null   int64  \n",
      " 15  Bathrooms                     4999 non-null   object \n",
      " 16  Garage/Park                   5000 non-null   object \n",
      " 17  Year Built                    5000 non-null   int64  \n",
      " 18  DOM                           5000 non-null   int64  \n",
      " 19  Listing Agent                 5000 non-null   object \n",
      " 20  List Office                   5000 non-null   object \n",
      "dtypes: float64(1), int64(5), object(15)\n",
      "memory usage: 859.4+ KB\n",
      "None\n"
     ]
    }
   ],
   "source": [
    "print(data_merged.info())"
   ]
  },
  {
   "cell_type": "code",
   "execution_count": null,
   "metadata": {},
   "outputs": [],
   "source": []
  }
 ],
 "metadata": {
  "kernelspec": {
   "display_name": "Python 3",
   "language": "python",
   "name": "python3"
  },
  "language_info": {
   "codemirror_mode": {
    "name": "ipython",
    "version": 3
   },
   "file_extension": ".py",
   "mimetype": "text/x-python",
   "name": "python",
   "nbconvert_exporter": "python",
   "pygments_lexer": "ipython3",
   "version": "3.8.5"
  }
 },
 "nbformat": 4,
 "nbformat_minor": 4
}
