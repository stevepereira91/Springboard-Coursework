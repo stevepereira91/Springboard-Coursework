{
 "cells": [
  {
   "cell_type": "code",
   "execution_count": 191,
   "metadata": {},
   "outputs": [],
   "source": [
    "import pandas as pd\n",
    "import numpy as np"
   ]
  },
  {
   "cell_type": "code",
   "execution_count": 192,
   "metadata": {},
   "outputs": [
    {
     "data": {
      "text/plain": [
       "'C:\\\\Users\\\\kyu_k\\\\OneDrive\\\\Desktop\\\\ds\\\\Spring board DS Career track\\\\Capstonetwo\\\\Untitled Folder'"
      ]
     },
     "execution_count": 192,
     "metadata": {},
     "output_type": "execute_result"
    }
   ],
   "source": [
    "pwd"
   ]
  },
  {
   "cell_type": "code",
   "execution_count": 196,
   "metadata": {},
   "outputs": [],
   "source": [
    "data_merged = pd.DataFrame()\n"
   ]
  },
  {
   "cell_type": "code",
   "execution_count": 197,
   "metadata": {},
   "outputs": [],
   "source": [
    "#C:/Users/kyu_k/OneDrive/Desktop/ds/Spring board DS Career track/Capstone 2"
   ]
  },
  {
   "cell_type": "code",
   "execution_count": 198,
   "metadata": {},
   "outputs": [
    {
     "name": "stdout",
     "output_type": "stream",
     "text": [
      "C:/Users/kyu_k/OneDrive/Desktop/ds/Spring board DS Career track/Capstonetwo/data/Agent Single Line (1).csv\n",
      "C:/Users/kyu_k/OneDrive/Desktop/ds/Spring board DS Career track/Capstonetwo/data/Agent Single Line (2).csv\n",
      "C:/Users/kyu_k/OneDrive/Desktop/ds/Spring board DS Career track/Capstonetwo/data/Agent Single Line (3).csv\n",
      "C:/Users/kyu_k/OneDrive/Desktop/ds/Spring board DS Career track/Capstonetwo/data/Agent Single Line (4).csv\n",
      "C:/Users/kyu_k/OneDrive/Desktop/ds/Spring board DS Career track/Capstonetwo/data/Agent Single Line (5).csv\n",
      "C:/Users/kyu_k/OneDrive/Desktop/ds/Spring board DS Career track/Capstonetwo/data/Agent Single Line (6).csv\n",
      "C:/Users/kyu_k/OneDrive/Desktop/ds/Spring board DS Career track/Capstonetwo/data/Agent Single Line (7).csv\n",
      "C:/Users/kyu_k/OneDrive/Desktop/ds/Spring board DS Career track/Capstonetwo/data/Agent Single Line (8).csv\n",
      "C:/Users/kyu_k/OneDrive/Desktop/ds/Spring board DS Career track/Capstonetwo/data/Agent Single Line (9).csv\n",
      "C:/Users/kyu_k/OneDrive/Desktop/ds/Spring board DS Career track/Capstonetwo/data/Agent Single Line (10).csv\n",
      "C:/Users/kyu_k/OneDrive/Desktop/ds/Spring board DS Career track/Capstonetwo/data/Agent Single Line (11).csv\n",
      "C:/Users/kyu_k/OneDrive/Desktop/ds/Spring board DS Career track/Capstonetwo/data/Agent Single Line (12).csv\n",
      "C:/Users/kyu_k/OneDrive/Desktop/ds/Spring board DS Career track/Capstonetwo/data/Agent Single Line (13).csv\n",
      "C:/Users/kyu_k/OneDrive/Desktop/ds/Spring board DS Career track/Capstonetwo/data/Agent Single Line (14).csv\n",
      "C:/Users/kyu_k/OneDrive/Desktop/ds/Spring board DS Career track/Capstonetwo/data/Agent Single Line (15).csv\n",
      "C:/Users/kyu_k/OneDrive/Desktop/ds/Spring board DS Career track/Capstonetwo/data/Agent Single Line (16).csv\n",
      "C:/Users/kyu_k/OneDrive/Desktop/ds/Spring board DS Career track/Capstonetwo/data/Agent Single Line (17).csv\n",
      "C:/Users/kyu_k/OneDrive/Desktop/ds/Spring board DS Career track/Capstonetwo/data/Agent Single Line (18).csv\n",
      "C:/Users/kyu_k/OneDrive/Desktop/ds/Spring board DS Career track/Capstonetwo/data/Agent Single Line (19).csv\n",
      "C:/Users/kyu_k/OneDrive/Desktop/ds/Spring board DS Career track/Capstonetwo/data/Agent Single Line (20).csv\n",
      "C:/Users/kyu_k/OneDrive/Desktop/ds/Spring board DS Career track/Capstonetwo/data/Agent Single Line (21).csv\n",
      "C:/Users/kyu_k/OneDrive/Desktop/ds/Spring board DS Career track/Capstonetwo/data/Agent Single Line (22).csv\n",
      "C:/Users/kyu_k/OneDrive/Desktop/ds/Spring board DS Career track/Capstonetwo/data/Agent Single Line (23).csv\n",
      "C:/Users/kyu_k/OneDrive/Desktop/ds/Spring board DS Career track/Capstonetwo/data/Agent Single Line (24).csv\n",
      "C:/Users/kyu_k/OneDrive/Desktop/ds/Spring board DS Career track/Capstonetwo/data/Agent Single Line (25).csv\n",
      "C:/Users/kyu_k/OneDrive/Desktop/ds/Spring board DS Career track/Capstonetwo/data/Agent Single Line (26).csv\n",
      "C:/Users/kyu_k/OneDrive/Desktop/ds/Spring board DS Career track/Capstonetwo/data/Agent Single Line (27).csv\n",
      "C:/Users/kyu_k/OneDrive/Desktop/ds/Spring board DS Career track/Capstonetwo/data/Agent Single Line (28).csv\n",
      "C:/Users/kyu_k/OneDrive/Desktop/ds/Spring board DS Career track/Capstonetwo/data/Agent Single Line (29).csv\n",
      "C:/Users/kyu_k/OneDrive/Desktop/ds/Spring board DS Career track/Capstonetwo/data/Agent Single Line (30).csv\n",
      "C:/Users/kyu_k/OneDrive/Desktop/ds/Spring board DS Career track/Capstonetwo/data/Agent Single Line (31).csv\n",
      "C:/Users/kyu_k/OneDrive/Desktop/ds/Spring board DS Career track/Capstonetwo/data/Agent Single Line (32).csv\n",
      "C:/Users/kyu_k/OneDrive/Desktop/ds/Spring board DS Career track/Capstonetwo/data/Agent Single Line (33).csv\n",
      "C:/Users/kyu_k/OneDrive/Desktop/ds/Spring board DS Career track/Capstonetwo/data/Agent Single Line (34).csv\n",
      "C:/Users/kyu_k/OneDrive/Desktop/ds/Spring board DS Career track/Capstonetwo/data/Agent Single Line (35).csv\n",
      "C:/Users/kyu_k/OneDrive/Desktop/ds/Spring board DS Career track/Capstonetwo/data/Agent Single Line (36).csv\n",
      "C:/Users/kyu_k/OneDrive/Desktop/ds/Spring board DS Career track/Capstonetwo/data/Agent Single Line (37).csv\n",
      "C:/Users/kyu_k/OneDrive/Desktop/ds/Spring board DS Career track/Capstonetwo/data/Agent Single Line (38).csv\n",
      "C:/Users/kyu_k/OneDrive/Desktop/ds/Spring board DS Career track/Capstonetwo/data/Agent Single Line (39).csv\n",
      "C:/Users/kyu_k/OneDrive/Desktop/ds/Spring board DS Career track/Capstonetwo/data/Agent Single Line (40).csv\n",
      "C:/Users/kyu_k/OneDrive/Desktop/ds/Spring board DS Career track/Capstonetwo/data/Agent Single Line (41).csv\n",
      "C:/Users/kyu_k/OneDrive/Desktop/ds/Spring board DS Career track/Capstonetwo/data/Agent Single Line (42).csv\n",
      "C:/Users/kyu_k/OneDrive/Desktop/ds/Spring board DS Career track/Capstonetwo/data/Agent Single Line (43).csv\n",
      "C:/Users/kyu_k/OneDrive/Desktop/ds/Spring board DS Career track/Capstonetwo/data/Agent Single Line (44).csv\n",
      "C:/Users/kyu_k/OneDrive/Desktop/ds/Spring board DS Career track/Capstonetwo/data/Agent Single Line (45).csv\n",
      "C:/Users/kyu_k/OneDrive/Desktop/ds/Spring board DS Career track/Capstonetwo/data/Agent Single Line (46).csv\n",
      "C:/Users/kyu_k/OneDrive/Desktop/ds/Spring board DS Career track/Capstonetwo/data/Agent Single Line (47).csv\n",
      "C:/Users/kyu_k/OneDrive/Desktop/ds/Spring board DS Career track/Capstonetwo/data/Agent Single Line (48).csv\n",
      "C:/Users/kyu_k/OneDrive/Desktop/ds/Spring board DS Career track/Capstonetwo/data/Agent Single Line (49).csv\n",
      "C:/Users/kyu_k/OneDrive/Desktop/ds/Spring board DS Career track/Capstonetwo/data/Agent Single Line (50).csv\n",
      "C:/Users/kyu_k/OneDrive/Desktop/ds/Spring board DS Career track/Capstonetwo/data/Agent Single Line (51).csv\n",
      "C:/Users/kyu_k/OneDrive/Desktop/ds/Spring board DS Career track/Capstonetwo/data/Agent Single Line (52).csv\n",
      "C:/Users/kyu_k/OneDrive/Desktop/ds/Spring board DS Career track/Capstonetwo/data/Agent Single Line (53).csv\n",
      "C:/Users/kyu_k/OneDrive/Desktop/ds/Spring board DS Career track/Capstonetwo/data/Agent Single Line (54).csv\n",
      "C:/Users/kyu_k/OneDrive/Desktop/ds/Spring board DS Career track/Capstonetwo/data/Agent Single Line (55).csv\n",
      "C:/Users/kyu_k/OneDrive/Desktop/ds/Spring board DS Career track/Capstonetwo/data/Agent Single Line (56).csv\n",
      "C:/Users/kyu_k/OneDrive/Desktop/ds/Spring board DS Career track/Capstonetwo/data/Agent Single Line (57).csv\n",
      "C:/Users/kyu_k/OneDrive/Desktop/ds/Spring board DS Career track/Capstonetwo/data/Agent Single Line (58).csv\n",
      "C:/Users/kyu_k/OneDrive/Desktop/ds/Spring board DS Career track/Capstonetwo/data/Agent Single Line (59).csv\n",
      "C:/Users/kyu_k/OneDrive/Desktop/ds/Spring board DS Career track/Capstonetwo/data/Agent Single Line (60).csv\n",
      "C:/Users/kyu_k/OneDrive/Desktop/ds/Spring board DS Career track/Capstonetwo/data/Agent Single Line (61).csv\n",
      "C:/Users/kyu_k/OneDrive/Desktop/ds/Spring board DS Career track/Capstonetwo/data/Agent Single Line (62).csv\n",
      "C:/Users/kyu_k/OneDrive/Desktop/ds/Spring board DS Career track/Capstonetwo/data/Agent Single Line (63).csv\n",
      "C:/Users/kyu_k/OneDrive/Desktop/ds/Spring board DS Career track/Capstonetwo/data/Agent Single Line (64).csv\n",
      "C:/Users/kyu_k/OneDrive/Desktop/ds/Spring board DS Career track/Capstonetwo/data/Agent Single Line (65).csv\n",
      "C:/Users/kyu_k/OneDrive/Desktop/ds/Spring board DS Career track/Capstonetwo/data/Agent Single Line (66).csv\n",
      "C:/Users/kyu_k/OneDrive/Desktop/ds/Spring board DS Career track/Capstonetwo/data/Agent Single Line (67).csv\n",
      "C:/Users/kyu_k/OneDrive/Desktop/ds/Spring board DS Career track/Capstonetwo/data/Agent Single Line (68).csv\n"
     ]
    }
   ],
   "source": [
    "for i in range(1,69):\n",
    "    \n",
    "    filename = 'C:/Users/kyu_k/OneDrive/Desktop/ds/Spring board DS Career track/Capstonetwo/data/Agent Single Line (' + str(i) + ').csv'\n",
    "    dataframe = pd.read_csv(filename)\n",
    "    print(filename)\n",
    "    \n",
    "    if i == 1:\n",
    "        data_merged = dataframe\n",
    "        \n",
    "        \n",
    "    else:\n",
    "        data_merged = data_merged.append(dataframe)\n",
    "        \n",
    "        \n",
    "   "
   ]
  },
  {
   "cell_type": "code",
   "execution_count": 199,
   "metadata": {},
   "outputs": [],
   "source": [
    "data_merged.reset_index(inplace=True,drop = True)"
   ]
  },
  {
   "cell_type": "code",
   "execution_count": 200,
   "metadata": {},
   "outputs": [
    {
     "name": "stdout",
     "output_type": "stream",
     "text": [
      "(58107, 21)\n"
     ]
    }
   ],
   "source": [
    "print(data_merged.shape)"
   ]
  },
  {
   "cell_type": "code",
   "execution_count": 201,
   "metadata": {},
   "outputs": [
    {
     "name": "stdout",
     "output_type": "stream",
     "text": [
      "   #       MLS# Status Status Change Timestamp Prop Type  \\\n",
      "0  1  170323774   CLSD                09/13/20        SF   \n",
      "1  1  170366202   CLSD                03/18/21        SF   \n",
      "2  1  170378716   CLSD                05/14/21        SF   \n",
      "3  1  170305413   CLSD                03/10/21        SF   \n",
      "4  1  170365013   CLSD                04/22/21        SF   \n",
      "\n",
      "               List/Closed Price           Address Unnamed: 7     City  Acres  \\\n",
      "0  LP: $3,750,000 CP: $3,750,000      213 Separate              Amenia  21.42   \n",
      "1  LP: $7,950,000 CP: $6,800,000  292 Wood Duck Rd              Amenia   0.32   \n",
      "2       LP: $150,000 CP: $97,500   64 Long Hill Rd             Andover   0.92   \n",
      "3      LP: $119,900 CP: $100,000       560 Route 6             Andover   4.63   \n",
      "4      LP: $170,000 CP: $150,000       7 Bailey Rd             Andover   1.49   \n",
      "\n",
      "   ... Sq Ft Est Heated Above Grade Style or Rent Type Rooms Total  \\\n",
      "0  ...                        4,392           Colonial          11   \n",
      "1  ...                        5,169       Contemporary           7   \n",
      "2  ...                        1,800           Colonial           7   \n",
      "3  ...                        1,724              Ranch           6   \n",
      "4  ...                        1,138           Bungalow           6   \n",
      "\n",
      "   Beds Total        Bathrooms               Garage/Park Year Built  DOM  \\\n",
      "0           4  3 Full & 1 Half     2 Car/Attached Garage     2007.0   22   \n",
      "1           5  5 Full & 1 Half     2 Car/Attached Garage     2018.0   56   \n",
      "2           3           1 Full  2 Car/Off Street Parking     1935.0    8   \n",
      "3           3           1 Full    Car/Off Street Parking     1948.0  231   \n",
      "4           3           1 Full     2 Car/Detached Garage     1923.0   69   \n",
      "\n",
      "         Listing Agent List Office  \n",
      "0         Graham Klemm      KLEM40  \n",
      "1  Elyse Harney Morris      HARN42  \n",
      "2        Mike Defosses      EXRE01  \n",
      "3             Team Rio      EXRE01  \n",
      "4   Erica L Molochnick      REDB01  \n",
      "\n",
      "[5 rows x 21 columns]\n"
     ]
    }
   ],
   "source": [
    "print(data_merged.head())"
   ]
  },
  {
   "cell_type": "code",
   "execution_count": 202,
   "metadata": {},
   "outputs": [
    {
     "name": "stdout",
     "output_type": "stream",
     "text": [
      "<class 'pandas.core.frame.DataFrame'>\n",
      "RangeIndex: 58107 entries, 0 to 58106\n",
      "Data columns (total 21 columns):\n",
      " #   Column                        Non-Null Count  Dtype  \n",
      "---  ------                        --------------  -----  \n",
      " 0   #                             58107 non-null  int64  \n",
      " 1   MLS#                          58107 non-null  object \n",
      " 2   Status                        58107 non-null  object \n",
      " 3   Status Change Timestamp       58107 non-null  object \n",
      " 4   Prop Type                     58107 non-null  object \n",
      " 5   List/Closed Price             58107 non-null  object \n",
      " 6   Address                       58107 non-null  object \n",
      " 7   Unnamed: 7                    58107 non-null  object \n",
      " 8   City                          58107 non-null  object \n",
      " 9   Acres                         46390 non-null  object \n",
      " 10  Sq Ft Total                   58107 non-null  object \n",
      " 11  Sq Ft Est Heated Above Grade  58090 non-null  object \n",
      " 12  Style or Rent Type            58106 non-null  object \n",
      " 13  Rooms Total                   58107 non-null  int64  \n",
      " 14  Beds Total                    58107 non-null  int64  \n",
      " 15  Bathrooms                     58088 non-null  object \n",
      " 16  Garage/Park                   58107 non-null  object \n",
      " 17  Year Built                    58103 non-null  float64\n",
      " 18  DOM                           58107 non-null  object \n",
      " 19  Listing Agent                 58107 non-null  object \n",
      " 20  List Office                   58107 non-null  object \n",
      "dtypes: float64(1), int64(3), object(17)\n",
      "memory usage: 9.3+ MB\n",
      "None\n"
     ]
    }
   ],
   "source": [
    "print(data_merged.info())"
   ]
  },
  {
   "cell_type": "code",
   "execution_count": 203,
   "metadata": {},
   "outputs": [
    {
     "data": {
      "text/html": [
       "<div>\n",
       "<style scoped>\n",
       "    .dataframe tbody tr th:only-of-type {\n",
       "        vertical-align: middle;\n",
       "    }\n",
       "\n",
       "    .dataframe tbody tr th {\n",
       "        vertical-align: top;\n",
       "    }\n",
       "\n",
       "    .dataframe thead th {\n",
       "        text-align: right;\n",
       "    }\n",
       "</style>\n",
       "<table border=\"1\" class=\"dataframe\">\n",
       "  <thead>\n",
       "    <tr style=\"text-align: right;\">\n",
       "      <th></th>\n",
       "      <th>#</th>\n",
       "      <th>Rooms Total</th>\n",
       "      <th>Beds Total</th>\n",
       "      <th>Year Built</th>\n",
       "    </tr>\n",
       "  </thead>\n",
       "  <tbody>\n",
       "    <tr>\n",
       "      <th>count</th>\n",
       "      <td>58107.000000</td>\n",
       "      <td>58107.000000</td>\n",
       "      <td>58107.000000</td>\n",
       "      <td>58103.000000</td>\n",
       "    </tr>\n",
       "    <tr>\n",
       "      <th>mean</th>\n",
       "      <td>1692.818542</td>\n",
       "      <td>6.868381</td>\n",
       "      <td>3.149053</td>\n",
       "      <td>1964.649244</td>\n",
       "    </tr>\n",
       "    <tr>\n",
       "      <th>std</th>\n",
       "      <td>1466.930825</td>\n",
       "      <td>2.385229</td>\n",
       "      <td>1.023004</td>\n",
       "      <td>39.048374</td>\n",
       "    </tr>\n",
       "    <tr>\n",
       "      <th>min</th>\n",
       "      <td>1.000000</td>\n",
       "      <td>0.000000</td>\n",
       "      <td>0.000000</td>\n",
       "      <td>0.000000</td>\n",
       "    </tr>\n",
       "    <tr>\n",
       "      <th>25%</th>\n",
       "      <td>1.000000</td>\n",
       "      <td>5.000000</td>\n",
       "      <td>3.000000</td>\n",
       "      <td>1951.000000</td>\n",
       "    </tr>\n",
       "    <tr>\n",
       "      <th>50%</th>\n",
       "      <td>1501.000000</td>\n",
       "      <td>7.000000</td>\n",
       "      <td>3.000000</td>\n",
       "      <td>1969.000000</td>\n",
       "    </tr>\n",
       "    <tr>\n",
       "      <th>75%</th>\n",
       "      <td>3001.000000</td>\n",
       "      <td>8.000000</td>\n",
       "      <td>4.000000</td>\n",
       "      <td>1988.000000</td>\n",
       "    </tr>\n",
       "    <tr>\n",
       "      <th>max</th>\n",
       "      <td>4501.000000</td>\n",
       "      <td>99.000000</td>\n",
       "      <td>15.000000</td>\n",
       "      <td>2021.000000</td>\n",
       "    </tr>\n",
       "  </tbody>\n",
       "</table>\n",
       "</div>"
      ],
      "text/plain": [
       "                  #   Rooms Total    Beds Total    Year Built\n",
       "count  58107.000000  58107.000000  58107.000000  58103.000000\n",
       "mean    1692.818542      6.868381      3.149053   1964.649244\n",
       "std     1466.930825      2.385229      1.023004     39.048374\n",
       "min        1.000000      0.000000      0.000000      0.000000\n",
       "25%        1.000000      5.000000      3.000000   1951.000000\n",
       "50%     1501.000000      7.000000      3.000000   1969.000000\n",
       "75%     3001.000000      8.000000      4.000000   1988.000000\n",
       "max     4501.000000     99.000000     15.000000   2021.000000"
      ]
     },
     "execution_count": 203,
     "metadata": {},
     "output_type": "execute_result"
    }
   ],
   "source": [
    "data_merged.describe()"
   ]
  },
  {
   "cell_type": "code",
   "execution_count": 204,
   "metadata": {},
   "outputs": [
    {
     "name": "stdout",
     "output_type": "stream",
     "text": [
      "0         \n",
      "1         \n",
      "2         \n",
      "3         \n",
      "4         \n",
      "        ..\n",
      "58102     \n",
      "58103     \n",
      "58104     \n",
      "58105     \n",
      "58106     \n",
      "Name: Unnamed: 7, Length: 58107, dtype: object\n"
     ]
    }
   ],
   "source": [
    "#### UNNAMED 7 #################################################\n",
    "\n",
    "print(data_merged['Unnamed: 7'])"
   ]
  },
  {
   "cell_type": "code",
   "execution_count": 205,
   "metadata": {},
   "outputs": [],
   "source": [
    "spaces=0\n",
    "nulls=0\n",
    "for i in data_merged['Unnamed: 7']:\n",
    "    if i == ' ':\n",
    "        spaces+=1\n",
    "    elif i is None:\n",
    "        nulls+=1\n",
    "        "
   ]
  },
  {
   "cell_type": "code",
   "execution_count": 206,
   "metadata": {},
   "outputs": [
    {
     "name": "stdout",
     "output_type": "stream",
     "text": [
      "58107 0\n"
     ]
    }
   ],
   "source": [
    "print(spaces,nulls)"
   ]
  },
  {
   "cell_type": "code",
   "execution_count": 207,
   "metadata": {},
   "outputs": [],
   "source": [
    "data_merged = data_merged.drop('Unnamed: 7',axis=1)"
   ]
  },
  {
   "cell_type": "code",
   "execution_count": 208,
   "metadata": {},
   "outputs": [
    {
     "name": "stdout",
     "output_type": "stream",
     "text": [
      "<class 'pandas.core.frame.DataFrame'>\n",
      "RangeIndex: 58107 entries, 0 to 58106\n",
      "Data columns (total 20 columns):\n",
      " #   Column                        Non-Null Count  Dtype  \n",
      "---  ------                        --------------  -----  \n",
      " 0   #                             58107 non-null  int64  \n",
      " 1   MLS#                          58107 non-null  object \n",
      " 2   Status                        58107 non-null  object \n",
      " 3   Status Change Timestamp       58107 non-null  object \n",
      " 4   Prop Type                     58107 non-null  object \n",
      " 5   List/Closed Price             58107 non-null  object \n",
      " 6   Address                       58107 non-null  object \n",
      " 7   City                          58107 non-null  object \n",
      " 8   Acres                         46390 non-null  object \n",
      " 9   Sq Ft Total                   58107 non-null  object \n",
      " 10  Sq Ft Est Heated Above Grade  58090 non-null  object \n",
      " 11  Style or Rent Type            58106 non-null  object \n",
      " 12  Rooms Total                   58107 non-null  int64  \n",
      " 13  Beds Total                    58107 non-null  int64  \n",
      " 14  Bathrooms                     58088 non-null  object \n",
      " 15  Garage/Park                   58107 non-null  object \n",
      " 16  Year Built                    58103 non-null  float64\n",
      " 17  DOM                           58107 non-null  object \n",
      " 18  Listing Agent                 58107 non-null  object \n",
      " 19  List Office                   58107 non-null  object \n",
      "dtypes: float64(1), int64(3), object(16)\n",
      "memory usage: 8.9+ MB\n",
      "None\n"
     ]
    }
   ],
   "source": [
    "print(data_merged.info())"
   ]
  },
  {
   "cell_type": "code",
   "execution_count": 209,
   "metadata": {},
   "outputs": [
    {
     "data": {
      "text/plain": [
       "'Checks for duplicate MLS IDs in Dataset\\n'"
      ]
     },
     "execution_count": 209,
     "metadata": {},
     "output_type": "execute_result"
    }
   ],
   "source": [
    "####### MLS #   #################################################\n",
    "\"\"\"Checks for duplicate MLS IDs in Dataset\n",
    "\"\"\""
   ]
  },
  {
   "cell_type": "code",
   "execution_count": 210,
   "metadata": {},
   "outputs": [
    {
     "data": {
      "text/plain": [
       "count     58107\n",
       "unique        1\n",
       "top       False\n",
       "freq      58107\n",
       "Name: MLS#, dtype: object"
      ]
     },
     "execution_count": 210,
     "metadata": {},
     "output_type": "execute_result"
    }
   ],
   "source": [
    "data_merged['MLS#'].duplicated().describe() "
   ]
  },
  {
   "cell_type": "code",
   "execution_count": 211,
   "metadata": {},
   "outputs": [
    {
     "data": {
      "text/plain": [
       "'1 Value False = no duplicates'"
      ]
     },
     "execution_count": 211,
     "metadata": {},
     "output_type": "execute_result"
    }
   ],
   "source": [
    "'''1 Value False = no duplicates'''"
   ]
  },
  {
   "cell_type": "code",
   "execution_count": 212,
   "metadata": {},
   "outputs": [],
   "source": [
    "########## Status ################################################"
   ]
  },
  {
   "cell_type": "code",
   "execution_count": 213,
   "metadata": {},
   "outputs": [
    {
     "name": "stdout",
     "output_type": "stream",
     "text": [
      "['CLSD']\n"
     ]
    }
   ],
   "source": [
    "print(data_merged['Status'].unique())"
   ]
  },
  {
   "cell_type": "code",
   "execution_count": 214,
   "metadata": {},
   "outputs": [
    {
     "data": {
      "text/plain": [
       "'All records have closed status'"
      ]
     },
     "execution_count": 214,
     "metadata": {},
     "output_type": "execute_result"
    }
   ],
   "source": [
    "'''All records have closed status'''\n"
   ]
  },
  {
   "cell_type": "code",
   "execution_count": 215,
   "metadata": {},
   "outputs": [],
   "source": [
    "########## Status Date Change  ############################"
   ]
  },
  {
   "cell_type": "code",
   "execution_count": 216,
   "metadata": {},
   "outputs": [],
   "source": [
    "#############  Prop type #######################"
   ]
  },
  {
   "cell_type": "code",
   "execution_count": 217,
   "metadata": {},
   "outputs": [
    {
     "name": "stdout",
     "output_type": "stream",
     "text": [
      "count     58107\n",
      "unique        3\n",
      "top          SF\n",
      "freq      46390\n",
      "Name: Prop Type, dtype: object\n"
     ]
    }
   ],
   "source": [
    "print(data_merged['Prop Type'].describe())"
   ]
  },
  {
   "cell_type": "code",
   "execution_count": 218,
   "metadata": {},
   "outputs": [
    {
     "name": "stdout",
     "output_type": "stream",
     "text": [
      "[['SF', 46390], ['CO', 11468], ['CP', 249]]\n"
     ]
    }
   ],
   "source": [
    "prop_types = (data_merged['Prop Type'].unique())\n",
    "type_counts = []\n",
    "for i in prop_types:\n",
    "    count = [i,len(data_merged[data_merged['Prop Type']==i])]\n",
    "    type_counts.append(count)\n",
    "print(type_counts)"
   ]
  },
  {
   "cell_type": "code",
   "execution_count": 219,
   "metadata": {},
   "outputs": [
    {
     "name": "stdout",
     "output_type": "stream",
     "text": [
      "58107\n"
     ]
    }
   ],
   "source": [
    "###double check totals match\n",
    "\n",
    "sum = 0\n",
    "for i in type_counts:\n",
    "    sum+= i[1]\n",
    "print(sum)"
   ]
  },
  {
   "cell_type": "code",
   "execution_count": 220,
   "metadata": {},
   "outputs": [
    {
     "data": {
      "text/plain": [
       "'All of the records are either Single Family, Condo, or Cooperative'"
      ]
     },
     "execution_count": 220,
     "metadata": {},
     "output_type": "execute_result"
    }
   ],
   "source": [
    "'''All of the records are either Single Family, Condo, or Cooperative'''"
   ]
  },
  {
   "cell_type": "code",
   "execution_count": 221,
   "metadata": {},
   "outputs": [],
   "source": [
    "##### List/Closed Price  ########################"
   ]
  },
  {
   "cell_type": "code",
   "execution_count": 222,
   "metadata": {},
   "outputs": [
    {
     "name": "stdout",
     "output_type": "stream",
     "text": [
      "0        LP: $3,750,000 CP: $3,750,000\n",
      "1        LP: $7,950,000 CP: $6,800,000\n",
      "2             LP: $150,000 CP: $97,500\n",
      "3            LP: $119,900 CP: $100,000\n",
      "4            LP: $170,000 CP: $150,000\n",
      "                     ...              \n",
      "58102        LP: $675,000 CP: $705,000\n",
      "58103    LP: $2,100,000 CP: $2,000,000\n",
      "58104        LP: $889,900 CP: $930,000\n",
      "58105    LP: $1,249,000 CP: $1,210,000\n",
      "58106    LP: $2,300,000 CP: $2,500,000\n",
      "Name: List/Closed Price, Length: 58107, dtype: object\n"
     ]
    }
   ],
   "source": [
    "print(data_merged['List/Closed Price'])"
   ]
  },
  {
   "cell_type": "code",
   "execution_count": 223,
   "metadata": {},
   "outputs": [
    {
     "name": "stdout",
     "output_type": "stream",
     "text": [
      "LP: $3,750,000 CP: $3,750,000\n"
     ]
    }
   ],
   "source": [
    "print (data_merged.loc[0,'List/Closed Price'])"
   ]
  },
  {
   "cell_type": "code",
   "execution_count": 231,
   "metadata": {},
   "outputs": [],
   "source": [
    "data_merged['list_price'] = 0 \n",
    "data_merged['close_price'] = 0\n",
    "  \n",
    "\n",
    "for i in range(0,len(data_merged['List/Closed Price'])):\n",
    "       \n",
    " \n",
    "    listLPCP = data_merged['List/Closed Price'][i].split(' ')\n",
    "    data_merged.loc[i,'close_price'] = listLPCP[3]\n",
    "    data_merged.loc[i,'list_price'] = listLPCP[1]\n",
    "   "
   ]
  },
  {
   "cell_type": "code",
   "execution_count": 232,
   "metadata": {},
   "outputs": [
    {
     "name": "stdout",
     "output_type": "stream",
     "text": [
      "   #       MLS# Status Status Change Timestamp Prop Type  \\\n",
      "0  1  170323774   CLSD                09/13/20        SF   \n",
      "1  1  170366202   CLSD                03/18/21        SF   \n",
      "2  1  170378716   CLSD                05/14/21        SF   \n",
      "3  1  170305413   CLSD                03/10/21        SF   \n",
      "4  1  170365013   CLSD                04/22/21        SF   \n",
      "\n",
      "               List/Closed Price           Address     City  Acres  \\\n",
      "0  LP: $3,750,000 CP: $3,750,000      213 Separate   Amenia  21.42   \n",
      "1  LP: $7,950,000 CP: $6,800,000  292 Wood Duck Rd   Amenia   0.32   \n",
      "2       LP: $150,000 CP: $97,500   64 Long Hill Rd  Andover   0.92   \n",
      "3      LP: $119,900 CP: $100,000       560 Route 6  Andover   4.63   \n",
      "4      LP: $170,000 CP: $150,000       7 Bailey Rd  Andover   1.49   \n",
      "\n",
      "  Sq Ft Total  ... Rooms Total Beds Total        Bathrooms  \\\n",
      "0       4,392  ...          11          4  3 Full & 1 Half   \n",
      "1       5,169  ...           7          5  5 Full & 1 Half   \n",
      "2       1,800  ...           7          3           1 Full   \n",
      "3       1,724  ...           6          3           1 Full   \n",
      "4       1,138  ...           6          3           1 Full   \n",
      "\n",
      "                Garage/Park Year Built  DOM        Listing Agent List Office  \\\n",
      "0     2 Car/Attached Garage     2007.0   22         Graham Klemm      KLEM40   \n",
      "1     2 Car/Attached Garage     2018.0   56  Elyse Harney Morris      HARN42   \n",
      "2  2 Car/Off Street Parking     1935.0    8        Mike Defosses      EXRE01   \n",
      "3    Car/Off Street Parking     1948.0  231             Team Rio      EXRE01   \n",
      "4     2 Car/Detached Garage     1923.0   69   Erica L Molochnick      REDB01   \n",
      "\n",
      "   list_price close_price  \n",
      "0  $3,750,000  $3,750,000  \n",
      "1  $7,950,000  $6,800,000  \n",
      "2    $150,000     $97,500  \n",
      "3    $119,900    $100,000  \n",
      "4    $170,000    $150,000  \n",
      "\n",
      "[5 rows x 22 columns]\n"
     ]
    }
   ],
   "source": [
    "print(data_merged.head())"
   ]
  },
  {
   "cell_type": "code",
   "execution_count": 243,
   "metadata": {},
   "outputs": [
    {
     "ename": "AttributeError",
     "evalue": "Can only use .str accessor with string values!",
     "output_type": "error",
     "traceback": [
      "\u001b[1;31m--------------------------------------------------\u001b[0m",
      "\u001b[1;31mAttributeError\u001b[0m   Traceback (most recent call last)",
      "\u001b[1;32m<ipython-input-243-39a44ec0a0cb>\u001b[0m in \u001b[0;36m<module>\u001b[1;34m\u001b[0m\n\u001b[1;32m----> 1\u001b[1;33m \u001b[0mdata_merged\u001b[0m\u001b[1;33m[\u001b[0m\u001b[1;34m'close_price'\u001b[0m\u001b[1;33m]\u001b[0m \u001b[1;33m=\u001b[0m \u001b[0mdata_merged\u001b[0m\u001b[1;33m[\u001b[0m\u001b[1;34m'close_price'\u001b[0m\u001b[1;33m]\u001b[0m\u001b[1;33m.\u001b[0m\u001b[0mstr\u001b[0m\u001b[1;33m.\u001b[0m\u001b[0mreplace\u001b[0m\u001b[1;33m(\u001b[0m\u001b[1;34m'$'\u001b[0m\u001b[1;33m,\u001b[0m\u001b[1;34m''\u001b[0m\u001b[1;33m)\u001b[0m\u001b[1;33m\u001b[0m\u001b[1;33m\u001b[0m\u001b[0m\n\u001b[0m\u001b[0;32m      2\u001b[0m \u001b[0mdata_merged\u001b[0m\u001b[1;33m[\u001b[0m\u001b[1;34m'close_price'\u001b[0m\u001b[1;33m]\u001b[0m \u001b[1;33m=\u001b[0m \u001b[0mdata_merged\u001b[0m\u001b[1;33m[\u001b[0m\u001b[1;34m'close_price'\u001b[0m\u001b[1;33m]\u001b[0m\u001b[1;33m.\u001b[0m\u001b[0mstr\u001b[0m\u001b[1;33m.\u001b[0m\u001b[0mreplace\u001b[0m\u001b[1;33m(\u001b[0m\u001b[1;34m','\u001b[0m\u001b[1;33m,\u001b[0m\u001b[1;34m''\u001b[0m\u001b[1;33m)\u001b[0m\u001b[1;33m\u001b[0m\u001b[1;33m\u001b[0m\u001b[0m\n\u001b[0;32m      3\u001b[0m \u001b[0mdata_merged\u001b[0m\u001b[1;33m[\u001b[0m\u001b[1;34m'close_price'\u001b[0m\u001b[1;33m]\u001b[0m \u001b[1;33m=\u001b[0m \u001b[0mdata_merged\u001b[0m\u001b[1;33m[\u001b[0m\u001b[1;34m'close_price'\u001b[0m\u001b[1;33m]\u001b[0m\u001b[1;33m.\u001b[0m\u001b[0mstr\u001b[0m\u001b[1;33m.\u001b[0m\u001b[0mreplace\u001b[0m\u001b[1;33m(\u001b[0m\u001b[1;34m' '\u001b[0m\u001b[1;33m,\u001b[0m\u001b[1;34m''\u001b[0m\u001b[1;33m)\u001b[0m\u001b[1;33m\u001b[0m\u001b[1;33m\u001b[0m\u001b[0m\n\u001b[0;32m      4\u001b[0m \u001b[0mdata_merged\u001b[0m\u001b[1;33m[\u001b[0m\u001b[1;34m'close_price'\u001b[0m\u001b[1;33m]\u001b[0m \u001b[1;33m=\u001b[0m \u001b[0mpd\u001b[0m\u001b[1;33m.\u001b[0m\u001b[0mto_numeric\u001b[0m\u001b[1;33m(\u001b[0m\u001b[0mdata_merged\u001b[0m\u001b[1;33m[\u001b[0m\u001b[1;34m'close_price'\u001b[0m\u001b[1;33m]\u001b[0m\u001b[1;33m)\u001b[0m \u001b[1;31m#### remove special characters, converts to numeric\u001b[0m\u001b[1;33m\u001b[0m\u001b[1;33m\u001b[0m\u001b[0m\n",
      "\u001b[1;32m~\\anaconda3\\lib\\site-packages\\pandas\\core\\generic.py\u001b[0m in \u001b[0;36m__getattr__\u001b[1;34m(self, name)\u001b[0m\n\u001b[0;32m   5133\u001b[0m             \u001b[1;32mor\u001b[0m \u001b[0mname\u001b[0m \u001b[1;32min\u001b[0m \u001b[0mself\u001b[0m\u001b[1;33m.\u001b[0m\u001b[0m_accessors\u001b[0m\u001b[1;33m\u001b[0m\u001b[1;33m\u001b[0m\u001b[0m\n\u001b[0;32m   5134\u001b[0m         ):\n\u001b[1;32m-> 5135\u001b[1;33m             \u001b[1;32mreturn\u001b[0m \u001b[0mobject\u001b[0m\u001b[1;33m.\u001b[0m\u001b[0m__getattribute__\u001b[0m\u001b[1;33m(\u001b[0m\u001b[0mself\u001b[0m\u001b[1;33m,\u001b[0m \u001b[0mname\u001b[0m\u001b[1;33m)\u001b[0m\u001b[1;33m\u001b[0m\u001b[1;33m\u001b[0m\u001b[0m\n\u001b[0m\u001b[0;32m   5136\u001b[0m         \u001b[1;32melse\u001b[0m\u001b[1;33m:\u001b[0m\u001b[1;33m\u001b[0m\u001b[1;33m\u001b[0m\u001b[0m\n\u001b[0;32m   5137\u001b[0m             \u001b[1;32mif\u001b[0m \u001b[0mself\u001b[0m\u001b[1;33m.\u001b[0m\u001b[0m_info_axis\u001b[0m\u001b[1;33m.\u001b[0m\u001b[0m_can_hold_identifiers_and_holds_name\u001b[0m\u001b[1;33m(\u001b[0m\u001b[0mname\u001b[0m\u001b[1;33m)\u001b[0m\u001b[1;33m:\u001b[0m\u001b[1;33m\u001b[0m\u001b[1;33m\u001b[0m\u001b[0m\n",
      "\u001b[1;32m~\\anaconda3\\lib\\site-packages\\pandas\\core\\accessor.py\u001b[0m in \u001b[0;36m__get__\u001b[1;34m(self, obj, cls)\u001b[0m\n\u001b[0;32m    185\u001b[0m             \u001b[1;31m# we're accessing the attribute of the class, i.e., Dataset.geo\u001b[0m\u001b[1;33m\u001b[0m\u001b[1;33m\u001b[0m\u001b[1;33m\u001b[0m\u001b[0m\n\u001b[0;32m    186\u001b[0m             \u001b[1;32mreturn\u001b[0m \u001b[0mself\u001b[0m\u001b[1;33m.\u001b[0m\u001b[0m_accessor\u001b[0m\u001b[1;33m\u001b[0m\u001b[1;33m\u001b[0m\u001b[0m\n\u001b[1;32m--> 187\u001b[1;33m         \u001b[0maccessor_obj\u001b[0m \u001b[1;33m=\u001b[0m \u001b[0mself\u001b[0m\u001b[1;33m.\u001b[0m\u001b[0m_accessor\u001b[0m\u001b[1;33m(\u001b[0m\u001b[0mobj\u001b[0m\u001b[1;33m)\u001b[0m\u001b[1;33m\u001b[0m\u001b[1;33m\u001b[0m\u001b[0m\n\u001b[0m\u001b[0;32m    188\u001b[0m         \u001b[1;31m# Replace the property with the accessor object. Inspired by:\u001b[0m\u001b[1;33m\u001b[0m\u001b[1;33m\u001b[0m\u001b[1;33m\u001b[0m\u001b[0m\n\u001b[0;32m    189\u001b[0m         \u001b[1;31m# https://www.pydanny.com/cached-property.html\u001b[0m\u001b[1;33m\u001b[0m\u001b[1;33m\u001b[0m\u001b[1;33m\u001b[0m\u001b[0m\n",
      "\u001b[1;32m~\\anaconda3\\lib\\site-packages\\pandas\\core\\strings.py\u001b[0m in \u001b[0;36m__init__\u001b[1;34m(self, data)\u001b[0m\n\u001b[0;32m   2098\u001b[0m \u001b[1;33m\u001b[0m\u001b[0m\n\u001b[0;32m   2099\u001b[0m     \u001b[1;32mdef\u001b[0m \u001b[0m__init__\u001b[0m\u001b[1;33m(\u001b[0m\u001b[0mself\u001b[0m\u001b[1;33m,\u001b[0m \u001b[0mdata\u001b[0m\u001b[1;33m)\u001b[0m\u001b[1;33m:\u001b[0m\u001b[1;33m\u001b[0m\u001b[1;33m\u001b[0m\u001b[0m\n\u001b[1;32m-> 2100\u001b[1;33m         \u001b[0mself\u001b[0m\u001b[1;33m.\u001b[0m\u001b[0m_inferred_dtype\u001b[0m \u001b[1;33m=\u001b[0m \u001b[0mself\u001b[0m\u001b[1;33m.\u001b[0m\u001b[0m_validate\u001b[0m\u001b[1;33m(\u001b[0m\u001b[0mdata\u001b[0m\u001b[1;33m)\u001b[0m\u001b[1;33m\u001b[0m\u001b[1;33m\u001b[0m\u001b[0m\n\u001b[0m\u001b[0;32m   2101\u001b[0m         \u001b[0mself\u001b[0m\u001b[1;33m.\u001b[0m\u001b[0m_is_categorical\u001b[0m \u001b[1;33m=\u001b[0m \u001b[0mis_categorical_dtype\u001b[0m\u001b[1;33m(\u001b[0m\u001b[0mdata\u001b[0m\u001b[1;33m.\u001b[0m\u001b[0mdtype\u001b[0m\u001b[1;33m)\u001b[0m\u001b[1;33m\u001b[0m\u001b[1;33m\u001b[0m\u001b[0m\n\u001b[0;32m   2102\u001b[0m         \u001b[0mself\u001b[0m\u001b[1;33m.\u001b[0m\u001b[0m_is_string\u001b[0m \u001b[1;33m=\u001b[0m \u001b[0mdata\u001b[0m\u001b[1;33m.\u001b[0m\u001b[0mdtype\u001b[0m\u001b[1;33m.\u001b[0m\u001b[0mname\u001b[0m \u001b[1;33m==\u001b[0m \u001b[1;34m\"string\"\u001b[0m\u001b[1;33m\u001b[0m\u001b[1;33m\u001b[0m\u001b[0m\n",
      "\u001b[1;32m~\\anaconda3\\lib\\site-packages\\pandas\\core\\strings.py\u001b[0m in \u001b[0;36m_validate\u001b[1;34m(data)\u001b[0m\n\u001b[0;32m   2155\u001b[0m \u001b[1;33m\u001b[0m\u001b[0m\n\u001b[0;32m   2156\u001b[0m         \u001b[1;32mif\u001b[0m \u001b[0minferred_dtype\u001b[0m \u001b[1;32mnot\u001b[0m \u001b[1;32min\u001b[0m \u001b[0mallowed_types\u001b[0m\u001b[1;33m:\u001b[0m\u001b[1;33m\u001b[0m\u001b[1;33m\u001b[0m\u001b[0m\n\u001b[1;32m-> 2157\u001b[1;33m             \u001b[1;32mraise\u001b[0m \u001b[0mAttributeError\u001b[0m\u001b[1;33m(\u001b[0m\u001b[1;34m\"Can only use .str accessor with string values!\"\u001b[0m\u001b[1;33m)\u001b[0m\u001b[1;33m\u001b[0m\u001b[1;33m\u001b[0m\u001b[0m\n\u001b[0m\u001b[0;32m   2158\u001b[0m         \u001b[1;32mreturn\u001b[0m \u001b[0minferred_dtype\u001b[0m\u001b[1;33m\u001b[0m\u001b[1;33m\u001b[0m\u001b[0m\n\u001b[0;32m   2159\u001b[0m \u001b[1;33m\u001b[0m\u001b[0m\n",
      "\u001b[1;31mAttributeError\u001b[0m: Can only use .str accessor with string values!"
     ]
    }
   ],
   "source": [
    "data_merged['close_price'] = data_merged['close_price'].str.replace('$','')\n",
    "data_merged['close_price'] = data_merged['close_price'].str.replace(',','')\n",
    "data_merged['close_price'] = data_merged['close_price'].str.replace(' ','')\n",
    "data_merged['close_price'] = pd.to_numeric(data_merged['close_price']) #### remove special characters, converts to numeric"
   ]
  },
  {
   "cell_type": "code",
   "execution_count": 244,
   "metadata": {},
   "outputs": [
    {
     "ename": "ValueError",
     "evalue": "Unable to parse string \"245000 \" at position 2525",
     "output_type": "error",
     "traceback": [
      "\u001b[1;31m--------------------------------------------------\u001b[0m",
      "\u001b[1;31mValueError\u001b[0m       Traceback (most recent call last)",
      "\u001b[1;32mpandas\\_libs\\lib.pyx\u001b[0m in \u001b[0;36mpandas._libs.lib.maybe_convert_numeric\u001b[1;34m()\u001b[0m\n",
      "\u001b[1;31mValueError\u001b[0m: Unable to parse string \"245000 \"",
      "\nDuring handling of the above exception, another exception occurred:\n",
      "\u001b[1;31mValueError\u001b[0m       Traceback (most recent call last)",
      "\u001b[1;32m<ipython-input-244-03ac092442dc>\u001b[0m in \u001b[0;36m<module>\u001b[1;34m\u001b[0m\n\u001b[0;32m      2\u001b[0m \u001b[0mdata_merged\u001b[0m\u001b[1;33m[\u001b[0m\u001b[1;34m'list_price'\u001b[0m\u001b[1;33m]\u001b[0m \u001b[1;33m=\u001b[0m \u001b[0mdata_merged\u001b[0m\u001b[1;33m[\u001b[0m\u001b[1;34m'list_price'\u001b[0m\u001b[1;33m]\u001b[0m\u001b[1;33m.\u001b[0m\u001b[0mstr\u001b[0m\u001b[1;33m.\u001b[0m\u001b[0mreplace\u001b[0m\u001b[1;33m(\u001b[0m\u001b[1;34m','\u001b[0m\u001b[1;33m,\u001b[0m\u001b[1;34m''\u001b[0m\u001b[1;33m)\u001b[0m\u001b[1;33m\u001b[0m\u001b[1;33m\u001b[0m\u001b[0m\n\u001b[0;32m      3\u001b[0m \u001b[0mdata_merged\u001b[0m\u001b[1;33m[\u001b[0m\u001b[1;34m'list_price'\u001b[0m\u001b[1;33m]\u001b[0m \u001b[1;33m=\u001b[0m \u001b[0mdata_merged\u001b[0m\u001b[1;33m[\u001b[0m\u001b[1;34m'list_price'\u001b[0m\u001b[1;33m]\u001b[0m\u001b[1;33m.\u001b[0m\u001b[0mstr\u001b[0m\u001b[1;33m.\u001b[0m\u001b[0mreplace\u001b[0m\u001b[1;33m(\u001b[0m\u001b[1;34m' '\u001b[0m\u001b[1;33m,\u001b[0m\u001b[1;34m''\u001b[0m\u001b[1;33m)\u001b[0m\u001b[1;33m\u001b[0m\u001b[1;33m\u001b[0m\u001b[0m\n\u001b[1;32m----> 4\u001b[1;33m \u001b[0mdata_merged\u001b[0m\u001b[1;33m[\u001b[0m\u001b[1;34m'list_price'\u001b[0m\u001b[1;33m]\u001b[0m \u001b[1;33m=\u001b[0m \u001b[0mpd\u001b[0m\u001b[1;33m.\u001b[0m\u001b[0mto_numeric\u001b[0m\u001b[1;33m(\u001b[0m\u001b[0mdata_merged\u001b[0m\u001b[1;33m[\u001b[0m\u001b[1;34m'list_price'\u001b[0m\u001b[1;33m]\u001b[0m\u001b[1;33m)\u001b[0m       \u001b[1;31m#### remove special characters,  converts to numeric\u001b[0m\u001b[1;33m\u001b[0m\u001b[1;33m\u001b[0m\u001b[0m\n\u001b[0m",
      "\u001b[1;32m~\\anaconda3\\lib\\site-packages\\pandas\\core\\tools\\numeric.py\u001b[0m in \u001b[0;36mto_numeric\u001b[1;34m(arg, errors, downcast)\u001b[0m\n\u001b[0;32m    150\u001b[0m         \u001b[0mcoerce_numeric\u001b[0m \u001b[1;33m=\u001b[0m \u001b[0merrors\u001b[0m \u001b[1;32mnot\u001b[0m \u001b[1;32min\u001b[0m \u001b[1;33m(\u001b[0m\u001b[1;34m\"ignore\"\u001b[0m\u001b[1;33m,\u001b[0m \u001b[1;34m\"raise\"\u001b[0m\u001b[1;33m)\u001b[0m\u001b[1;33m\u001b[0m\u001b[1;33m\u001b[0m\u001b[0m\n\u001b[0;32m    151\u001b[0m         \u001b[1;32mtry\u001b[0m\u001b[1;33m:\u001b[0m\u001b[1;33m\u001b[0m\u001b[1;33m\u001b[0m\u001b[0m\n\u001b[1;32m--> 152\u001b[1;33m             values = lib.maybe_convert_numeric(\n\u001b[0m\u001b[0;32m    153\u001b[0m                 \u001b[0mvalues\u001b[0m\u001b[1;33m,\u001b[0m \u001b[0mset\u001b[0m\u001b[1;33m(\u001b[0m\u001b[1;33m)\u001b[0m\u001b[1;33m,\u001b[0m \u001b[0mcoerce_numeric\u001b[0m\u001b[1;33m=\u001b[0m\u001b[0mcoerce_numeric\u001b[0m\u001b[1;33m\u001b[0m\u001b[1;33m\u001b[0m\u001b[0m\n\u001b[0;32m    154\u001b[0m             )\n",
      "\u001b[1;32mpandas\\_libs\\lib.pyx\u001b[0m in \u001b[0;36mpandas._libs.lib.maybe_convert_numeric\u001b[1;34m()\u001b[0m\n",
      "\u001b[1;31mValueError\u001b[0m: Unable to parse string \"245000 \" at position 2525"
     ]
    }
   ],
   "source": [
    "data_merged['list_price'] = data_merged['list_price'].str.replace('$','')\n",
    "data_merged['list_price'] = data_merged['list_price'].str.replace(',','')\n",
    "data_merged['list_price'] = data_merged['list_price'].str.replace(' ','')\n",
    "data_merged['list_price'] = pd.to_numeric(data_merged['list_price'])       #### remove special characters,  converts to numeric"
   ]
  },
  {
   "cell_type": "code",
   "execution_count": 245,
   "metadata": {},
   "outputs": [
    {
     "name": "stdout",
     "output_type": "stream",
     "text": [
      "<class 'pandas.core.frame.DataFrame'>\n",
      "RangeIndex: 58107 entries, 0 to 58106\n",
      "Data columns (total 22 columns):\n",
      " #   Column                        Non-Null Count  Dtype  \n",
      "---  ------                        --------------  -----  \n",
      " 0   #                             58107 non-null  int64  \n",
      " 1   MLS#                          58107 non-null  object \n",
      " 2   Status                        58107 non-null  object \n",
      " 3   Status Change Timestamp       58107 non-null  object \n",
      " 4   Prop Type                     58107 non-null  object \n",
      " 5   List/Closed Price             58107 non-null  object \n",
      " 6   Address                       58107 non-null  object \n",
      " 7   City                          58107 non-null  object \n",
      " 8   Acres                         46390 non-null  object \n",
      " 9   Sq Ft Total                   58107 non-null  object \n",
      " 10  Sq Ft Est Heated Above Grade  58090 non-null  object \n",
      " 11  Style or Rent Type            58106 non-null  object \n",
      " 12  Rooms Total                   58107 non-null  int64  \n",
      " 13  Beds Total                    58107 non-null  int64  \n",
      " 14  Bathrooms                     58088 non-null  object \n",
      " 15  Garage/Park                   58107 non-null  object \n",
      " 16  Year Built                    58103 non-null  float64\n",
      " 17  DOM                           58107 non-null  object \n",
      " 18  Listing Agent                 58107 non-null  object \n",
      " 19  List Office                   58107 non-null  object \n",
      " 20  list_price                    58107 non-null  object \n",
      " 21  close_price                   58107 non-null  int64  \n",
      "dtypes: float64(1), int64(4), object(17)\n",
      "memory usage: 9.8+ MB\n"
     ]
    }
   ],
   "source": [
    "data_merged.info()"
   ]
  },
  {
   "cell_type": "code",
   "execution_count": 246,
   "metadata": {},
   "outputs": [
    {
     "data": {
      "text/html": [
       "<div>\n",
       "<style scoped>\n",
       "    .dataframe tbody tr th:only-of-type {\n",
       "        vertical-align: middle;\n",
       "    }\n",
       "\n",
       "    .dataframe tbody tr th {\n",
       "        vertical-align: top;\n",
       "    }\n",
       "\n",
       "    .dataframe thead th {\n",
       "        text-align: right;\n",
       "    }\n",
       "</style>\n",
       "<table border=\"1\" class=\"dataframe\">\n",
       "  <thead>\n",
       "    <tr style=\"text-align: right;\">\n",
       "      <th></th>\n",
       "      <th>#</th>\n",
       "      <th>MLS#</th>\n",
       "      <th>Status</th>\n",
       "      <th>Status Change Timestamp</th>\n",
       "      <th>Prop Type</th>\n",
       "      <th>List/Closed Price</th>\n",
       "      <th>Address</th>\n",
       "      <th>City</th>\n",
       "      <th>Acres</th>\n",
       "      <th>Sq Ft Total</th>\n",
       "      <th>...</th>\n",
       "      <th>Rooms Total</th>\n",
       "      <th>Beds Total</th>\n",
       "      <th>Bathrooms</th>\n",
       "      <th>Garage/Park</th>\n",
       "      <th>Year Built</th>\n",
       "      <th>DOM</th>\n",
       "      <th>Listing Agent</th>\n",
       "      <th>List Office</th>\n",
       "      <th>list_price</th>\n",
       "      <th>close_price</th>\n",
       "    </tr>\n",
       "  </thead>\n",
       "  <tbody>\n",
       "    <tr>\n",
       "      <th>0</th>\n",
       "      <td>1</td>\n",
       "      <td>170323774</td>\n",
       "      <td>CLSD</td>\n",
       "      <td>09/13/20</td>\n",
       "      <td>SF</td>\n",
       "      <td>LP: $3,750,000 CP: $3,750,000</td>\n",
       "      <td>213 Separate</td>\n",
       "      <td>Amenia</td>\n",
       "      <td>21.42</td>\n",
       "      <td>4,392</td>\n",
       "      <td>...</td>\n",
       "      <td>11</td>\n",
       "      <td>4</td>\n",
       "      <td>3 Full &amp; 1 Half</td>\n",
       "      <td>2 Car/Attached Garage</td>\n",
       "      <td>2007.0</td>\n",
       "      <td>22</td>\n",
       "      <td>Graham Klemm</td>\n",
       "      <td>KLEM40</td>\n",
       "      <td>3750000</td>\n",
       "      <td>3750000</td>\n",
       "    </tr>\n",
       "    <tr>\n",
       "      <th>1</th>\n",
       "      <td>1</td>\n",
       "      <td>170366202</td>\n",
       "      <td>CLSD</td>\n",
       "      <td>03/18/21</td>\n",
       "      <td>SF</td>\n",
       "      <td>LP: $7,950,000 CP: $6,800,000</td>\n",
       "      <td>292 Wood Duck Rd</td>\n",
       "      <td>Amenia</td>\n",
       "      <td>0.32</td>\n",
       "      <td>5,169</td>\n",
       "      <td>...</td>\n",
       "      <td>7</td>\n",
       "      <td>5</td>\n",
       "      <td>5 Full &amp; 1 Half</td>\n",
       "      <td>2 Car/Attached Garage</td>\n",
       "      <td>2018.0</td>\n",
       "      <td>56</td>\n",
       "      <td>Elyse Harney Morris</td>\n",
       "      <td>HARN42</td>\n",
       "      <td>7950000</td>\n",
       "      <td>6800000</td>\n",
       "    </tr>\n",
       "    <tr>\n",
       "      <th>2</th>\n",
       "      <td>1</td>\n",
       "      <td>170378716</td>\n",
       "      <td>CLSD</td>\n",
       "      <td>05/14/21</td>\n",
       "      <td>SF</td>\n",
       "      <td>LP: $150,000 CP: $97,500</td>\n",
       "      <td>64 Long Hill Rd</td>\n",
       "      <td>Andover</td>\n",
       "      <td>0.92</td>\n",
       "      <td>1,800</td>\n",
       "      <td>...</td>\n",
       "      <td>7</td>\n",
       "      <td>3</td>\n",
       "      <td>1 Full</td>\n",
       "      <td>2 Car/Off Street Parking</td>\n",
       "      <td>1935.0</td>\n",
       "      <td>8</td>\n",
       "      <td>Mike Defosses</td>\n",
       "      <td>EXRE01</td>\n",
       "      <td>150000</td>\n",
       "      <td>97500</td>\n",
       "    </tr>\n",
       "    <tr>\n",
       "      <th>3</th>\n",
       "      <td>1</td>\n",
       "      <td>170305413</td>\n",
       "      <td>CLSD</td>\n",
       "      <td>03/10/21</td>\n",
       "      <td>SF</td>\n",
       "      <td>LP: $119,900 CP: $100,000</td>\n",
       "      <td>560 Route 6</td>\n",
       "      <td>Andover</td>\n",
       "      <td>4.63</td>\n",
       "      <td>1,724</td>\n",
       "      <td>...</td>\n",
       "      <td>6</td>\n",
       "      <td>3</td>\n",
       "      <td>1 Full</td>\n",
       "      <td>Car/Off Street Parking</td>\n",
       "      <td>1948.0</td>\n",
       "      <td>231</td>\n",
       "      <td>Team Rio</td>\n",
       "      <td>EXRE01</td>\n",
       "      <td>119900</td>\n",
       "      <td>100000</td>\n",
       "    </tr>\n",
       "    <tr>\n",
       "      <th>4</th>\n",
       "      <td>1</td>\n",
       "      <td>170365013</td>\n",
       "      <td>CLSD</td>\n",
       "      <td>04/22/21</td>\n",
       "      <td>SF</td>\n",
       "      <td>LP: $170,000 CP: $150,000</td>\n",
       "      <td>7 Bailey Rd</td>\n",
       "      <td>Andover</td>\n",
       "      <td>1.49</td>\n",
       "      <td>1,138</td>\n",
       "      <td>...</td>\n",
       "      <td>6</td>\n",
       "      <td>3</td>\n",
       "      <td>1 Full</td>\n",
       "      <td>2 Car/Detached Garage</td>\n",
       "      <td>1923.0</td>\n",
       "      <td>69</td>\n",
       "      <td>Erica L Molochnick</td>\n",
       "      <td>REDB01</td>\n",
       "      <td>170000</td>\n",
       "      <td>150000</td>\n",
       "    </tr>\n",
       "  </tbody>\n",
       "</table>\n",
       "<p>5 rows × 22 columns</p>\n",
       "</div>"
      ],
      "text/plain": [
       "   #       MLS# Status Status Change Timestamp Prop Type  \\\n",
       "0  1  170323774   CLSD                09/13/20        SF   \n",
       "1  1  170366202   CLSD                03/18/21        SF   \n",
       "2  1  170378716   CLSD                05/14/21        SF   \n",
       "3  1  170305413   CLSD                03/10/21        SF   \n",
       "4  1  170365013   CLSD                04/22/21        SF   \n",
       "\n",
       "               List/Closed Price           Address     City  Acres  \\\n",
       "0  LP: $3,750,000 CP: $3,750,000      213 Separate   Amenia  21.42   \n",
       "1  LP: $7,950,000 CP: $6,800,000  292 Wood Duck Rd   Amenia   0.32   \n",
       "2       LP: $150,000 CP: $97,500   64 Long Hill Rd  Andover   0.92   \n",
       "3      LP: $119,900 CP: $100,000       560 Route 6  Andover   4.63   \n",
       "4      LP: $170,000 CP: $150,000       7 Bailey Rd  Andover   1.49   \n",
       "\n",
       "  Sq Ft Total  ... Rooms Total Beds Total        Bathrooms  \\\n",
       "0       4,392  ...          11          4  3 Full & 1 Half   \n",
       "1       5,169  ...           7          5  5 Full & 1 Half   \n",
       "2       1,800  ...           7          3           1 Full   \n",
       "3       1,724  ...           6          3           1 Full   \n",
       "4       1,138  ...           6          3           1 Full   \n",
       "\n",
       "                Garage/Park Year Built  DOM        Listing Agent List Office  \\\n",
       "0     2 Car/Attached Garage     2007.0   22         Graham Klemm      KLEM40   \n",
       "1     2 Car/Attached Garage     2018.0   56  Elyse Harney Morris      HARN42   \n",
       "2  2 Car/Off Street Parking     1935.0    8        Mike Defosses      EXRE01   \n",
       "3    Car/Off Street Parking     1948.0  231             Team Rio      EXRE01   \n",
       "4     2 Car/Detached Garage     1923.0   69   Erica L Molochnick      REDB01   \n",
       "\n",
       "  list_price close_price  \n",
       "0    3750000     3750000  \n",
       "1    7950000     6800000  \n",
       "2     150000       97500  \n",
       "3     119900      100000  \n",
       "4     170000      150000  \n",
       "\n",
       "[5 rows x 22 columns]"
      ]
     },
     "execution_count": 246,
     "metadata": {},
     "output_type": "execute_result"
    }
   ],
   "source": [
    "data_merged.head()"
   ]
  },
  {
   "cell_type": "code",
   "execution_count": null,
   "metadata": {},
   "outputs": [],
   "source": []
  }
 ],
 "metadata": {
  "kernelspec": {
   "display_name": "Python 3",
   "language": "python",
   "name": "python3"
  }
 },
 "nbformat": 4,
 "nbformat_minor": 4
}
